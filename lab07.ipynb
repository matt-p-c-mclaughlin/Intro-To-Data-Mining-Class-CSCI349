{
 "cells": [
  {
   "cell_type": "markdown",
   "metadata": {},
   "source": [
    "# Lab07 - Data Preprocessing II\n",
    "#### Name: Matt McLaughlin \n",
    "#### Class: CSCI 349 - Intro to Data Mining \n",
    "#### Semester: 2020SP \n",
    "#### Instructor: Brian King"
   ]
  },
  {
   "cell_type": "code",
   "execution_count": 1,
   "metadata": {},
   "outputs": [],
   "source": [
    "import numpy as np\n",
    "import pandas as pd\n",
    "import matplotlib.pyplot as plt\n",
    "import seaborn as sns\n",
    "import math"
   ]
  },
  {
   "cell_type": "markdown",
   "metadata": {},
   "source": [
    "#### 1) [P] Create a Python function called process_FAA_hourly_data that takes a filename (with path) as a string, and returns a completely processed pandas data frame, ready for analysis. It should do everything that the previous lab did to clean the file, including\n",
    "#### a. converting all numeric variables to their simplest numeric types\n",
    "#### b. converting the date/time stamp (first variable) to a pandas DatetimeIndex, which becomes the actual index for the data frame. (It should drop the date time variable after moving it to become the index.)\n",
    "#### c. If you did not do this in the last lab, make sure that the DatetimeIndex is localized to a specific timezone! This is very important! What time zone? Did you notice the header? The time stamp is in GMT, so be sure to localize the index accordingly. HOW? After you set up the index, you can do: df.index = df.index.tz_localize(tz='GMT')\n",
    "#### NOTE: The last exercise in the previous lab had you eliminate a year from the data for the very last problem. Do NOT do that here! We'll explore that again later."
   ]
  },
  {
   "cell_type": "code",
   "execution_count": 2,
   "metadata": {},
   "outputs": [],
   "source": [
    "def process_FAA_hourly_data(filepath):\n",
    "    \n",
    "    # Read CSV file into DataFrame - #1\n",
    "    df_temps = pd.read_csv(filepath_or_buffer=filepath, skiprows=16)\n",
    "    \n",
    "    # Remove extra column headers throughout the DataFrame - #5\n",
    "    fc = df_temps.columns[0]\n",
    "    df_temps = df_temps[df_temps[fc] != fc]\n",
    "    \n",
    "    # Reset index - # 7\n",
    "    df_temps = df_temps.reset_index(drop=True)\n",
    "    \n",
    "    # Drop last column - #9\n",
    "    df_temps = df_temps.iloc[:,0:-2]\n",
    "\n",
    "    # Downcast types to less memory usage - #10/11\n",
    "    df_temps.iloc[:,1] = pd.to_numeric(arg=df_temps.iloc[:,1], downcast='integer')\n",
    "    for i in range(2, len(df_temps.columns)):\n",
    "        df_temps.iloc[:,i] = pd.to_numeric(arg=df_temps.iloc[:,i], downcast='float')\n",
    "    \n",
    "    # Convert date/time column to DateTime data type - #26\n",
    "    df_temps.iloc[:,0] = pd.to_datetime(df_temps.iloc[:,0])\n",
    "    \n",
    "    # Set DateTime to be index of DataFrame - #28\n",
    "    df_temps = df_temps.set_index(df_temps.columns[0])\n",
    "    df_temps.tz_localize(\"GMT\")  #I would have preferred not to hardcode GMT\n",
    "\n",
    "    return df_temps"
   ]
  },
  {
   "cell_type": "markdown",
   "metadata": {},
   "source": [
    "**2) [P] Use your new function to read in the KIPT data file you downloaded in the last lab. Store your data frame\n",
    "as df_kipt. Output the results of info() and describe() to confirm you read it in correctly.**"
   ]
  },
  {
   "cell_type": "code",
   "execution_count": 3,
   "metadata": {},
   "outputs": [
    {
     "name": "stdout",
     "output_type": "stream",
     "text": [
      "<class 'pandas.core.frame.DataFrame'>\n",
      "DatetimeIndex: 173252 entries, 2000-01-01 00:00:00 to 2019-12-31 23:00:00\n",
      "Data columns (total 11 columns):\n",
      "Number of Observations (n/a)     173252 non-null int8\n",
      "Average Temp (F)                 172253 non-null float32\n",
      "Max Temp (F)                     172253 non-null float32\n",
      "Min Temp (F)                     172253 non-null float32\n",
      "Average Dewpoint Temp (F)        172147 non-null float32\n",
      "1 Hour Precip (in)               28934 non-null float32\n",
      "Max Wind Gust (mph)              23544 non-null float32\n",
      "Average Relative Humidity (%)    168754 non-null float32\n",
      "Average Wind Speed (mph)         172710 non-null float32\n",
      "Average Station Pressure (mb)    172974 non-null float32\n",
      "Average Wind Direction (deg)     140590 non-null float32\n",
      "dtypes: float32(10), int8(1)\n",
      "memory usage: 8.1 MB\n"
     ]
    }
   ],
   "source": [
    "df_kipt = process_FAA_hourly_data(\"../data/faa_hourly-KIPT_20000101-20191231_raw.csv\")\n",
    "df_kipt.info()"
   ]
  },
  {
   "cell_type": "code",
   "execution_count": 4,
   "metadata": {},
   "outputs": [
    {
     "data": {
      "text/html": [
       "<div>\n",
       "<style scoped>\n",
       "    .dataframe tbody tr th:only-of-type {\n",
       "        vertical-align: middle;\n",
       "    }\n",
       "\n",
       "    .dataframe tbody tr th {\n",
       "        vertical-align: top;\n",
       "    }\n",
       "\n",
       "    .dataframe thead th {\n",
       "        text-align: right;\n",
       "    }\n",
       "</style>\n",
       "<table border=\"1\" class=\"dataframe\">\n",
       "  <thead>\n",
       "    <tr style=\"text-align: right;\">\n",
       "      <th></th>\n",
       "      <th>Number of Observations (n/a)</th>\n",
       "      <th>Average Temp (F)</th>\n",
       "      <th>Max Temp (F)</th>\n",
       "      <th>Min Temp (F)</th>\n",
       "      <th>Average Dewpoint Temp (F)</th>\n",
       "      <th>1 Hour Precip (in)</th>\n",
       "      <th>Max Wind Gust (mph)</th>\n",
       "      <th>Average Relative Humidity (%)</th>\n",
       "      <th>Average Wind Speed (mph)</th>\n",
       "      <th>Average Station Pressure (mb)</th>\n",
       "      <th>Average Wind Direction (deg)</th>\n",
       "    </tr>\n",
       "  </thead>\n",
       "  <tbody>\n",
       "    <tr>\n",
       "      <th>count</th>\n",
       "      <td>173252.000000</td>\n",
       "      <td>172253.000000</td>\n",
       "      <td>172253.000000</td>\n",
       "      <td>172253.000000</td>\n",
       "      <td>172147.000000</td>\n",
       "      <td>28934.000000</td>\n",
       "      <td>23544.000000</td>\n",
       "      <td>168754.000000</td>\n",
       "      <td>172710.000000</td>\n",
       "      <td>172974.000000</td>\n",
       "      <td>140590.000000</td>\n",
       "    </tr>\n",
       "    <tr>\n",
       "      <th>mean</th>\n",
       "      <td>1.339915</td>\n",
       "      <td>51.286217</td>\n",
       "      <td>51.399208</td>\n",
       "      <td>51.179626</td>\n",
       "      <td>40.253628</td>\n",
       "      <td>0.030566</td>\n",
       "      <td>22.295341</td>\n",
       "      <td>68.819511</td>\n",
       "      <td>5.904806</td>\n",
       "      <td>1016.741272</td>\n",
       "      <td>176.806366</td>\n",
       "    </tr>\n",
       "    <tr>\n",
       "      <th>std</th>\n",
       "      <td>0.854852</td>\n",
       "      <td>18.888988</td>\n",
       "      <td>18.907930</td>\n",
       "      <td>18.881851</td>\n",
       "      <td>19.053423</td>\n",
       "      <td>0.079247</td>\n",
       "      <td>7.581788</td>\n",
       "      <td>19.694031</td>\n",
       "      <td>5.192565</td>\n",
       "      <td>7.640043</td>\n",
       "      <td>118.790619</td>\n",
       "    </tr>\n",
       "    <tr>\n",
       "      <th>min</th>\n",
       "      <td>0.000000</td>\n",
       "      <td>-11.900000</td>\n",
       "      <td>-11.900000</td>\n",
       "      <td>-11.900000</td>\n",
       "      <td>-20.900000</td>\n",
       "      <td>0.000000</td>\n",
       "      <td>0.000000</td>\n",
       "      <td>0.000000</td>\n",
       "      <td>0.000000</td>\n",
       "      <td>508.600006</td>\n",
       "      <td>0.000000</td>\n",
       "    </tr>\n",
       "    <tr>\n",
       "      <th>25%</th>\n",
       "      <td>1.000000</td>\n",
       "      <td>36.000000</td>\n",
       "      <td>36.000000</td>\n",
       "      <td>36.000000</td>\n",
       "      <td>25.830000</td>\n",
       "      <td>0.000000</td>\n",
       "      <td>19.600000</td>\n",
       "      <td>54.000000</td>\n",
       "      <td>0.000000</td>\n",
       "      <td>1012.200012</td>\n",
       "      <td>70.000000</td>\n",
       "    </tr>\n",
       "    <tr>\n",
       "      <th>50%</th>\n",
       "      <td>1.000000</td>\n",
       "      <td>52.000000</td>\n",
       "      <td>52.000000</td>\n",
       "      <td>51.799999</td>\n",
       "      <td>41.000000</td>\n",
       "      <td>0.000000</td>\n",
       "      <td>21.900000</td>\n",
       "      <td>71.000000</td>\n",
       "      <td>5.370000</td>\n",
       "      <td>1016.900024</td>\n",
       "      <td>220.000000</td>\n",
       "    </tr>\n",
       "    <tr>\n",
       "      <th>75%</th>\n",
       "      <td>1.000000</td>\n",
       "      <td>66.900002</td>\n",
       "      <td>66.900002</td>\n",
       "      <td>66.900002</td>\n",
       "      <td>57.000000</td>\n",
       "      <td>0.030000</td>\n",
       "      <td>26.500000</td>\n",
       "      <td>86.000000</td>\n",
       "      <td>9.200000</td>\n",
       "      <td>1021.700012</td>\n",
       "      <td>280.000000</td>\n",
       "    </tr>\n",
       "    <tr>\n",
       "      <th>max</th>\n",
       "      <td>10.000000</td>\n",
       "      <td>102.000000</td>\n",
       "      <td>102.000000</td>\n",
       "      <td>102.000000</td>\n",
       "      <td>79.000000</td>\n",
       "      <td>2.350000</td>\n",
       "      <td>88.599998</td>\n",
       "      <td>100.000000</td>\n",
       "      <td>76.000000</td>\n",
       "      <td>1044.400024</td>\n",
       "      <td>360.000000</td>\n",
       "    </tr>\n",
       "  </tbody>\n",
       "</table>\n",
       "</div>"
      ],
      "text/plain": [
       "       Number of Observations (n/a)  Average Temp (F)   Max Temp (F)  \\\n",
       "count                 173252.000000     172253.000000  172253.000000   \n",
       "mean                       1.339915         51.286217      51.399208   \n",
       "std                        0.854852         18.888988      18.907930   \n",
       "min                        0.000000        -11.900000     -11.900000   \n",
       "25%                        1.000000         36.000000      36.000000   \n",
       "50%                        1.000000         52.000000      52.000000   \n",
       "75%                        1.000000         66.900002      66.900002   \n",
       "max                       10.000000        102.000000     102.000000   \n",
       "\n",
       "        Min Temp (F)  Average Dewpoint Temp (F)  1 Hour Precip (in)  \\\n",
       "count  172253.000000              172147.000000        28934.000000   \n",
       "mean       51.179626                  40.253628            0.030566   \n",
       "std        18.881851                  19.053423            0.079247   \n",
       "min       -11.900000                 -20.900000            0.000000   \n",
       "25%        36.000000                  25.830000            0.000000   \n",
       "50%        51.799999                  41.000000            0.000000   \n",
       "75%        66.900002                  57.000000            0.030000   \n",
       "max       102.000000                  79.000000            2.350000   \n",
       "\n",
       "       Max Wind Gust (mph)  Average Relative Humidity (%)  \\\n",
       "count         23544.000000                  168754.000000   \n",
       "mean             22.295341                      68.819511   \n",
       "std               7.581788                      19.694031   \n",
       "min               0.000000                       0.000000   \n",
       "25%              19.600000                      54.000000   \n",
       "50%              21.900000                      71.000000   \n",
       "75%              26.500000                      86.000000   \n",
       "max              88.599998                     100.000000   \n",
       "\n",
       "       Average Wind Speed (mph)  Average Station Pressure (mb)  \\\n",
       "count             172710.000000                  172974.000000   \n",
       "mean                   5.904806                    1016.741272   \n",
       "std                    5.192565                       7.640043   \n",
       "min                    0.000000                     508.600006   \n",
       "25%                    0.000000                    1012.200012   \n",
       "50%                    5.370000                    1016.900024   \n",
       "75%                    9.200000                    1021.700012   \n",
       "max                   76.000000                    1044.400024   \n",
       "\n",
       "       Average Wind Direction (deg)  \n",
       "count                 140590.000000  \n",
       "mean                     176.806366  \n",
       "std                      118.790619  \n",
       "min                        0.000000  \n",
       "25%                       70.000000  \n",
       "50%                      220.000000  \n",
       "75%                      280.000000  \n",
       "max                      360.000000  "
      ]
     },
     "execution_count": 4,
     "metadata": {},
     "output_type": "execute_result"
    }
   ],
   "source": [
    "df_kipt.describe()"
   ]
  },
  {
   "cell_type": "markdown",
   "metadata": {},
   "source": [
    "**3) [P] In the last lab, you assessed the number of missing dates in your data, under the assumption that every\n",
    "hour should have an observation. For now, we'll leave the fact that there are completely missing hourly\n",
    "observations from the weather station. This time, report the number of missing values in each variable of\n",
    "df_kipt. (HINT: One way is to use the isna() method.)**"
   ]
  },
  {
   "cell_type": "code",
   "execution_count": 5,
   "metadata": {
    "scrolled": true
   },
   "outputs": [
    {
     "data": {
      "text/plain": [
       "Number of Observations (n/a)          0\n",
       "Average Temp (F)                    999\n",
       "Max Temp (F)                        999\n",
       "Min Temp (F)                        999\n",
       "Average Dewpoint Temp (F)          1105\n",
       "1 Hour Precip (in)               144318\n",
       "Max Wind Gust (mph)              149708\n",
       "Average Relative Humidity (%)      4498\n",
       "Average Wind Speed (mph)            542\n",
       "Average Station Pressure (mb)       278\n",
       "Average Wind Direction (deg)      32662\n",
       "dtype: int64"
      ]
     },
     "execution_count": 5,
     "metadata": {},
     "output_type": "execute_result"
    }
   ],
   "source": [
    "df_kipt.isna().sum()"
   ]
  },
  {
   "cell_type": "markdown",
   "metadata": {},
   "source": [
    "**4) [M] Which variables seem to have the most consistent, complete observations? Which are missing the most?\n",
    "Are they really \"missing\", or are they observations where an event did not occur? Discuss.**"
   ]
  },
  {
   "cell_type": "markdown",
   "metadata": {},
   "source": [
    "####  The most complete observations are \"Average Station Pressure (mb)\" and \"Average Wind Speed (mph)\", while the most consistent are \"Average Temp (F)\", \"Max Temp (F)\", and \"Min Temp (F)\". \n",
    "#### \"Max Wind Gust\" and \"1 Hour Precip\" are missing the most data. For MWG I believe there was probably some kind of error in reporting (bad algorithms to calculate max or something), and for \"1HP\" it is possible the measuring device is faulty."
   ]
  },
  {
   "cell_type": "markdown",
   "metadata": {},
   "source": [
    "**5) [P/M] Ignore the date, and report the frequency over hours that have missing \"Average Temp (F)\"\n",
    "values. Be sure to report the LOCAL times according to the time zone \"US/Eastern\". Output the hours in\n",
    "order of the most frequent to least. Then, as a comment, just interpret what you see. Do you see a pattern?\n",
    "Do missing temps tend to happen at a certain time of day?\n",
    "(HINT: This might be challenging. First, as always, select the subset of your data matching your criteria. Then,\n",
    "for these data, look at the index. Date / time values have LOTS of attributes themselves... such as hour.\n",
    "What do you get if you count these values?)**"
   ]
  },
  {
   "cell_type": "code",
   "execution_count": 6,
   "metadata": {},
   "outputs": [
    {
     "data": {
      "text/plain": [
       "17    0.000289\n",
       "6     0.000260\n",
       "18    0.000260\n",
       "8     0.000260\n",
       "13    0.000260\n",
       "5     0.000254\n",
       "19    0.000254\n",
       "12    0.000254\n",
       "14    0.000248\n",
       "7     0.000242\n",
       "11    0.000237\n",
       "10    0.000237\n",
       "9     0.000237\n",
       "0     0.000237\n",
       "16    0.000237\n",
       "15    0.000231\n",
       "20    0.000231\n",
       "2     0.000231\n",
       "23    0.000231\n",
       "22    0.000219\n",
       "21    0.000219\n",
       "3     0.000219\n",
       "1     0.000214\n",
       "4     0.000208\n",
       "Name: Frequency of NaN, hourly, sorted, dtype: float64"
      ]
     },
     "execution_count": 6,
     "metadata": {},
     "output_type": "execute_result"
    }
   ],
   "source": [
    "#For convenience's sake ##############################################################\n",
    "df_kipt = process_FAA_hourly_data(\"../data/faa_hourly-KIPT_20000101-20191231_raw.csv\")\n",
    "######################################################################################\n",
    "\n",
    "#Report frequency of missing data per hour, from greatest to least\n",
    "nan_count_hourly = pd.Series(name=\"nan count hourly\", index=range(24), data=np.zeros(24))\n",
    "\n",
    "av_temp = df_kipt[\"Average Temp (F)\"]\n",
    "av_temp.index = av_temp.index.hour\n",
    "\n",
    "i = 0\n",
    "for x in av_temp:\n",
    "    #x is a float type (the temp data)\n",
    "    if math.isnan(x):\n",
    "        nan_count_hourly[i] = nan_count_hourly[i] + 1 \n",
    "    i = (i + 1)%24\n",
    "    \n",
    "    \n",
    "freq_arr = nan_count_hourly / df_kipt.shape[0]\n",
    "freq_arr.name = \"Frequency of NaN, hourly\"\n",
    "\n",
    "freq_arr_sorted = freq_arr.sort_values(ascending=False)\n",
    "freq_arr_sorted.name=\"Frequency of NaN, hourly, sorted\"\n",
    "\n",
    "freq_arr_sorted"
   ]
  },
  {
   "cell_type": "code",
   "execution_count": 7,
   "metadata": {},
   "outputs": [
    {
     "data": {
      "text/plain": [
       "<matplotlib.axes._subplots.AxesSubplot at 0x19112a9a548>"
      ]
     },
     "execution_count": 7,
     "metadata": {},
     "output_type": "execute_result"
    },
    {
     "data": {
      "image/png": "[encoded data removed]",
      "text/plain": [
       "<Figure size 432x288 with 1 Axes>"
      ]
     },
     "metadata": {
      "needs_background": "light"
     },
     "output_type": "display_data"
    }
   ],
   "source": [
    "freq_arr.plot(kind='bar')"
   ]
  },
  {
   "cell_type": "markdown",
   "metadata": {},
   "source": [
    "#### I can not see much of a pattern. The frequency of missing data seems to rise and fall in a vaguely sinusoidal fashion. The values are all relatively close and there is no clustering to suggest there is high loss at night, around noon, etc."
   ]
  },
  {
   "cell_type": "markdown",
   "metadata": {},
   "source": [
    "**6) [P/M] Repeat the previous exercise, but this time, assess the same variable for the day of the week. (NOTE: Be\n",
    "sure to note what a 0 is. In pandas, a 0 for day of the week is a Monday! (See\n",
    "https://pandas.pydata.org/pandas-docs/stable/reference/api/pandas.DatetimeIndex.dayofweek.html )**"
   ]
  },
  {
   "cell_type": "code",
   "execution_count": 8,
   "metadata": {},
   "outputs": [
    {
     "data": {
      "text/plain": [
       "Mo    0.000854\n",
       "Sa    0.000831\n",
       "We    0.000831\n",
       "Fr    0.000825\n",
       "Su    0.000814\n",
       "Tu    0.000808\n",
       "Th    0.000802\n",
       "Name: Frequency of NaN, daily, sorted, dtype: float64"
      ]
     },
     "execution_count": 8,
     "metadata": {},
     "output_type": "execute_result"
    }
   ],
   "source": [
    "#For convenience's sake ##############################################################\n",
    "df_kipt = process_FAA_hourly_data(\"../data/faa_hourly-KIPT_20000101-20191231_raw.csv\")\n",
    "######################################################################################\n",
    "\n",
    "#Report frequency of missing data per hour, from greatest to least\n",
    "nan_count_daily = pd.Series(name=\"nan count daily\", index=range(7), data=np.zeros(7))\n",
    "\n",
    "av_temp = df_kipt[\"Average Temp (F)\"]\n",
    "av_temp.index = av_temp.index.dayofweek\n",
    "\n",
    "i = 0\n",
    "for x in av_temp:\n",
    "    #x is a float type (the temp data)\n",
    "    if math.isnan(x):\n",
    "        nan_count_daily[i] = nan_count_daily[i] + 1 \n",
    "    i = (i + 1)%7\n",
    "    \n",
    "\n",
    "#Day names are nicer to look at\n",
    "nan_count_daily.index = [\"Mo\", \"Tu\", \"We\", \"Th\", \"Fr\", \"Sa\", \"Su\"]\n",
    "freq_arr = nan_count_daily / df_kipt.shape[0]\n",
    "freq_arr.name = \"Frequency of NaN, daily\"\n",
    "\n",
    "freq_arr_sorted = freq_arr.sort_values(ascending=False)\n",
    "freq_arr_sorted.name=\"Frequency of NaN, daily, sorted\"\n",
    "\n",
    "freq_arr_sorted"
   ]
  },
  {
   "cell_type": "code",
   "execution_count": 9,
   "metadata": {},
   "outputs": [
    {
     "data": {
      "text/plain": [
       "<matplotlib.axes._subplots.AxesSubplot at 0x1911353ae48>"
      ]
     },
     "execution_count": 9,
     "metadata": {},
     "output_type": "execute_result"
    },
    {
     "data": {
      "image/png": "[encoded data removed]",
      "text/plain": [
       "<Figure size 432x288 with 1 Axes>"
      ]
     },
     "metadata": {
      "needs_background": "light"
     },
     "output_type": "display_data"
    }
   ],
   "source": [
    "freq_arr.plot(kind=\"bar\")"
   ]
  },
  {
   "cell_type": "markdown",
   "metadata": {},
   "source": [
    "#### Again, I see a fairly uniform distribution and no obvious trend in missing data frequency among days of the week."
   ]
  },
  {
   "cell_type": "markdown",
   "metadata": {},
   "source": [
    "**Next, let's suppose your supervisor suggests that you grab similar data from a nearby station. How?**"
   ]
  },
  {
   "cell_type": "markdown",
   "metadata": {},
   "source": [
    "**7) [P] Read in the file FAA_PA_stations.csv provided on Moodle. It's not actually a comma separated file,\n",
    "but a tab separated file. Store the data frame as stations. Show stations.info() after you read in the data.**"
   ]
  },
  {
   "cell_type": "code",
   "execution_count": 10,
   "metadata": {},
   "outputs": [
    {
     "name": "stdout",
     "output_type": "stream",
     "text": [
      "<class 'pandas.core.frame.DataFrame'>\n",
      "RangeIndex: 46 entries, 0 to 45\n",
      "Data columns (total 7 columns):\n",
      "ID                  46 non-null object\n",
      "Name                46 non-null object\n",
      "County              45 non-null object\n",
      "State               46 non-null object\n",
      "Lat                 46 non-null float64\n",
      "Lon                 46 non-null float64\n",
      "Elevation (feet)    46 non-null float64\n",
      "dtypes: float64(3), object(4)\n",
      "memory usage: 2.6+ KB\n"
     ]
    }
   ],
   "source": [
    "stations = pd.read_csv(\"../data/FAA_PA_stations.csv\", sep='\\t')\n",
    "stations.info()"
   ]
  },
  {
   "cell_type": "markdown",
   "metadata": {},
   "source": [
    "**8) [P] As usual, you must always assess your missing data, if any. Are there any observations (rows) that have\n",
    "missing data? Output them, and eliminate them from your data. Be sure to reset_index(drop=True) to\n",
    "reset the index in case any observations are dropped. Output stations.info() again.**"
   ]
  },
  {
   "cell_type": "code",
   "execution_count": 11,
   "metadata": {},
   "outputs": [
    {
     "name": "stdout",
     "output_type": "stream",
     "text": [
      "<class 'pandas.core.frame.DataFrame'>\n",
      "RangeIndex: 45 entries, 0 to 44\n",
      "Data columns (total 7 columns):\n",
      "ID                  45 non-null object\n",
      "Name                45 non-null object\n",
      "County              45 non-null object\n",
      "State               45 non-null object\n",
      "Lat                 45 non-null float64\n",
      "Lon                 45 non-null float64\n",
      "Elevation (feet)    45 non-null float64\n",
      "dtypes: float64(3), object(4)\n",
      "memory usage: 2.6+ KB\n"
     ]
    }
   ],
   "source": [
    "stations = stations.dropna()\n",
    "stations = stations.reset_index(drop=True)\n",
    "stations.info()"
   ]
  },
  {
   "cell_type": "markdown",
   "metadata": {},
   "source": [
    "**9) [P] Examine the data frame of stations by showing the first few observations using\n",
    "stations.head(10) In particular, pay close attention to the variables Lat and Lon. These represent the\n",
    "precise latitude and longitude geolocation for the weather station.**"
   ]
  },
  {
   "cell_type": "code",
   "execution_count": 12,
   "metadata": {},
   "outputs": [
    {
     "data": {
      "text/html": [
       "<div>\n",
       "<style scoped>\n",
       "    .dataframe tbody tr th:only-of-type {\n",
       "        vertical-align: middle;\n",
       "    }\n",
       "\n",
       "    .dataframe tbody tr th {\n",
       "        vertical-align: top;\n",
       "    }\n",
       "\n",
       "    .dataframe thead th {\n",
       "        text-align: right;\n",
       "    }\n",
       "</style>\n",
       "<table border=\"1\" class=\"dataframe\">\n",
       "  <thead>\n",
       "    <tr style=\"text-align: right;\">\n",
       "      <th></th>\n",
       "      <th>ID</th>\n",
       "      <th>Name</th>\n",
       "      <th>County</th>\n",
       "      <th>State</th>\n",
       "      <th>Lat</th>\n",
       "      <th>Lon</th>\n",
       "      <th>Elevation (feet)</th>\n",
       "    </tr>\n",
       "  </thead>\n",
       "  <tbody>\n",
       "    <tr>\n",
       "      <th>0</th>\n",
       "      <td>KABE</td>\n",
       "      <td>ALLENTOWN</td>\n",
       "      <td>LEHIGH</td>\n",
       "      <td>PA</td>\n",
       "      <td>40.65</td>\n",
       "      <td>-75.44</td>\n",
       "      <td>376.0</td>\n",
       "    </tr>\n",
       "    <tr>\n",
       "      <th>1</th>\n",
       "      <td>KAOO</td>\n",
       "      <td>ALTOONA</td>\n",
       "      <td>BLAIR</td>\n",
       "      <td>PA</td>\n",
       "      <td>40.29</td>\n",
       "      <td>-78.32</td>\n",
       "      <td>1504.0</td>\n",
       "    </tr>\n",
       "    <tr>\n",
       "      <th>2</th>\n",
       "      <td>KBVI</td>\n",
       "      <td>BEAVER FALLS</td>\n",
       "      <td>BEAVER</td>\n",
       "      <td>PA</td>\n",
       "      <td>40.77</td>\n",
       "      <td>-80.39</td>\n",
       "      <td>1230.0</td>\n",
       "    </tr>\n",
       "    <tr>\n",
       "      <th>3</th>\n",
       "      <td>KBFD</td>\n",
       "      <td>BRADFORD</td>\n",
       "      <td>MCKEAN</td>\n",
       "      <td>PA</td>\n",
       "      <td>41.80</td>\n",
       "      <td>-78.64</td>\n",
       "      <td>2142.0</td>\n",
       "    </tr>\n",
       "    <tr>\n",
       "      <th>4</th>\n",
       "      <td>KBTP</td>\n",
       "      <td>BUTLER</td>\n",
       "      <td>BUTLER</td>\n",
       "      <td>PA</td>\n",
       "      <td>40.77</td>\n",
       "      <td>-79.95</td>\n",
       "      <td>1250.0</td>\n",
       "    </tr>\n",
       "    <tr>\n",
       "      <th>5</th>\n",
       "      <td>KCXY</td>\n",
       "      <td>CAPITAL CITY</td>\n",
       "      <td>YORK</td>\n",
       "      <td>PA</td>\n",
       "      <td>40.22</td>\n",
       "      <td>-76.85</td>\n",
       "      <td>340.0</td>\n",
       "    </tr>\n",
       "    <tr>\n",
       "      <th>6</th>\n",
       "      <td>KFIG</td>\n",
       "      <td>CLEARFIELD</td>\n",
       "      <td>CLEARFIELD</td>\n",
       "      <td>PA</td>\n",
       "      <td>41.04</td>\n",
       "      <td>-78.41</td>\n",
       "      <td>1516.0</td>\n",
       "    </tr>\n",
       "    <tr>\n",
       "      <th>7</th>\n",
       "      <td>KDYL</td>\n",
       "      <td>DOYLESTOWN</td>\n",
       "      <td>BUCKS</td>\n",
       "      <td>PA</td>\n",
       "      <td>40.33</td>\n",
       "      <td>-75.12</td>\n",
       "      <td>394.0</td>\n",
       "    </tr>\n",
       "    <tr>\n",
       "      <th>8</th>\n",
       "      <td>KDUJ</td>\n",
       "      <td>DUBOIS</td>\n",
       "      <td>JEFFERSON</td>\n",
       "      <td>PA</td>\n",
       "      <td>41.18</td>\n",
       "      <td>-78.90</td>\n",
       "      <td>1814.0</td>\n",
       "    </tr>\n",
       "    <tr>\n",
       "      <th>9</th>\n",
       "      <td>KERI</td>\n",
       "      <td>ERIE</td>\n",
       "      <td>ERIE</td>\n",
       "      <td>PA</td>\n",
       "      <td>42.08</td>\n",
       "      <td>-80.17</td>\n",
       "      <td>730.0</td>\n",
       "    </tr>\n",
       "  </tbody>\n",
       "</table>\n",
       "</div>"
      ],
      "text/plain": [
       "     ID          Name      County State    Lat    Lon  Elevation (feet)\n",
       "0  KABE     ALLENTOWN      LEHIGH    PA  40.65 -75.44             376.0\n",
       "1  KAOO       ALTOONA       BLAIR    PA  40.29 -78.32            1504.0\n",
       "2  KBVI  BEAVER FALLS      BEAVER    PA  40.77 -80.39            1230.0\n",
       "3  KBFD      BRADFORD      MCKEAN    PA  41.80 -78.64            2142.0\n",
       "4  KBTP        BUTLER      BUTLER    PA  40.77 -79.95            1250.0\n",
       "5  KCXY  CAPITAL CITY        YORK    PA  40.22 -76.85             340.0\n",
       "6  KFIG    CLEARFIELD  CLEARFIELD    PA  41.04 -78.41            1516.0\n",
       "7  KDYL    DOYLESTOWN       BUCKS    PA  40.33 -75.12             394.0\n",
       "8  KDUJ        DUBOIS   JEFFERSON    PA  41.18 -78.90            1814.0\n",
       "9  KERI          ERIE        ERIE    PA  42.08 -80.17             730.0"
      ]
     },
     "execution_count": 12,
     "metadata": {},
     "output_type": "execute_result"
    }
   ],
   "source": [
    "stations.head(10)"
   ]
  },
  {
   "cell_type": "markdown",
   "metadata": {},
   "source": [
    "**10) Create a new variable in stations called \"distKIPT\" that stores the distance of every station in PA to\n",
    "Williamsport (KIPT). Use a standard Euclidean distance calculation (over latitude and longitude) to compute\n",
    "the distance between the stations. As a reminder, Euclidean distance between two points defined by (x1, y1)\n",
    "and (x2, y2) is:**"
   ]
  },
  {
   "cell_type": "code",
   "execution_count": 13,
   "metadata": {},
   "outputs": [
    {
     "data": {
      "text/html": [
       "<div>\n",
       "<style scoped>\n",
       "    .dataframe tbody tr th:only-of-type {\n",
       "        vertical-align: middle;\n",
       "    }\n",
       "\n",
       "    .dataframe tbody tr th {\n",
       "        vertical-align: top;\n",
       "    }\n",
       "\n",
       "    .dataframe thead th {\n",
       "        text-align: right;\n",
       "    }\n",
       "</style>\n",
       "<table border=\"1\" class=\"dataframe\">\n",
       "  <thead>\n",
       "    <tr style=\"text-align: right;\">\n",
       "      <th></th>\n",
       "      <th>ID</th>\n",
       "      <th>Name</th>\n",
       "      <th>County</th>\n",
       "      <th>State</th>\n",
       "      <th>Lat</th>\n",
       "      <th>Lon</th>\n",
       "      <th>Elevation (feet)</th>\n",
       "      <th>distKIPT</th>\n",
       "    </tr>\n",
       "  </thead>\n",
       "  <tbody>\n",
       "    <tr>\n",
       "      <th>0</th>\n",
       "      <td>KABE</td>\n",
       "      <td>ALLENTOWN</td>\n",
       "      <td>LEHIGH</td>\n",
       "      <td>PA</td>\n",
       "      <td>40.65</td>\n",
       "      <td>-75.44</td>\n",
       "      <td>376.0</td>\n",
       "      <td>1.593267</td>\n",
       "    </tr>\n",
       "    <tr>\n",
       "      <th>1</th>\n",
       "      <td>KAOO</td>\n",
       "      <td>ALTOONA</td>\n",
       "      <td>BLAIR</td>\n",
       "      <td>PA</td>\n",
       "      <td>40.29</td>\n",
       "      <td>-78.32</td>\n",
       "      <td>1504.0</td>\n",
       "      <td>1.691892</td>\n",
       "    </tr>\n",
       "    <tr>\n",
       "      <th>2</th>\n",
       "      <td>KBVI</td>\n",
       "      <td>BEAVER FALLS</td>\n",
       "      <td>BEAVER</td>\n",
       "      <td>PA</td>\n",
       "      <td>40.77</td>\n",
       "      <td>-80.39</td>\n",
       "      <td>1230.0</td>\n",
       "      <td>3.501685</td>\n",
       "    </tr>\n",
       "    <tr>\n",
       "      <th>3</th>\n",
       "      <td>KBFD</td>\n",
       "      <td>BRADFORD</td>\n",
       "      <td>MCKEAN</td>\n",
       "      <td>PA</td>\n",
       "      <td>41.80</td>\n",
       "      <td>-78.64</td>\n",
       "      <td>2142.0</td>\n",
       "      <td>1.808867</td>\n",
       "    </tr>\n",
       "    <tr>\n",
       "      <th>4</th>\n",
       "      <td>KBTP</td>\n",
       "      <td>BUTLER</td>\n",
       "      <td>BUTLER</td>\n",
       "      <td>PA</td>\n",
       "      <td>40.77</td>\n",
       "      <td>-79.95</td>\n",
       "      <td>1250.0</td>\n",
       "      <td>3.066235</td>\n",
       "    </tr>\n",
       "  </tbody>\n",
       "</table>\n",
       "</div>"
      ],
      "text/plain": [
       "     ID          Name  County State    Lat    Lon  Elevation (feet)  distKIPT\n",
       "0  KABE     ALLENTOWN  LEHIGH    PA  40.65 -75.44             376.0  1.593267\n",
       "1  KAOO       ALTOONA   BLAIR    PA  40.29 -78.32            1504.0  1.691892\n",
       "2  KBVI  BEAVER FALLS  BEAVER    PA  40.77 -80.39            1230.0  3.501685\n",
       "3  KBFD      BRADFORD  MCKEAN    PA  41.80 -78.64            2142.0  1.808867\n",
       "4  KBTP        BUTLER  BUTLER    PA  40.77 -79.95            1250.0  3.066235"
      ]
     },
     "execution_count": 13,
     "metadata": {},
     "output_type": "execute_result"
    }
   ],
   "source": [
    "def euclid_dist_KIPT(x):\n",
    "    #x1 = Lat, y1 = Lon\n",
    "    #Location of KIPT is 41.240 -76.920\n",
    "    return math.sqrt( pow(x.Lat - 41.240, 2) + pow(x.Lon + 76.920, 2) )\n",
    "\n",
    "    \n",
    "stations[\"distKIPT\"] = stations.apply(euclid_dist_KIPT, axis=1)\n",
    "stations.head()"
   ]
  },
  {
   "cell_type": "markdown",
   "metadata": {},
   "source": [
    "**11) [P] Output the top 10 stations that are closest to KIPT. (The closest one should be to itself!) The stations\n",
    "should be listed in order of increasing distance from KIPT.**"
   ]
  },
  {
   "cell_type": "code",
   "execution_count": 14,
   "metadata": {},
   "outputs": [
    {
     "data": {
      "text/html": [
       "<div>\n",
       "<style scoped>\n",
       "    .dataframe tbody tr th:only-of-type {\n",
       "        vertical-align: middle;\n",
       "    }\n",
       "\n",
       "    .dataframe tbody tr th {\n",
       "        vertical-align: top;\n",
       "    }\n",
       "\n",
       "    .dataframe thead th {\n",
       "        text-align: right;\n",
       "    }\n",
       "</style>\n",
       "<table border=\"1\" class=\"dataframe\">\n",
       "  <thead>\n",
       "    <tr style=\"text-align: right;\">\n",
       "      <th></th>\n",
       "      <th>ID</th>\n",
       "      <th>distKIPT</th>\n",
       "    </tr>\n",
       "  </thead>\n",
       "  <tbody>\n",
       "    <tr>\n",
       "      <th>29</th>\n",
       "      <td>KIPT</td>\n",
       "      <td>0.000000</td>\n",
       "    </tr>\n",
       "    <tr>\n",
       "      <th>26</th>\n",
       "      <td>KSEG</td>\n",
       "      <td>0.424264</td>\n",
       "    </tr>\n",
       "    <tr>\n",
       "      <th>18</th>\n",
       "      <td>KMUI</td>\n",
       "      <td>0.882383</td>\n",
       "    </tr>\n",
       "    <tr>\n",
       "      <th>27</th>\n",
       "      <td>KUNV</td>\n",
       "      <td>1.008464</td>\n",
       "    </tr>\n",
       "    <tr>\n",
       "      <th>5</th>\n",
       "      <td>KCXY</td>\n",
       "      <td>1.022399</td>\n",
       "    </tr>\n",
       "    <tr>\n",
       "      <th>16</th>\n",
       "      <td>KMDT</td>\n",
       "      <td>1.062121</td>\n",
       "    </tr>\n",
       "    <tr>\n",
       "      <th>25</th>\n",
       "      <td>KAVP</td>\n",
       "      <td>1.203370</td>\n",
       "    </tr>\n",
       "    <tr>\n",
       "      <th>13</th>\n",
       "      <td>KLNS</td>\n",
       "      <td>1.285029</td>\n",
       "    </tr>\n",
       "    <tr>\n",
       "      <th>24</th>\n",
       "      <td>KRDG</td>\n",
       "      <td>1.295569</td>\n",
       "    </tr>\n",
       "    <tr>\n",
       "      <th>31</th>\n",
       "      <td>KTHV</td>\n",
       "      <td>1.320947</td>\n",
       "    </tr>\n",
       "  </tbody>\n",
       "</table>\n",
       "</div>"
      ],
      "text/plain": [
       "      ID  distKIPT\n",
       "29  KIPT  0.000000\n",
       "26  KSEG  0.424264\n",
       "18  KMUI  0.882383\n",
       "27  KUNV  1.008464\n",
       "5   KCXY  1.022399\n",
       "16  KMDT  1.062121\n",
       "25  KAVP  1.203370\n",
       "13  KLNS  1.285029\n",
       "24  KRDG  1.295569\n",
       "31  KTHV  1.320947"
      ]
     },
     "execution_count": 14,
     "metadata": {},
     "output_type": "execute_result"
    }
   ],
   "source": [
    "sts_dist_kipt = stations.sort_values(by=\"distKIPT\")\n",
    "sts_dist_kipt = sts_dist_kipt.loc[:,[\"ID\",\"distKIPT\"]]\n",
    "sts_dist_kipt.head(10)"
   ]
  },
  {
   "cell_type": "markdown",
   "metadata": {},
   "source": [
    "**12) [P] Using your results, go back to the PSU climate website ( http://climate.met.psu.edu/data/ida/ ), and\n",
    "download the faa_hourly data for the THREE closest stations that have hourly data available in the same date\n",
    "range as the data you downloaded from KIPT (i.e. 20000101-20191231). (HINT: You may need to skip a station\n",
    "because it does not have data available in this range.) Copy the data into your data folder. Then, read in each\n",
    "data file into its own data frame using your function. You should have four data frames: df_kipt, and three\n",
    "other data frames representing the three closest stations. Show the result of info() on your three new data\n",
    "frames. (HINT: KSEG, KUNV, KCXY)**"
   ]
  },
  {
   "cell_type": "code",
   "execution_count": 15,
   "metadata": {},
   "outputs": [],
   "source": [
    "df_kipt = process_FAA_hourly_data(\"../data/faa_hourly-KIPT_20000101-20191231_raw.csv\")\n",
    "df_kseg = process_FAA_hourly_data(\"../data/faa_hourly-KSEG_20000101-20191231_raw.csv\")\n",
    "df_kunv = process_FAA_hourly_data(\"../data/faa_hourly-KUNV_20000101-20191231_raw.csv\")\n",
    "df_kcxy = process_FAA_hourly_data(\"../data/faa_hourly-KCXY_20000101-20191231_raw.csv\")"
   ]
  },
  {
   "cell_type": "code",
   "execution_count": 16,
   "metadata": {},
   "outputs": [
    {
     "name": "stdout",
     "output_type": "stream",
     "text": [
      "<class 'pandas.core.frame.DataFrame'>\n",
      "DatetimeIndex: 172179 entries, 2000-01-01 00:00:00 to 2019-12-31 23:00:00\n",
      "Data columns (total 11 columns):\n",
      "Number of Observations (n/a)     172179 non-null int8\n",
      "Average Temp (F)                 171579 non-null float32\n",
      "Max Temp (F)                     171579 non-null float32\n",
      "Min Temp (F)                     171579 non-null float32\n",
      "Average Dewpoint Temp (F)        171386 non-null float32\n",
      "1 Hour Precip (in)               26631 non-null float32\n",
      "Max Wind Gust (mph)              18401 non-null float32\n",
      "Average Relative Humidity (%)    167855 non-null float32\n",
      "Average Wind Speed (mph)         171396 non-null float32\n",
      "Average Station Pressure (mb)    171931 non-null float32\n",
      "Average Wind Direction (deg)     123311 non-null float32\n",
      "dtypes: float32(10), int8(1)\n",
      "memory usage: 8.0 MB\n"
     ]
    }
   ],
   "source": [
    "df_kseg.info()"
   ]
  },
  {
   "cell_type": "code",
   "execution_count": 17,
   "metadata": {},
   "outputs": [
    {
     "name": "stdout",
     "output_type": "stream",
     "text": [
      "<class 'pandas.core.frame.DataFrame'>\n",
      "DatetimeIndex: 168630 entries, 2000-01-01 00:00:00 to 2019-12-31 23:00:00\n",
      "Data columns (total 11 columns):\n",
      "Number of Observations (n/a)     168630 non-null int8\n",
      "Average Temp (F)                 167310 non-null float32\n",
      "Max Temp (F)                     167310 non-null float32\n",
      "Min Temp (F)                     167310 non-null float32\n",
      "Average Dewpoint Temp (F)        167299 non-null float32\n",
      "1 Hour Precip (in)               7505 non-null float32\n",
      "Max Wind Gust (mph)              32070 non-null float32\n",
      "Average Relative Humidity (%)    162847 non-null float32\n",
      "Average Wind Speed (mph)         168298 non-null float32\n",
      "Average Station Pressure (mb)    167219 non-null float32\n",
      "Average Wind Direction (deg)     151713 non-null float32\n",
      "dtypes: float32(10), int8(1)\n",
      "memory usage: 7.9 MB\n"
     ]
    }
   ],
   "source": [
    "df_kunv.info()"
   ]
  },
  {
   "cell_type": "code",
   "execution_count": 18,
   "metadata": {},
   "outputs": [
    {
     "name": "stdout",
     "output_type": "stream",
     "text": [
      "<class 'pandas.core.frame.DataFrame'>\n",
      "DatetimeIndex: 127229 entries, 2000-01-01 00:00:00 to 2019-12-31 23:00:00\n",
      "Data columns (total 11 columns):\n",
      "Number of Observations (n/a)     127229 non-null int8\n",
      "Average Temp (F)                 126767 non-null float32\n",
      "Max Temp (F)                     126767 non-null float32\n",
      "Min Temp (F)                     126767 non-null float32\n",
      "Average Dewpoint Temp (F)        126630 non-null float32\n",
      "1 Hour Precip (in)               17548 non-null float32\n",
      "Max Wind Gust (mph)              14922 non-null float32\n",
      "Average Relative Humidity (%)    123356 non-null float32\n",
      "Average Wind Speed (mph)         127026 non-null float32\n",
      "Average Station Pressure (mb)    126624 non-null float32\n",
      "Average Wind Direction (deg)     115184 non-null float32\n",
      "dtypes: float32(10), int8(1)\n",
      "memory usage: 5.9 MB\n"
     ]
    }
   ],
   "source": [
    "df_kcxy.info()"
   ]
  },
  {
   "cell_type": "markdown",
   "metadata": {},
   "source": [
    "**You're going to repair our KIPT data, but how? There are many approaches. Since we have data from nearby\n",
    "stations with independent readings, let's see how many of our missing data can be filled in from a nearby station.\n",
    "Again, for simplicity, we're only going to focus on average temperature (column 1).\n",
    "As an advanced CS elective, you should be going for efficient, clean code. It need not be perfect, but it should be\n",
    "well-thought out and documented so you can readily show it to prospective employers, and also use it later!\n",
    "Remember - you are going to start doing more advanced analyses very soon! So, when your code or your output is\n",
    "not obvious or intuitive, write markdown after your output is generated that explains your code, and interprets\n",
    "your results!**"
   ]
  },
  {
   "cell_type": "markdown",
   "metadata": {},
   "source": [
    "**13) [P] Create a new data frame called df_ave_temps that contains the average temperature from all four\n",
    "stations. Name the variables with the four-letter station identifier (e.g. \"KIPT\"). The index should have a\n",
    "COMPLETE hourly date range from the start date \"20000101 00:00:00 GMT\" to finish date\n",
    "\"20191231 23:00:00 GMT\". The results should be a complete dataset with an observation for every\n",
    "hour. If hourly observations are missing from the station you are copying from, then a NaN value should be\n",
    "stored for that entry. You will use these data for the remainder of this exercise.\n",
    "Show df_ave_temps.info()**"
   ]
  },
  {
   "cell_type": "code",
   "execution_count": 19,
   "metadata": {},
   "outputs": [
    {
     "name": "stdout",
     "output_type": "stream",
     "text": [
      "<class 'pandas.core.frame.DataFrame'>\n",
      "DatetimeIndex: 175320 entries, 2000-01-01 00:00:00 to 2019-12-31 23:00:00\n",
      "Freq: H\n",
      "Data columns (total 4 columns):\n",
      "KIPT    172253 non-null float32\n",
      "KSEG    171579 non-null float32\n",
      "KUNV    167310 non-null float32\n",
      "KCXY    126767 non-null float32\n",
      "dtypes: float32(4)\n",
      "memory usage: 9.0 MB\n"
     ]
    }
   ],
   "source": [
    "index=pd.date_range(start=pd.to_datetime(\"01/01/2000 00:00:00\"), end=pd.to_datetime(\"12/31/2019 23:00:00\"), freq=\"H\")\n",
    "\n",
    "kipt_ser = pd.Series(df_kipt[\"Average Temp (F)\"], name=\"KIPT\", index=index)\n",
    "kseg_ser = pd.Series(df_kseg[\"Average Temp (F)\"], name=\"KSEG\", index=index)\n",
    "kunv_ser = pd.Series(df_kunv[\"Average Temp (F)\"], name=\"KUNV\", index=index)\n",
    "kcxy_ser = pd.Series(df_kcxy[\"Average Temp (F)\"], name=\"KCXY\", index=index)\n",
    "\n",
    "d = {'KIPT':kipt_ser, 'KSEG':kseg_ser, 'KUNV':kunv_ser, 'KCXY':kcxy_ser}\n",
    "\n",
    "df_ave_temps = pd.DataFrame(d)\n",
    "\n",
    "df_ave_temps.info()"
   ]
  },
  {
   "cell_type": "markdown",
   "metadata": {},
   "source": [
    "\n",
    "**14) [P] Report the number of observations that have missing temps for each location. You should output a\n",
    "DataFrame or Series that shows four values.**"
   ]
  },
  {
   "cell_type": "code",
   "execution_count": 20,
   "metadata": {},
   "outputs": [
    {
     "data": {
      "text/plain": [
       "KIPT     3067\n",
       "KSEG     3741\n",
       "KUNV     8010\n",
       "KCXY    48553\n",
       "dtype: int64"
      ]
     },
     "execution_count": 20,
     "metadata": {},
     "output_type": "execute_result"
    }
   ],
   "source": [
    "#This is a Series object\n",
    "df_ave_temps.isna().sum()"
   ]
  },
  {
   "cell_type": "markdown",
   "metadata": {},
   "source": [
    "**15) [P] Report the number of missing data in KIPT that have at least one alternative station with an existing value.\n",
    "You should output a statement like, \"There are XXXX out of XXXX values in KIPT that\n",
    "can be restored from other locations.\" Also, show the first 10 observations of these data\n",
    "that meet this criteria using head(10).**"
   ]
  },
  {
   "cell_type": "code",
   "execution_count": 21,
   "metadata": {},
   "outputs": [],
   "source": [
    "#[DateTime][kipt.isna()][T/F replaceable][list names][list values]\n",
    "\n",
    "#Replaceable is a Series where a DateTime will be True IF KIPT is NaN and one of the other is a number\n",
    "replaceable = pd.Series(index=index, data=False, name=\"Replaceable\")\n",
    "list_names = pd.Series(index=index, data=None, name=\"Replaceable by\")\n",
    "list_values = pd.Series(index=index, data=None, name=\"Replaceable values\")\n",
    "\n",
    "for x in index:\n",
    "    if math.isnan(kipt_ser.at[x]):\n",
    "        if not (math.isnan(kseg_ser.at[x]) or math.isnan(kunv_ser.at[x]) or math.isnan(kcxy_ser.at[x])):\n",
    "            replaceable.at[x] = True\n",
    "            list_names[x] = \"\"\n",
    "            list_values[x] = \"\"\n",
    "\n",
    "            if not math.isnan(kseg_ser.at[x]):\n",
    "                list_names[x] += \"KSEG\\n\"\n",
    "                list_values[x] += str(kseg_ser[x]) + \"\\n\"\n",
    "\n",
    "            if not math.isnan(kunv_ser.at[x]):\n",
    "                list_names[x] += \"KUNV\\n\"\n",
    "                list_values[x] += str(kunv_ser[x]) + \"\\n\"\n",
    "                    \n",
    "            if not math.isnan(kcxy_ser.at[x]):\n",
    "                list_names[x] += \"KCXY\"\n",
    "                list_values[x] += str(kcxy_ser[x])\n",
    "\n",
    "\n",
    "d = {'KIPT NaN':kipt_ser.isna(), 'Replaceable':replaceable, 'Replaceable by':list_names, 'Replaceable values':list_values}\n",
    "\n",
    "#Keep this line in case I want the whole index range for some reason\n",
    "df_replaceable = pd.DataFrame(d)\n",
    "\n",
    "#Not doing this from the start was wasteful but I'm not willing to fix it right now.\n",
    "df_replaceable = df_replaceable[df_replaceable[\"KIPT NaN\"]]"
   ]
  },
  {
   "cell_type": "markdown",
   "metadata": {},
   "source": [
    "#### I feel like I'm making this harder than it has to be, but here's a demonstration of how my DataFrame works."
   ]
  },
  {
   "cell_type": "code",
   "execution_count": 22,
   "metadata": {},
   "outputs": [
    {
     "data": {
      "text/html": [
       "<div>\n",
       "<style scoped>\n",
       "    .dataframe tbody tr th:only-of-type {\n",
       "        vertical-align: middle;\n",
       "    }\n",
       "\n",
       "    .dataframe tbody tr th {\n",
       "        vertical-align: top;\n",
       "    }\n",
       "\n",
       "    .dataframe thead th {\n",
       "        text-align: right;\n",
       "    }\n",
       "</style>\n",
       "<table border=\"1\" class=\"dataframe\">\n",
       "  <thead>\n",
       "    <tr style=\"text-align: right;\">\n",
       "      <th></th>\n",
       "      <th>KIPT NaN</th>\n",
       "      <th>Replaceable</th>\n",
       "      <th>Replaceable by</th>\n",
       "      <th>Replaceable values</th>\n",
       "    </tr>\n",
       "  </thead>\n",
       "  <tbody>\n",
       "    <tr>\n",
       "      <th>2000-01-03 18:00:00</th>\n",
       "      <td>True</td>\n",
       "      <td>False</td>\n",
       "      <td>NaN</td>\n",
       "      <td>NaN</td>\n",
       "    </tr>\n",
       "    <tr>\n",
       "      <th>2000-01-05 17:00:00</th>\n",
       "      <td>True</td>\n",
       "      <td>False</td>\n",
       "      <td>NaN</td>\n",
       "      <td>NaN</td>\n",
       "    </tr>\n",
       "    <tr>\n",
       "      <th>2000-01-06 20:00:00</th>\n",
       "      <td>True</td>\n",
       "      <td>False</td>\n",
       "      <td>NaN</td>\n",
       "      <td>NaN</td>\n",
       "    </tr>\n",
       "    <tr>\n",
       "      <th>2000-01-07 14:00:00</th>\n",
       "      <td>True</td>\n",
       "      <td>True</td>\n",
       "      <td>KSEG\\nKUNV\\nKCXY</td>\n",
       "      <td>36.0\\n35.6\\n35.6</td>\n",
       "    </tr>\n",
       "    <tr>\n",
       "      <th>2000-01-10 02:00:00</th>\n",
       "      <td>True</td>\n",
       "      <td>False</td>\n",
       "      <td>NaN</td>\n",
       "      <td>NaN</td>\n",
       "    </tr>\n",
       "  </tbody>\n",
       "</table>\n",
       "</div>"
      ],
      "text/plain": [
       "                     KIPT NaN  Replaceable    Replaceable by  \\\n",
       "2000-01-03 18:00:00      True        False               NaN   \n",
       "2000-01-05 17:00:00      True        False               NaN   \n",
       "2000-01-06 20:00:00      True        False               NaN   \n",
       "2000-01-07 14:00:00      True         True  KSEG\\nKUNV\\nKCXY   \n",
       "2000-01-10 02:00:00      True        False               NaN   \n",
       "\n",
       "                    Replaceable values  \n",
       "2000-01-03 18:00:00                NaN  \n",
       "2000-01-05 17:00:00                NaN  \n",
       "2000-01-06 20:00:00                NaN  \n",
       "2000-01-07 14:00:00   36.0\\n35.6\\n35.6  \n",
       "2000-01-10 02:00:00                NaN  "
      ]
     },
     "execution_count": 22,
     "metadata": {},
     "output_type": "execute_result"
    }
   ],
   "source": [
    "df_replaceable.head()"
   ]
  },
  {
   "cell_type": "code",
   "execution_count": 23,
   "metadata": {},
   "outputs": [
    {
     "data": {
      "text/plain": [
       "KIPT NaN                          True\n",
       "Replaceable                       True\n",
       "Replaceable by        KSEG\\nKUNV\\nKCXY\n",
       "Replaceable values    36.0\\n35.6\\n35.6\n",
       "Name: 2000-01-07 14:00:00, dtype: object"
      ]
     },
     "execution_count": 23,
     "metadata": {},
     "output_type": "execute_result"
    }
   ],
   "source": [
    "df_replaceable.loc[\"2000-01-07 14:00:00\",:]"
   ]
  },
  {
   "cell_type": "code",
   "execution_count": 24,
   "metadata": {},
   "outputs": [
    {
     "name": "stdout",
     "output_type": "stream",
     "text": [
      "36.0\n",
      "35.6\n",
      "35.6\n"
     ]
    }
   ],
   "source": [
    "print(df_replaceable.loc[\"2000-01-07 14:00:00\",\"Replaceable values\"])"
   ]
  },
  {
   "cell_type": "code",
   "execution_count": 25,
   "metadata": {},
   "outputs": [
    {
     "data": {
      "text/plain": [
       "KIPT NaN       3067\n",
       "Replaceable     859\n",
       "dtype: int64"
      ]
     },
     "execution_count": 25,
     "metadata": {},
     "output_type": "execute_result"
    }
   ],
   "source": [
    "df_replaceable.sum()"
   ]
  },
  {
   "cell_type": "code",
   "execution_count": 26,
   "metadata": {},
   "outputs": [
    {
     "name": "stdout",
     "output_type": "stream",
     "text": [
      "\n",
      "There are 859 out of 3067 values in KIPT that can be restored from other locations\n"
     ]
    }
   ],
   "source": [
    "print(\"\\nThere are \" + str(replaceable.sum()) + \" out of \" + str(kipt_ser.isna().sum()) + \" values in KIPT that can be restored from other locations\")"
   ]
  },
  {
   "cell_type": "markdown",
   "metadata": {},
   "source": [
    "**16) [P] Remember that exercise in the previous lab that gathered the number of missing data by year? Report the\n",
    "number of missing data in KIPT by year that CANNOT be restored from any of the other stations. What year is\n",
    "standing out as the least likely to be restored?**"
   ]
  },
  {
   "cell_type": "code",
   "execution_count": 27,
   "metadata": {},
   "outputs": [
    {
     "data": {
      "text/html": [
       "<div>\n",
       "<style scoped>\n",
       "    .dataframe tbody tr th:only-of-type {\n",
       "        vertical-align: middle;\n",
       "    }\n",
       "\n",
       "    .dataframe tbody tr th {\n",
       "        vertical-align: top;\n",
       "    }\n",
       "\n",
       "    .dataframe thead th {\n",
       "        text-align: right;\n",
       "    }\n",
       "</style>\n",
       "<table border=\"1\" class=\"dataframe\">\n",
       "  <thead>\n",
       "    <tr style=\"text-align: right;\">\n",
       "      <th></th>\n",
       "      <th>KIPT NaN</th>\n",
       "      <th>Replaceable</th>\n",
       "      <th># Not Replaceable</th>\n",
       "    </tr>\n",
       "  </thead>\n",
       "  <tbody>\n",
       "    <tr>\n",
       "      <th>2000-12-31</th>\n",
       "      <td>832.0</td>\n",
       "      <td>20.0</td>\n",
       "      <td>812.0</td>\n",
       "    </tr>\n",
       "    <tr>\n",
       "      <th>2001-12-31</th>\n",
       "      <td>84.0</td>\n",
       "      <td>2.0</td>\n",
       "      <td>82.0</td>\n",
       "    </tr>\n",
       "    <tr>\n",
       "      <th>2002-12-31</th>\n",
       "      <td>200.0</td>\n",
       "      <td>51.0</td>\n",
       "      <td>149.0</td>\n",
       "    </tr>\n",
       "    <tr>\n",
       "      <th>2003-12-31</th>\n",
       "      <td>143.0</td>\n",
       "      <td>2.0</td>\n",
       "      <td>141.0</td>\n",
       "    </tr>\n",
       "    <tr>\n",
       "      <th>2004-12-31</th>\n",
       "      <td>154.0</td>\n",
       "      <td>60.0</td>\n",
       "      <td>94.0</td>\n",
       "    </tr>\n",
       "    <tr>\n",
       "      <th>2005-12-31</th>\n",
       "      <td>130.0</td>\n",
       "      <td>15.0</td>\n",
       "      <td>115.0</td>\n",
       "    </tr>\n",
       "    <tr>\n",
       "      <th>2006-12-31</th>\n",
       "      <td>42.0</td>\n",
       "      <td>0.0</td>\n",
       "      <td>42.0</td>\n",
       "    </tr>\n",
       "    <tr>\n",
       "      <th>2007-12-31</th>\n",
       "      <td>75.0</td>\n",
       "      <td>8.0</td>\n",
       "      <td>67.0</td>\n",
       "    </tr>\n",
       "    <tr>\n",
       "      <th>2008-12-31</th>\n",
       "      <td>203.0</td>\n",
       "      <td>15.0</td>\n",
       "      <td>188.0</td>\n",
       "    </tr>\n",
       "    <tr>\n",
       "      <th>2009-12-31</th>\n",
       "      <td>93.0</td>\n",
       "      <td>17.0</td>\n",
       "      <td>76.0</td>\n",
       "    </tr>\n",
       "    <tr>\n",
       "      <th>2010-12-31</th>\n",
       "      <td>73.0</td>\n",
       "      <td>39.0</td>\n",
       "      <td>34.0</td>\n",
       "    </tr>\n",
       "    <tr>\n",
       "      <th>2011-12-31</th>\n",
       "      <td>43.0</td>\n",
       "      <td>13.0</td>\n",
       "      <td>30.0</td>\n",
       "    </tr>\n",
       "    <tr>\n",
       "      <th>2012-12-31</th>\n",
       "      <td>160.0</td>\n",
       "      <td>92.0</td>\n",
       "      <td>68.0</td>\n",
       "    </tr>\n",
       "    <tr>\n",
       "      <th>2013-12-31</th>\n",
       "      <td>51.0</td>\n",
       "      <td>11.0</td>\n",
       "      <td>40.0</td>\n",
       "    </tr>\n",
       "    <tr>\n",
       "      <th>2014-12-31</th>\n",
       "      <td>45.0</td>\n",
       "      <td>30.0</td>\n",
       "      <td>15.0</td>\n",
       "    </tr>\n",
       "    <tr>\n",
       "      <th>2015-12-31</th>\n",
       "      <td>47.0</td>\n",
       "      <td>11.0</td>\n",
       "      <td>36.0</td>\n",
       "    </tr>\n",
       "    <tr>\n",
       "      <th>2016-12-31</th>\n",
       "      <td>383.0</td>\n",
       "      <td>353.0</td>\n",
       "      <td>30.0</td>\n",
       "    </tr>\n",
       "    <tr>\n",
       "      <th>2017-12-31</th>\n",
       "      <td>142.0</td>\n",
       "      <td>48.0</td>\n",
       "      <td>94.0</td>\n",
       "    </tr>\n",
       "    <tr>\n",
       "      <th>2018-12-31</th>\n",
       "      <td>73.0</td>\n",
       "      <td>8.0</td>\n",
       "      <td>65.0</td>\n",
       "    </tr>\n",
       "    <tr>\n",
       "      <th>2019-12-31</th>\n",
       "      <td>94.0</td>\n",
       "      <td>64.0</td>\n",
       "      <td>30.0</td>\n",
       "    </tr>\n",
       "  </tbody>\n",
       "</table>\n",
       "</div>"
      ],
      "text/plain": [
       "            KIPT NaN  Replaceable  # Not Replaceable\n",
       "2000-12-31     832.0         20.0              812.0\n",
       "2001-12-31      84.0          2.0               82.0\n",
       "2002-12-31     200.0         51.0              149.0\n",
       "2003-12-31     143.0          2.0              141.0\n",
       "2004-12-31     154.0         60.0               94.0\n",
       "2005-12-31     130.0         15.0              115.0\n",
       "2006-12-31      42.0          0.0               42.0\n",
       "2007-12-31      75.0          8.0               67.0\n",
       "2008-12-31     203.0         15.0              188.0\n",
       "2009-12-31      93.0         17.0               76.0\n",
       "2010-12-31      73.0         39.0               34.0\n",
       "2011-12-31      43.0         13.0               30.0\n",
       "2012-12-31     160.0         92.0               68.0\n",
       "2013-12-31      51.0         11.0               40.0\n",
       "2014-12-31      45.0         30.0               15.0\n",
       "2015-12-31      47.0         11.0               36.0\n",
       "2016-12-31     383.0        353.0               30.0\n",
       "2017-12-31     142.0         48.0               94.0\n",
       "2018-12-31      73.0          8.0               65.0\n",
       "2019-12-31      94.0         64.0               30.0"
      ]
     },
     "execution_count": 27,
     "metadata": {},
     "output_type": "execute_result"
    }
   ],
   "source": [
    "df_rep_2 = df_replaceable.loc[:,[\"KIPT NaN\",\"Replaceable\"]].resample('Y').sum()\n",
    "df_rep_2[\"# Not Replaceable\"] = df_rep_2[\"KIPT NaN\"].sub(df_rep_2[\"Replaceable\"], axis=0)\n",
    "df_rep_2"
   ]
  },
  {
   "cell_type": "code",
   "execution_count": 28,
   "metadata": {},
   "outputs": [
    {
     "name": "stdout",
     "output_type": "stream",
     "text": [
      "2000 is the year with the most unreplaceable data.\n"
     ]
    }
   ],
   "source": [
    "bad_year = df_rep_2[\"# Not Replaceable\"].idxmax().year\n",
    "print(str(bad_year) + \" is the year with the most unreplaceable data.\")"
   ]
  },
  {
   "cell_type": "markdown",
   "metadata": {},
   "source": [
    "**17) [P] It still looks like one year in particular is pretty bad. Confirm this visually by creating a line plot that plots all four stations for that one year, with each station a different color. Make sure KIPT stands out in some way.\n",
    "Only show the data for that one year you answered in the previous exercise. Interpret your results. In\n",
    "particular, do you see any other problems from any stations? (This might be a good time to use an interactive\n",
    "data visualization tool such as Plotly!) Label your plot (e.g. title, axis, legend)**"
   ]
  },
  {
   "cell_type": "code",
   "execution_count": 29,
   "metadata": {},
   "outputs": [
    {
     "data": {
      "image/png": "[encoded data removed]",
      "text/plain": [
       "<Figure size 432x288 with 1 Axes>"
      ]
     },
     "metadata": {
      "needs_background": "light"
     },
     "output_type": "display_data"
    }
   ],
   "source": [
    "#Originally did it with MatPlotLib. Trying it with plotly below.\n",
    "ind_2000 = pd.date_range(start=pd.to_datetime(\"01/01/2000 00:00:00\"), end=pd.to_datetime(\"12/31/2000 23:00:00\"), freq=\"H\")\n",
    "\n",
    "#Select data for year 2000\n",
    "kipt_temp_2000 = kipt_ser[:\"12/31/2000 23:00:00\"]\n",
    "kseg_temp_2000 = kseg_ser[:\"12/31/2000 23:00:00\"]\n",
    "kunv_temp_2000 = kunv_ser[:\"12/31/2000 23:00:00\"]\n",
    "kcxy_temp_2000 = kcxy_ser[:\"12/31/2000 23:00:00\"]\n",
    "\n",
    "#plot\n",
    "#I'm not sure I'm plotting the right things here. Reconsider.\n",
    "plt.plot(ind_2000, kseg_temp_2000, 'g', label=\"KSEG\")\n",
    "plt.plot(ind_2000, kunv_temp_2000, 'b', label=\"KUNV\")\n",
    "plt.plot(ind_2000, kcxy_temp_2000, 'y', label=\"KCXY\")\n",
    "plt.plot(ind_2000, kipt_temp_2000, 'r', label=\"KIPT\")\n",
    "\n",
    "plt.grid()\n",
    "plt.ylabel(\"Avg Temp (F)\")\n",
    "plt.xlabel(\"Date\")\n",
    "plt.title(\"Stations- Avg Temp Data in Year 2000\")\n",
    "plt.legend()\n",
    "plt.show()"
   ]
  },
  {
   "cell_type": "code",
   "execution_count": null,
   "metadata": {
    "scrolled": false
   },
   "outputs": [],
   "source": [
    "#Trying it with plotly\n",
    "# https://plot.ly/python/line-charts/\n",
    "#https://plot.ly/python/figure-labels/\n",
    "\n",
    "import plotly.graph_objects as go\n",
    "\n",
    "\n",
    "# Create traces\n",
    "fig = go.Figure()\n",
    "#If I wanted to simplify/use less detail I could use \n",
    "#fig.add_trace(go.Scatter(x=ind_2000, y=kseg_temp_2000.resample('4D').mean(), mode='lines', name='KSEG'))\n",
    "#The resampling will mean less detail on the plot\n",
    "fig.add_trace(go.Scatter(x=ind_2000, y=kseg_temp_2000, mode='lines', name='KSEG'))\n",
    "fig.add_trace(go.Scatter(x=ind_2000, y=kunv_temp_2000, mode='lines', name='KUNV'))\n",
    "fig.add_trace(go.Scatter(x=ind_2000, y=kcxy_temp_2000, mode='lines', name='KCXY'))\n",
    "fig.add_trace(go.Scatter(x=ind_2000, y=kipt_temp_2000, mode='lines', name='KIPT'))\n",
    "\n",
    "fig.update_layout(title=\"Stations- Avg Temp Data in Year 2000\", xaxis_title=\"Date\", yaxis_title=\"Avg Temp (F)\")\n",
    "fig.show()\n"
   ]
  },
  {
   "cell_type": "markdown",
   "metadata": {},
   "source": [
    "#### I didn't like learning different visual tools in lab05, but this graph was fairly easy and looks *much* better than my first.\n",
    "#### KUNV stands out for having several extreme dips."
   ]
  },
  {
   "cell_type": "markdown",
   "metadata": {},
   "source": [
    "**18) [P] Looking at your plot of 2000 over all stations should reveal that KUNV is problematic at 6 different times.\n",
    "Report these observations, but report them from your full KUNV dataframe. Show only those observations.**"
   ]
  },
  {
   "cell_type": "code",
   "execution_count": 31,
   "metadata": {},
   "outputs": [
    {
     "data": {
      "text/plain": [
       "Date/Time (GMT)\n",
       "2000-02-26 13:00:00    0.0\n",
       "2000-03-28 14:00:00    0.0\n",
       "2000-04-05 14:00:00    0.0\n",
       "2000-04-11 22:00:00    0.0\n",
       "2000-04-17 21:00:00    0.0\n",
       "2000-04-28 15:00:00    0.0\n",
       "Name: Average Temp (F), dtype: float32"
      ]
     },
     "execution_count": 31,
     "metadata": {},
     "output_type": "execute_result"
    }
   ],
   "source": [
    "#Supposed to use df_kunv\n",
    "\n",
    "kt2b = df_kunv.loc[:\"12/31/2000 23:00:00\",\"Average Temp (F)\"]\n",
    "kt2b = kt2b[kt2b == 0]\n",
    "kt2b\n",
    "#kunv_temp_2000_b = kunv_temp_2000[(kunv_temp_2000 == 0)]\n",
    "#kunv_temp_2000_b"
   ]
  },
  {
   "cell_type": "markdown",
   "metadata": {},
   "source": [
    "**19) [M] How could you algorithmically detect those problems? Keep in mind that simply saying to turn 0.0 into\n",
    "NaN is not an acceptable solution. 0.0 may very well be a real value!**"
   ]
  },
  {
   "cell_type": "markdown",
   "metadata": {},
   "source": [
    "#### We could use the IQR outlier formula but I feel it would be better to detect problems by comparing the change between one value to the next.\n",
    "#### If a value is more than (50% and 20 degrees) different than it's predecessor we could define it as an outlier."
   ]
  },
  {
   "cell_type": "markdown",
   "metadata": {},
   "source": [
    "**20) [P] Now, write the code to generate line plot(s) for all of KIPT visually, and only KIPT. Look for peculiarities,\n",
    "usually indicated by a sudden change that is outside of what would be considered normal, or an extreme\n",
    "temperature reading that would be impossible to observe in reality. Then, document your findings of areas\n",
    "that you think may be problematic, if any.**"
   ]
  },
  {
   "cell_type": "code",
   "execution_count": null,
   "metadata": {
    "scrolled": false
   },
   "outputs": [],
   "source": [
    "#df_kipt[\"Average Temp (F)\"].plot()\n",
    "#df_kipt[\"Average Temp (F)\"].plot.line() #Same as above\n",
    "\n",
    "\n",
    "# Takes an enormous time to run\n",
    "fig2 = go.Figure()\n",
    "for x in df_kipt.columns[1:4]:\n",
    "    fig2.add_trace(go.Scatter(x=index, y=df_kipt[x], mode='lines', name=x))\n",
    "\n",
    "fig2.update_layout(title=\"KIPT Data 2000-2019\", xaxis_title=\"Date\", yaxis_title=\"\")\n",
    "fig2.show()"
   ]
  },
  {
   "cell_type": "markdown",
   "metadata": {},
   "source": [
    "#### I only included Avg, max, and min temps. \n",
    "#### On this scale it is difficult to see any obviously problematic areas. Additionally on this scale Avg, max, and min are basically the same line. As far I as can see all is well."
   ]
  },
  {
   "cell_type": "markdown",
   "metadata": {},
   "source": [
    "**21) [P] Compute a new Series that represents a running delta temperature between adjacent average\n",
    "temperature readings for KIPT. Then, plot the distribution of these data using whatever visualization you think\n",
    "characterizes this distribution best. (HINT: It's a series of observations over a single numeric variable. What\n",
    "type of plot can reveal the distribution of these data?)**"
   ]
  },
  {
   "cell_type": "code",
   "execution_count": 33,
   "metadata": {},
   "outputs": [],
   "source": [
    "#This took a TON of debugging. There was a lot here that I deleted.\n",
    "#Initialize Series\n",
    "kipt_temp_delta = pd.Series(index=df_kipt.index, name=\"Avg Temp Change (F)\", data=None)\n",
    "\n",
    "prev=index[0]\n",
    "\n",
    "for x in df_kipt.index[1:]:\n",
    "    kipt_temp_delta[x] = df_kipt.loc[x,\"Average Temp (F)\"] - df_kipt.loc[prev,\"Average Temp (F)\"]\n",
    "    prev = x"
   ]
  },
  {
   "cell_type": "code",
   "execution_count": 34,
   "metadata": {},
   "outputs": [
    {
     "data": {
      "text/plain": [
       "140465"
      ]
     },
     "execution_count": 34,
     "metadata": {},
     "output_type": "execute_result"
    }
   ],
   "source": [
    "kipt_temp_delta.ne(0).sum()"
   ]
  },
  {
   "cell_type": "code",
   "execution_count": 35,
   "metadata": {},
   "outputs": [
    {
     "data": {
      "text/plain": [
       "<matplotlib.axes._subplots.AxesSubplot at 0x1911c6e0788>"
      ]
     },
     "execution_count": 35,
     "metadata": {},
     "output_type": "execute_result"
    },
    {
     "data": {
      "image/png": "[encoded data removed]",
      "text/plain": [
       "<Figure size 432x288 with 1 Axes>"
      ]
     },
     "metadata": {
      "needs_background": "light"
     },
     "output_type": "display_data"
    }
   ],
   "source": [
    "#What kind of plot?\n",
    "#kipt_temp_delta.plot(kind='kde')\n",
    "kipt_temp_delta.plot.density()"
   ]
  },
  {
   "cell_type": "code",
   "execution_count": null,
   "metadata": {},
   "outputs": [],
   "source": [
    "##QQ plot isn't working. I'll come back to this.\n",
    "import scipy.stats as stats\n",
    "import statsmodels.api as sm\n",
    "\n",
    "qq_data = kipt_temp_delta.sample(100)\n",
    "\n",
    "#sm.qqplot(qq_data) #Comparison to normal is the default\n",
    "#plt.title(\"QQ Plot: Ave Temp Delta Distribution vs Normal\")\n",
    "#plt.show()"
   ]
  },
  {
   "cell_type": "markdown",
   "metadata": {},
   "source": [
    "**22) [P] Perhaps it's more important to select the station that has the most similar values. Write a function called\n",
    "compare_station that takes two Series objects of numeric data, and computes the sum of the absolute\n",
    "value of the difference between each pair of numbers in both Series. You should only sum the values that have\n",
    "valid values for both entries. Return the average of these absolute differences.\n",
    "Then, call compare_station on KIPT and each of the new station, but pass only the average temp vector\n",
    "from each station using your df_ave_temps**"
   ]
  },
  {
   "cell_type": "code",
   "execution_count": 37,
   "metadata": {},
   "outputs": [],
   "source": [
    "def compare_station(st_1, st_2):\n",
    "    diff_ser = pd.Series(index=index,name=\"SAVD\",data=None)\n",
    "    \n",
    "    for x in index: \n",
    "        a = st_1[x]\n",
    "        b = st_2[x]\n",
    "        if not (math.isnan(a) or math.isnan(b)):\n",
    "            diff_ser[x] = abs(a - b)    \n",
    "                     \n",
    "    diff_ser = diff_ser[diff_ser.notna()] #Get rid of any lines that didn't have valid difference\n",
    "    m = diff_ser.mean() #Find mean\n",
    "    return m"
   ]
  },
  {
   "cell_type": "code",
   "execution_count": 38,
   "metadata": {},
   "outputs": [
    {
     "data": {
      "text/plain": [
       "3.7118515587105803"
      ]
     },
     "execution_count": 38,
     "metadata": {},
     "output_type": "execute_result"
    }
   ],
   "source": [
    "compare_station(df_ave_temps[\"KIPT\"], df_ave_temps[\"KCXY\"])"
   ]
  },
  {
   "cell_type": "code",
   "execution_count": 39,
   "metadata": {},
   "outputs": [
    {
     "data": {
      "text/plain": [
       "3.0005331820922634"
      ]
     },
     "execution_count": 39,
     "metadata": {},
     "output_type": "execute_result"
    }
   ],
   "source": [
    "compare_station(df_ave_temps[\"KIPT\"], df_ave_temps[\"KUNV\"])"
   ]
  },
  {
   "cell_type": "code",
   "execution_count": 40,
   "metadata": {},
   "outputs": [
    {
     "data": {
      "text/plain": [
       "2.0641876526393514"
      ]
     },
     "execution_count": 40,
     "metadata": {},
     "output_type": "execute_result"
    }
   ],
   "source": [
    "compare_station(df_ave_temps[\"KIPT\"], df_ave_temps[\"KSEG\"])"
   ]
  },
  {
   "cell_type": "markdown",
   "metadata": {},
   "source": [
    "**23) [P] As we learned in class, you could compute a correlation coefficient between columns of data to determine\n",
    "similarity. Compute the correlation coefficient between the average temp of KIPT, and each of the other\n",
    "stations you downloaded. They should all be very close to 1, but not quite. What does this technique suggest\n",
    "which station is most similar?**"
   ]
  },
  {
   "cell_type": "code",
   "execution_count": 41,
   "metadata": {},
   "outputs": [
    {
     "data": {
      "text/plain": [
       "KIPT    1.000000\n",
       "KSEG    0.988329\n",
       "KUNV    0.979906\n",
       "KCXY    0.981163\n",
       "Name: KIPT, dtype: float64"
      ]
     },
     "execution_count": 41,
     "metadata": {},
     "output_type": "execute_result"
    }
   ],
   "source": [
    "#Not to self- I did not z score this beforehand. Apparently we were supposed to.\n",
    "df_ave_temps.corr()[\"KIPT\"]"
   ]
  },
  {
   "cell_type": "markdown",
   "metadata": {},
   "source": [
    "#### This suggests that KSEG is most similar to KIPT."
   ]
  },
  {
   "cell_type": "markdown",
   "metadata": {},
   "source": [
    "**24) [M] Interpret what you have observed so far. Which station is most similar? How would this affect your\n",
    "approach to cleaning your data? Are there other things you might do to clean your data?**"
   ]
  },
  {
   "cell_type": "markdown",
   "metadata": {},
   "source": [
    "#### According to 22, KSEG has the smallest difference in Avg Temp to KIPT. \n",
    "#### According to 23, KSEG has the highest covariance coefficient.\n",
    "#### This means when cleaning my data I would use KSEG, or weight KSEG more heavily, etc."
   ]
  },
  {
   "cell_type": "markdown",
   "metadata": {},
   "source": [
    "**25) [P] Create a new attribute called KIPT_GOOD in your df_ave_temps data frame that keeps all of the\n",
    "original average temp data, but takes the readings from the closest station with available data to replace in\n",
    "the NA values. Be sure to replace the data from the best representative first, then the second best. Ignore the\n",
    "third. When you perform data cleaning, NEVER DELETE YOUR ORIGINAL DATA! Either store it, or just create a\n",
    "separate attribute of cleaned data, or create a separate data frame. AND, be sure to print out what you are\n",
    "doing. Be sure to include a before and after view to indicate how many values you fixed. For example:**"
   ]
  },
  {
   "cell_type": "code",
   "execution_count": 42,
   "metadata": {},
   "outputs": [],
   "source": [
    "#Modification to #15 to make my life easier\n",
    "#Replaceable is a Series where a DateTime will be True IF KIPT is NaN and one of the other is a number\n",
    "replaceable = pd.Series(index=index, data=False, name=\"Replaceable\")\n",
    "replace_value = pd.Series(index=index, data=None, name=\"Replaceable value\")\n",
    "\n",
    "for x in index:\n",
    "    if math.isnan(kipt_ser.at[x]):\n",
    "        if not (math.isnan(kseg_ser.at[x]) or math.isnan(kunv_ser.at[x]) or math.isnan(kcxy_ser.at[x])):\n",
    "            replaceable.at[x] = True\n",
    "            \n",
    "            #KSEG gets precedence over KUNV\n",
    "            if not math.isnan(kseg_ser.at[x]):\n",
    "                replace_value[x] = kseg_ser[x]\n",
    "\n",
    "            elif not math.isnan(kunv_ser.at[x]):\n",
    "                replace_value[x] = kunv_ser[x]\n",
    "\n",
    "d = {'KIPT NaN':kipt_ser.isna(), 'Replaceable':replaceable,'Replaceable value':replace_value}\n",
    "\n",
    "#Keep this line in case I want the whole index range for some reason\n",
    "df_replaceable25 = pd.DataFrame(d)\n",
    "\n",
    "#Not doing this from the start was wasteful but I'm not willing to fix it right now.\n",
    "df_replaceable25 = df_replaceable25[df_replaceable25[\"KIPT NaN\"]]"
   ]
  },
  {
   "cell_type": "code",
   "execution_count": 43,
   "metadata": {},
   "outputs": [
    {
     "data": {
      "text/html": [
       "<div>\n",
       "<style scoped>\n",
       "    .dataframe tbody tr th:only-of-type {\n",
       "        vertical-align: middle;\n",
       "    }\n",
       "\n",
       "    .dataframe tbody tr th {\n",
       "        vertical-align: top;\n",
       "    }\n",
       "\n",
       "    .dataframe thead th {\n",
       "        text-align: right;\n",
       "    }\n",
       "</style>\n",
       "<table border=\"1\" class=\"dataframe\">\n",
       "  <thead>\n",
       "    <tr style=\"text-align: right;\">\n",
       "      <th></th>\n",
       "      <th>KIPT NaN</th>\n",
       "      <th>Replaceable</th>\n",
       "      <th>Replaceable value</th>\n",
       "    </tr>\n",
       "  </thead>\n",
       "  <tbody>\n",
       "    <tr>\n",
       "      <th>2000-01-03 18:00:00</th>\n",
       "      <td>True</td>\n",
       "      <td>False</td>\n",
       "      <td>NaN</td>\n",
       "    </tr>\n",
       "    <tr>\n",
       "      <th>2000-01-05 17:00:00</th>\n",
       "      <td>True</td>\n",
       "      <td>False</td>\n",
       "      <td>NaN</td>\n",
       "    </tr>\n",
       "    <tr>\n",
       "      <th>2000-01-06 20:00:00</th>\n",
       "      <td>True</td>\n",
       "      <td>False</td>\n",
       "      <td>NaN</td>\n",
       "    </tr>\n",
       "    <tr>\n",
       "      <th>2000-01-07 14:00:00</th>\n",
       "      <td>True</td>\n",
       "      <td>True</td>\n",
       "      <td>36.0</td>\n",
       "    </tr>\n",
       "    <tr>\n",
       "      <th>2000-01-10 02:00:00</th>\n",
       "      <td>True</td>\n",
       "      <td>False</td>\n",
       "      <td>NaN</td>\n",
       "    </tr>\n",
       "  </tbody>\n",
       "</table>\n",
       "</div>"
      ],
      "text/plain": [
       "                     KIPT NaN  Replaceable  Replaceable value\n",
       "2000-01-03 18:00:00      True        False                NaN\n",
       "2000-01-05 17:00:00      True        False                NaN\n",
       "2000-01-06 20:00:00      True        False                NaN\n",
       "2000-01-07 14:00:00      True         True               36.0\n",
       "2000-01-10 02:00:00      True        False                NaN"
      ]
     },
     "execution_count": 43,
     "metadata": {},
     "output_type": "execute_result"
    }
   ],
   "source": [
    "df_replaceable25.head()"
   ]
  },
  {
   "cell_type": "code",
   "execution_count": 44,
   "metadata": {},
   "outputs": [
    {
     "name": "stdout",
     "output_type": "stream",
     "text": [
      "Starting with 3067 missing values in KIPT\n"
     ]
    }
   ],
   "source": [
    "print(\"Starting with \" + str(df_ave_temps[\"KIPT\"].isna().sum()) + \" missing values in KIPT\")"
   ]
  },
  {
   "cell_type": "code",
   "execution_count": 45,
   "metadata": {},
   "outputs": [],
   "source": [
    "#Order of distance from KIPT is KSEG, KUNV, KCXY\n",
    "df_ave_temps[\"KIPT_GOOD\"] = df_ave_temps[\"KIPT\"] #This will copy all values, including NaN\n",
    "for x in df_replaceable25.index: #This is smaller than going through the whole index- only values that need replacing\n",
    "    if df_replaceable25.Replaceable[x]: #Only values that can be replaced\n",
    "        df_ave_temps.at[x,\"KIPT_GOOD\"] = df_replaceable25.at[x,\"Replaceable value\"]"
   ]
  },
  {
   "cell_type": "code",
   "execution_count": 46,
   "metadata": {},
   "outputs": [
    {
     "name": "stdout",
     "output_type": "stream",
     "text": [
      "Copying 859 values from backup stations\n",
      "We still have 2208 values missing in KIPT\n"
     ]
    }
   ],
   "source": [
    "print(\"Copying \" + str(df_replaceable25.Replaceable.sum()) + \" values from backup stations\")\n",
    "print(\"We still have \" + str(df_ave_temps[\"KIPT_GOOD\"].isna().sum()) + \" values missing in KIPT\")"
   ]
  },
  {
   "cell_type": "markdown",
   "metadata": {},
   "source": [
    "**26) [P] How many missing values left in KIPT_GOOD are \"singletons\", i.e. a missing value surrounded by two\n",
    "good observations?**"
   ]
  },
  {
   "cell_type": "code",
   "execution_count": 47,
   "metadata": {},
   "outputs": [],
   "source": [
    "count = 0\n",
    "prev=index[0] #first hour in 2000\n",
    "i = 2 #This is such an absymally stupid way of doing this\n",
    "for x in index[1:]:\n",
    "    next_hr = index[i]\n",
    "    if i<(len(index)-1):\n",
    "        i = i+1\n",
    "        \n",
    "    if math.isnan(df_ave_temps.at[x,\"KIPT_GOOD\"]):\n",
    "        if not math.isnan(df_ave_temps.at[prev,\"KIPT_GOOD\"]):\n",
    "            if not math.isnan(df_ave_temps.at[next_hr,\"KIPT_GOOD\"]):\n",
    "                #This is a singleton\n",
    "                count = count + 1\n",
    "    prev = x    "
   ]
  },
  {
   "cell_type": "code",
   "execution_count": 48,
   "metadata": {},
   "outputs": [
    {
     "name": "stdout",
     "output_type": "stream",
     "text": [
      "397 singletons in KIPT_GOOD\n"
     ]
    }
   ],
   "source": [
    "print(str(count) + \" singletons in KIPT_GOOD\")"
   ]
  },
  {
   "cell_type": "markdown",
   "metadata": {},
   "source": [
    "**27) [P] Go through the variable KIPT_GOOD, and convert all singletons to an average of the surrounding\n",
    "observations. For example [..., 2, Nan, 5, ...] would be filled in with (2+5)/2 = 3.5. Then, report\n",
    "the number of values that are still missing in KIPT_GOOD.**"
   ]
  },
  {
   "cell_type": "code",
   "execution_count": 49,
   "metadata": {},
   "outputs": [],
   "source": [
    "prev=index[0] #first hour in 2000\n",
    "i = 2 #This is such an absymally stupid way of doing this\n",
    "for x in index[1:]:\n",
    "    next_hr = index[i]\n",
    "    if i<(len(index)-1):\n",
    "        i = i+1\n",
    "        \n",
    "    if math.isnan(df_ave_temps.at[x,\"KIPT_GOOD\"]):\n",
    "        if not math.isnan(df_ave_temps.at[prev,\"KIPT_GOOD\"]):\n",
    "            if not math.isnan(df_ave_temps.at[next_hr,\"KIPT_GOOD\"]):\n",
    "                #This is a singleton\n",
    "                df_ave_temps.at[x,\"KIPT_GOOD\"] = (df_ave_temps.at[prev,\"KIPT_GOOD\"] + df_ave_temps.at[next_hr,\"KIPT_GOOD\"])/2\n",
    "    prev = x    "
   ]
  },
  {
   "cell_type": "code",
   "execution_count": 50,
   "metadata": {},
   "outputs": [
    {
     "name": "stdout",
     "output_type": "stream",
     "text": [
      "We still have 1811 values missing in KIPT\n"
     ]
    }
   ],
   "source": [
    "print(\"We still have \" + str(df_ave_temps[\"KIPT_GOOD\"].isna().sum()) + \" values missing in KIPT\")\n",
    "#Still not the right number but hey, it went down."
   ]
  },
  {
   "cell_type": "markdown",
   "metadata": {},
   "source": [
    "**28) [P] Eliminate that first year of data from df_ave_temps. There are too many missing values in these data to\n",
    "make it worthwhile.**"
   ]
  },
  {
   "cell_type": "code",
   "execution_count": 51,
   "metadata": {},
   "outputs": [
    {
     "data": {
      "text/html": [
       "<div>\n",
       "<style scoped>\n",
       "    .dataframe tbody tr th:only-of-type {\n",
       "        vertical-align: middle;\n",
       "    }\n",
       "\n",
       "    .dataframe tbody tr th {\n",
       "        vertical-align: top;\n",
       "    }\n",
       "\n",
       "    .dataframe thead th {\n",
       "        text-align: right;\n",
       "    }\n",
       "</style>\n",
       "<table border=\"1\" class=\"dataframe\">\n",
       "  <thead>\n",
       "    <tr style=\"text-align: right;\">\n",
       "      <th></th>\n",
       "      <th>KIPT</th>\n",
       "      <th>KSEG</th>\n",
       "      <th>KUNV</th>\n",
       "      <th>KCXY</th>\n",
       "      <th>KIPT_GOOD</th>\n",
       "    </tr>\n",
       "  </thead>\n",
       "  <tbody>\n",
       "    <tr>\n",
       "      <th>2001-01-01 00:00:00</th>\n",
       "      <td>21.0</td>\n",
       "      <td>19.0</td>\n",
       "      <td>15.8</td>\n",
       "      <td>23.0</td>\n",
       "      <td>21.0</td>\n",
       "    </tr>\n",
       "    <tr>\n",
       "      <th>2001-01-01 01:00:00</th>\n",
       "      <td>19.9</td>\n",
       "      <td>19.0</td>\n",
       "      <td>14.0</td>\n",
       "      <td>21.9</td>\n",
       "      <td>19.9</td>\n",
       "    </tr>\n",
       "    <tr>\n",
       "      <th>2001-01-01 02:00:00</th>\n",
       "      <td>19.0</td>\n",
       "      <td>17.1</td>\n",
       "      <td>15.8</td>\n",
       "      <td>21.0</td>\n",
       "      <td>19.0</td>\n",
       "    </tr>\n",
       "    <tr>\n",
       "      <th>2001-01-01 03:00:00</th>\n",
       "      <td>19.0</td>\n",
       "      <td>14.0</td>\n",
       "      <td>15.8</td>\n",
       "      <td>19.0</td>\n",
       "      <td>19.0</td>\n",
       "    </tr>\n",
       "    <tr>\n",
       "      <th>2001-01-01 04:00:00</th>\n",
       "      <td>19.0</td>\n",
       "      <td>14.0</td>\n",
       "      <td>15.8</td>\n",
       "      <td>18.0</td>\n",
       "      <td>19.0</td>\n",
       "    </tr>\n",
       "  </tbody>\n",
       "</table>\n",
       "</div>"
      ],
      "text/plain": [
       "                     KIPT  KSEG  KUNV  KCXY  KIPT_GOOD\n",
       "2001-01-01 00:00:00  21.0  19.0  15.8  23.0       21.0\n",
       "2001-01-01 01:00:00  19.9  19.0  14.0  21.9       19.9\n",
       "2001-01-01 02:00:00  19.0  17.1  15.8  21.0       19.0\n",
       "2001-01-01 03:00:00  19.0  14.0  15.8  19.0       19.0\n",
       "2001-01-01 04:00:00  19.0  14.0  15.8  18.0       19.0"
      ]
     },
     "execution_count": 51,
     "metadata": {},
     "output_type": "execute_result"
    }
   ],
   "source": [
    "df_ave_temps = df_ave_temps[\"2001-01-01 00:00:00\":]\n",
    "df_ave_temps.head()"
   ]
  },
  {
   "cell_type": "markdown",
   "metadata": {},
   "source": [
    "**29) [P] Generate a final report of the total number of missing values in df_ave_temps.KIPT_GOOD by year.**"
   ]
  },
  {
   "cell_type": "code",
   "execution_count": 52,
   "metadata": {},
   "outputs": [
    {
     "data": {
      "text/plain": [
       "2001-12-31     67.0\n",
       "2002-12-31    119.0\n",
       "2003-12-31    122.0\n",
       "2004-12-31     75.0\n",
       "2005-12-31     94.0\n",
       "2006-12-31     17.0\n",
       "2007-12-31     53.0\n",
       "2008-12-31    146.0\n",
       "2009-12-31     55.0\n",
       "2010-12-31     16.0\n",
       "2011-12-31     21.0\n",
       "2012-12-31     25.0\n",
       "2013-12-31     29.0\n",
       "2014-12-31      5.0\n",
       "2015-12-31     24.0\n",
       "2016-12-31     24.0\n",
       "2017-12-31     79.0\n",
       "2018-12-31     46.0\n",
       "2019-12-31     15.0\n",
       "Freq: A-DEC, Name: KIPT_GOOD, dtype: float64"
      ]
     },
     "execution_count": 52,
     "metadata": {},
     "output_type": "execute_result"
    }
   ],
   "source": [
    "df_ave_temps[\"KIPT_GOOD\"].isna().resample('Y').sum()"
   ]
  },
  {
   "cell_type": "markdown",
   "metadata": {},
   "source": [
    "**30) [P] Finally, create some good, clean line plots of KIPT_GOOD. Create at least three plots using different\n",
    "averaging times. One should be the raw data. Create one by month. Then, create one by year. Be sure they are\n",
    "labeled.**"
   ]
  },
  {
   "cell_type": "code",
   "execution_count": 53,
   "metadata": {},
   "outputs": [
    {
     "data": {
      "text/plain": [
       "Text(0, 0.5, 'Temp (F)')"
      ]
     },
     "execution_count": 53,
     "metadata": {},
     "output_type": "execute_result"
    },
    {
     "data": {
      "image/png": "[encoded data removed]",
      "text/plain": [
       "<Figure size 432x288 with 1 Axes>"
      ]
     },
     "metadata": {
      "needs_background": "light"
     },
     "output_type": "display_data"
    }
   ],
   "source": [
    "#Raw data\n",
    "df_ave_temps[\"KIPT_GOOD\"].plot()\n",
    "plt.title(\"KIPT Avg Temp - Cleaned\")\n",
    "plt.xlabel(\"Date\")\n",
    "plt.ylabel(\"Temp (F)\")"
   ]
  },
  {
   "cell_type": "code",
   "execution_count": null,
   "metadata": {
    "scrolled": true
   },
   "outputs": [],
   "source": [
    "# Plotly version\n",
    "fig = go.Figure()\n",
    "fig.add_trace(go.Scatter(x=df_ave_temps.index, y=df_ave_temps[\"KIPT_GOOD\"], mode='lines'))\n",
    "\n",
    "fig.update_layout(title=\"KIPT Avg Temp - Cleaned\", xaxis_title=\"Date\", yaxis_title=\"Temp (F)\")\n",
    "fig.show()"
   ]
  },
  {
   "cell_type": "code",
   "execution_count": 55,
   "metadata": {},
   "outputs": [
    {
     "data": {
      "text/plain": [
       "Text(0, 0.5, 'Temp (F)')"
      ]
     },
     "execution_count": 55,
     "metadata": {},
     "output_type": "execute_result"
    },
    {
     "data": {
      "image/png": "[encoded data removed]",
      "text/plain": [
       "<Figure size 432x288 with 1 Axes>"
      ]
     },
     "metadata": {
      "needs_background": "light"
     },
     "output_type": "display_data"
    }
   ],
   "source": [
    "#Monthly\n",
    "df_ave_temps[\"KIPT_GOOD\"].resample('M').mean().plot()\n",
    "plt.title(\"KIPT Avg Temp - Cleaned - Monthly Averaged\")\n",
    "plt.xlabel(\"Date\")\n",
    "plt.ylabel(\"Temp (F)\")"
   ]
  },
  {
   "cell_type": "code",
   "execution_count": 56,
   "metadata": {},
   "outputs": [
    {
     "data": {
      "text/plain": [
       "Text(0, 0.5, 'Temp (F)')"
      ]
     },
     "execution_count": 56,
     "metadata": {},
     "output_type": "execute_result"
    },
    {
     "data": {
      "image/png": "[encoded data removed]",
      "text/plain": [
       "<Figure size 432x288 with 1 Axes>"
      ]
     },
     "metadata": {
      "needs_background": "light"
     },
     "output_type": "display_data"
    }
   ],
   "source": [
    "#Yearly\n",
    "df_ave_temps[\"KIPT_GOOD\"].resample('Y').mean().plot()\n",
    "plt.title(\"KIPT Avg Temp - Cleaned - Yearly Averaged\")\n",
    "plt.xlabel(\"Date\")\n",
    "plt.ylabel(\"Temp (F)\")"
   ]
  },
  {
   "cell_type": "code",
   "execution_count": null,
   "metadata": {},
   "outputs": [],
   "source": []
  }
 ],
 "metadata": {
  "kernelspec": {
   "display_name": "Python 3",
   "language": "python",
   "name": "python3"
  },
  "language_info": {
   "codemirror_mode": {
    "name": "ipython",
    "version": 3
   },
   "file_extension": ".py",
   "mimetype": "text/x-python",
   "name": "python",
   "nbconvert_exporter": "python",
   "pygments_lexer": "ipython3",
   "version": "3.7.6"
  }
 },
 "nbformat": 4,
 "nbformat_minor": 2
}
