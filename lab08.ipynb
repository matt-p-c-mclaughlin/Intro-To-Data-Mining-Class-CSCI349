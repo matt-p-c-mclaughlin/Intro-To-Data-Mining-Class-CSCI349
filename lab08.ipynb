{
 "cells": [
  {
   "cell_type": "markdown",
   "metadata": {},
   "source": [
    "# Lab 8 – Distances and PCA\n",
    "#### Name: Matt McLaughlin \n",
    "#### Class: CSCI 349 - Intro to Data Mining \n",
    "#### Semester: 2020SP \n",
    "#### Instructor: Brian King"
   ]
  },
  {
   "cell_type": "code",
   "execution_count": 177,
   "metadata": {},
   "outputs": [],
   "source": [
    "import numpy as np\n",
    "import pandas as pd\n",
    "import matplotlib.pyplot as plt\n",
    "import seaborn as sns\n",
    "import scipy.stats as stats\n",
    "from scipy.stats import zscore\n",
    "from sklearn.decomposition import PCA\n",
    "#Things I had to import\n",
    "from sklearn.preprocessing import MinMaxScaler\n",
    "import scipy.spatial.distance as dist\n",
    "import math\n",
    "import plotly.graph_objects as go\n",
    "from mpl_toolkits.mplot3d import Axes3D"
   ]
  },
  {
   "cell_type": "markdown",
   "metadata": {},
   "source": [
    "#### 1) [P] Set up a pandas data frame with the following 8 observations and 3 variables:\n",
    "#### Be sure to set the types of each variable as follows:\n",
    "#### • test1: Nominal, levels = { \"A\", \"B\", C\" }\n",
    "#### • test2: Ordinal, levels = { \"poor\", \"fair\", \"good\", \"excellent\" }\n",
    "#### • test3: Numeric\n",
    "#### Use pd.Categorical to properly set up categorical variables (i.e. test1 and test2) and pay attention to the ordered parameter. Name the data frame df. Set the index correctly to match the row names in the table above.\n",
    "#### Display the df data frame, and then show the output of info() method to show the type of each variable in df ."
   ]
  },
  {
   "cell_type": "code",
   "execution_count": 2,
   "metadata": {},
   "outputs": [
    {
     "data": {
      "text/html": [
       "<div>\n",
       "<style scoped>\n",
       "    .dataframe tbody tr th:only-of-type {\n",
       "        vertical-align: middle;\n",
       "    }\n",
       "\n",
       "    .dataframe tbody tr th {\n",
       "        vertical-align: top;\n",
       "    }\n",
       "\n",
       "    .dataframe thead th {\n",
       "        text-align: right;\n",
       "    }\n",
       "</style>\n",
       "<table border=\"1\" class=\"dataframe\">\n",
       "  <thead>\n",
       "    <tr style=\"text-align: right;\">\n",
       "      <th></th>\n",
       "      <th>test1</th>\n",
       "      <th>test2</th>\n",
       "      <th>test3</th>\n",
       "    </tr>\n",
       "  </thead>\n",
       "  <tbody>\n",
       "    <tr>\n",
       "      <th>A0</th>\n",
       "      <td>A</td>\n",
       "      <td>excellent</td>\n",
       "      <td>25</td>\n",
       "    </tr>\n",
       "    <tr>\n",
       "      <th>A1</th>\n",
       "      <td>C</td>\n",
       "      <td>fair</td>\n",
       "      <td>32</td>\n",
       "    </tr>\n",
       "    <tr>\n",
       "      <th>A2</th>\n",
       "      <td>C</td>\n",
       "      <td>good</td>\n",
       "      <td>60</td>\n",
       "    </tr>\n",
       "    <tr>\n",
       "      <th>A3</th>\n",
       "      <td>B</td>\n",
       "      <td>fair</td>\n",
       "      <td>53</td>\n",
       "    </tr>\n",
       "    <tr>\n",
       "      <th>A4</th>\n",
       "      <td>A</td>\n",
       "      <td>poor</td>\n",
       "      <td>23</td>\n",
       "    </tr>\n",
       "    <tr>\n",
       "      <th>A5</th>\n",
       "      <td>B</td>\n",
       "      <td>excellent</td>\n",
       "      <td>37</td>\n",
       "    </tr>\n",
       "    <tr>\n",
       "      <th>A6</th>\n",
       "      <td>C</td>\n",
       "      <td>good</td>\n",
       "      <td>45</td>\n",
       "    </tr>\n",
       "    <tr>\n",
       "      <th>A7</th>\n",
       "      <td>B</td>\n",
       "      <td>good</td>\n",
       "      <td>49</td>\n",
       "    </tr>\n",
       "  </tbody>\n",
       "</table>\n",
       "</div>"
      ],
      "text/plain": [
       "   test1      test2  test3\n",
       "A0     A  excellent     25\n",
       "A1     C       fair     32\n",
       "A2     C       good     60\n",
       "A3     B       fair     53\n",
       "A4     A       poor     23\n",
       "A5     B  excellent     37\n",
       "A6     C       good     45\n",
       "A7     B       good     49"
      ]
     },
     "execution_count": 2,
     "metadata": {},
     "output_type": "execute_result"
    }
   ],
   "source": [
    "index = [\"A0\", \"A1\", \"A2\", \"A3\", \"A4\", \"A5\", \"A6\", \"A7\"]\n",
    "d1 = [\"A\",\"C\",\"C\",\"B\",\"A\", \"B\", \"C\", \"B\"]\n",
    "d2 = [\"excellent\", \"fair\", \"good\",  \"fair\", \"poor\", \"excellent\", \"good\", \"good\"]\n",
    "d3 = [25, 32, 60, 53, 23, 37, 45, 49]\n",
    "\n",
    "d1_cat = pd.Categorical(values=d1, categories=[\"A\",\"B\",\"C\"], ordered=True)\n",
    "d2_cat = pd.Categorical(values=d2, categories=[\"poor\", \"fair\", \"good\", \"excellent\"], ordered=True)\n",
    "\n",
    "s1 = pd.Series(data=d1_cat,index=index,name=\"test1\")\n",
    "s2 = pd.Series(data=d2_cat, index=index, name=\"test2\")\n",
    "s3 = pd.Series(data=d3, index=index, name=\"test3\")\n",
    "\n",
    "d = {\"test1\":s1, \"test2\":s2, \"test3\":s3}\n",
    "df = pd.DataFrame(d)\n",
    "df"
   ]
  },
  {
   "cell_type": "code",
   "execution_count": 3,
   "metadata": {},
   "outputs": [
    {
     "name": "stdout",
     "output_type": "stream",
     "text": [
      "<class 'pandas.core.frame.DataFrame'>\n",
      "Index: 8 entries, A0 to A7\n",
      "Data columns (total 3 columns):\n",
      "test1    8 non-null category\n",
      "test2    8 non-null category\n",
      "test3    8 non-null int64\n",
      "dtypes: category(2), int64(1)\n",
      "memory usage: 440.0+ bytes\n"
     ]
    }
   ],
   "source": [
    "df.info()"
   ]
  },
  {
   "cell_type": "markdown",
   "metadata": {},
   "source": [
    "**2) [P] Show the output of df.describe(include='all'). What does the include='all' parameter\n",
    "do?**"
   ]
  },
  {
   "cell_type": "code",
   "execution_count": 4,
   "metadata": {},
   "outputs": [
    {
     "data": {
      "text/html": [
       "<div>\n",
       "<style scoped>\n",
       "    .dataframe tbody tr th:only-of-type {\n",
       "        vertical-align: middle;\n",
       "    }\n",
       "\n",
       "    .dataframe tbody tr th {\n",
       "        vertical-align: top;\n",
       "    }\n",
       "\n",
       "    .dataframe thead th {\n",
       "        text-align: right;\n",
       "    }\n",
       "</style>\n",
       "<table border=\"1\" class=\"dataframe\">\n",
       "  <thead>\n",
       "    <tr style=\"text-align: right;\">\n",
       "      <th></th>\n",
       "      <th>test1</th>\n",
       "      <th>test2</th>\n",
       "      <th>test3</th>\n",
       "    </tr>\n",
       "  </thead>\n",
       "  <tbody>\n",
       "    <tr>\n",
       "      <th>count</th>\n",
       "      <td>8</td>\n",
       "      <td>8</td>\n",
       "      <td>8.000000</td>\n",
       "    </tr>\n",
       "    <tr>\n",
       "      <th>unique</th>\n",
       "      <td>3</td>\n",
       "      <td>4</td>\n",
       "      <td>NaN</td>\n",
       "    </tr>\n",
       "    <tr>\n",
       "      <th>top</th>\n",
       "      <td>C</td>\n",
       "      <td>good</td>\n",
       "      <td>NaN</td>\n",
       "    </tr>\n",
       "    <tr>\n",
       "      <th>freq</th>\n",
       "      <td>3</td>\n",
       "      <td>3</td>\n",
       "      <td>NaN</td>\n",
       "    </tr>\n",
       "    <tr>\n",
       "      <th>mean</th>\n",
       "      <td>NaN</td>\n",
       "      <td>NaN</td>\n",
       "      <td>40.500000</td>\n",
       "    </tr>\n",
       "    <tr>\n",
       "      <th>std</th>\n",
       "      <td>NaN</td>\n",
       "      <td>NaN</td>\n",
       "      <td>13.416408</td>\n",
       "    </tr>\n",
       "    <tr>\n",
       "      <th>min</th>\n",
       "      <td>NaN</td>\n",
       "      <td>NaN</td>\n",
       "      <td>23.000000</td>\n",
       "    </tr>\n",
       "    <tr>\n",
       "      <th>25%</th>\n",
       "      <td>NaN</td>\n",
       "      <td>NaN</td>\n",
       "      <td>30.250000</td>\n",
       "    </tr>\n",
       "    <tr>\n",
       "      <th>50%</th>\n",
       "      <td>NaN</td>\n",
       "      <td>NaN</td>\n",
       "      <td>41.000000</td>\n",
       "    </tr>\n",
       "    <tr>\n",
       "      <th>75%</th>\n",
       "      <td>NaN</td>\n",
       "      <td>NaN</td>\n",
       "      <td>50.000000</td>\n",
       "    </tr>\n",
       "    <tr>\n",
       "      <th>max</th>\n",
       "      <td>NaN</td>\n",
       "      <td>NaN</td>\n",
       "      <td>60.000000</td>\n",
       "    </tr>\n",
       "  </tbody>\n",
       "</table>\n",
       "</div>"
      ],
      "text/plain": [
       "       test1 test2      test3\n",
       "count      8     8   8.000000\n",
       "unique     3     4        NaN\n",
       "top        C  good        NaN\n",
       "freq       3     3        NaN\n",
       "mean     NaN   NaN  40.500000\n",
       "std      NaN   NaN  13.416408\n",
       "min      NaN   NaN  23.000000\n",
       "25%      NaN   NaN  30.250000\n",
       "50%      NaN   NaN  41.000000\n",
       "75%      NaN   NaN  50.000000\n",
       "max      NaN   NaN  60.000000"
      ]
     },
     "execution_count": 4,
     "metadata": {},
     "output_type": "execute_result"
    }
   ],
   "source": [
    "df.describe(include='all')"
   ]
  },
  {
   "cell_type": "markdown",
   "metadata": {},
   "source": [
    "#### Include=all will include all columns of the input in the output."
   ]
  },
  {
   "cell_type": "markdown",
   "metadata": {},
   "source": [
    "**3) [P] Show the output of df.test1.cat.categories, and df.test2.cat.categories. What is this\n",
    "showing? Does it work for df.test3.cat.categories? (If not, then comment this line out.)**"
   ]
  },
  {
   "cell_type": "code",
   "execution_count": 5,
   "metadata": {},
   "outputs": [
    {
     "data": {
      "text/plain": [
       "Index(['A', 'B', 'C'], dtype='object')"
      ]
     },
     "execution_count": 5,
     "metadata": {},
     "output_type": "execute_result"
    }
   ],
   "source": [
    "df.test1.cat.categories"
   ]
  },
  {
   "cell_type": "code",
   "execution_count": 6,
   "metadata": {},
   "outputs": [
    {
     "data": {
      "text/plain": [
       "Index(['poor', 'fair', 'good', 'excellent'], dtype='object')"
      ]
     },
     "execution_count": 6,
     "metadata": {},
     "output_type": "execute_result"
    }
   ],
   "source": [
    "df.test2.cat.categories"
   ]
  },
  {
   "cell_type": "code",
   "execution_count": 7,
   "metadata": {},
   "outputs": [
    {
     "name": "stdout",
     "output_type": "stream",
     "text": [
      "It shows the order of the categories from least to greatest. It does not work for test3.\n"
     ]
    }
   ],
   "source": [
    "#df.test3.cat.categories\n",
    "print(\"It shows the order of the categories from least to greatest. It does not work for test3.\")"
   ]
  },
  {
   "cell_type": "markdown",
   "metadata": {},
   "source": [
    "**4) [P] Show the output of df.test1.cat.codes, and df.test2.cat.codes. What is this showing?**"
   ]
  },
  {
   "cell_type": "code",
   "execution_count": 8,
   "metadata": {},
   "outputs": [
    {
     "data": {
      "text/plain": [
       "A0    0\n",
       "A1    2\n",
       "A2    2\n",
       "A3    1\n",
       "A4    0\n",
       "A5    1\n",
       "A6    2\n",
       "A7    1\n",
       "dtype: int8"
      ]
     },
     "execution_count": 8,
     "metadata": {},
     "output_type": "execute_result"
    }
   ],
   "source": [
    "df.test1.cat.codes"
   ]
  },
  {
   "cell_type": "code",
   "execution_count": 9,
   "metadata": {},
   "outputs": [
    {
     "data": {
      "text/plain": [
       "A0    3\n",
       "A1    1\n",
       "A2    2\n",
       "A3    1\n",
       "A4    0\n",
       "A5    3\n",
       "A6    2\n",
       "A7    2\n",
       "dtype: int8"
      ]
     },
     "execution_count": 9,
     "metadata": {},
     "output_type": "execute_result"
    }
   ],
   "source": [
    "df.test2.cat.codes"
   ]
  },
  {
   "cell_type": "markdown",
   "metadata": {},
   "source": [
    "**5) [P] Report the counts of each level of the categorical variables.**"
   ]
  },
  {
   "cell_type": "markdown",
   "metadata": {},
   "source": [
    "#### It shows the score or value of each cell. For example test1 A1 has \"A\". \"C\" is the least, so it equals 0. \"A\"=2. In test2 \"excellent\"=3. More succintly it is the **index value** of the item in the cell in the categorical list."
   ]
  },
  {
   "cell_type": "markdown",
   "metadata": {},
   "source": [
    "**6) [P] Report a cross tabulation (i.e. contingency table) between test1 and test2. Include the margins (i.e. the sum of the rows and the columns) in your reported table (HINT: Look up pandas crosstab() function)**"
   ]
  },
  {
   "cell_type": "code",
   "execution_count": 10,
   "metadata": {},
   "outputs": [
    {
     "data": {
      "text/html": [
       "<div>\n",
       "<style scoped>\n",
       "    .dataframe tbody tr th:only-of-type {\n",
       "        vertical-align: middle;\n",
       "    }\n",
       "\n",
       "    .dataframe tbody tr th {\n",
       "        vertical-align: top;\n",
       "    }\n",
       "\n",
       "    .dataframe thead th {\n",
       "        text-align: right;\n",
       "    }\n",
       "</style>\n",
       "<table border=\"1\" class=\"dataframe\">\n",
       "  <thead>\n",
       "    <tr style=\"text-align: right;\">\n",
       "      <th>test2</th>\n",
       "      <th>poor</th>\n",
       "      <th>fair</th>\n",
       "      <th>good</th>\n",
       "      <th>excellent</th>\n",
       "      <th>All</th>\n",
       "    </tr>\n",
       "    <tr>\n",
       "      <th>test1</th>\n",
       "      <th></th>\n",
       "      <th></th>\n",
       "      <th></th>\n",
       "      <th></th>\n",
       "      <th></th>\n",
       "    </tr>\n",
       "  </thead>\n",
       "  <tbody>\n",
       "    <tr>\n",
       "      <th>A</th>\n",
       "      <td>1</td>\n",
       "      <td>0</td>\n",
       "      <td>0</td>\n",
       "      <td>1</td>\n",
       "      <td>2</td>\n",
       "    </tr>\n",
       "    <tr>\n",
       "      <th>B</th>\n",
       "      <td>0</td>\n",
       "      <td>1</td>\n",
       "      <td>1</td>\n",
       "      <td>1</td>\n",
       "      <td>3</td>\n",
       "    </tr>\n",
       "    <tr>\n",
       "      <th>C</th>\n",
       "      <td>0</td>\n",
       "      <td>1</td>\n",
       "      <td>2</td>\n",
       "      <td>0</td>\n",
       "      <td>3</td>\n",
       "    </tr>\n",
       "    <tr>\n",
       "      <th>All</th>\n",
       "      <td>1</td>\n",
       "      <td>2</td>\n",
       "      <td>3</td>\n",
       "      <td>2</td>\n",
       "      <td>8</td>\n",
       "    </tr>\n",
       "  </tbody>\n",
       "</table>\n",
       "</div>"
      ],
      "text/plain": [
       "test2  poor  fair  good  excellent  All\n",
       "test1                                  \n",
       "A         1     0     0          1    2\n",
       "B         0     1     1          1    3\n",
       "C         0     1     2          0    3\n",
       "All       1     2     3          2    8"
      ]
     },
     "execution_count": 10,
     "metadata": {},
     "output_type": "execute_result"
    }
   ],
   "source": [
    "pd.crosstab(df.test1, df.test2, margins=True)"
   ]
  },
  {
   "cell_type": "markdown",
   "metadata": {},
   "source": [
    "**7) [P] From the previous table, store the contingency table without the margins in a variable called observed**"
   ]
  },
  {
   "cell_type": "code",
   "execution_count": 11,
   "metadata": {},
   "outputs": [
    {
     "data": {
      "text/html": [
       "<div>\n",
       "<style scoped>\n",
       "    .dataframe tbody tr th:only-of-type {\n",
       "        vertical-align: middle;\n",
       "    }\n",
       "\n",
       "    .dataframe tbody tr th {\n",
       "        vertical-align: top;\n",
       "    }\n",
       "\n",
       "    .dataframe thead th {\n",
       "        text-align: right;\n",
       "    }\n",
       "</style>\n",
       "<table border=\"1\" class=\"dataframe\">\n",
       "  <thead>\n",
       "    <tr style=\"text-align: right;\">\n",
       "      <th>test2</th>\n",
       "      <th>poor</th>\n",
       "      <th>fair</th>\n",
       "      <th>good</th>\n",
       "      <th>excellent</th>\n",
       "    </tr>\n",
       "    <tr>\n",
       "      <th>test1</th>\n",
       "      <th></th>\n",
       "      <th></th>\n",
       "      <th></th>\n",
       "      <th></th>\n",
       "    </tr>\n",
       "  </thead>\n",
       "  <tbody>\n",
       "    <tr>\n",
       "      <th>A</th>\n",
       "      <td>1</td>\n",
       "      <td>0</td>\n",
       "      <td>0</td>\n",
       "      <td>1</td>\n",
       "    </tr>\n",
       "    <tr>\n",
       "      <th>B</th>\n",
       "      <td>0</td>\n",
       "      <td>1</td>\n",
       "      <td>1</td>\n",
       "      <td>1</td>\n",
       "    </tr>\n",
       "    <tr>\n",
       "      <th>C</th>\n",
       "      <td>0</td>\n",
       "      <td>1</td>\n",
       "      <td>2</td>\n",
       "      <td>0</td>\n",
       "    </tr>\n",
       "  </tbody>\n",
       "</table>\n",
       "</div>"
      ],
      "text/plain": [
       "test2  poor  fair  good  excellent\n",
       "test1                             \n",
       "A         1     0     0          1\n",
       "B         0     1     1          1\n",
       "C         0     1     2          0"
      ]
     },
     "execution_count": 11,
     "metadata": {},
     "output_type": "execute_result"
    }
   ],
   "source": [
    "observed = pd.crosstab(df.test1, df.test2)\n",
    "observed"
   ]
  },
  {
   "cell_type": "markdown",
   "metadata": {},
   "source": [
    "**8) [P] Run a chi-squared test to determine whether test1 and test2 are dependent. Use the contingency table\n",
    "from the previous step. Clearly report the chi2 statistic, the p value, and the degrees of freedom, and then use\n",
    "the p-value to clearly state whether test1 and test2 are independent (assume p=0.05 threshold to test for independence)**"
   ]
  },
  {
   "cell_type": "code",
   "execution_count": 12,
   "metadata": {},
   "outputs": [
    {
     "name": "stdout",
     "output_type": "stream",
     "text": [
      "The chi2 statisitc is [0.25  0.125 0.25  0.125]\n",
      "and the p value is [0.8824969  0.93941306 0.8824969  0.93941306]\n",
      "With a p=0.05 threshold for independence, test1 and test2 are dependent.\n"
     ]
    }
   ],
   "source": [
    "#Reference page\n",
    "# https://docs.scipy.org/doc/scipy-0.13.0/reference/generated/scipy.stats.chisquare.html \n",
    "\n",
    "#The reference describes the input as \"Observed frequencies in each category\" so I'm dividing count by total\n",
    "chi_square = stats.chisquare(observed/observed.sum().sum())\n",
    "print(\"The chi2 statisitc is \" + str(chi_square[0]) + \"\\nand the p value is \" + str(chi_square[1]))\n",
    "print(\"With a p=0.05 threshold for independence, test1 and test2 are dependent.\")"
   ]
  },
  {
   "cell_type": "markdown",
   "metadata": {},
   "source": [
    "**Now, you're going to explore some similarities between observations. Yes, this is a SMALL dataset! (Don't bother\n",
    "to explore large data until you can understand how they work on small, toy experimental data!)**\n",
    "\n",
    "**Before you can compute a pairwise distance matrix to report the distance between all pairs of observations,\n",
    "always remember that you can only compute distances between strictly numeric data. Therefore, you must\n",
    "convert your data to numeric types for ALL variables you want to include in your distance metric.**"
   ]
  },
  {
   "cell_type": "markdown",
   "metadata": {},
   "source": [
    "**9) [P] Create a new data frame called df_num, that represents a numeric version of the above. Do NOT do any\n",
    "rescaling of your variables yet!**\n",
    "\n",
    "**NOTE: If you do this from a dataframe that has the categorical variables set up properly, then this step is\n",
    "simple to do. The two choices I generally follow are either: 1) use the cat member of your categorical data,\n",
    "which stores a CategoricalAccessor object (look it up), or use one of the encoders in the\n",
    "sklearn.preprocessing module. The first option is easier, and yet another reason why it's so important\n",
    "to take the time to preprocess your data as correctly and error-free as possible.**\n",
    "\n",
    "**Your resulting data frame at the end of this step should be as follows:**"
   ]
  },
  {
   "cell_type": "code",
   "execution_count": 13,
   "metadata": {},
   "outputs": [
    {
     "data": {
      "text/html": [
       "<div>\n",
       "<style scoped>\n",
       "    .dataframe tbody tr th:only-of-type {\n",
       "        vertical-align: middle;\n",
       "    }\n",
       "\n",
       "    .dataframe tbody tr th {\n",
       "        vertical-align: top;\n",
       "    }\n",
       "\n",
       "    .dataframe thead th {\n",
       "        text-align: right;\n",
       "    }\n",
       "</style>\n",
       "<table border=\"1\" class=\"dataframe\">\n",
       "  <thead>\n",
       "    <tr style=\"text-align: right;\">\n",
       "      <th></th>\n",
       "      <th>test1</th>\n",
       "      <th>test2</th>\n",
       "      <th>test3</th>\n",
       "    </tr>\n",
       "  </thead>\n",
       "  <tbody>\n",
       "    <tr>\n",
       "      <th>A0</th>\n",
       "      <td>0</td>\n",
       "      <td>3</td>\n",
       "      <td>25</td>\n",
       "    </tr>\n",
       "    <tr>\n",
       "      <th>A1</th>\n",
       "      <td>2</td>\n",
       "      <td>1</td>\n",
       "      <td>32</td>\n",
       "    </tr>\n",
       "    <tr>\n",
       "      <th>A2</th>\n",
       "      <td>2</td>\n",
       "      <td>2</td>\n",
       "      <td>60</td>\n",
       "    </tr>\n",
       "    <tr>\n",
       "      <th>A3</th>\n",
       "      <td>1</td>\n",
       "      <td>1</td>\n",
       "      <td>53</td>\n",
       "    </tr>\n",
       "    <tr>\n",
       "      <th>A4</th>\n",
       "      <td>0</td>\n",
       "      <td>0</td>\n",
       "      <td>23</td>\n",
       "    </tr>\n",
       "    <tr>\n",
       "      <th>A5</th>\n",
       "      <td>1</td>\n",
       "      <td>3</td>\n",
       "      <td>37</td>\n",
       "    </tr>\n",
       "    <tr>\n",
       "      <th>A6</th>\n",
       "      <td>2</td>\n",
       "      <td>2</td>\n",
       "      <td>45</td>\n",
       "    </tr>\n",
       "    <tr>\n",
       "      <th>A7</th>\n",
       "      <td>1</td>\n",
       "      <td>2</td>\n",
       "      <td>49</td>\n",
       "    </tr>\n",
       "  </tbody>\n",
       "</table>\n",
       "</div>"
      ],
      "text/plain": [
       "    test1  test2  test3\n",
       "A0      0      3     25\n",
       "A1      2      1     32\n",
       "A2      2      2     60\n",
       "A3      1      1     53\n",
       "A4      0      0     23\n",
       "A5      1      3     37\n",
       "A6      2      2     45\n",
       "A7      1      2     49"
      ]
     },
     "execution_count": 13,
     "metadata": {},
     "output_type": "execute_result"
    }
   ],
   "source": [
    "#df_num = df.apply(df.cat.codes, axis=1) #Wanted to do something like this but it isn't working\n",
    "df_num = df.copy()\n",
    "df_num['test1'] = df.test1.cat.codes\n",
    "df_num['test2'] = df.test2.cat.codes\n",
    "df_num"
   ]
  },
  {
   "cell_type": "markdown",
   "metadata": {},
   "source": [
    "**10) [P] As you learned in lecture, you absolutely must rescale your data to fall on a similar scale. There are\n",
    "different approaches to doing so. A standardized zscore is among the most common, but not necessarily\n",
    "always the best approach, especially when you are dealing with numeric representations of true categorical\n",
    "data. Rescaling your data to all fall between 0 and 1 is also a common approach, particularly when you have\n",
    "categorical data.**\n",
    "\n",
    "**Let's first try to rescale our data to all fall between the values of 0 and 1. Use the MinMaxScaler in\n",
    "sklearn.preprocessing to rescale all variables to fall between 0 and 1. Store the transformed data as a\n",
    "pandas data frame called df_num_zeroone,. Your result should look as follows:**"
   ]
  },
  {
   "cell_type": "code",
   "execution_count": 14,
   "metadata": {},
   "outputs": [
    {
     "data": {
      "text/html": [
       "<div>\n",
       "<style scoped>\n",
       "    .dataframe tbody tr th:only-of-type {\n",
       "        vertical-align: middle;\n",
       "    }\n",
       "\n",
       "    .dataframe tbody tr th {\n",
       "        vertical-align: top;\n",
       "    }\n",
       "\n",
       "    .dataframe thead th {\n",
       "        text-align: right;\n",
       "    }\n",
       "</style>\n",
       "<table border=\"1\" class=\"dataframe\">\n",
       "  <thead>\n",
       "    <tr style=\"text-align: right;\">\n",
       "      <th></th>\n",
       "      <th>test1</th>\n",
       "      <th>test2</th>\n",
       "      <th>test3</th>\n",
       "    </tr>\n",
       "  </thead>\n",
       "  <tbody>\n",
       "    <tr>\n",
       "      <th>A0</th>\n",
       "      <td>0.0</td>\n",
       "      <td>1.000000</td>\n",
       "      <td>0.054054</td>\n",
       "    </tr>\n",
       "    <tr>\n",
       "      <th>A1</th>\n",
       "      <td>1.0</td>\n",
       "      <td>0.333333</td>\n",
       "      <td>0.243243</td>\n",
       "    </tr>\n",
       "    <tr>\n",
       "      <th>A2</th>\n",
       "      <td>1.0</td>\n",
       "      <td>0.666667</td>\n",
       "      <td>1.000000</td>\n",
       "    </tr>\n",
       "    <tr>\n",
       "      <th>A3</th>\n",
       "      <td>0.5</td>\n",
       "      <td>0.333333</td>\n",
       "      <td>0.810811</td>\n",
       "    </tr>\n",
       "    <tr>\n",
       "      <th>A4</th>\n",
       "      <td>0.0</td>\n",
       "      <td>0.000000</td>\n",
       "      <td>0.000000</td>\n",
       "    </tr>\n",
       "    <tr>\n",
       "      <th>A5</th>\n",
       "      <td>0.5</td>\n",
       "      <td>1.000000</td>\n",
       "      <td>0.378378</td>\n",
       "    </tr>\n",
       "    <tr>\n",
       "      <th>A6</th>\n",
       "      <td>1.0</td>\n",
       "      <td>0.666667</td>\n",
       "      <td>0.594595</td>\n",
       "    </tr>\n",
       "    <tr>\n",
       "      <th>A7</th>\n",
       "      <td>0.5</td>\n",
       "      <td>0.666667</td>\n",
       "      <td>0.702703</td>\n",
       "    </tr>\n",
       "  </tbody>\n",
       "</table>\n",
       "</div>"
      ],
      "text/plain": [
       "    test1     test2     test3\n",
       "A0    0.0  1.000000  0.054054\n",
       "A1    1.0  0.333333  0.243243\n",
       "A2    1.0  0.666667  1.000000\n",
       "A3    0.5  0.333333  0.810811\n",
       "A4    0.0  0.000000  0.000000\n",
       "A5    0.5  1.000000  0.378378\n",
       "A6    1.0  0.666667  0.594595\n",
       "A7    0.5  0.666667  0.702703"
      ]
     },
     "execution_count": 14,
     "metadata": {},
     "output_type": "execute_result"
    }
   ],
   "source": [
    "scaler = MinMaxScaler() #Default is 0 to 1\n",
    "scaler.fit(df_num)\n",
    "df_num_zeroone = pd.DataFrame(scaler.transform(df_num), index=df.index, columns=df.columns)\n",
    "df_num_zeroone"
   ]
  },
  {
   "cell_type": "markdown",
   "metadata": {},
   "source": [
    "**11) [P] Notice the value of test3. Quite often, when we have solid knowledge of what we expect our range to\n",
    "be, then we can rescale our data using that knowledge. In the case of test3, you learned that the data must\n",
    "fall between 0 and 100. Therefore, reassign test3 so that the min and max before rescaling are assuming to\n",
    "be between 0 and 100, respectively. (i.e. simply divide the original variable by 100)**"
   ]
  },
  {
   "cell_type": "code",
   "execution_count": 15,
   "metadata": {},
   "outputs": [
    {
     "data": {
      "text/html": [
       "<div>\n",
       "<style scoped>\n",
       "    .dataframe tbody tr th:only-of-type {\n",
       "        vertical-align: middle;\n",
       "    }\n",
       "\n",
       "    .dataframe tbody tr th {\n",
       "        vertical-align: top;\n",
       "    }\n",
       "\n",
       "    .dataframe thead th {\n",
       "        text-align: right;\n",
       "    }\n",
       "</style>\n",
       "<table border=\"1\" class=\"dataframe\">\n",
       "  <thead>\n",
       "    <tr style=\"text-align: right;\">\n",
       "      <th></th>\n",
       "      <th>test1</th>\n",
       "      <th>test2</th>\n",
       "      <th>test3</th>\n",
       "    </tr>\n",
       "  </thead>\n",
       "  <tbody>\n",
       "    <tr>\n",
       "      <th>A0</th>\n",
       "      <td>0.0</td>\n",
       "      <td>1.000000</td>\n",
       "      <td>0.25</td>\n",
       "    </tr>\n",
       "    <tr>\n",
       "      <th>A1</th>\n",
       "      <td>1.0</td>\n",
       "      <td>0.333333</td>\n",
       "      <td>0.32</td>\n",
       "    </tr>\n",
       "    <tr>\n",
       "      <th>A2</th>\n",
       "      <td>1.0</td>\n",
       "      <td>0.666667</td>\n",
       "      <td>0.60</td>\n",
       "    </tr>\n",
       "    <tr>\n",
       "      <th>A3</th>\n",
       "      <td>0.5</td>\n",
       "      <td>0.333333</td>\n",
       "      <td>0.53</td>\n",
       "    </tr>\n",
       "    <tr>\n",
       "      <th>A4</th>\n",
       "      <td>0.0</td>\n",
       "      <td>0.000000</td>\n",
       "      <td>0.23</td>\n",
       "    </tr>\n",
       "    <tr>\n",
       "      <th>A5</th>\n",
       "      <td>0.5</td>\n",
       "      <td>1.000000</td>\n",
       "      <td>0.37</td>\n",
       "    </tr>\n",
       "    <tr>\n",
       "      <th>A6</th>\n",
       "      <td>1.0</td>\n",
       "      <td>0.666667</td>\n",
       "      <td>0.45</td>\n",
       "    </tr>\n",
       "    <tr>\n",
       "      <th>A7</th>\n",
       "      <td>0.5</td>\n",
       "      <td>0.666667</td>\n",
       "      <td>0.49</td>\n",
       "    </tr>\n",
       "  </tbody>\n",
       "</table>\n",
       "</div>"
      ],
      "text/plain": [
       "    test1     test2  test3\n",
       "A0    0.0  1.000000   0.25\n",
       "A1    1.0  0.333333   0.32\n",
       "A2    1.0  0.666667   0.60\n",
       "A3    0.5  0.333333   0.53\n",
       "A4    0.0  0.000000   0.23\n",
       "A5    0.5  1.000000   0.37\n",
       "A6    1.0  0.666667   0.45\n",
       "A7    0.5  0.666667   0.49"
      ]
     },
     "execution_count": 15,
     "metadata": {},
     "output_type": "execute_result"
    }
   ],
   "source": [
    "df_num_zeroone.test3 = df_num.test3/100\n",
    "df_num_zeroone"
   ]
  },
  {
   "cell_type": "markdown",
   "metadata": {},
   "source": [
    "**12) [P] Compute a single distance matrix called distmat_zeroone. Use a standard Euclidean distance\n",
    "measure. Your reported result should be an 8x8 matrix with appropriately labeled rows and columns. (HINT –\n",
    "study the output of the distance matrix functions! They do not output a square matrix. Look at the\n",
    "squareform function. The pdist and squareform functions are in scipy.spatial.distance).**"
   ]
  },
  {
   "cell_type": "code",
   "execution_count": 16,
   "metadata": {},
   "outputs": [],
   "source": [
    "def create_dist_mat(dataframe):\n",
    "    temp_df = dist.pdist(dataframe) #Euclidean distance is default\n",
    "    temp_df = dist.squareform(temp_df)\n",
    "    temp_df = pd.DataFrame(temp_df, index=dataframe.index, columns=dataframe.index)\n",
    "    return temp_df"
   ]
  },
  {
   "cell_type": "code",
   "execution_count": 17,
   "metadata": {},
   "outputs": [
    {
     "data": {
      "text/html": [
       "<div>\n",
       "<style scoped>\n",
       "    .dataframe tbody tr th:only-of-type {\n",
       "        vertical-align: middle;\n",
       "    }\n",
       "\n",
       "    .dataframe tbody tr th {\n",
       "        vertical-align: top;\n",
       "    }\n",
       "\n",
       "    .dataframe thead th {\n",
       "        text-align: right;\n",
       "    }\n",
       "</style>\n",
       "<table border=\"1\" class=\"dataframe\">\n",
       "  <thead>\n",
       "    <tr style=\"text-align: right;\">\n",
       "      <th></th>\n",
       "      <th>A0</th>\n",
       "      <th>A1</th>\n",
       "      <th>A2</th>\n",
       "      <th>A3</th>\n",
       "      <th>A4</th>\n",
       "      <th>A5</th>\n",
       "      <th>A6</th>\n",
       "      <th>A7</th>\n",
       "    </tr>\n",
       "  </thead>\n",
       "  <tbody>\n",
       "    <tr>\n",
       "      <th>A0</th>\n",
       "      <td>0.000000</td>\n",
       "      <td>1.203887</td>\n",
       "      <td>1.110680</td>\n",
       "      <td>0.879116</td>\n",
       "      <td>1.000200</td>\n",
       "      <td>0.514198</td>\n",
       "      <td>1.072898</td>\n",
       "      <td>0.647079</td>\n",
       "    </tr>\n",
       "    <tr>\n",
       "      <th>A1</th>\n",
       "      <td>1.203887</td>\n",
       "      <td>0.000000</td>\n",
       "      <td>0.435329</td>\n",
       "      <td>0.542310</td>\n",
       "      <td>1.057928</td>\n",
       "      <td>0.834832</td>\n",
       "      <td>0.357786</td>\n",
       "      <td>0.624509</td>\n",
       "    </tr>\n",
       "    <tr>\n",
       "      <th>A2</th>\n",
       "      <td>1.110680</td>\n",
       "      <td>0.435329</td>\n",
       "      <td>0.000000</td>\n",
       "      <td>0.604989</td>\n",
       "      <td>1.257515</td>\n",
       "      <td>0.643437</td>\n",
       "      <td>0.150000</td>\n",
       "      <td>0.511957</td>\n",
       "    </tr>\n",
       "    <tr>\n",
       "      <th>A3</th>\n",
       "      <td>0.879116</td>\n",
       "      <td>0.542310</td>\n",
       "      <td>0.604989</td>\n",
       "      <td>0.000000</td>\n",
       "      <td>0.671648</td>\n",
       "      <td>0.685598</td>\n",
       "      <td>0.606227</td>\n",
       "      <td>0.335725</td>\n",
       "    </tr>\n",
       "    <tr>\n",
       "      <th>A4</th>\n",
       "      <td>1.000200</td>\n",
       "      <td>1.057928</td>\n",
       "      <td>1.257515</td>\n",
       "      <td>0.671648</td>\n",
       "      <td>0.000000</td>\n",
       "      <td>1.126765</td>\n",
       "      <td>1.221820</td>\n",
       "      <td>0.872952</td>\n",
       "    </tr>\n",
       "    <tr>\n",
       "      <th>A5</th>\n",
       "      <td>0.514198</td>\n",
       "      <td>0.834832</td>\n",
       "      <td>0.643437</td>\n",
       "      <td>0.685598</td>\n",
       "      <td>1.126765</td>\n",
       "      <td>0.000000</td>\n",
       "      <td>0.606227</td>\n",
       "      <td>0.354275</td>\n",
       "    </tr>\n",
       "    <tr>\n",
       "      <th>A6</th>\n",
       "      <td>1.072898</td>\n",
       "      <td>0.357786</td>\n",
       "      <td>0.150000</td>\n",
       "      <td>0.606227</td>\n",
       "      <td>1.221820</td>\n",
       "      <td>0.606227</td>\n",
       "      <td>0.000000</td>\n",
       "      <td>0.501597</td>\n",
       "    </tr>\n",
       "    <tr>\n",
       "      <th>A7</th>\n",
       "      <td>0.647079</td>\n",
       "      <td>0.624509</td>\n",
       "      <td>0.511957</td>\n",
       "      <td>0.335725</td>\n",
       "      <td>0.872952</td>\n",
       "      <td>0.354275</td>\n",
       "      <td>0.501597</td>\n",
       "      <td>0.000000</td>\n",
       "    </tr>\n",
       "  </tbody>\n",
       "</table>\n",
       "</div>"
      ],
      "text/plain": [
       "          A0        A1        A2        A3        A4        A5        A6  \\\n",
       "A0  0.000000  1.203887  1.110680  0.879116  1.000200  0.514198  1.072898   \n",
       "A1  1.203887  0.000000  0.435329  0.542310  1.057928  0.834832  0.357786   \n",
       "A2  1.110680  0.435329  0.000000  0.604989  1.257515  0.643437  0.150000   \n",
       "A3  0.879116  0.542310  0.604989  0.000000  0.671648  0.685598  0.606227   \n",
       "A4  1.000200  1.057928  1.257515  0.671648  0.000000  1.126765  1.221820   \n",
       "A5  0.514198  0.834832  0.643437  0.685598  1.126765  0.000000  0.606227   \n",
       "A6  1.072898  0.357786  0.150000  0.606227  1.221820  0.606227  0.000000   \n",
       "A7  0.647079  0.624509  0.511957  0.335725  0.872952  0.354275  0.501597   \n",
       "\n",
       "          A7  \n",
       "A0  0.647079  \n",
       "A1  0.624509  \n",
       "A2  0.511957  \n",
       "A3  0.335725  \n",
       "A4  0.872952  \n",
       "A5  0.354275  \n",
       "A6  0.501597  \n",
       "A7  0.000000  "
      ]
     },
     "execution_count": 17,
     "metadata": {},
     "output_type": "execute_result"
    }
   ],
   "source": [
    "distmat_zeroone = create_dist_mat(df_num_zeroone)\n",
    "distmat_zeroone"
   ]
  },
  {
   "cell_type": "markdown",
   "metadata": {},
   "source": [
    "**13) [P] Output the top three closest pairs of observations. You MUST write Python code to report these results! Do\n",
    "not simply print out your distance matrix and tell me your answers! Consider that this may have been\n",
    "thousands of observations! Always generate reported answers in code!**\n",
    "\n",
    "**For each pair, output the pair of observations from the original dataframe, and the distance between them.**"
   ]
  },
  {
   "cell_type": "code",
   "execution_count": 18,
   "metadata": {},
   "outputs": [],
   "source": [
    "def find_3_min(dist_df, th_ft=False):\n",
    "    \n",
    "    #Part 1\n",
    "    dmz_temp = dist_df[dist_df.ne(0)].copy()\n",
    "\n",
    "    name_arr1 = np.array([\"  \",\"  \",\"  \"])\n",
    "    name_arr2 = np.array([\"  \",\"  \",\"  \"])\n",
    "\n",
    "    dist_arr = np.array([math.inf, math.inf, math.inf])\n",
    "\n",
    "    a_min = [dmz_temp.iloc[:,0].min(), dmz_temp.iloc[:,1].min(), dmz_temp.iloc[:,2].min(), dmz_temp.iloc[:,3].min(),\\\n",
    "             dmz_temp.iloc[:,4].min(), dmz_temp.iloc[:,5].min(), dmz_temp.iloc[:,6].min(), dmz_temp.iloc[:,7].min()]\n",
    "    a_min_names = [dmz_temp.iloc[:,0].idxmin(), dmz_temp.iloc[:,1].idxmin(), dmz_temp.iloc[:,2].idxmin(), dmz_temp.iloc[:,3].idxmin(),\\\n",
    "                   dmz_temp.iloc[:,5].idxmin(), dmz_temp.iloc[:,6].idxmin(),dmz_temp.iloc[:,6].idxmin(),dmz_temp.iloc[:,7].idxmin()]\n",
    "\n",
    "    min_ser = pd.Series(data=a_min, index=dist_df.index, name=\"Mins\")\n",
    "    min_name_ser = pd.Series(data=a_min_names, index=dist_df.index, name=\"Names\")\n",
    "\n",
    "    a_min_dict = {\"Names\":min_name_ser, \"Mins\":min_ser}\n",
    "\n",
    "    df2 = pd.DataFrame(a_min_dict)\n",
    "    \n",
    "    #Part 2\n",
    "    i = 0\n",
    "    while name_arr1[2] == \"  \":\n",
    "        #The idea is that 3 times this will find the min, add it, add the names, then remove that entire row\n",
    "        dist_arr[i] = df2.Mins.min()\n",
    "        if not ((df2.Mins.idxmin() in name_arr1) or (df2.Mins.idxmin() in name_arr2)):#This should prevent us from adding [i,j], then [j,i]\n",
    "            name_arr1[i] = df2.Mins.idxmin()\n",
    "            name_arr2[i] = df2.Names[df2.Mins.idxmin()]\n",
    "            i = i + 1\n",
    "        df2.drop(df2.Mins.idxmin(), inplace=True)\n",
    "        \n",
    "        \n",
    "    #Part 3\n",
    "    for i in range(3):\n",
    "        print(\"Closest #\" + str(i) + \"   \" + str(name_arr1[i]) + \" \" + str(name_arr2[i])+ \", dist = \" + str(dist_arr[i]) + '\\n')\n",
    "        if th_ft:\n",
    "            temp_df = df.loc[ [name_arr1[i], name_arr2[i]] ,:]\n",
    "            print(temp_df, '\\n\\n')"
   ]
  },
  {
   "cell_type": "code",
   "execution_count": 19,
   "metadata": {},
   "outputs": [
    {
     "name": "stdout",
     "output_type": "stream",
     "text": [
      "Closest #0   A2 A6, dist = 0.14999999999999997\n",
      "\n",
      "   test1 test2  test3\n",
      "A2     C  good     60\n",
      "A6     C  good     45 \n",
      "\n",
      "\n",
      "Closest #1   A3 A7, dist = 0.33572475498704457\n",
      "\n",
      "   test1 test2  test3\n",
      "A3     B  fair     53\n",
      "A7     B  good     49 \n",
      "\n",
      "\n",
      "Closest #2   A5 A2, dist = 0.35427547348230465\n",
      "\n",
      "   test1      test2  test3\n",
      "A5     B  excellent     37\n",
      "A2     C       good     60 \n",
      "\n",
      "\n"
     ]
    }
   ],
   "source": [
    "find_3_min(distmat_zeroone, True)"
   ]
  },
  {
   "cell_type": "markdown",
   "metadata": {},
   "source": [
    "**14) [P] Now, output the three most distant (least similar) pairs of observations. Again, for each pair, output the\n",
    "two observations, and the distance between them.**"
   ]
  },
  {
   "cell_type": "code",
   "execution_count": 20,
   "metadata": {},
   "outputs": [],
   "source": [
    "def find_3_max(dist_df, th_ft=False):\n",
    "    #Part 1\n",
    "    dmz_temp = dist_df.copy()\n",
    "\n",
    "    name_arr1 = np.array([\"  \",\"  \",\"  \"])\n",
    "    name_arr2 = np.array([\"  \",\"  \",\"  \"])\n",
    "\n",
    "    dist_arr = np.array([-1.0, -1.0, -1.0]) #the .0 is necessary to make it float type, not int\n",
    "\n",
    "    #Looking back, there was probably some fancy way to do this with apply\n",
    "    a_max = [dmz_temp.iloc[:,0].max(), dmz_temp.iloc[:,1].max(), dmz_temp.iloc[:,2].max(), dmz_temp.iloc[:,3].max(),\\\n",
    "             dmz_temp.iloc[:,4].max(), dmz_temp.iloc[:,5].max(), dmz_temp.iloc[:,6].max(), dmz_temp.iloc[:,7].max()]\n",
    "    a_max_names = [dmz_temp.iloc[:,0].idxmax(), dmz_temp.iloc[:,1].idxmax(), dmz_temp.iloc[:,2].idxmax(), dmz_temp.iloc[:,3].idxmax(),\\\n",
    "                   dmz_temp.iloc[:,5].idxmax(), dmz_temp.iloc[:,6].idxmax(),dmz_temp.iloc[:,6].idxmax(),dmz_temp.iloc[:,7].idxmax()]\n",
    "\n",
    "    max_ser = pd.Series(data=a_max, index=df.index, name=\"Maxes\")\n",
    "    max_name_ser = pd.Series(data=a_max_names, index=df.index, name=\"Names\")\n",
    "\n",
    "    a_max_dict = {\"Names\":max_name_ser, \"Maxes\":max_ser}\n",
    "\n",
    "    df3 = pd.DataFrame(a_max_dict)\n",
    "    \n",
    "    #Part 2\n",
    "    i = 0\n",
    "    while name_arr1[2] == \"  \":\n",
    "        #The idea is that 3 times this will find the max, add it, add the names, then remove that entire row\n",
    "        dist_arr[i] = df3.Maxes.max()\n",
    "        if not ((df3.Maxes.idxmax() in name_arr1) or (df3.Maxes.idxmax() in name_arr2)):#This should prevent us from adding [i,j], then [j,i]\n",
    "            name_arr1[i] = df3.Maxes.idxmax()\n",
    "            name_arr2[i] = df3.Names[df3.Maxes.idxmax()]\n",
    "            i = i + 1\n",
    "        df3.drop(df3.Maxes.idxmax(), inplace=True)\n",
    "    \n",
    "    \n",
    "    #Part 3\n",
    "    for i in range(3):\n",
    "        print(\"Most Distant #\" + str(i) + \"   \" + str(name_arr1[i]) + \" \" + str(name_arr2[i])+ \", dist = \" + str(dist_arr[i]) + '\\n')\n",
    "        if th_ft:\n",
    "            temp_df = df.loc[ [name_arr1[i], name_arr2[i]] ,:]\n",
    "            print(temp_df, '\\n\\n')"
   ]
  },
  {
   "cell_type": "code",
   "execution_count": 21,
   "metadata": {},
   "outputs": [
    {
     "name": "stdout",
     "output_type": "stream",
     "text": [
      "Most Distant #0   A2 A4, dist = 1.2575151865661283\n",
      "\n",
      "   test1 test2  test3\n",
      "A2     C  good     60\n",
      "A4     A  poor     23 \n",
      "\n",
      "\n",
      "Most Distant #1   A6 A4, dist = 1.2218201358810732\n",
      "\n",
      "   test1 test2  test3\n",
      "A6     C  good     45\n",
      "A4     A  poor     23 \n",
      "\n",
      "\n",
      "Most Distant #2   A0 A1, dist = 1.2038872224774397\n",
      "\n",
      "   test1      test2  test3\n",
      "A0     A  excellent     25\n",
      "A1     C       fair     32 \n",
      "\n",
      "\n"
     ]
    }
   ],
   "source": [
    "find_3_max(distmat_zeroone, True)"
   ]
  },
  {
   "cell_type": "markdown",
   "metadata": {},
   "source": [
    "**15) [P] Create a new data frame, df_num_binarized, that stores the a binarized version for test1 and test2.\n",
    "For example, test1 has three distinct values, \"A\", \"B\", and \"C\". Therefore, you should end up with three\n",
    "new variables that replace the one categorical variable. Best practice is to name your variables accordingly,\n",
    "with the variable name prefix, and the value as a suffix, usually with an _ in between. Thus, your result for the\n",
    "first variable should look like:**\n",
    "\n",
    "**Do this for BOTH categorical variables test1, and test2. However, test3 is already numeric, and we\n",
    "scaled it between zero-one already. Thus just copy the result of test3 from df_num_zeroone.\n",
    "HINT - HOW? One approach is to use OneHotEncoder from sklearn.preprocessing. For this\n",
    "purpose, you can set the parameter sparse=False so that you can easily view the data, and set your\n",
    "dtype=int.\n",
    "Your result should look something like the following:**\n",
    "**Another approach is to use the pandas function get_dummies().**"
   ]
  },
  {
   "cell_type": "code",
   "execution_count": 22,
   "metadata": {},
   "outputs": [
    {
     "data": {
      "text/html": [
       "<div>\n",
       "<style scoped>\n",
       "    .dataframe tbody tr th:only-of-type {\n",
       "        vertical-align: middle;\n",
       "    }\n",
       "\n",
       "    .dataframe tbody tr th {\n",
       "        vertical-align: top;\n",
       "    }\n",
       "\n",
       "    .dataframe thead th {\n",
       "        text-align: right;\n",
       "    }\n",
       "</style>\n",
       "<table border=\"1\" class=\"dataframe\">\n",
       "  <thead>\n",
       "    <tr style=\"text-align: right;\">\n",
       "      <th></th>\n",
       "      <th>test1_A</th>\n",
       "      <th>test1_B</th>\n",
       "      <th>test1_C</th>\n",
       "      <th>test2_poor</th>\n",
       "      <th>test2_fair</th>\n",
       "      <th>test2_good</th>\n",
       "      <th>test2_excellent</th>\n",
       "      <th>test3</th>\n",
       "    </tr>\n",
       "  </thead>\n",
       "  <tbody>\n",
       "    <tr>\n",
       "      <th>A0</th>\n",
       "      <td>1</td>\n",
       "      <td>0</td>\n",
       "      <td>0</td>\n",
       "      <td>0</td>\n",
       "      <td>0</td>\n",
       "      <td>0</td>\n",
       "      <td>1</td>\n",
       "      <td>0.25</td>\n",
       "    </tr>\n",
       "    <tr>\n",
       "      <th>A1</th>\n",
       "      <td>0</td>\n",
       "      <td>0</td>\n",
       "      <td>1</td>\n",
       "      <td>0</td>\n",
       "      <td>1</td>\n",
       "      <td>0</td>\n",
       "      <td>0</td>\n",
       "      <td>0.32</td>\n",
       "    </tr>\n",
       "    <tr>\n",
       "      <th>A2</th>\n",
       "      <td>0</td>\n",
       "      <td>0</td>\n",
       "      <td>1</td>\n",
       "      <td>0</td>\n",
       "      <td>0</td>\n",
       "      <td>1</td>\n",
       "      <td>0</td>\n",
       "      <td>0.60</td>\n",
       "    </tr>\n",
       "    <tr>\n",
       "      <th>A3</th>\n",
       "      <td>0</td>\n",
       "      <td>1</td>\n",
       "      <td>0</td>\n",
       "      <td>0</td>\n",
       "      <td>1</td>\n",
       "      <td>0</td>\n",
       "      <td>0</td>\n",
       "      <td>0.53</td>\n",
       "    </tr>\n",
       "    <tr>\n",
       "      <th>A4</th>\n",
       "      <td>1</td>\n",
       "      <td>0</td>\n",
       "      <td>0</td>\n",
       "      <td>1</td>\n",
       "      <td>0</td>\n",
       "      <td>0</td>\n",
       "      <td>0</td>\n",
       "      <td>0.23</td>\n",
       "    </tr>\n",
       "    <tr>\n",
       "      <th>A5</th>\n",
       "      <td>0</td>\n",
       "      <td>1</td>\n",
       "      <td>0</td>\n",
       "      <td>0</td>\n",
       "      <td>0</td>\n",
       "      <td>0</td>\n",
       "      <td>1</td>\n",
       "      <td>0.37</td>\n",
       "    </tr>\n",
       "    <tr>\n",
       "      <th>A6</th>\n",
       "      <td>0</td>\n",
       "      <td>0</td>\n",
       "      <td>1</td>\n",
       "      <td>0</td>\n",
       "      <td>0</td>\n",
       "      <td>1</td>\n",
       "      <td>0</td>\n",
       "      <td>0.45</td>\n",
       "    </tr>\n",
       "    <tr>\n",
       "      <th>A7</th>\n",
       "      <td>0</td>\n",
       "      <td>1</td>\n",
       "      <td>0</td>\n",
       "      <td>0</td>\n",
       "      <td>0</td>\n",
       "      <td>1</td>\n",
       "      <td>0</td>\n",
       "      <td>0.49</td>\n",
       "    </tr>\n",
       "  </tbody>\n",
       "</table>\n",
       "</div>"
      ],
      "text/plain": [
       "    test1_A  test1_B  test1_C  test2_poor  test2_fair  test2_good  \\\n",
       "A0        1        0        0           0           0           0   \n",
       "A1        0        0        1           0           1           0   \n",
       "A2        0        0        1           0           0           1   \n",
       "A3        0        1        0           0           1           0   \n",
       "A4        1        0        0           1           0           0   \n",
       "A5        0        1        0           0           0           0   \n",
       "A6        0        0        1           0           0           1   \n",
       "A7        0        1        0           0           0           1   \n",
       "\n",
       "    test2_excellent  test3  \n",
       "A0                1   0.25  \n",
       "A1                0   0.32  \n",
       "A2                0   0.60  \n",
       "A3                0   0.53  \n",
       "A4                0   0.23  \n",
       "A5                1   0.37  \n",
       "A6                0   0.45  \n",
       "A7                0   0.49  "
      ]
     },
     "execution_count": 22,
     "metadata": {},
     "output_type": "execute_result"
    }
   ],
   "source": [
    "#Use pd.get_dummies, not OneHotEncoder\n",
    "\n",
    "pre = [\"test1\", \"test2\"]\n",
    "df_num_binarized = pd.get_dummies(data=df.loc[:,[\"test1\",\"test2\"]], prefix=pre)\n",
    "df_num_binarized[\"test3\"] = df_num_zeroone.test3\n",
    "\n",
    "df_num_binarized"
   ]
  },
  {
   "cell_type": "markdown",
   "metadata": {},
   "source": [
    "**16) [P] Now, compute distmat_binarized by computing the distance matrix for the df_binarized.**"
   ]
  },
  {
   "cell_type": "code",
   "execution_count": 23,
   "metadata": {},
   "outputs": [
    {
     "data": {
      "text/html": [
       "<div>\n",
       "<style scoped>\n",
       "    .dataframe tbody tr th:only-of-type {\n",
       "        vertical-align: middle;\n",
       "    }\n",
       "\n",
       "    .dataframe tbody tr th {\n",
       "        vertical-align: top;\n",
       "    }\n",
       "\n",
       "    .dataframe thead th {\n",
       "        text-align: right;\n",
       "    }\n",
       "</style>\n",
       "<table border=\"1\" class=\"dataframe\">\n",
       "  <thead>\n",
       "    <tr style=\"text-align: right;\">\n",
       "      <th></th>\n",
       "      <th>A0</th>\n",
       "      <th>A1</th>\n",
       "      <th>A2</th>\n",
       "      <th>A3</th>\n",
       "      <th>A4</th>\n",
       "      <th>A5</th>\n",
       "      <th>A6</th>\n",
       "      <th>A7</th>\n",
       "    </tr>\n",
       "  </thead>\n",
       "  <tbody>\n",
       "    <tr>\n",
       "      <th>A0</th>\n",
       "      <td>0.000000</td>\n",
       "      <td>2.001225</td>\n",
       "      <td>2.030394</td>\n",
       "      <td>2.019505</td>\n",
       "      <td>1.414355</td>\n",
       "      <td>1.419296</td>\n",
       "      <td>2.009975</td>\n",
       "      <td>2.014349</td>\n",
       "    </tr>\n",
       "    <tr>\n",
       "      <th>A1</th>\n",
       "      <td>2.001225</td>\n",
       "      <td>0.000000</td>\n",
       "      <td>1.441666</td>\n",
       "      <td>1.429720</td>\n",
       "      <td>2.002024</td>\n",
       "      <td>2.000625</td>\n",
       "      <td>1.420176</td>\n",
       "      <td>2.007212</td>\n",
       "    </tr>\n",
       "    <tr>\n",
       "      <th>A2</th>\n",
       "      <td>2.030394</td>\n",
       "      <td>1.441666</td>\n",
       "      <td>0.000000</td>\n",
       "      <td>2.001225</td>\n",
       "      <td>2.033937</td>\n",
       "      <td>2.013182</td>\n",
       "      <td>0.150000</td>\n",
       "      <td>1.418485</td>\n",
       "    </tr>\n",
       "    <tr>\n",
       "      <th>A3</th>\n",
       "      <td>2.019505</td>\n",
       "      <td>1.429720</td>\n",
       "      <td>2.001225</td>\n",
       "      <td>0.000000</td>\n",
       "      <td>2.022375</td>\n",
       "      <td>1.423236</td>\n",
       "      <td>2.001599</td>\n",
       "      <td>1.414779</td>\n",
       "    </tr>\n",
       "    <tr>\n",
       "      <th>A4</th>\n",
       "      <td>1.414355</td>\n",
       "      <td>2.002024</td>\n",
       "      <td>2.033937</td>\n",
       "      <td>2.022375</td>\n",
       "      <td>0.000000</td>\n",
       "      <td>2.004894</td>\n",
       "      <td>2.012064</td>\n",
       "      <td>2.016829</td>\n",
       "    </tr>\n",
       "    <tr>\n",
       "      <th>A5</th>\n",
       "      <td>1.419296</td>\n",
       "      <td>2.000625</td>\n",
       "      <td>2.013182</td>\n",
       "      <td>1.423236</td>\n",
       "      <td>2.004894</td>\n",
       "      <td>0.000000</td>\n",
       "      <td>2.001599</td>\n",
       "      <td>1.419296</td>\n",
       "    </tr>\n",
       "    <tr>\n",
       "      <th>A6</th>\n",
       "      <td>2.009975</td>\n",
       "      <td>1.420176</td>\n",
       "      <td>0.150000</td>\n",
       "      <td>2.001599</td>\n",
       "      <td>2.012064</td>\n",
       "      <td>2.001599</td>\n",
       "      <td>0.000000</td>\n",
       "      <td>1.414779</td>\n",
       "    </tr>\n",
       "    <tr>\n",
       "      <th>A7</th>\n",
       "      <td>2.014349</td>\n",
       "      <td>2.007212</td>\n",
       "      <td>1.418485</td>\n",
       "      <td>1.414779</td>\n",
       "      <td>2.016829</td>\n",
       "      <td>1.419296</td>\n",
       "      <td>1.414779</td>\n",
       "      <td>0.000000</td>\n",
       "    </tr>\n",
       "  </tbody>\n",
       "</table>\n",
       "</div>"
      ],
      "text/plain": [
       "          A0        A1        A2        A3        A4        A5        A6  \\\n",
       "A0  0.000000  2.001225  2.030394  2.019505  1.414355  1.419296  2.009975   \n",
       "A1  2.001225  0.000000  1.441666  1.429720  2.002024  2.000625  1.420176   \n",
       "A2  2.030394  1.441666  0.000000  2.001225  2.033937  2.013182  0.150000   \n",
       "A3  2.019505  1.429720  2.001225  0.000000  2.022375  1.423236  2.001599   \n",
       "A4  1.414355  2.002024  2.033937  2.022375  0.000000  2.004894  2.012064   \n",
       "A5  1.419296  2.000625  2.013182  1.423236  2.004894  0.000000  2.001599   \n",
       "A6  2.009975  1.420176  0.150000  2.001599  2.012064  2.001599  0.000000   \n",
       "A7  2.014349  2.007212  1.418485  1.414779  2.016829  1.419296  1.414779   \n",
       "\n",
       "          A7  \n",
       "A0  2.014349  \n",
       "A1  2.007212  \n",
       "A2  1.418485  \n",
       "A3  1.414779  \n",
       "A4  2.016829  \n",
       "A5  1.419296  \n",
       "A6  1.414779  \n",
       "A7  0.000000  "
      ]
     },
     "execution_count": 23,
     "metadata": {},
     "output_type": "execute_result"
    }
   ],
   "source": [
    "distmat_binarized = create_dist_mat(df_num_binarized)\n",
    "distmat_binarized"
   ]
  },
  {
   "cell_type": "markdown",
   "metadata": {},
   "source": [
    "**17) [P] Report the three closest pairs, and the three most distant pairs from distmat_binarized**"
   ]
  },
  {
   "cell_type": "code",
   "execution_count": 24,
   "metadata": {},
   "outputs": [
    {
     "name": "stdout",
     "output_type": "stream",
     "text": [
      "Closest #0   A2 A6, dist = 0.14999999999999997\n",
      "\n",
      "Closest #1   A0 A4, dist = 1.4143549766589716\n",
      "\n",
      "Closest #2   A3 A7, dist = 1.4147791347061915\n",
      "\n"
     ]
    }
   ],
   "source": [
    "#I went back and turned #13 and #14 into functions. Yay me.\n",
    "find_3_min(distmat_binarized)"
   ]
  },
  {
   "cell_type": "code",
   "execution_count": 25,
   "metadata": {},
   "outputs": [
    {
     "name": "stdout",
     "output_type": "stream",
     "text": [
      "Most Distant #0   A2 A4, dist = 2.033937068839643\n",
      "\n",
      "Most Distant #1   A0 A2, dist = 2.0303940504246953\n",
      "\n",
      "Most Distant #2   A3 A4, dist = 2.0223748416156684\n",
      "\n"
     ]
    }
   ],
   "source": [
    "find_3_max(distmat_binarized)"
   ]
  },
  {
   "cell_type": "markdown",
   "metadata": {},
   "source": [
    "**18) [M] Take a moment and compare and contrast your results. Which method do you think have the better\n",
    "results? Why? Which variable do you think was the distinguishing player in affecting the different outcomes\n",
    "between both of the above approaches to transforming your data to numeric results? Why? Summarize what\n",
    "would have been the best transformation to make for all three variables that would have given the most\n",
    "accurate results.**"
   ]
  },
  {
   "cell_type": "markdown",
   "metadata": {},
   "source": [
    "#### distmat_zeroone vs distmat_binarized:\n",
    "#### "
   ]
  },
  {
   "cell_type": "markdown",
   "metadata": {},
   "source": [
    "**19) [P] Load in your next dataset using the following:\n",
    "df_car_crashes = sns.load_dataset('car_crashes')**"
   ]
  },
  {
   "cell_type": "code",
   "execution_count": 26,
   "metadata": {},
   "outputs": [],
   "source": [
    "df_car_crashes = sns.load_dataset('car_crashes')"
   ]
  },
  {
   "cell_type": "markdown",
   "metadata": {},
   "source": [
    "**The dataset is directly downloaded from: https://github.com/mwaskom/seaborn-data/blob/master/car_crashes.csv**\n",
    "\n",
    "**Figure out what this dataset is all about. Sometimes, it's easy to figure out. Just Google! And, sometimes we\n",
    "find interesting publicly available data but we need to make the best guess regarding our variables. For now,\n",
    "don't worry too much about specifics. This is a very simplified, highly aggregated dataset from much more\n",
    "extensive statistics drawn from the Insurance Institute for Highway Safety -\n",
    "https://www.iihs.org/iihs/topics/t/general-statistics/fatalityfacts/state-by-state-overview (NOTE - this might\n",
    "make a great repository for some project?)**"
   ]
  },
  {
   "cell_type": "markdown",
   "metadata": {},
   "source": [
    "**20) [P] Preprocess your data. Minimally, you should move the state code to become the index for the dataframe,\n",
    "and then drop that column from your dataframe. Show the first five rows.**"
   ]
  },
  {
   "cell_type": "code",
   "execution_count": 27,
   "metadata": {},
   "outputs": [
    {
     "data": {
      "text/html": [
       "<div>\n",
       "<style scoped>\n",
       "    .dataframe tbody tr th:only-of-type {\n",
       "        vertical-align: middle;\n",
       "    }\n",
       "\n",
       "    .dataframe tbody tr th {\n",
       "        vertical-align: top;\n",
       "    }\n",
       "\n",
       "    .dataframe thead th {\n",
       "        text-align: right;\n",
       "    }\n",
       "</style>\n",
       "<table border=\"1\" class=\"dataframe\">\n",
       "  <thead>\n",
       "    <tr style=\"text-align: right;\">\n",
       "      <th></th>\n",
       "      <th>total</th>\n",
       "      <th>speeding</th>\n",
       "      <th>alcohol</th>\n",
       "      <th>not_distracted</th>\n",
       "      <th>no_previous</th>\n",
       "      <th>ins_premium</th>\n",
       "      <th>ins_losses</th>\n",
       "    </tr>\n",
       "    <tr>\n",
       "      <th>abbrev</th>\n",
       "      <th></th>\n",
       "      <th></th>\n",
       "      <th></th>\n",
       "      <th></th>\n",
       "      <th></th>\n",
       "      <th></th>\n",
       "      <th></th>\n",
       "    </tr>\n",
       "  </thead>\n",
       "  <tbody>\n",
       "    <tr>\n",
       "      <th>AL</th>\n",
       "      <td>18.8</td>\n",
       "      <td>7.332</td>\n",
       "      <td>5.640</td>\n",
       "      <td>18.048</td>\n",
       "      <td>15.040</td>\n",
       "      <td>784.55</td>\n",
       "      <td>145.08</td>\n",
       "    </tr>\n",
       "    <tr>\n",
       "      <th>AK</th>\n",
       "      <td>18.1</td>\n",
       "      <td>7.421</td>\n",
       "      <td>4.525</td>\n",
       "      <td>16.290</td>\n",
       "      <td>17.014</td>\n",
       "      <td>1053.48</td>\n",
       "      <td>133.93</td>\n",
       "    </tr>\n",
       "    <tr>\n",
       "      <th>AZ</th>\n",
       "      <td>18.6</td>\n",
       "      <td>6.510</td>\n",
       "      <td>5.208</td>\n",
       "      <td>15.624</td>\n",
       "      <td>17.856</td>\n",
       "      <td>899.47</td>\n",
       "      <td>110.35</td>\n",
       "    </tr>\n",
       "    <tr>\n",
       "      <th>AR</th>\n",
       "      <td>22.4</td>\n",
       "      <td>4.032</td>\n",
       "      <td>5.824</td>\n",
       "      <td>21.056</td>\n",
       "      <td>21.280</td>\n",
       "      <td>827.34</td>\n",
       "      <td>142.39</td>\n",
       "    </tr>\n",
       "    <tr>\n",
       "      <th>CA</th>\n",
       "      <td>12.0</td>\n",
       "      <td>4.200</td>\n",
       "      <td>3.360</td>\n",
       "      <td>10.920</td>\n",
       "      <td>10.680</td>\n",
       "      <td>878.41</td>\n",
       "      <td>165.63</td>\n",
       "    </tr>\n",
       "  </tbody>\n",
       "</table>\n",
       "</div>"
      ],
      "text/plain": [
       "        total  speeding  alcohol  not_distracted  no_previous  ins_premium  \\\n",
       "abbrev                                                                       \n",
       "AL       18.8     7.332    5.640          18.048       15.040       784.55   \n",
       "AK       18.1     7.421    4.525          16.290       17.014      1053.48   \n",
       "AZ       18.6     6.510    5.208          15.624       17.856       899.47   \n",
       "AR       22.4     4.032    5.824          21.056       21.280       827.34   \n",
       "CA       12.0     4.200    3.360          10.920       10.680       878.41   \n",
       "\n",
       "        ins_losses  \n",
       "abbrev              \n",
       "AL          145.08  \n",
       "AK          133.93  \n",
       "AZ          110.35  \n",
       "AR          142.39  \n",
       "CA          165.63  "
      ]
     },
     "execution_count": 27,
     "metadata": {},
     "output_type": "execute_result"
    }
   ],
   "source": [
    "df_car_crashes.index = df_car_crashes.abbrev\n",
    "df_car_crashes = df_car_crashes.iloc[:,range(7)]\n",
    "\n",
    "df_car_crashes.head()"
   ]
  },
  {
   "cell_type": "markdown",
   "metadata": {},
   "source": [
    "**21) [P] Create a new dataframe called df_car_crashes_zscore that represents the zscore transformation\n",
    "for df_car_crashes. Again, show the first five rows.**"
   ]
  },
  {
   "cell_type": "code",
   "execution_count": 28,
   "metadata": {},
   "outputs": [
    {
     "data": {
      "text/html": [
       "<div>\n",
       "<style scoped>\n",
       "    .dataframe tbody tr th:only-of-type {\n",
       "        vertical-align: middle;\n",
       "    }\n",
       "\n",
       "    .dataframe tbody tr th {\n",
       "        vertical-align: top;\n",
       "    }\n",
       "\n",
       "    .dataframe thead th {\n",
       "        text-align: right;\n",
       "    }\n",
       "</style>\n",
       "<table border=\"1\" class=\"dataframe\">\n",
       "  <thead>\n",
       "    <tr style=\"text-align: right;\">\n",
       "      <th></th>\n",
       "      <th>total</th>\n",
       "      <th>speeding</th>\n",
       "      <th>alcohol</th>\n",
       "      <th>not_distracted</th>\n",
       "      <th>no_previous</th>\n",
       "      <th>ins_premium</th>\n",
       "      <th>ins_losses</th>\n",
       "    </tr>\n",
       "    <tr>\n",
       "      <th>abbrev</th>\n",
       "      <th></th>\n",
       "      <th></th>\n",
       "      <th></th>\n",
       "      <th></th>\n",
       "      <th></th>\n",
       "      <th></th>\n",
       "      <th></th>\n",
       "    </tr>\n",
       "  </thead>\n",
       "  <tbody>\n",
       "    <tr>\n",
       "      <th>AL</th>\n",
       "      <td>0.737446</td>\n",
       "      <td>1.168148</td>\n",
       "      <td>0.439938</td>\n",
       "      <td>1.002301</td>\n",
       "      <td>0.277692</td>\n",
       "      <td>-0.580083</td>\n",
       "      <td>0.430514</td>\n",
       "    </tr>\n",
       "    <tr>\n",
       "      <th>AK</th>\n",
       "      <td>0.565936</td>\n",
       "      <td>1.212695</td>\n",
       "      <td>-0.211311</td>\n",
       "      <td>0.608532</td>\n",
       "      <td>0.807258</td>\n",
       "      <td>0.943258</td>\n",
       "      <td>-0.022900</td>\n",
       "    </tr>\n",
       "    <tr>\n",
       "      <th>AZ</th>\n",
       "      <td>0.688443</td>\n",
       "      <td>0.756709</td>\n",
       "      <td>0.187615</td>\n",
       "      <td>0.459357</td>\n",
       "      <td>1.033141</td>\n",
       "      <td>0.070876</td>\n",
       "      <td>-0.981778</td>\n",
       "    </tr>\n",
       "    <tr>\n",
       "      <th>AR</th>\n",
       "      <td>1.619498</td>\n",
       "      <td>-0.483614</td>\n",
       "      <td>0.547408</td>\n",
       "      <td>1.676052</td>\n",
       "      <td>1.951700</td>\n",
       "      <td>-0.337701</td>\n",
       "      <td>0.321125</td>\n",
       "    </tr>\n",
       "    <tr>\n",
       "      <th>CA</th>\n",
       "      <td>-0.928653</td>\n",
       "      <td>-0.399524</td>\n",
       "      <td>-0.891763</td>\n",
       "      <td>-0.594276</td>\n",
       "      <td>-0.891968</td>\n",
       "      <td>-0.048418</td>\n",
       "      <td>1.266178</td>\n",
       "    </tr>\n",
       "  </tbody>\n",
       "</table>\n",
       "</div>"
      ],
      "text/plain": [
       "           total  speeding   alcohol  not_distracted  no_previous  \\\n",
       "abbrev                                                              \n",
       "AL      0.737446  1.168148  0.439938        1.002301     0.277692   \n",
       "AK      0.565936  1.212695 -0.211311        0.608532     0.807258   \n",
       "AZ      0.688443  0.756709  0.187615        0.459357     1.033141   \n",
       "AR      1.619498 -0.483614  0.547408        1.676052     1.951700   \n",
       "CA     -0.928653 -0.399524 -0.891763       -0.594276    -0.891968   \n",
       "\n",
       "        ins_premium  ins_losses  \n",
       "abbrev                           \n",
       "AL        -0.580083    0.430514  \n",
       "AK         0.943258   -0.022900  \n",
       "AZ         0.070876   -0.981778  \n",
       "AR        -0.337701    0.321125  \n",
       "CA        -0.048418    1.266178  "
      ]
     },
     "execution_count": 28,
     "metadata": {},
     "output_type": "execute_result"
    }
   ],
   "source": [
    "df_car_crashes_zscore = df_car_crashes.apply(zscore)\n",
    "\n",
    "df_car_crashes_zscore.head()"
   ]
  },
  {
   "cell_type": "markdown",
   "metadata": {},
   "source": [
    "**22) [P] Create a distance matrix called distmat_cars based on the df_car_crashes_zscore. Display the\n",
    "entire distance matrix.**"
   ]
  },
  {
   "cell_type": "code",
   "execution_count": 29,
   "metadata": {},
   "outputs": [
    {
     "data": {
      "text/html": [
       "<div>\n",
       "<style scoped>\n",
       "    .dataframe tbody tr th:only-of-type {\n",
       "        vertical-align: middle;\n",
       "    }\n",
       "\n",
       "    .dataframe tbody tr th {\n",
       "        vertical-align: top;\n",
       "    }\n",
       "\n",
       "    .dataframe thead th {\n",
       "        text-align: right;\n",
       "    }\n",
       "</style>\n",
       "<table border=\"1\" class=\"dataframe\">\n",
       "  <thead>\n",
       "    <tr style=\"text-align: right;\">\n",
       "      <th>abbrev</th>\n",
       "      <th>AL</th>\n",
       "      <th>AK</th>\n",
       "      <th>AZ</th>\n",
       "      <th>AR</th>\n",
       "      <th>CA</th>\n",
       "      <th>CO</th>\n",
       "      <th>CT</th>\n",
       "      <th>DE</th>\n",
       "      <th>DC</th>\n",
       "      <th>FL</th>\n",
       "      <th>...</th>\n",
       "      <th>SD</th>\n",
       "      <th>TN</th>\n",
       "      <th>TX</th>\n",
       "      <th>UT</th>\n",
       "      <th>VT</th>\n",
       "      <th>VA</th>\n",
       "      <th>WA</th>\n",
       "      <th>WV</th>\n",
       "      <th>WI</th>\n",
       "      <th>WY</th>\n",
       "    </tr>\n",
       "    <tr>\n",
       "      <th>abbrev</th>\n",
       "      <th></th>\n",
       "      <th></th>\n",
       "      <th></th>\n",
       "      <th></th>\n",
       "      <th></th>\n",
       "      <th></th>\n",
       "      <th></th>\n",
       "      <th></th>\n",
       "      <th></th>\n",
       "      <th></th>\n",
       "      <th></th>\n",
       "      <th></th>\n",
       "      <th></th>\n",
       "      <th></th>\n",
       "      <th></th>\n",
       "      <th></th>\n",
       "      <th></th>\n",
       "      <th></th>\n",
       "      <th></th>\n",
       "      <th></th>\n",
       "      <th></th>\n",
       "    </tr>\n",
       "  </thead>\n",
       "  <tbody>\n",
       "    <tr>\n",
       "      <th>AL</th>\n",
       "      <td>0.000000</td>\n",
       "      <td>1.848559</td>\n",
       "      <td>1.875942</td>\n",
       "      <td>2.616265</td>\n",
       "      <td>3.450372</td>\n",
       "      <td>2.687193</td>\n",
       "      <td>4.022977</td>\n",
       "      <td>2.426745</td>\n",
       "      <td>6.627070</td>\n",
       "      <td>2.863217</td>\n",
       "      <td>...</td>\n",
       "      <td>2.272782</td>\n",
       "      <td>1.760396</td>\n",
       "      <td>1.768022</td>\n",
       "      <td>4.073530</td>\n",
       "      <td>2.984473</td>\n",
       "      <td>3.691474</td>\n",
       "      <td>4.099448</td>\n",
       "      <td>2.658679</td>\n",
       "      <td>3.882304</td>\n",
       "      <td>1.345666</td>\n",
       "    </tr>\n",
       "    <tr>\n",
       "      <th>AK</th>\n",
       "      <td>1.848559</td>\n",
       "      <td>0.000000</td>\n",
       "      <td>1.461454</td>\n",
       "      <td>2.961700</td>\n",
       "      <td>3.503615</td>\n",
       "      <td>2.674699</td>\n",
       "      <td>3.719860</td>\n",
       "      <td>1.305465</td>\n",
       "      <td>5.923340</td>\n",
       "      <td>2.014017</td>\n",
       "      <td>...</td>\n",
       "      <td>3.030764</td>\n",
       "      <td>2.612893</td>\n",
       "      <td>1.983290</td>\n",
       "      <td>3.820444</td>\n",
       "      <td>3.230915</td>\n",
       "      <td>3.939532</td>\n",
       "      <td>3.874399</td>\n",
       "      <td>2.759540</td>\n",
       "      <td>4.080096</td>\n",
       "      <td>1.794331</td>\n",
       "    </tr>\n",
       "    <tr>\n",
       "      <th>AZ</th>\n",
       "      <td>1.875942</td>\n",
       "      <td>1.461454</td>\n",
       "      <td>0.000000</td>\n",
       "      <td>2.592934</td>\n",
       "      <td>3.873068</td>\n",
       "      <td>2.690949</td>\n",
       "      <td>4.341409</td>\n",
       "      <td>2.322674</td>\n",
       "      <td>6.312294</td>\n",
       "      <td>2.471886</td>\n",
       "      <td>...</td>\n",
       "      <td>1.805917</td>\n",
       "      <td>2.413952</td>\n",
       "      <td>2.496229</td>\n",
       "      <td>3.638752</td>\n",
       "      <td>2.564600</td>\n",
       "      <td>3.910659</td>\n",
       "      <td>3.716797</td>\n",
       "      <td>3.094545</td>\n",
       "      <td>3.452450</td>\n",
       "      <td>1.165002</td>\n",
       "    </tr>\n",
       "    <tr>\n",
       "      <th>AR</th>\n",
       "      <td>2.616265</td>\n",
       "      <td>2.961700</td>\n",
       "      <td>2.592934</td>\n",
       "      <td>0.000000</td>\n",
       "      <td>4.773783</td>\n",
       "      <td>4.082043</td>\n",
       "      <td>5.511677</td>\n",
       "      <td>3.375632</td>\n",
       "      <td>7.648001</td>\n",
       "      <td>2.722795</td>\n",
       "      <td>...</td>\n",
       "      <td>2.756086</td>\n",
       "      <td>2.090210</td>\n",
       "      <td>2.858256</td>\n",
       "      <td>5.375719</td>\n",
       "      <td>4.012612</td>\n",
       "      <td>4.577666</td>\n",
       "      <td>5.500790</td>\n",
       "      <td>2.401244</td>\n",
       "      <td>5.215076</td>\n",
       "      <td>3.105415</td>\n",
       "    </tr>\n",
       "    <tr>\n",
       "      <th>CA</th>\n",
       "      <td>3.450372</td>\n",
       "      <td>3.503615</td>\n",
       "      <td>3.873068</td>\n",
       "      <td>4.773783</td>\n",
       "      <td>0.000000</td>\n",
       "      <td>1.382473</td>\n",
       "      <td>1.360401</td>\n",
       "      <td>2.801377</td>\n",
       "      <td>3.725440</td>\n",
       "      <td>3.294284</td>\n",
       "      <td>...</td>\n",
       "      <td>4.729624</td>\n",
       "      <td>2.984643</td>\n",
       "      <td>4.199246</td>\n",
       "      <td>2.525129</td>\n",
       "      <td>2.637784</td>\n",
       "      <td>1.211871</td>\n",
       "      <td>2.322342</td>\n",
       "      <td>5.589191</td>\n",
       "      <td>3.094339</td>\n",
       "      <td>3.392714</td>\n",
       "    </tr>\n",
       "    <tr>\n",
       "      <th>CO</th>\n",
       "      <td>2.687193</td>\n",
       "      <td>2.674699</td>\n",
       "      <td>2.690949</td>\n",
       "      <td>4.082043</td>\n",
       "      <td>1.382473</td>\n",
       "      <td>0.000000</td>\n",
       "      <td>2.171261</td>\n",
       "      <td>2.348937</td>\n",
       "      <td>4.294426</td>\n",
       "      <td>2.884757</td>\n",
       "      <td>...</td>\n",
       "      <td>3.599348</td>\n",
       "      <td>2.449727</td>\n",
       "      <td>3.623915</td>\n",
       "      <td>1.893114</td>\n",
       "      <td>1.579660</td>\n",
       "      <td>1.580230</td>\n",
       "      <td>1.824522</td>\n",
       "      <td>4.943274</td>\n",
       "      <td>2.114426</td>\n",
       "      <td>2.217199</td>\n",
       "    </tr>\n",
       "    <tr>\n",
       "      <th>CT</th>\n",
       "      <td>4.022977</td>\n",
       "      <td>3.719860</td>\n",
       "      <td>4.341409</td>\n",
       "      <td>5.511677</td>\n",
       "      <td>1.360401</td>\n",
       "      <td>2.171261</td>\n",
       "      <td>0.000000</td>\n",
       "      <td>2.792618</td>\n",
       "      <td>3.100788</td>\n",
       "      <td>3.490418</td>\n",
       "      <td>...</td>\n",
       "      <td>5.401468</td>\n",
       "      <td>3.816674</td>\n",
       "      <td>4.346224</td>\n",
       "      <td>3.070455</td>\n",
       "      <td>3.461110</td>\n",
       "      <td>2.371614</td>\n",
       "      <td>2.500124</td>\n",
       "      <td>5.938001</td>\n",
       "      <td>3.628320</td>\n",
       "      <td>3.899592</td>\n",
       "    </tr>\n",
       "    <tr>\n",
       "      <th>DE</th>\n",
       "      <td>2.426745</td>\n",
       "      <td>1.305465</td>\n",
       "      <td>2.322674</td>\n",
       "      <td>3.375632</td>\n",
       "      <td>2.801377</td>\n",
       "      <td>2.348937</td>\n",
       "      <td>2.792618</td>\n",
       "      <td>0.000000</td>\n",
       "      <td>5.106619</td>\n",
       "      <td>1.442845</td>\n",
       "      <td>...</td>\n",
       "      <td>3.827587</td>\n",
       "      <td>2.556844</td>\n",
       "      <td>2.171300</td>\n",
       "      <td>3.771261</td>\n",
       "      <td>3.324290</td>\n",
       "      <td>3.389056</td>\n",
       "      <td>3.571201</td>\n",
       "      <td>3.438088</td>\n",
       "      <td>4.037819</td>\n",
       "      <td>2.427114</td>\n",
       "    </tr>\n",
       "    <tr>\n",
       "      <th>DC</th>\n",
       "      <td>6.627070</td>\n",
       "      <td>5.923340</td>\n",
       "      <td>6.312294</td>\n",
       "      <td>7.648001</td>\n",
       "      <td>3.725440</td>\n",
       "      <td>4.294426</td>\n",
       "      <td>3.100788</td>\n",
       "      <td>5.106619</td>\n",
       "      <td>0.000000</td>\n",
       "      <td>5.343223</td>\n",
       "      <td>...</td>\n",
       "      <td>7.356393</td>\n",
       "      <td>6.230942</td>\n",
       "      <td>7.019399</td>\n",
       "      <td>3.805078</td>\n",
       "      <td>4.898792</td>\n",
       "      <td>3.999740</td>\n",
       "      <td>3.303523</td>\n",
       "      <td>8.418524</td>\n",
       "      <td>4.939871</td>\n",
       "      <td>6.196665</td>\n",
       "    </tr>\n",
       "    <tr>\n",
       "      <th>FL</th>\n",
       "      <td>2.863217</td>\n",
       "      <td>2.014017</td>\n",
       "      <td>2.471886</td>\n",
       "      <td>2.722795</td>\n",
       "      <td>3.294284</td>\n",
       "      <td>2.884757</td>\n",
       "      <td>3.490418</td>\n",
       "      <td>1.442845</td>\n",
       "      <td>5.343223</td>\n",
       "      <td>0.000000</td>\n",
       "      <td>...</td>\n",
       "      <td>3.696806</td>\n",
       "      <td>2.343908</td>\n",
       "      <td>2.622673</td>\n",
       "      <td>4.179509</td>\n",
       "      <td>3.396841</td>\n",
       "      <td>3.459389</td>\n",
       "      <td>3.962686</td>\n",
       "      <td>3.439624</td>\n",
       "      <td>4.436470</td>\n",
       "      <td>2.962916</td>\n",
       "    </tr>\n",
       "    <tr>\n",
       "      <th>GA</th>\n",
       "      <td>2.740439</td>\n",
       "      <td>2.609142</td>\n",
       "      <td>2.619278</td>\n",
       "      <td>3.132498</td>\n",
       "      <td>1.994627</td>\n",
       "      <td>1.592712</td>\n",
       "      <td>2.812662</td>\n",
       "      <td>2.197382</td>\n",
       "      <td>4.611878</td>\n",
       "      <td>1.878250</td>\n",
       "      <td>...</td>\n",
       "      <td>3.457118</td>\n",
       "      <td>1.848972</td>\n",
       "      <td>3.484814</td>\n",
       "      <td>2.800175</td>\n",
       "      <td>1.991735</td>\n",
       "      <td>1.741679</td>\n",
       "      <td>2.777024</td>\n",
       "      <td>4.447891</td>\n",
       "      <td>3.237933</td>\n",
       "      <td>2.680223</td>\n",
       "    </tr>\n",
       "    <tr>\n",
       "      <th>HI</th>\n",
       "      <td>1.967575</td>\n",
       "      <td>2.309612</td>\n",
       "      <td>2.090333</td>\n",
       "      <td>3.887437</td>\n",
       "      <td>4.367894</td>\n",
       "      <td>3.364956</td>\n",
       "      <td>4.523348</td>\n",
       "      <td>2.949539</td>\n",
       "      <td>6.947997</td>\n",
       "      <td>3.693017</td>\n",
       "      <td>...</td>\n",
       "      <td>2.599939</td>\n",
       "      <td>3.261208</td>\n",
       "      <td>2.117453</td>\n",
       "      <td>4.479970</td>\n",
       "      <td>3.571822</td>\n",
       "      <td>4.728124</td>\n",
       "      <td>4.265045</td>\n",
       "      <td>3.336821</td>\n",
       "      <td>3.832770</td>\n",
       "      <td>1.485756</td>\n",
       "    </tr>\n",
       "    <tr>\n",
       "      <th>ID</th>\n",
       "      <td>3.227303</td>\n",
       "      <td>3.462721</td>\n",
       "      <td>2.330031</td>\n",
       "      <td>4.160356</td>\n",
       "      <td>4.023485</td>\n",
       "      <td>2.745180</td>\n",
       "      <td>4.726892</td>\n",
       "      <td>4.006878</td>\n",
       "      <td>6.093580</td>\n",
       "      <td>4.130941</td>\n",
       "      <td>...</td>\n",
       "      <td>2.181769</td>\n",
       "      <td>3.440391</td>\n",
       "      <td>4.456028</td>\n",
       "      <td>2.685512</td>\n",
       "      <td>1.551591</td>\n",
       "      <td>3.638644</td>\n",
       "      <td>2.946004</td>\n",
       "      <td>5.210840</td>\n",
       "      <td>2.220161</td>\n",
       "      <td>2.207048</td>\n",
       "    </tr>\n",
       "    <tr>\n",
       "      <th>IL</th>\n",
       "      <td>2.648799</td>\n",
       "      <td>2.872699</td>\n",
       "      <td>2.779181</td>\n",
       "      <td>4.036791</td>\n",
       "      <td>1.416124</td>\n",
       "      <td>0.575336</td>\n",
       "      <td>2.256232</td>\n",
       "      <td>2.540638</td>\n",
       "      <td>4.370549</td>\n",
       "      <td>2.929698</td>\n",
       "      <td>...</td>\n",
       "      <td>3.451012</td>\n",
       "      <td>2.344501</td>\n",
       "      <td>3.624767</td>\n",
       "      <td>2.045405</td>\n",
       "      <td>1.378476</td>\n",
       "      <td>1.422768</td>\n",
       "      <td>1.823447</td>\n",
       "      <td>4.980795</td>\n",
       "      <td>2.162329</td>\n",
       "      <td>2.263062</td>\n",
       "    </tr>\n",
       "    <tr>\n",
       "      <th>IN</th>\n",
       "      <td>2.936806</td>\n",
       "      <td>3.210155</td>\n",
       "      <td>2.440773</td>\n",
       "      <td>3.699517</td>\n",
       "      <td>2.832514</td>\n",
       "      <td>1.789320</td>\n",
       "      <td>3.702964</td>\n",
       "      <td>3.339940</td>\n",
       "      <td>5.138253</td>\n",
       "      <td>3.256948</td>\n",
       "      <td>...</td>\n",
       "      <td>2.607172</td>\n",
       "      <td>2.552997</td>\n",
       "      <td>4.143568</td>\n",
       "      <td>2.150286</td>\n",
       "      <td>0.431526</td>\n",
       "      <td>2.248464</td>\n",
       "      <td>2.271576</td>\n",
       "      <td>5.075878</td>\n",
       "      <td>2.111961</td>\n",
       "      <td>2.300292</td>\n",
       "    </tr>\n",
       "    <tr>\n",
       "      <th>IA</th>\n",
       "      <td>3.114833</td>\n",
       "      <td>3.587012</td>\n",
       "      <td>2.842219</td>\n",
       "      <td>3.547224</td>\n",
       "      <td>3.017301</td>\n",
       "      <td>2.214125</td>\n",
       "      <td>4.043616</td>\n",
       "      <td>3.709853</td>\n",
       "      <td>5.452221</td>\n",
       "      <td>3.431343</td>\n",
       "      <td>...</td>\n",
       "      <td>2.760459</td>\n",
       "      <td>2.449758</td>\n",
       "      <td>4.408638</td>\n",
       "      <td>2.593952</td>\n",
       "      <td>1.109788</td>\n",
       "      <td>2.229273</td>\n",
       "      <td>2.815298</td>\n",
       "      <td>5.169456</td>\n",
       "      <td>2.639014</td>\n",
       "      <td>2.753406</td>\n",
       "    </tr>\n",
       "    <tr>\n",
       "      <th>KS</th>\n",
       "      <td>1.858608</td>\n",
       "      <td>2.173195</td>\n",
       "      <td>1.774256</td>\n",
       "      <td>2.804821</td>\n",
       "      <td>2.488592</td>\n",
       "      <td>1.447705</td>\n",
       "      <td>3.354811</td>\n",
       "      <td>2.326150</td>\n",
       "      <td>5.470177</td>\n",
       "      <td>2.440633</td>\n",
       "      <td>...</td>\n",
       "      <td>2.510956</td>\n",
       "      <td>1.426519</td>\n",
       "      <td>3.018528</td>\n",
       "      <td>2.764565</td>\n",
       "      <td>1.635965</td>\n",
       "      <td>2.319119</td>\n",
       "      <td>2.900155</td>\n",
       "      <td>3.936542</td>\n",
       "      <td>2.642380</td>\n",
       "      <td>1.552764</td>\n",
       "    </tr>\n",
       "    <tr>\n",
       "      <th>KY</th>\n",
       "      <td>1.951130</td>\n",
       "      <td>2.154966</td>\n",
       "      <td>1.855779</td>\n",
       "      <td>1.793132</td>\n",
       "      <td>3.376552</td>\n",
       "      <td>2.635520</td>\n",
       "      <td>4.080040</td>\n",
       "      <td>2.379312</td>\n",
       "      <td>6.165330</td>\n",
       "      <td>1.882937</td>\n",
       "      <td>...</td>\n",
       "      <td>2.495190</td>\n",
       "      <td>1.163669</td>\n",
       "      <td>2.642535</td>\n",
       "      <td>3.921383</td>\n",
       "      <td>2.720046</td>\n",
       "      <td>3.201370</td>\n",
       "      <td>3.962989</td>\n",
       "      <td>3.125623</td>\n",
       "      <td>3.815375</td>\n",
       "      <td>2.165643</td>\n",
       "    </tr>\n",
       "    <tr>\n",
       "      <th>LA</th>\n",
       "      <td>3.864433</td>\n",
       "      <td>3.260930</td>\n",
       "      <td>4.243512</td>\n",
       "      <td>4.014378</td>\n",
       "      <td>4.931876</td>\n",
       "      <td>4.790391</td>\n",
       "      <td>4.801947</td>\n",
       "      <td>2.755112</td>\n",
       "      <td>7.275689</td>\n",
       "      <td>3.124341</td>\n",
       "      <td>...</td>\n",
       "      <td>5.476430</td>\n",
       "      <td>3.904461</td>\n",
       "      <td>2.495853</td>\n",
       "      <td>6.434672</td>\n",
       "      <td>5.818144</td>\n",
       "      <td>5.553106</td>\n",
       "      <td>6.195012</td>\n",
       "      <td>3.135338</td>\n",
       "      <td>6.342526</td>\n",
       "      <td>4.357395</td>\n",
       "    </tr>\n",
       "    <tr>\n",
       "      <th>ME</th>\n",
       "      <td>2.803998</td>\n",
       "      <td>3.213492</td>\n",
       "      <td>2.324265</td>\n",
       "      <td>4.160980</td>\n",
       "      <td>3.400465</td>\n",
       "      <td>2.191438</td>\n",
       "      <td>4.083418</td>\n",
       "      <td>3.642062</td>\n",
       "      <td>5.661144</td>\n",
       "      <td>3.886650</td>\n",
       "      <td>...</td>\n",
       "      <td>2.282470</td>\n",
       "      <td>3.080945</td>\n",
       "      <td>4.117779</td>\n",
       "      <td>2.305619</td>\n",
       "      <td>1.128301</td>\n",
       "      <td>3.111323</td>\n",
       "      <td>2.438338</td>\n",
       "      <td>5.077069</td>\n",
       "      <td>1.876843</td>\n",
       "      <td>1.896015</td>\n",
       "    </tr>\n",
       "    <tr>\n",
       "      <th>MD</th>\n",
       "      <td>4.050022</td>\n",
       "      <td>3.809894</td>\n",
       "      <td>4.515303</td>\n",
       "      <td>5.093197</td>\n",
       "      <td>1.647736</td>\n",
       "      <td>2.550081</td>\n",
       "      <td>1.521528</td>\n",
       "      <td>2.716766</td>\n",
       "      <td>4.030791</td>\n",
       "      <td>3.302111</td>\n",
       "      <td>...</td>\n",
       "      <td>5.648360</td>\n",
       "      <td>3.474840</td>\n",
       "      <td>4.164078</td>\n",
       "      <td>3.915989</td>\n",
       "      <td>3.993253</td>\n",
       "      <td>2.514904</td>\n",
       "      <td>3.571909</td>\n",
       "      <td>5.628262</td>\n",
       "      <td>4.223813</td>\n",
       "      <td>4.141530</td>\n",
       "    </tr>\n",
       "    <tr>\n",
       "      <th>MA</th>\n",
       "      <td>5.453420</td>\n",
       "      <td>5.160132</td>\n",
       "      <td>5.288766</td>\n",
       "      <td>6.535539</td>\n",
       "      <td>2.506906</td>\n",
       "      <td>3.019168</td>\n",
       "      <td>2.347552</td>\n",
       "      <td>4.425745</td>\n",
       "      <td>1.789043</td>\n",
       "      <td>4.599359</td>\n",
       "      <td>...</td>\n",
       "      <td>6.061665</td>\n",
       "      <td>4.915531</td>\n",
       "      <td>6.086706</td>\n",
       "      <td>2.707846</td>\n",
       "      <td>3.469482</td>\n",
       "      <td>2.473351</td>\n",
       "      <td>2.036127</td>\n",
       "      <td>7.538069</td>\n",
       "      <td>3.510709</td>\n",
       "      <td>5.017776</td>\n",
       "    </tr>\n",
       "    <tr>\n",
       "      <th>MI</th>\n",
       "      <td>3.471272</td>\n",
       "      <td>2.994360</td>\n",
       "      <td>3.509289</td>\n",
       "      <td>4.352050</td>\n",
       "      <td>1.698430</td>\n",
       "      <td>2.010389</td>\n",
       "      <td>1.670508</td>\n",
       "      <td>2.110640</td>\n",
       "      <td>3.504421</td>\n",
       "      <td>2.157263</td>\n",
       "      <td>...</td>\n",
       "      <td>4.563139</td>\n",
       "      <td>2.958103</td>\n",
       "      <td>3.794287</td>\n",
       "      <td>3.018837</td>\n",
       "      <td>2.907516</td>\n",
       "      <td>2.116173</td>\n",
       "      <td>2.590439</td>\n",
       "      <td>5.085073</td>\n",
       "      <td>3.699237</td>\n",
       "      <td>3.446214</td>\n",
       "    </tr>\n",
       "    <tr>\n",
       "      <th>MN</th>\n",
       "      <td>4.735183</td>\n",
       "      <td>4.795405</td>\n",
       "      <td>4.670325</td>\n",
       "      <td>5.819223</td>\n",
       "      <td>2.042084</td>\n",
       "      <td>2.280417</td>\n",
       "      <td>2.658911</td>\n",
       "      <td>4.295743</td>\n",
       "      <td>3.168166</td>\n",
       "      <td>4.460124</td>\n",
       "      <td>...</td>\n",
       "      <td>5.187956</td>\n",
       "      <td>4.140718</td>\n",
       "      <td>5.710425</td>\n",
       "      <td>1.939448</td>\n",
       "      <td>2.442816</td>\n",
       "      <td>1.514164</td>\n",
       "      <td>1.649265</td>\n",
       "      <td>7.041151</td>\n",
       "      <td>2.601384</td>\n",
       "      <td>4.286404</td>\n",
       "    </tr>\n",
       "    <tr>\n",
       "      <th>MS</th>\n",
       "      <td>4.470256</td>\n",
       "      <td>4.270578</td>\n",
       "      <td>4.110102</td>\n",
       "      <td>4.692240</td>\n",
       "      <td>3.437689</td>\n",
       "      <td>3.078930</td>\n",
       "      <td>3.816565</td>\n",
       "      <td>3.612514</td>\n",
       "      <td>5.417047</td>\n",
       "      <td>3.701167</td>\n",
       "      <td>...</td>\n",
       "      <td>5.072581</td>\n",
       "      <td>3.417782</td>\n",
       "      <td>4.594207</td>\n",
       "      <td>4.310691</td>\n",
       "      <td>3.829552</td>\n",
       "      <td>3.268082</td>\n",
       "      <td>3.985916</td>\n",
       "      <td>5.837810</td>\n",
       "      <td>3.374649</td>\n",
       "      <td>3.950141</td>\n",
       "    </tr>\n",
       "    <tr>\n",
       "      <th>MO</th>\n",
       "      <td>1.086939</td>\n",
       "      <td>2.000188</td>\n",
       "      <td>2.032453</td>\n",
       "      <td>3.294652</td>\n",
       "      <td>2.593112</td>\n",
       "      <td>1.781583</td>\n",
       "      <td>3.141856</td>\n",
       "      <td>2.171346</td>\n",
       "      <td>5.764451</td>\n",
       "      <td>2.835552</td>\n",
       "      <td>...</td>\n",
       "      <td>2.640388</td>\n",
       "      <td>1.835812</td>\n",
       "      <td>2.236473</td>\n",
       "      <td>3.282298</td>\n",
       "      <td>2.329714</td>\n",
       "      <td>2.912129</td>\n",
       "      <td>3.171201</td>\n",
       "      <td>3.599080</td>\n",
       "      <td>3.020349</td>\n",
       "      <td>1.151658</td>\n",
       "    </tr>\n",
       "    <tr>\n",
       "      <th>MT</th>\n",
       "      <td>3.494754</td>\n",
       "      <td>3.874574</td>\n",
       "      <td>2.985649</td>\n",
       "      <td>3.963502</td>\n",
       "      <td>6.286038</td>\n",
       "      <td>5.169746</td>\n",
       "      <td>6.566770</td>\n",
       "      <td>4.646580</td>\n",
       "      <td>8.635002</td>\n",
       "      <td>4.679935</td>\n",
       "      <td>...</td>\n",
       "      <td>2.416251</td>\n",
       "      <td>4.295997</td>\n",
       "      <td>3.393748</td>\n",
       "      <td>6.083821</td>\n",
       "      <td>4.738011</td>\n",
       "      <td>6.275800</td>\n",
       "      <td>5.859396</td>\n",
       "      <td>3.636479</td>\n",
       "      <td>5.189069</td>\n",
       "      <td>3.125564</td>\n",
       "    </tr>\n",
       "    <tr>\n",
       "      <th>NE</th>\n",
       "      <td>3.307722</td>\n",
       "      <td>3.668479</td>\n",
       "      <td>2.927505</td>\n",
       "      <td>3.634205</td>\n",
       "      <td>2.980809</td>\n",
       "      <td>2.250106</td>\n",
       "      <td>3.813197</td>\n",
       "      <td>3.550278</td>\n",
       "      <td>5.170326</td>\n",
       "      <td>3.138947</td>\n",
       "      <td>...</td>\n",
       "      <td>2.936898</td>\n",
       "      <td>2.434622</td>\n",
       "      <td>4.264643</td>\n",
       "      <td>2.890587</td>\n",
       "      <td>1.339458</td>\n",
       "      <td>2.176171</td>\n",
       "      <td>2.679777</td>\n",
       "      <td>5.253256</td>\n",
       "      <td>2.568873</td>\n",
       "      <td>2.865231</td>\n",
       "    </tr>\n",
       "    <tr>\n",
       "      <th>NV</th>\n",
       "      <td>2.248853</td>\n",
       "      <td>1.565833</td>\n",
       "      <td>2.021377</td>\n",
       "      <td>3.406048</td>\n",
       "      <td>2.217568</td>\n",
       "      <td>1.521520</td>\n",
       "      <td>2.439824</td>\n",
       "      <td>1.037125</td>\n",
       "      <td>4.634382</td>\n",
       "      <td>1.637924</td>\n",
       "      <td>...</td>\n",
       "      <td>3.326173</td>\n",
       "      <td>2.265584</td>\n",
       "      <td>2.595977</td>\n",
       "      <td>2.900213</td>\n",
       "      <td>2.336402</td>\n",
       "      <td>2.625465</td>\n",
       "      <td>2.666985</td>\n",
       "      <td>3.912213</td>\n",
       "      <td>3.207777</td>\n",
       "      <td>1.986116</td>\n",
       "    </tr>\n",
       "    <tr>\n",
       "      <th>NH</th>\n",
       "      <td>3.706577</td>\n",
       "      <td>3.863496</td>\n",
       "      <td>3.575319</td>\n",
       "      <td>5.069694</td>\n",
       "      <td>2.025549</td>\n",
       "      <td>1.486772</td>\n",
       "      <td>2.706122</td>\n",
       "      <td>3.648531</td>\n",
       "      <td>3.929630</td>\n",
       "      <td>3.951091</td>\n",
       "      <td>...</td>\n",
       "      <td>4.023538</td>\n",
       "      <td>3.453310</td>\n",
       "      <td>4.822693</td>\n",
       "      <td>1.242724</td>\n",
       "      <td>1.341300</td>\n",
       "      <td>1.686579</td>\n",
       "      <td>0.999245</td>\n",
       "      <td>6.119078</td>\n",
       "      <td>1.665251</td>\n",
       "      <td>3.105043</td>\n",
       "    </tr>\n",
       "    <tr>\n",
       "      <th>NJ</th>\n",
       "      <td>5.352132</td>\n",
       "      <td>4.657829</td>\n",
       "      <td>5.230140</td>\n",
       "      <td>6.069845</td>\n",
       "      <td>2.768178</td>\n",
       "      <td>3.475273</td>\n",
       "      <td>2.134778</td>\n",
       "      <td>3.619032</td>\n",
       "      <td>2.179169</td>\n",
       "      <td>3.634153</td>\n",
       "      <td>...</td>\n",
       "      <td>6.362815</td>\n",
       "      <td>4.733901</td>\n",
       "      <td>5.470085</td>\n",
       "      <td>3.905327</td>\n",
       "      <td>4.356134</td>\n",
       "      <td>3.154822</td>\n",
       "      <td>3.342637</td>\n",
       "      <td>6.801718</td>\n",
       "      <td>4.751999</td>\n",
       "      <td>5.207632</td>\n",
       "    </tr>\n",
       "    <tr>\n",
       "      <th>NM</th>\n",
       "      <td>2.710780</td>\n",
       "      <td>2.482601</td>\n",
       "      <td>1.747059</td>\n",
       "      <td>2.587646</td>\n",
       "      <td>3.284483</td>\n",
       "      <td>2.254951</td>\n",
       "      <td>3.963412</td>\n",
       "      <td>2.525134</td>\n",
       "      <td>5.666833</td>\n",
       "      <td>2.150652</td>\n",
       "      <td>...</td>\n",
       "      <td>2.637339</td>\n",
       "      <td>1.922194</td>\n",
       "      <td>3.292759</td>\n",
       "      <td>3.350379</td>\n",
       "      <td>2.146540</td>\n",
       "      <td>2.939637</td>\n",
       "      <td>3.339743</td>\n",
       "      <td>4.062231</td>\n",
       "      <td>2.980717</td>\n",
       "      <td>2.141581</td>\n",
       "    </tr>\n",
       "    <tr>\n",
       "      <th>NY</th>\n",
       "      <td>4.241067</td>\n",
       "      <td>3.472039</td>\n",
       "      <td>4.115832</td>\n",
       "      <td>5.286360</td>\n",
       "      <td>2.134562</td>\n",
       "      <td>2.525314</td>\n",
       "      <td>1.402568</td>\n",
       "      <td>2.514226</td>\n",
       "      <td>2.725368</td>\n",
       "      <td>2.851930</td>\n",
       "      <td>...</td>\n",
       "      <td>5.338243</td>\n",
       "      <td>3.940502</td>\n",
       "      <td>4.393399</td>\n",
       "      <td>3.154522</td>\n",
       "      <td>3.527207</td>\n",
       "      <td>2.774801</td>\n",
       "      <td>2.597656</td>\n",
       "      <td>5.784860</td>\n",
       "      <td>3.969970</td>\n",
       "      <td>4.042974</td>\n",
       "    </tr>\n",
       "    <tr>\n",
       "      <th>NC</th>\n",
       "      <td>1.240410</td>\n",
       "      <td>2.276668</td>\n",
       "      <td>1.781326</td>\n",
       "      <td>3.167884</td>\n",
       "      <td>3.005854</td>\n",
       "      <td>1.983954</td>\n",
       "      <td>3.711126</td>\n",
       "      <td>2.742267</td>\n",
       "      <td>6.027567</td>\n",
       "      <td>3.128901</td>\n",
       "      <td>...</td>\n",
       "      <td>1.948967</td>\n",
       "      <td>1.937027</td>\n",
       "      <td>2.743189</td>\n",
       "      <td>3.102607</td>\n",
       "      <td>1.881427</td>\n",
       "      <td>3.026984</td>\n",
       "      <td>3.144146</td>\n",
       "      <td>3.763090</td>\n",
       "      <td>2.798840</td>\n",
       "      <td>0.965639</td>\n",
       "    </tr>\n",
       "    <tr>\n",
       "      <th>ND</th>\n",
       "      <td>3.890314</td>\n",
       "      <td>4.709646</td>\n",
       "      <td>3.884830</td>\n",
       "      <td>3.080659</td>\n",
       "      <td>6.754302</td>\n",
       "      <td>5.867464</td>\n",
       "      <td>7.307187</td>\n",
       "      <td>5.313225</td>\n",
       "      <td>9.499838</td>\n",
       "      <td>4.860228</td>\n",
       "      <td>...</td>\n",
       "      <td>2.870567</td>\n",
       "      <td>4.058068</td>\n",
       "      <td>3.818408</td>\n",
       "      <td>7.030391</td>\n",
       "      <td>5.370539</td>\n",
       "      <td>6.521633</td>\n",
       "      <td>6.888195</td>\n",
       "      <td>3.403958</td>\n",
       "      <td>6.246906</td>\n",
       "      <td>4.132499</td>\n",
       "    </tr>\n",
       "    <tr>\n",
       "      <th>OH</th>\n",
       "      <td>2.571284</td>\n",
       "      <td>3.237271</td>\n",
       "      <td>2.846455</td>\n",
       "      <td>3.806845</td>\n",
       "      <td>2.062510</td>\n",
       "      <td>1.403170</td>\n",
       "      <td>3.006352</td>\n",
       "      <td>3.111211</td>\n",
       "      <td>4.970356</td>\n",
       "      <td>3.207489</td>\n",
       "      <td>...</td>\n",
       "      <td>3.008980</td>\n",
       "      <td>2.113621</td>\n",
       "      <td>3.773061</td>\n",
       "      <td>2.433395</td>\n",
       "      <td>1.150318</td>\n",
       "      <td>1.617616</td>\n",
       "      <td>2.274646</td>\n",
       "      <td>4.972930</td>\n",
       "      <td>2.279745</td>\n",
       "      <td>2.322495</td>\n",
       "    </tr>\n",
       "    <tr>\n",
       "      <th>OK</th>\n",
       "      <td>1.862936</td>\n",
       "      <td>2.387338</td>\n",
       "      <td>2.898265</td>\n",
       "      <td>2.211916</td>\n",
       "      <td>3.817251</td>\n",
       "      <td>3.464228</td>\n",
       "      <td>4.358405</td>\n",
       "      <td>2.422355</td>\n",
       "      <td>7.070035</td>\n",
       "      <td>2.638959</td>\n",
       "      <td>...</td>\n",
       "      <td>3.614204</td>\n",
       "      <td>1.870577</td>\n",
       "      <td>1.710763</td>\n",
       "      <td>5.142844</td>\n",
       "      <td>4.155705</td>\n",
       "      <td>4.132564</td>\n",
       "      <td>5.158602</td>\n",
       "      <td>2.214235</td>\n",
       "      <td>5.031478</td>\n",
       "      <td>2.787489</td>\n",
       "    </tr>\n",
       "    <tr>\n",
       "      <th>OR</th>\n",
       "      <td>3.810394</td>\n",
       "      <td>3.647019</td>\n",
       "      <td>3.202878</td>\n",
       "      <td>4.971264</td>\n",
       "      <td>2.587825</td>\n",
       "      <td>1.657845</td>\n",
       "      <td>3.115736</td>\n",
       "      <td>3.552542</td>\n",
       "      <td>4.055564</td>\n",
       "      <td>3.820087</td>\n",
       "      <td>...</td>\n",
       "      <td>3.835613</td>\n",
       "      <td>3.599599</td>\n",
       "      <td>4.829134</td>\n",
       "      <td>1.091142</td>\n",
       "      <td>1.295080</td>\n",
       "      <td>2.273842</td>\n",
       "      <td>1.022188</td>\n",
       "      <td>6.031538</td>\n",
       "      <td>1.345338</td>\n",
       "      <td>2.938413</td>\n",
       "    </tr>\n",
       "    <tr>\n",
       "      <th>PA</th>\n",
       "      <td>1.220905</td>\n",
       "      <td>1.621449</td>\n",
       "      <td>2.302468</td>\n",
       "      <td>3.249592</td>\n",
       "      <td>3.815218</td>\n",
       "      <td>3.163196</td>\n",
       "      <td>4.088063</td>\n",
       "      <td>2.219743</td>\n",
       "      <td>6.799545</td>\n",
       "      <td>3.089770</td>\n",
       "      <td>...</td>\n",
       "      <td>3.160487</td>\n",
       "      <td>2.666025</td>\n",
       "      <td>1.392841</td>\n",
       "      <td>4.549810</td>\n",
       "      <td>3.805005</td>\n",
       "      <td>4.364385</td>\n",
       "      <td>4.549805</td>\n",
       "      <td>2.429254</td>\n",
       "      <td>4.478598</td>\n",
       "      <td>1.877227</td>\n",
       "    </tr>\n",
       "    <tr>\n",
       "      <th>RI</th>\n",
       "      <td>4.196825</td>\n",
       "      <td>3.701274</td>\n",
       "      <td>4.172927</td>\n",
       "      <td>5.395331</td>\n",
       "      <td>1.860928</td>\n",
       "      <td>2.315362</td>\n",
       "      <td>1.096656</td>\n",
       "      <td>2.774926</td>\n",
       "      <td>2.653771</td>\n",
       "      <td>3.125753</td>\n",
       "      <td>...</td>\n",
       "      <td>5.217107</td>\n",
       "      <td>3.864479</td>\n",
       "      <td>4.449817</td>\n",
       "      <td>2.970212</td>\n",
       "      <td>3.251505</td>\n",
       "      <td>2.441335</td>\n",
       "      <td>2.200508</td>\n",
       "      <td>5.981297</td>\n",
       "      <td>3.583398</td>\n",
       "      <td>3.947220</td>\n",
       "    </tr>\n",
       "    <tr>\n",
       "      <th>SC</th>\n",
       "      <td>3.510426</td>\n",
       "      <td>4.067596</td>\n",
       "      <td>3.673676</td>\n",
       "      <td>3.676638</td>\n",
       "      <td>6.732674</td>\n",
       "      <td>5.840733</td>\n",
       "      <td>7.019778</td>\n",
       "      <td>4.826271</td>\n",
       "      <td>9.420597</td>\n",
       "      <td>4.823476</td>\n",
       "      <td>...</td>\n",
       "      <td>3.252538</td>\n",
       "      <td>4.405594</td>\n",
       "      <td>2.984889</td>\n",
       "      <td>7.044900</td>\n",
       "      <td>5.693158</td>\n",
       "      <td>6.856409</td>\n",
       "      <td>6.880602</td>\n",
       "      <td>2.545397</td>\n",
       "      <td>6.392267</td>\n",
       "      <td>3.814222</td>\n",
       "    </tr>\n",
       "    <tr>\n",
       "      <th>SD</th>\n",
       "      <td>2.272782</td>\n",
       "      <td>3.030764</td>\n",
       "      <td>1.805917</td>\n",
       "      <td>2.756086</td>\n",
       "      <td>4.729624</td>\n",
       "      <td>3.599348</td>\n",
       "      <td>5.401468</td>\n",
       "      <td>3.827587</td>\n",
       "      <td>7.356393</td>\n",
       "      <td>3.696806</td>\n",
       "      <td>...</td>\n",
       "      <td>0.000000</td>\n",
       "      <td>2.763780</td>\n",
       "      <td>3.276498</td>\n",
       "      <td>4.352226</td>\n",
       "      <td>2.816778</td>\n",
       "      <td>4.470627</td>\n",
       "      <td>4.418741</td>\n",
       "      <td>3.570243</td>\n",
       "      <td>3.829554</td>\n",
       "      <td>1.926057</td>\n",
       "    </tr>\n",
       "    <tr>\n",
       "      <th>TN</th>\n",
       "      <td>1.760396</td>\n",
       "      <td>2.612893</td>\n",
       "      <td>2.413952</td>\n",
       "      <td>2.090210</td>\n",
       "      <td>2.984643</td>\n",
       "      <td>2.449727</td>\n",
       "      <td>3.816674</td>\n",
       "      <td>2.556844</td>\n",
       "      <td>6.230942</td>\n",
       "      <td>2.343908</td>\n",
       "      <td>...</td>\n",
       "      <td>2.763780</td>\n",
       "      <td>0.000000</td>\n",
       "      <td>2.529293</td>\n",
       "      <td>4.049046</td>\n",
       "      <td>2.746196</td>\n",
       "      <td>2.817993</td>\n",
       "      <td>3.991185</td>\n",
       "      <td>3.369988</td>\n",
       "      <td>3.706725</td>\n",
       "      <td>2.216252</td>\n",
       "    </tr>\n",
       "    <tr>\n",
       "      <th>TX</th>\n",
       "      <td>1.768022</td>\n",
       "      <td>1.983290</td>\n",
       "      <td>2.496229</td>\n",
       "      <td>2.858256</td>\n",
       "      <td>4.199246</td>\n",
       "      <td>3.623915</td>\n",
       "      <td>4.346224</td>\n",
       "      <td>2.171300</td>\n",
       "      <td>7.019399</td>\n",
       "      <td>2.622673</td>\n",
       "      <td>...</td>\n",
       "      <td>3.276498</td>\n",
       "      <td>2.529293</td>\n",
       "      <td>0.000000</td>\n",
       "      <td>5.209589</td>\n",
       "      <td>4.201931</td>\n",
       "      <td>4.635763</td>\n",
       "      <td>4.967709</td>\n",
       "      <td>1.982593</td>\n",
       "      <td>4.885596</td>\n",
       "      <td>2.368477</td>\n",
       "    </tr>\n",
       "    <tr>\n",
       "      <th>UT</th>\n",
       "      <td>4.073530</td>\n",
       "      <td>3.820444</td>\n",
       "      <td>3.638752</td>\n",
       "      <td>5.375719</td>\n",
       "      <td>2.525129</td>\n",
       "      <td>1.893114</td>\n",
       "      <td>3.070455</td>\n",
       "      <td>3.771261</td>\n",
       "      <td>3.805078</td>\n",
       "      <td>4.179509</td>\n",
       "      <td>...</td>\n",
       "      <td>4.352226</td>\n",
       "      <td>4.049046</td>\n",
       "      <td>5.209589</td>\n",
       "      <td>0.000000</td>\n",
       "      <td>1.817711</td>\n",
       "      <td>2.422996</td>\n",
       "      <td>1.247430</td>\n",
       "      <td>6.312553</td>\n",
       "      <td>2.160709</td>\n",
       "      <td>3.370680</td>\n",
       "    </tr>\n",
       "    <tr>\n",
       "      <th>VT</th>\n",
       "      <td>2.984473</td>\n",
       "      <td>3.230915</td>\n",
       "      <td>2.564600</td>\n",
       "      <td>4.012612</td>\n",
       "      <td>2.637784</td>\n",
       "      <td>1.579660</td>\n",
       "      <td>3.461110</td>\n",
       "      <td>3.324290</td>\n",
       "      <td>4.898792</td>\n",
       "      <td>3.396841</td>\n",
       "      <td>...</td>\n",
       "      <td>2.816778</td>\n",
       "      <td>2.746196</td>\n",
       "      <td>4.201931</td>\n",
       "      <td>1.817711</td>\n",
       "      <td>0.000000</td>\n",
       "      <td>2.148753</td>\n",
       "      <td>1.914058</td>\n",
       "      <td>5.241011</td>\n",
       "      <td>1.854834</td>\n",
       "      <td>2.294087</td>\n",
       "    </tr>\n",
       "    <tr>\n",
       "      <th>VA</th>\n",
       "      <td>3.691474</td>\n",
       "      <td>3.939532</td>\n",
       "      <td>3.910659</td>\n",
       "      <td>4.577666</td>\n",
       "      <td>1.211871</td>\n",
       "      <td>1.580230</td>\n",
       "      <td>2.371614</td>\n",
       "      <td>3.389056</td>\n",
       "      <td>3.999740</td>\n",
       "      <td>3.459389</td>\n",
       "      <td>...</td>\n",
       "      <td>4.470627</td>\n",
       "      <td>2.817993</td>\n",
       "      <td>4.635763</td>\n",
       "      <td>2.422996</td>\n",
       "      <td>2.148753</td>\n",
       "      <td>0.000000</td>\n",
       "      <td>2.300740</td>\n",
       "      <td>5.870215</td>\n",
       "      <td>2.782838</td>\n",
       "      <td>3.532372</td>\n",
       "    </tr>\n",
       "    <tr>\n",
       "      <th>WA</th>\n",
       "      <td>4.099448</td>\n",
       "      <td>3.874399</td>\n",
       "      <td>3.716797</td>\n",
       "      <td>5.500790</td>\n",
       "      <td>2.322342</td>\n",
       "      <td>1.824522</td>\n",
       "      <td>2.500124</td>\n",
       "      <td>3.571201</td>\n",
       "      <td>3.303523</td>\n",
       "      <td>3.962686</td>\n",
       "      <td>...</td>\n",
       "      <td>4.418741</td>\n",
       "      <td>3.991185</td>\n",
       "      <td>4.967709</td>\n",
       "      <td>1.247430</td>\n",
       "      <td>1.914058</td>\n",
       "      <td>2.300740</td>\n",
       "      <td>0.000000</td>\n",
       "      <td>6.353763</td>\n",
       "      <td>1.908689</td>\n",
       "      <td>3.364606</td>\n",
       "    </tr>\n",
       "    <tr>\n",
       "      <th>WV</th>\n",
       "      <td>2.658679</td>\n",
       "      <td>2.759540</td>\n",
       "      <td>3.094545</td>\n",
       "      <td>2.401244</td>\n",
       "      <td>5.589191</td>\n",
       "      <td>4.943274</td>\n",
       "      <td>5.938001</td>\n",
       "      <td>3.438088</td>\n",
       "      <td>8.418524</td>\n",
       "      <td>3.439624</td>\n",
       "      <td>...</td>\n",
       "      <td>3.570243</td>\n",
       "      <td>3.369988</td>\n",
       "      <td>1.982593</td>\n",
       "      <td>6.312553</td>\n",
       "      <td>5.241011</td>\n",
       "      <td>5.870215</td>\n",
       "      <td>6.353763</td>\n",
       "      <td>0.000000</td>\n",
       "      <td>6.204276</td>\n",
       "      <td>3.428472</td>\n",
       "    </tr>\n",
       "    <tr>\n",
       "      <th>WI</th>\n",
       "      <td>3.882304</td>\n",
       "      <td>4.080096</td>\n",
       "      <td>3.452450</td>\n",
       "      <td>5.215076</td>\n",
       "      <td>3.094339</td>\n",
       "      <td>2.114426</td>\n",
       "      <td>3.628320</td>\n",
       "      <td>4.037819</td>\n",
       "      <td>4.939871</td>\n",
       "      <td>4.436470</td>\n",
       "      <td>...</td>\n",
       "      <td>3.829554</td>\n",
       "      <td>3.706725</td>\n",
       "      <td>4.885596</td>\n",
       "      <td>2.160709</td>\n",
       "      <td>1.854834</td>\n",
       "      <td>2.782838</td>\n",
       "      <td>1.908689</td>\n",
       "      <td>6.204276</td>\n",
       "      <td>0.000000</td>\n",
       "      <td>2.891556</td>\n",
       "    </tr>\n",
       "    <tr>\n",
       "      <th>WY</th>\n",
       "      <td>1.345666</td>\n",
       "      <td>1.794331</td>\n",
       "      <td>1.165002</td>\n",
       "      <td>3.105415</td>\n",
       "      <td>3.392714</td>\n",
       "      <td>2.217199</td>\n",
       "      <td>3.899592</td>\n",
       "      <td>2.427114</td>\n",
       "      <td>6.196665</td>\n",
       "      <td>2.962916</td>\n",
       "      <td>...</td>\n",
       "      <td>1.926057</td>\n",
       "      <td>2.216252</td>\n",
       "      <td>2.368477</td>\n",
       "      <td>3.370680</td>\n",
       "      <td>2.294087</td>\n",
       "      <td>3.532372</td>\n",
       "      <td>3.364606</td>\n",
       "      <td>3.428472</td>\n",
       "      <td>2.891556</td>\n",
       "      <td>0.000000</td>\n",
       "    </tr>\n",
       "  </tbody>\n",
       "</table>\n",
       "<p>51 rows × 51 columns</p>\n",
       "</div>"
      ],
      "text/plain": [
       "abbrev        AL        AK        AZ        AR        CA        CO        CT  \\\n",
       "abbrev                                                                         \n",
       "AL      0.000000  1.848559  1.875942  2.616265  3.450372  2.687193  4.022977   \n",
       "AK      1.848559  0.000000  1.461454  2.961700  3.503615  2.674699  3.719860   \n",
       "AZ      1.875942  1.461454  0.000000  2.592934  3.873068  2.690949  4.341409   \n",
       "AR      2.616265  2.961700  2.592934  0.000000  4.773783  4.082043  5.511677   \n",
       "CA      3.450372  3.503615  3.873068  4.773783  0.000000  1.382473  1.360401   \n",
       "CO      2.687193  2.674699  2.690949  4.082043  1.382473  0.000000  2.171261   \n",
       "CT      4.022977  3.719860  4.341409  5.511677  1.360401  2.171261  0.000000   \n",
       "DE      2.426745  1.305465  2.322674  3.375632  2.801377  2.348937  2.792618   \n",
       "DC      6.627070  5.923340  6.312294  7.648001  3.725440  4.294426  3.100788   \n",
       "FL      2.863217  2.014017  2.471886  2.722795  3.294284  2.884757  3.490418   \n",
       "GA      2.740439  2.609142  2.619278  3.132498  1.994627  1.592712  2.812662   \n",
       "HI      1.967575  2.309612  2.090333  3.887437  4.367894  3.364956  4.523348   \n",
       "ID      3.227303  3.462721  2.330031  4.160356  4.023485  2.745180  4.726892   \n",
       "IL      2.648799  2.872699  2.779181  4.036791  1.416124  0.575336  2.256232   \n",
       "IN      2.936806  3.210155  2.440773  3.699517  2.832514  1.789320  3.702964   \n",
       "IA      3.114833  3.587012  2.842219  3.547224  3.017301  2.214125  4.043616   \n",
       "KS      1.858608  2.173195  1.774256  2.804821  2.488592  1.447705  3.354811   \n",
       "KY      1.951130  2.154966  1.855779  1.793132  3.376552  2.635520  4.080040   \n",
       "LA      3.864433  3.260930  4.243512  4.014378  4.931876  4.790391  4.801947   \n",
       "ME      2.803998  3.213492  2.324265  4.160980  3.400465  2.191438  4.083418   \n",
       "MD      4.050022  3.809894  4.515303  5.093197  1.647736  2.550081  1.521528   \n",
       "MA      5.453420  5.160132  5.288766  6.535539  2.506906  3.019168  2.347552   \n",
       "MI      3.471272  2.994360  3.509289  4.352050  1.698430  2.010389  1.670508   \n",
       "MN      4.735183  4.795405  4.670325  5.819223  2.042084  2.280417  2.658911   \n",
       "MS      4.470256  4.270578  4.110102  4.692240  3.437689  3.078930  3.816565   \n",
       "MO      1.086939  2.000188  2.032453  3.294652  2.593112  1.781583  3.141856   \n",
       "MT      3.494754  3.874574  2.985649  3.963502  6.286038  5.169746  6.566770   \n",
       "NE      3.307722  3.668479  2.927505  3.634205  2.980809  2.250106  3.813197   \n",
       "NV      2.248853  1.565833  2.021377  3.406048  2.217568  1.521520  2.439824   \n",
       "NH      3.706577  3.863496  3.575319  5.069694  2.025549  1.486772  2.706122   \n",
       "NJ      5.352132  4.657829  5.230140  6.069845  2.768178  3.475273  2.134778   \n",
       "NM      2.710780  2.482601  1.747059  2.587646  3.284483  2.254951  3.963412   \n",
       "NY      4.241067  3.472039  4.115832  5.286360  2.134562  2.525314  1.402568   \n",
       "NC      1.240410  2.276668  1.781326  3.167884  3.005854  1.983954  3.711126   \n",
       "ND      3.890314  4.709646  3.884830  3.080659  6.754302  5.867464  7.307187   \n",
       "OH      2.571284  3.237271  2.846455  3.806845  2.062510  1.403170  3.006352   \n",
       "OK      1.862936  2.387338  2.898265  2.211916  3.817251  3.464228  4.358405   \n",
       "OR      3.810394  3.647019  3.202878  4.971264  2.587825  1.657845  3.115736   \n",
       "PA      1.220905  1.621449  2.302468  3.249592  3.815218  3.163196  4.088063   \n",
       "RI      4.196825  3.701274  4.172927  5.395331  1.860928  2.315362  1.096656   \n",
       "SC      3.510426  4.067596  3.673676  3.676638  6.732674  5.840733  7.019778   \n",
       "SD      2.272782  3.030764  1.805917  2.756086  4.729624  3.599348  5.401468   \n",
       "TN      1.760396  2.612893  2.413952  2.090210  2.984643  2.449727  3.816674   \n",
       "TX      1.768022  1.983290  2.496229  2.858256  4.199246  3.623915  4.346224   \n",
       "UT      4.073530  3.820444  3.638752  5.375719  2.525129  1.893114  3.070455   \n",
       "VT      2.984473  3.230915  2.564600  4.012612  2.637784  1.579660  3.461110   \n",
       "VA      3.691474  3.939532  3.910659  4.577666  1.211871  1.580230  2.371614   \n",
       "WA      4.099448  3.874399  3.716797  5.500790  2.322342  1.824522  2.500124   \n",
       "WV      2.658679  2.759540  3.094545  2.401244  5.589191  4.943274  5.938001   \n",
       "WI      3.882304  4.080096  3.452450  5.215076  3.094339  2.114426  3.628320   \n",
       "WY      1.345666  1.794331  1.165002  3.105415  3.392714  2.217199  3.899592   \n",
       "\n",
       "abbrev        DE        DC        FL  ...        SD        TN        TX  \\\n",
       "abbrev                                ...                                 \n",
       "AL      2.426745  6.627070  2.863217  ...  2.272782  1.760396  1.768022   \n",
       "AK      1.305465  5.923340  2.014017  ...  3.030764  2.612893  1.983290   \n",
       "AZ      2.322674  6.312294  2.471886  ...  1.805917  2.413952  2.496229   \n",
       "AR      3.375632  7.648001  2.722795  ...  2.756086  2.090210  2.858256   \n",
       "CA      2.801377  3.725440  3.294284  ...  4.729624  2.984643  4.199246   \n",
       "CO      2.348937  4.294426  2.884757  ...  3.599348  2.449727  3.623915   \n",
       "CT      2.792618  3.100788  3.490418  ...  5.401468  3.816674  4.346224   \n",
       "DE      0.000000  5.106619  1.442845  ...  3.827587  2.556844  2.171300   \n",
       "DC      5.106619  0.000000  5.343223  ...  7.356393  6.230942  7.019399   \n",
       "FL      1.442845  5.343223  0.000000  ...  3.696806  2.343908  2.622673   \n",
       "GA      2.197382  4.611878  1.878250  ...  3.457118  1.848972  3.484814   \n",
       "HI      2.949539  6.947997  3.693017  ...  2.599939  3.261208  2.117453   \n",
       "ID      4.006878  6.093580  4.130941  ...  2.181769  3.440391  4.456028   \n",
       "IL      2.540638  4.370549  2.929698  ...  3.451012  2.344501  3.624767   \n",
       "IN      3.339940  5.138253  3.256948  ...  2.607172  2.552997  4.143568   \n",
       "IA      3.709853  5.452221  3.431343  ...  2.760459  2.449758  4.408638   \n",
       "KS      2.326150  5.470177  2.440633  ...  2.510956  1.426519  3.018528   \n",
       "KY      2.379312  6.165330  1.882937  ...  2.495190  1.163669  2.642535   \n",
       "LA      2.755112  7.275689  3.124341  ...  5.476430  3.904461  2.495853   \n",
       "ME      3.642062  5.661144  3.886650  ...  2.282470  3.080945  4.117779   \n",
       "MD      2.716766  4.030791  3.302111  ...  5.648360  3.474840  4.164078   \n",
       "MA      4.425745  1.789043  4.599359  ...  6.061665  4.915531  6.086706   \n",
       "MI      2.110640  3.504421  2.157263  ...  4.563139  2.958103  3.794287   \n",
       "MN      4.295743  3.168166  4.460124  ...  5.187956  4.140718  5.710425   \n",
       "MS      3.612514  5.417047  3.701167  ...  5.072581  3.417782  4.594207   \n",
       "MO      2.171346  5.764451  2.835552  ...  2.640388  1.835812  2.236473   \n",
       "MT      4.646580  8.635002  4.679935  ...  2.416251  4.295997  3.393748   \n",
       "NE      3.550278  5.170326  3.138947  ...  2.936898  2.434622  4.264643   \n",
       "NV      1.037125  4.634382  1.637924  ...  3.326173  2.265584  2.595977   \n",
       "NH      3.648531  3.929630  3.951091  ...  4.023538  3.453310  4.822693   \n",
       "NJ      3.619032  2.179169  3.634153  ...  6.362815  4.733901  5.470085   \n",
       "NM      2.525134  5.666833  2.150652  ...  2.637339  1.922194  3.292759   \n",
       "NY      2.514226  2.725368  2.851930  ...  5.338243  3.940502  4.393399   \n",
       "NC      2.742267  6.027567  3.128901  ...  1.948967  1.937027  2.743189   \n",
       "ND      5.313225  9.499838  4.860228  ...  2.870567  4.058068  3.818408   \n",
       "OH      3.111211  4.970356  3.207489  ...  3.008980  2.113621  3.773061   \n",
       "OK      2.422355  7.070035  2.638959  ...  3.614204  1.870577  1.710763   \n",
       "OR      3.552542  4.055564  3.820087  ...  3.835613  3.599599  4.829134   \n",
       "PA      2.219743  6.799545  3.089770  ...  3.160487  2.666025  1.392841   \n",
       "RI      2.774926  2.653771  3.125753  ...  5.217107  3.864479  4.449817   \n",
       "SC      4.826271  9.420597  4.823476  ...  3.252538  4.405594  2.984889   \n",
       "SD      3.827587  7.356393  3.696806  ...  0.000000  2.763780  3.276498   \n",
       "TN      2.556844  6.230942  2.343908  ...  2.763780  0.000000  2.529293   \n",
       "TX      2.171300  7.019399  2.622673  ...  3.276498  2.529293  0.000000   \n",
       "UT      3.771261  3.805078  4.179509  ...  4.352226  4.049046  5.209589   \n",
       "VT      3.324290  4.898792  3.396841  ...  2.816778  2.746196  4.201931   \n",
       "VA      3.389056  3.999740  3.459389  ...  4.470627  2.817993  4.635763   \n",
       "WA      3.571201  3.303523  3.962686  ...  4.418741  3.991185  4.967709   \n",
       "WV      3.438088  8.418524  3.439624  ...  3.570243  3.369988  1.982593   \n",
       "WI      4.037819  4.939871  4.436470  ...  3.829554  3.706725  4.885596   \n",
       "WY      2.427114  6.196665  2.962916  ...  1.926057  2.216252  2.368477   \n",
       "\n",
       "abbrev        UT        VT        VA        WA        WV        WI        WY  \n",
       "abbrev                                                                        \n",
       "AL      4.073530  2.984473  3.691474  4.099448  2.658679  3.882304  1.345666  \n",
       "AK      3.820444  3.230915  3.939532  3.874399  2.759540  4.080096  1.794331  \n",
       "AZ      3.638752  2.564600  3.910659  3.716797  3.094545  3.452450  1.165002  \n",
       "AR      5.375719  4.012612  4.577666  5.500790  2.401244  5.215076  3.105415  \n",
       "CA      2.525129  2.637784  1.211871  2.322342  5.589191  3.094339  3.392714  \n",
       "CO      1.893114  1.579660  1.580230  1.824522  4.943274  2.114426  2.217199  \n",
       "CT      3.070455  3.461110  2.371614  2.500124  5.938001  3.628320  3.899592  \n",
       "DE      3.771261  3.324290  3.389056  3.571201  3.438088  4.037819  2.427114  \n",
       "DC      3.805078  4.898792  3.999740  3.303523  8.418524  4.939871  6.196665  \n",
       "FL      4.179509  3.396841  3.459389  3.962686  3.439624  4.436470  2.962916  \n",
       "GA      2.800175  1.991735  1.741679  2.777024  4.447891  3.237933  2.680223  \n",
       "HI      4.479970  3.571822  4.728124  4.265045  3.336821  3.832770  1.485756  \n",
       "ID      2.685512  1.551591  3.638644  2.946004  5.210840  2.220161  2.207048  \n",
       "IL      2.045405  1.378476  1.422768  1.823447  4.980795  2.162329  2.263062  \n",
       "IN      2.150286  0.431526  2.248464  2.271576  5.075878  2.111961  2.300292  \n",
       "IA      2.593952  1.109788  2.229273  2.815298  5.169456  2.639014  2.753406  \n",
       "KS      2.764565  1.635965  2.319119  2.900155  3.936542  2.642380  1.552764  \n",
       "KY      3.921383  2.720046  3.201370  3.962989  3.125623  3.815375  2.165643  \n",
       "LA      6.434672  5.818144  5.553106  6.195012  3.135338  6.342526  4.357395  \n",
       "ME      2.305619  1.128301  3.111323  2.438338  5.077069  1.876843  1.896015  \n",
       "MD      3.915989  3.993253  2.514904  3.571909  5.628262  4.223813  4.141530  \n",
       "MA      2.707846  3.469482  2.473351  2.036127  7.538069  3.510709  5.017776  \n",
       "MI      3.018837  2.907516  2.116173  2.590439  5.085073  3.699237  3.446214  \n",
       "MN      1.939448  2.442816  1.514164  1.649265  7.041151  2.601384  4.286404  \n",
       "MS      4.310691  3.829552  3.268082  3.985916  5.837810  3.374649  3.950141  \n",
       "MO      3.282298  2.329714  2.912129  3.171201  3.599080  3.020349  1.151658  \n",
       "MT      6.083821  4.738011  6.275800  5.859396  3.636479  5.189069  3.125564  \n",
       "NE      2.890587  1.339458  2.176171  2.679777  5.253256  2.568873  2.865231  \n",
       "NV      2.900213  2.336402  2.625465  2.666985  3.912213  3.207777  1.986116  \n",
       "NH      1.242724  1.341300  1.686579  0.999245  6.119078  1.665251  3.105043  \n",
       "NJ      3.905327  4.356134  3.154822  3.342637  6.801718  4.751999  5.207632  \n",
       "NM      3.350379  2.146540  2.939637  3.339743  4.062231  2.980717  2.141581  \n",
       "NY      3.154522  3.527207  2.774801  2.597656  5.784860  3.969970  4.042974  \n",
       "NC      3.102607  1.881427  3.026984  3.144146  3.763090  2.798840  0.965639  \n",
       "ND      7.030391  5.370539  6.521633  6.888195  3.403958  6.246906  4.132499  \n",
       "OH      2.433395  1.150318  1.617616  2.274646  4.972930  2.279745  2.322495  \n",
       "OK      5.142844  4.155705  4.132564  5.158602  2.214235  5.031478  2.787489  \n",
       "OR      1.091142  1.295080  2.273842  1.022188  6.031538  1.345338  2.938413  \n",
       "PA      4.549810  3.805005  4.364385  4.549805  2.429254  4.478598  1.877227  \n",
       "RI      2.970212  3.251505  2.441335  2.200508  5.981297  3.583398  3.947220  \n",
       "SC      7.044900  5.693158  6.856409  6.880602  2.545397  6.392267  3.814222  \n",
       "SD      4.352226  2.816778  4.470627  4.418741  3.570243  3.829554  1.926057  \n",
       "TN      4.049046  2.746196  2.817993  3.991185  3.369988  3.706725  2.216252  \n",
       "TX      5.209589  4.201931  4.635763  4.967709  1.982593  4.885596  2.368477  \n",
       "UT      0.000000  1.817711  2.422996  1.247430  6.312553  2.160709  3.370680  \n",
       "VT      1.817711  0.000000  2.148753  1.914058  5.241011  1.854834  2.294087  \n",
       "VA      2.422996  2.148753  0.000000  2.300740  5.870215  2.782838  3.532372  \n",
       "WA      1.247430  1.914058  2.300740  0.000000  6.353763  1.908689  3.364606  \n",
       "WV      6.312553  5.241011  5.870215  6.353763  0.000000  6.204276  3.428472  \n",
       "WI      2.160709  1.854834  2.782838  1.908689  6.204276  0.000000  2.891556  \n",
       "WY      3.370680  2.294087  3.532372  3.364606  3.428472  2.891556  0.000000  \n",
       "\n",
       "[51 rows x 51 columns]"
      ]
     },
     "execution_count": 29,
     "metadata": {},
     "output_type": "execute_result"
    }
   ],
   "source": [
    "distmat_cars = create_dist_mat(df_car_crashes_zscore)\n",
    "distmat_cars"
   ]
  },
  {
   "cell_type": "markdown",
   "metadata": {},
   "source": [
    "**23) [P] An interesting way to suggest outliers is to take a distance matrix, aggregate the mean over each row or\n",
    "column, then sort the output in order. Why would this work? Because an observation that is an outlier should\n",
    "have a relatively high mean distance to all other observations! Do this, and output the entire ordered list in\n",
    "descending order. (HINT: DC should be your largest outlier.)**"
   ]
  },
  {
   "cell_type": "code",
   "execution_count": 30,
   "metadata": {},
   "outputs": [
    {
     "data": {
      "text/plain": [
       "abbrev\n",
       "DC    5.265664\n",
       "ND    5.257310\n",
       "SC    5.214264\n",
       "LA    4.767480\n",
       "MT    4.759816\n",
       "WV    4.512766\n",
       "NJ    4.310802\n",
       "MA    4.197513\n",
       "MS    4.048305\n",
       "AR    3.897635\n",
       "MD    3.749939\n",
       "MN    3.719807\n",
       "OK    3.618059\n",
       "HI    3.591755\n",
       "SD    3.585247\n",
       "TX    3.572109\n",
       "NY    3.531806\n",
       "CT    3.514075\n",
       "WI    3.468777\n",
       "ID    3.440899\n",
       "PA    3.440610\n",
       "UT    3.438146\n",
       "RI    3.434056\n",
       "WA    3.296993\n",
       "FL    3.205449\n",
       "VA    3.156358\n",
       "OR    3.130498\n",
       "CA    3.116879\n",
       "ME    3.105251\n",
       "NH    3.100905\n",
       "IA    3.098437\n",
       "AK    3.091304\n",
       "MI    3.072811\n",
       "NE    3.065206\n",
       "AL    3.033363\n",
       "DE    3.021971\n",
       "AZ    2.999864\n",
       "TN    2.965254\n",
       "KY    2.964333\n",
       "NM    2.914953\n",
       "IN    2.841386\n",
       "WY    2.839487\n",
       "VT    2.820077\n",
       "NC    2.777656\n",
       "OH    2.746863\n",
       "MO    2.734449\n",
       "GA    2.726648\n",
       "NV    2.627495\n",
       "CO    2.617432\n",
       "IL    2.602264\n",
       "KS    2.573618\n",
       "dtype: float64"
      ]
     },
     "execution_count": 30,
     "metadata": {},
     "output_type": "execute_result"
    }
   ],
   "source": [
    "distmat_cars.mean().sort_values(ascending=False)"
   ]
  },
  {
   "cell_type": "markdown",
   "metadata": {},
   "source": [
    "**24) [M] From this analysis, which 4 states seem to be strongest outliers?**"
   ]
  },
  {
   "cell_type": "markdown",
   "metadata": {},
   "source": [
    "#### District of Columbia (DC), North Dakota (ND), South Carolina (SC), and and Lousiana (LA)."
   ]
  },
  {
   "cell_type": "markdown",
   "metadata": {},
   "source": [
    "**25) [P] OK. Let's explore the data visually. First, using the original, unscaled data frame df_car_crashes,\n",
    "create a scatter plot of insurance premiums vs. insurance losses, with total number of accidents as the size of\n",
    "the point. Create a label near to every point representing the two letter state code.**"
   ]
  },
  {
   "cell_type": "code",
   "execution_count": 79,
   "metadata": {},
   "outputs": [
    {
     "data": {
      "application/vnd.plotly.v1+json": {
       "config": {
        "plotlyServerURL": "https://plot.ly"
       },
       "data": [
        {
         "marker": {
          "size": [
           18.8,
           18.1,
           18.6,
           22.4,
           12,
           13.6,
           10.8,
           16.2,
           5.9,
           17.9,
           15.6,
           17.5,
           15.3,
           12.8,
           14.5,
           15.7,
           17.8,
           21.4,
           20.5,
           15.1,
           12.5,
           8.2,
           14.1,
           9.6,
           17.6,
           16.1,
           21.4,
           14.9,
           14.7,
           11.6,
           11.2,
           18.4,
           12.3,
           16.8,
           23.9,
           14.1,
           19.9,
           12.8,
           18.2,
           11.1,
           23.9,
           19.4,
           19.5,
           19.4,
           11.3,
           13.6,
           12.7,
           10.6,
           23.8,
           13.8,
           17.4
          ]
         },
         "mode": "markers+text",
         "name": "Car Crashes",
         "text": [
          "AL",
          "AK",
          "AZ",
          "AR",
          "CA",
          "CO",
          "CT",
          "DE",
          "DC",
          "FL",
          "GA",
          "HI",
          "ID",
          "IL",
          "IN",
          "IA",
          "KS",
          "KY",
          "LA",
          "ME",
          "MD",
          "MA",
          "MI",
          "MN",
          "MS",
          "MO",
          "MT",
          "NE",
          "NV",
          "NH",
          "NJ",
          "NM",
          "NY",
          "NC",
          "ND",
          "OH",
          "OK",
          "OR",
          "PA",
          "RI",
          "SC",
          "SD",
          "TN",
          "TX",
          "UT",
          "VT",
          "VA",
          "WA",
          "WV",
          "WI",
          "WY"
         ],
         "type": "scatter",
         "x": [
          784.55,
          1053.48,
          899.47,
          827.34,
          878.41,
          835.5,
          1068.73,
          1137.87,
          1273.89,
          1160.13,
          913.15,
          861.18,
          641.96,
          803.11,
          710.46,
          649.06,
          780.45,
          872.51,
          1281.55,
          661.88,
          1048.78,
          1011.14,
          1110.61,
          777.18,
          896.07,
          790.32,
          816.21,
          732.28,
          1029.87,
          746.54,
          1301.52,
          869.85,
          1234.31,
          708.24,
          688.75,
          697.73,
          881.51,
          804.71,
          905.99,
          1148.99,
          858.97,
          669.31,
          767.91,
          1004.75,
          809.38,
          716.2,
          768.95,
          890.03,
          992.61,
          670.31,
          791.14
         ],
         "y": [
          145.08,
          133.93,
          110.35,
          142.39,
          165.63,
          139.91,
          167.02,
          151.48,
          136.05,
          144.18,
          142.8,
          120.92,
          82.75,
          139.15,
          108.92,
          114.47,
          133.8,
          137.13,
          194.78,
          96.57,
          192.7,
          135.63,
          152.26,
          133.35,
          155.77,
          144.45,
          85.15,
          114.82,
          138.71,
          120.21,
          159.85,
          120.75,
          150.01,
          127.82,
          109.72,
          133.52,
          178.86,
          104.61,
          153.86,
          148.58,
          116.29,
          96.87,
          155.57,
          156.83,
          109.48,
          109.61,
          153.72,
          111.62,
          152.56,
          106.62,
          122.04
         ]
        }
       ],
       "layout": {
        "template": {
         "data": {
          "bar": [
           {
            "error_x": {
             "color": "#2a3f5f"
            },
            "error_y": {
             "color": "#2a3f5f"
            },
            "marker": {
             "line": {
              "color": "#E5ECF6",
              "width": 0.5
             }
            },
            "type": "bar"
           }
          ],
          "barpolar": [
           {
            "marker": {
             "line": {
              "color": "#E5ECF6",
              "width": 0.5
             }
            },
            "type": "barpolar"
           }
          ],
          "carpet": [
           {
            "aaxis": {
             "endlinecolor": "#2a3f5f",
             "gridcolor": "white",
             "linecolor": "white",
             "minorgridcolor": "white",
             "startlinecolor": "#2a3f5f"
            },
            "baxis": {
             "endlinecolor": "#2a3f5f",
             "gridcolor": "white",
             "linecolor": "white",
             "minorgridcolor": "white",
             "startlinecolor": "#2a3f5f"
            },
            "type": "carpet"
           }
          ],
          "choropleth": [
           {
            "colorbar": {
             "outlinewidth": 0,
             "ticks": ""
            },
            "type": "choropleth"
           }
          ],
          "contour": [
           {
            "colorbar": {
             "outlinewidth": 0,
             "ticks": ""
            },
            "colorscale": [
             [
              0,
              "#0d0887"
             ],
             [
              0.1111111111111111,
              "#46039f"
             ],
             [
              0.2222222222222222,
              "#7201a8"
             ],
             [
              0.3333333333333333,
              "#9c179e"
             ],
             [
              0.4444444444444444,
              "#bd3786"
             ],
             [
              0.5555555555555556,
              "#d8576b"
             ],
             [
              0.6666666666666666,
              "#ed7953"
             ],
             [
              0.7777777777777778,
              "#fb9f3a"
             ],
             [
              0.8888888888888888,
              "#fdca26"
             ],
             [
              1,
              "#f0f921"
             ]
            ],
            "type": "contour"
           }
          ],
          "contourcarpet": [
           {
            "colorbar": {
             "outlinewidth": 0,
             "ticks": ""
            },
            "type": "contourcarpet"
           }
          ],
          "heatmap": [
           {
            "colorbar": {
             "outlinewidth": 0,
             "ticks": ""
            },
            "colorscale": [
             [
              0,
              "#0d0887"
             ],
             [
              0.1111111111111111,
              "#46039f"
             ],
             [
              0.2222222222222222,
              "#7201a8"
             ],
             [
              0.3333333333333333,
              "#9c179e"
             ],
             [
              0.4444444444444444,
              "#bd3786"
             ],
             [
              0.5555555555555556,
              "#d8576b"
             ],
             [
              0.6666666666666666,
              "#ed7953"
             ],
             [
              0.7777777777777778,
              "#fb9f3a"
             ],
             [
              0.8888888888888888,
              "#fdca26"
             ],
             [
              1,
              "#f0f921"
             ]
            ],
            "type": "heatmap"
           }
          ],
          "heatmapgl": [
           {
            "colorbar": {
             "outlinewidth": 0,
             "ticks": ""
            },
            "colorscale": [
             [
              0,
              "#0d0887"
             ],
             [
              0.1111111111111111,
              "#46039f"
             ],
             [
              0.2222222222222222,
              "#7201a8"
             ],
             [
              0.3333333333333333,
              "#9c179e"
             ],
             [
              0.4444444444444444,
              "#bd3786"
             ],
             [
              0.5555555555555556,
              "#d8576b"
             ],
             [
              0.6666666666666666,
              "#ed7953"
             ],
             [
              0.7777777777777778,
              "#fb9f3a"
             ],
             [
              0.8888888888888888,
              "#fdca26"
             ],
             [
              1,
              "#f0f921"
             ]
            ],
            "type": "heatmapgl"
           }
          ],
          "histogram": [
           {
            "marker": {
             "colorbar": {
              "outlinewidth": 0,
              "ticks": ""
             }
            },
            "type": "histogram"
           }
          ],
          "histogram2d": [
           {
            "colorbar": {
             "outlinewidth": 0,
             "ticks": ""
            },
            "colorscale": [
             [
              0,
              "#0d0887"
             ],
             [
              0.1111111111111111,
              "#46039f"
             ],
             [
              0.2222222222222222,
              "#7201a8"
             ],
             [
              0.3333333333333333,
              "#9c179e"
             ],
             [
              0.4444444444444444,
              "#bd3786"
             ],
             [
              0.5555555555555556,
              "#d8576b"
             ],
             [
              0.6666666666666666,
              "#ed7953"
             ],
             [
              0.7777777777777778,
              "#fb9f3a"
             ],
             [
              0.8888888888888888,
              "#fdca26"
             ],
             [
              1,
              "#f0f921"
             ]
            ],
            "type": "histogram2d"
           }
          ],
          "histogram2dcontour": [
           {
            "colorbar": {
             "outlinewidth": 0,
             "ticks": ""
            },
            "colorscale": [
             [
              0,
              "#0d0887"
             ],
             [
              0.1111111111111111,
              "#46039f"
             ],
             [
              0.2222222222222222,
              "#7201a8"
             ],
             [
              0.3333333333333333,
              "#9c179e"
             ],
             [
              0.4444444444444444,
              "#bd3786"
             ],
             [
              0.5555555555555556,
              "#d8576b"
             ],
             [
              0.6666666666666666,
              "#ed7953"
             ],
             [
              0.7777777777777778,
              "#fb9f3a"
             ],
             [
              0.8888888888888888,
              "#fdca26"
             ],
             [
              1,
              "#f0f921"
             ]
            ],
            "type": "histogram2dcontour"
           }
          ],
          "mesh3d": [
           {
            "colorbar": {
             "outlinewidth": 0,
             "ticks": ""
            },
            "type": "mesh3d"
           }
          ],
          "parcoords": [
           {
            "line": {
             "colorbar": {
              "outlinewidth": 0,
              "ticks": ""
             }
            },
            "type": "parcoords"
           }
          ],
          "pie": [
           {
            "automargin": true,
            "type": "pie"
           }
          ],
          "scatter": [
           {
            "marker": {
             "colorbar": {
              "outlinewidth": 0,
              "ticks": ""
             }
            },
            "type": "scatter"
           }
          ],
          "scatter3d": [
           {
            "line": {
             "colorbar": {
              "outlinewidth": 0,
              "ticks": ""
             }
            },
            "marker": {
             "colorbar": {
              "outlinewidth": 0,
              "ticks": ""
             }
            },
            "type": "scatter3d"
           }
          ],
          "scattercarpet": [
           {
            "marker": {
             "colorbar": {
              "outlinewidth": 0,
              "ticks": ""
             }
            },
            "type": "scattercarpet"
           }
          ],
          "scattergeo": [
           {
            "marker": {
             "colorbar": {
              "outlinewidth": 0,
              "ticks": ""
             }
            },
            "type": "scattergeo"
           }
          ],
          "scattergl": [
           {
            "marker": {
             "colorbar": {
              "outlinewidth": 0,
              "ticks": ""
             }
            },
            "type": "scattergl"
           }
          ],
          "scattermapbox": [
           {
            "marker": {
             "colorbar": {
              "outlinewidth": 0,
              "ticks": ""
             }
            },
            "type": "scattermapbox"
           }
          ],
          "scatterpolar": [
           {
            "marker": {
             "colorbar": {
              "outlinewidth": 0,
              "ticks": ""
             }
            },
            "type": "scatterpolar"
           }
          ],
          "scatterpolargl": [
           {
            "marker": {
             "colorbar": {
              "outlinewidth": 0,
              "ticks": ""
             }
            },
            "type": "scatterpolargl"
           }
          ],
          "scatterternary": [
           {
            "marker": {
             "colorbar": {
              "outlinewidth": 0,
              "ticks": ""
             }
            },
            "type": "scatterternary"
           }
          ],
          "surface": [
           {
            "colorbar": {
             "outlinewidth": 0,
             "ticks": ""
            },
            "colorscale": [
             [
              0,
              "#0d0887"
             ],
             [
              0.1111111111111111,
              "#46039f"
             ],
             [
              0.2222222222222222,
              "#7201a8"
             ],
             [
              0.3333333333333333,
              "#9c179e"
             ],
             [
              0.4444444444444444,
              "#bd3786"
             ],
             [
              0.5555555555555556,
              "#d8576b"
             ],
             [
              0.6666666666666666,
              "#ed7953"
             ],
             [
              0.7777777777777778,
              "#fb9f3a"
             ],
             [
              0.8888888888888888,
              "#fdca26"
             ],
             [
              1,
              "#f0f921"
             ]
            ],
            "type": "surface"
           }
          ],
          "table": [
           {
            "cells": {
             "fill": {
              "color": "#EBF0F8"
             },
             "line": {
              "color": "white"
             }
            },
            "header": {
             "fill": {
              "color": "#C8D4E3"
             },
             "line": {
              "color": "white"
             }
            },
            "type": "table"
           }
          ]
         },
         "layout": {
          "annotationdefaults": {
           "arrowcolor": "#2a3f5f",
           "arrowhead": 0,
           "arrowwidth": 1
          },
          "coloraxis": {
           "colorbar": {
            "outlinewidth": 0,
            "ticks": ""
           }
          },
          "colorscale": {
           "diverging": [
            [
             0,
             "#8e0152"
            ],
            [
             0.1,
             "#c51b7d"
            ],
            [
             0.2,
             "#de77ae"
            ],
            [
             0.3,
             "#f1b6da"
            ],
            [
             0.4,
             "#fde0ef"
            ],
            [
             0.5,
             "#f7f7f7"
            ],
            [
             0.6,
             "#e6f5d0"
            ],
            [
             0.7,
             "#b8e186"
            ],
            [
             0.8,
             "#7fbc41"
            ],
            [
             0.9,
             "#4d9221"
            ],
            [
             1,
             "#276419"
            ]
           ],
           "sequential": [
            [
             0,
             "#0d0887"
            ],
            [
             0.1111111111111111,
             "#46039f"
            ],
            [
             0.2222222222222222,
             "#7201a8"
            ],
            [
             0.3333333333333333,
             "#9c179e"
            ],
            [
             0.4444444444444444,
             "#bd3786"
            ],
            [
             0.5555555555555556,
             "#d8576b"
            ],
            [
             0.6666666666666666,
             "#ed7953"
            ],
            [
             0.7777777777777778,
             "#fb9f3a"
            ],
            [
             0.8888888888888888,
             "#fdca26"
            ],
            [
             1,
             "#f0f921"
            ]
           ],
           "sequentialminus": [
            [
             0,
             "#0d0887"
            ],
            [
             0.1111111111111111,
             "#46039f"
            ],
            [
             0.2222222222222222,
             "#7201a8"
            ],
            [
             0.3333333333333333,
             "#9c179e"
            ],
            [
             0.4444444444444444,
             "#bd3786"
            ],
            [
             0.5555555555555556,
             "#d8576b"
            ],
            [
             0.6666666666666666,
             "#ed7953"
            ],
            [
             0.7777777777777778,
             "#fb9f3a"
            ],
            [
             0.8888888888888888,
             "#fdca26"
            ],
            [
             1,
             "#f0f921"
            ]
           ]
          },
          "colorway": [
           "#636efa",
           "#EF553B",
           "#00cc96",
           "#ab63fa",
           "#FFA15A",
           "#19d3f3",
           "#FF6692",
           "#B6E880",
           "#FF97FF",
           "#FECB52"
          ],
          "font": {
           "color": "#2a3f5f"
          },
          "geo": {
           "bgcolor": "white",
           "lakecolor": "white",
           "landcolor": "#E5ECF6",
           "showlakes": true,
           "showland": true,
           "subunitcolor": "white"
          },
          "hoverlabel": {
           "align": "left"
          },
          "hovermode": "closest",
          "mapbox": {
           "style": "light"
          },
          "paper_bgcolor": "white",
          "plot_bgcolor": "#E5ECF6",
          "polar": {
           "angularaxis": {
            "gridcolor": "white",
            "linecolor": "white",
            "ticks": ""
           },
           "bgcolor": "#E5ECF6",
           "radialaxis": {
            "gridcolor": "white",
            "linecolor": "white",
            "ticks": ""
           }
          },
          "scene": {
           "xaxis": {
            "backgroundcolor": "#E5ECF6",
            "gridcolor": "white",
            "gridwidth": 2,
            "linecolor": "white",
            "showbackground": true,
            "ticks": "",
            "zerolinecolor": "white"
           },
           "yaxis": {
            "backgroundcolor": "#E5ECF6",
            "gridcolor": "white",
            "gridwidth": 2,
            "linecolor": "white",
            "showbackground": true,
            "ticks": "",
            "zerolinecolor": "white"
           },
           "zaxis": {
            "backgroundcolor": "#E5ECF6",
            "gridcolor": "white",
            "gridwidth": 2,
            "linecolor": "white",
            "showbackground": true,
            "ticks": "",
            "zerolinecolor": "white"
           }
          },
          "shapedefaults": {
           "line": {
            "color": "#2a3f5f"
           }
          },
          "ternary": {
           "aaxis": {
            "gridcolor": "white",
            "linecolor": "white",
            "ticks": ""
           },
           "baxis": {
            "gridcolor": "white",
            "linecolor": "white",
            "ticks": ""
           },
           "bgcolor": "#E5ECF6",
           "caxis": {
            "gridcolor": "white",
            "linecolor": "white",
            "ticks": ""
           }
          },
          "title": {
           "x": 0.05
          },
          "xaxis": {
           "automargin": true,
           "gridcolor": "white",
           "linecolor": "white",
           "ticks": "",
           "title": {
            "standoff": 15
           },
           "zerolinecolor": "white",
           "zerolinewidth": 2
          },
          "yaxis": {
           "automargin": true,
           "gridcolor": "white",
           "linecolor": "white",
           "ticks": "",
           "title": {
            "standoff": 15
           },
           "zerolinecolor": "white",
           "zerolinewidth": 2
          }
         }
        },
        "title": {
         "text": "Car Crash Insurance by State",
         "x": 0.5
        },
        "xaxis": {
         "title": {
          "text": "ins_premiums"
         }
        },
        "yaxis": {
         "title": {
          "text": "ins_losses"
         }
        }
       }
      },
      "text/html": [
       "<div>\n",
       "        \n",
       "        \n",
       "            <div id=\"d3d2dcbb-085b-4382-92a0-71e987835a08\" class=\"plotly-graph-div\" style=\"height:525px; width:100%;\"></div>\n",
       "            <script type=\"text/javascript\">\n",
       "                require([\"plotly\"], function(Plotly) {\n",
       "                    window.PLOTLYENV=window.PLOTLYENV || {};\n",
       "                    \n",
       "                if (document.getElementById(\"d3d2dcbb-085b-4382-92a0-71e987835a08\")) {\n",
       "                    Plotly.newPlot(\n",
       "                        'd3d2dcbb-085b-4382-92a0-71e987835a08',\n",
       "                        [{\"marker\": {\"size\": [18.8, 18.1, 18.6, 22.4, 12.0, 13.6, 10.8, 16.2, 5.9, 17.9, 15.6, 17.5, 15.3, 12.8, 14.5, 15.7, 17.8, 21.4, 20.5, 15.1, 12.5, 8.2, 14.1, 9.6, 17.6, 16.1, 21.4, 14.9, 14.7, 11.6, 11.2, 18.4, 12.3, 16.8, 23.9, 14.1, 19.9, 12.8, 18.2, 11.1, 23.9, 19.4, 19.5, 19.4, 11.3, 13.6, 12.7, 10.6, 23.8, 13.8, 17.4]}, \"mode\": \"markers+text\", \"name\": \"Car Crashes\", \"text\": [\"AL\", \"AK\", \"AZ\", \"AR\", \"CA\", \"CO\", \"CT\", \"DE\", \"DC\", \"FL\", \"GA\", \"HI\", \"ID\", \"IL\", \"IN\", \"IA\", \"KS\", \"KY\", \"LA\", \"ME\", \"MD\", \"MA\", \"MI\", \"MN\", \"MS\", \"MO\", \"MT\", \"NE\", \"NV\", \"NH\", \"NJ\", \"NM\", \"NY\", \"NC\", \"ND\", \"OH\", \"OK\", \"OR\", \"PA\", \"RI\", \"SC\", \"SD\", \"TN\", \"TX\", \"UT\", \"VT\", \"VA\", \"WA\", \"WV\", \"WI\", \"WY\"], \"type\": \"scatter\", \"x\": [784.55, 1053.48, 899.47, 827.34, 878.41, 835.5, 1068.73, 1137.87, 1273.89, 1160.13, 913.15, 861.18, 641.96, 803.11, 710.46, 649.06, 780.45, 872.51, 1281.55, 661.88, 1048.78, 1011.14, 1110.61, 777.18, 896.07, 790.32, 816.21, 732.28, 1029.87, 746.54, 1301.52, 869.85, 1234.31, 708.24, 688.75, 697.73, 881.51, 804.71, 905.99, 1148.99, 858.97, 669.31, 767.91, 1004.75, 809.38, 716.2, 768.95, 890.03, 992.61, 670.31, 791.14], \"y\": [145.08, 133.93, 110.35, 142.39, 165.63, 139.91, 167.02, 151.48, 136.05, 144.18, 142.8, 120.92, 82.75, 139.15, 108.92, 114.47, 133.8, 137.13, 194.78, 96.57, 192.7, 135.63, 152.26, 133.35, 155.77, 144.45, 85.15, 114.82, 138.71, 120.21, 159.85, 120.75, 150.01, 127.82, 109.72, 133.52, 178.86, 104.61, 153.86, 148.58, 116.29, 96.87, 155.57, 156.83, 109.48, 109.61, 153.72, 111.62, 152.56, 106.62, 122.04]}],\n",
       "                        {\"template\": {\"data\": {\"bar\": [{\"error_x\": {\"color\": \"#2a3f5f\"}, \"error_y\": {\"color\": \"#2a3f5f\"}, \"marker\": {\"line\": {\"color\": \"#E5ECF6\", \"width\": 0.5}}, \"type\": \"bar\"}], \"barpolar\": [{\"marker\": {\"line\": {\"color\": \"#E5ECF6\", \"width\": 0.5}}, \"type\": \"barpolar\"}], \"carpet\": [{\"aaxis\": {\"endlinecolor\": \"#2a3f5f\", \"gridcolor\": \"white\", \"linecolor\": \"white\", \"minorgridcolor\": \"white\", \"startlinecolor\": \"#2a3f5f\"}, \"baxis\": {\"endlinecolor\": \"#2a3f5f\", \"gridcolor\": \"white\", \"linecolor\": \"white\", \"minorgridcolor\": \"white\", \"startlinecolor\": \"#2a3f5f\"}, \"type\": \"carpet\"}], \"choropleth\": [{\"colorbar\": {\"outlinewidth\": 0, \"ticks\": \"\"}, \"type\": \"choropleth\"}], \"contour\": [{\"colorbar\": {\"outlinewidth\": 0, \"ticks\": \"\"}, \"colorscale\": [[0.0, \"#0d0887\"], [0.1111111111111111, \"#46039f\"], [0.2222222222222222, \"#7201a8\"], [0.3333333333333333, \"#9c179e\"], [0.4444444444444444, \"#bd3786\"], [0.5555555555555556, \"#d8576b\"], [0.6666666666666666, \"#ed7953\"], [0.7777777777777778, \"#fb9f3a\"], [0.8888888888888888, \"#fdca26\"], [1.0, \"#f0f921\"]], \"type\": \"contour\"}], \"contourcarpet\": [{\"colorbar\": {\"outlinewidth\": 0, \"ticks\": \"\"}, \"type\": \"contourcarpet\"}], \"heatmap\": [{\"colorbar\": {\"outlinewidth\": 0, \"ticks\": \"\"}, \"colorscale\": [[0.0, \"#0d0887\"], [0.1111111111111111, \"#46039f\"], [0.2222222222222222, \"#7201a8\"], [0.3333333333333333, \"#9c179e\"], [0.4444444444444444, \"#bd3786\"], [0.5555555555555556, \"#d8576b\"], [0.6666666666666666, \"#ed7953\"], [0.7777777777777778, \"#fb9f3a\"], [0.8888888888888888, \"#fdca26\"], [1.0, \"#f0f921\"]], \"type\": \"heatmap\"}], \"heatmapgl\": [{\"colorbar\": {\"outlinewidth\": 0, \"ticks\": \"\"}, \"colorscale\": [[0.0, \"#0d0887\"], [0.1111111111111111, \"#46039f\"], [0.2222222222222222, \"#7201a8\"], [0.3333333333333333, \"#9c179e\"], [0.4444444444444444, \"#bd3786\"], [0.5555555555555556, \"#d8576b\"], [0.6666666666666666, \"#ed7953\"], [0.7777777777777778, \"#fb9f3a\"], [0.8888888888888888, \"#fdca26\"], [1.0, \"#f0f921\"]], \"type\": \"heatmapgl\"}], \"histogram\": [{\"marker\": {\"colorbar\": {\"outlinewidth\": 0, \"ticks\": \"\"}}, \"type\": \"histogram\"}], \"histogram2d\": [{\"colorbar\": {\"outlinewidth\": 0, \"ticks\": \"\"}, \"colorscale\": [[0.0, \"#0d0887\"], [0.1111111111111111, \"#46039f\"], [0.2222222222222222, \"#7201a8\"], [0.3333333333333333, \"#9c179e\"], [0.4444444444444444, \"#bd3786\"], [0.5555555555555556, \"#d8576b\"], [0.6666666666666666, \"#ed7953\"], [0.7777777777777778, \"#fb9f3a\"], [0.8888888888888888, \"#fdca26\"], [1.0, \"#f0f921\"]], \"type\": \"histogram2d\"}], \"histogram2dcontour\": [{\"colorbar\": {\"outlinewidth\": 0, \"ticks\": \"\"}, \"colorscale\": [[0.0, \"#0d0887\"], [0.1111111111111111, \"#46039f\"], [0.2222222222222222, \"#7201a8\"], [0.3333333333333333, \"#9c179e\"], [0.4444444444444444, \"#bd3786\"], [0.5555555555555556, \"#d8576b\"], [0.6666666666666666, \"#ed7953\"], [0.7777777777777778, \"#fb9f3a\"], [0.8888888888888888, \"#fdca26\"], [1.0, \"#f0f921\"]], \"type\": \"histogram2dcontour\"}], \"mesh3d\": [{\"colorbar\": {\"outlinewidth\": 0, \"ticks\": \"\"}, \"type\": \"mesh3d\"}], \"parcoords\": [{\"line\": {\"colorbar\": {\"outlinewidth\": 0, \"ticks\": \"\"}}, \"type\": \"parcoords\"}], \"pie\": [{\"automargin\": true, \"type\": \"pie\"}], \"scatter\": [{\"marker\": {\"colorbar\": {\"outlinewidth\": 0, \"ticks\": \"\"}}, \"type\": \"scatter\"}], \"scatter3d\": [{\"line\": {\"colorbar\": {\"outlinewidth\": 0, \"ticks\": \"\"}}, \"marker\": {\"colorbar\": {\"outlinewidth\": 0, \"ticks\": \"\"}}, \"type\": \"scatter3d\"}], \"scattercarpet\": [{\"marker\": {\"colorbar\": {\"outlinewidth\": 0, \"ticks\": \"\"}}, \"type\": \"scattercarpet\"}], \"scattergeo\": [{\"marker\": {\"colorbar\": {\"outlinewidth\": 0, \"ticks\": \"\"}}, \"type\": \"scattergeo\"}], \"scattergl\": [{\"marker\": {\"colorbar\": {\"outlinewidth\": 0, \"ticks\": \"\"}}, \"type\": \"scattergl\"}], \"scattermapbox\": [{\"marker\": {\"colorbar\": {\"outlinewidth\": 0, \"ticks\": \"\"}}, \"type\": \"scattermapbox\"}], \"scatterpolar\": [{\"marker\": {\"colorbar\": {\"outlinewidth\": 0, \"ticks\": \"\"}}, \"type\": \"scatterpolar\"}], \"scatterpolargl\": [{\"marker\": {\"colorbar\": {\"outlinewidth\": 0, \"ticks\": \"\"}}, \"type\": \"scatterpolargl\"}], \"scatterternary\": [{\"marker\": {\"colorbar\": {\"outlinewidth\": 0, \"ticks\": \"\"}}, \"type\": \"scatterternary\"}], \"surface\": [{\"colorbar\": {\"outlinewidth\": 0, \"ticks\": \"\"}, \"colorscale\": [[0.0, \"#0d0887\"], [0.1111111111111111, \"#46039f\"], [0.2222222222222222, \"#7201a8\"], [0.3333333333333333, \"#9c179e\"], [0.4444444444444444, \"#bd3786\"], [0.5555555555555556, \"#d8576b\"], [0.6666666666666666, \"#ed7953\"], [0.7777777777777778, \"#fb9f3a\"], [0.8888888888888888, \"#fdca26\"], [1.0, \"#f0f921\"]], \"type\": \"surface\"}], \"table\": [{\"cells\": {\"fill\": {\"color\": \"#EBF0F8\"}, \"line\": {\"color\": \"white\"}}, \"header\": {\"fill\": {\"color\": \"#C8D4E3\"}, \"line\": {\"color\": \"white\"}}, \"type\": \"table\"}]}, \"layout\": {\"annotationdefaults\": {\"arrowcolor\": \"#2a3f5f\", \"arrowhead\": 0, \"arrowwidth\": 1}, \"coloraxis\": {\"colorbar\": {\"outlinewidth\": 0, \"ticks\": \"\"}}, \"colorscale\": {\"diverging\": [[0, \"#8e0152\"], [0.1, \"#c51b7d\"], [0.2, \"#de77ae\"], [0.3, \"#f1b6da\"], [0.4, \"#fde0ef\"], [0.5, \"#f7f7f7\"], [0.6, \"#e6f5d0\"], [0.7, \"#b8e186\"], [0.8, \"#7fbc41\"], [0.9, \"#4d9221\"], [1, \"#276419\"]], \"sequential\": [[0.0, \"#0d0887\"], [0.1111111111111111, \"#46039f\"], [0.2222222222222222, \"#7201a8\"], [0.3333333333333333, \"#9c179e\"], [0.4444444444444444, \"#bd3786\"], [0.5555555555555556, \"#d8576b\"], [0.6666666666666666, \"#ed7953\"], [0.7777777777777778, \"#fb9f3a\"], [0.8888888888888888, \"#fdca26\"], [1.0, \"#f0f921\"]], \"sequentialminus\": [[0.0, \"#0d0887\"], [0.1111111111111111, \"#46039f\"], [0.2222222222222222, \"#7201a8\"], [0.3333333333333333, \"#9c179e\"], [0.4444444444444444, \"#bd3786\"], [0.5555555555555556, \"#d8576b\"], [0.6666666666666666, \"#ed7953\"], [0.7777777777777778, \"#fb9f3a\"], [0.8888888888888888, \"#fdca26\"], [1.0, \"#f0f921\"]]}, \"colorway\": [\"#636efa\", \"#EF553B\", \"#00cc96\", \"#ab63fa\", \"#FFA15A\", \"#19d3f3\", \"#FF6692\", \"#B6E880\", \"#FF97FF\", \"#FECB52\"], \"font\": {\"color\": \"#2a3f5f\"}, \"geo\": {\"bgcolor\": \"white\", \"lakecolor\": \"white\", \"landcolor\": \"#E5ECF6\", \"showlakes\": true, \"showland\": true, \"subunitcolor\": \"white\"}, \"hoverlabel\": {\"align\": \"left\"}, \"hovermode\": \"closest\", \"mapbox\": {\"style\": \"light\"}, \"paper_bgcolor\": \"white\", \"plot_bgcolor\": \"#E5ECF6\", \"polar\": {\"angularaxis\": {\"gridcolor\": \"white\", \"linecolor\": \"white\", \"ticks\": \"\"}, \"bgcolor\": \"#E5ECF6\", \"radialaxis\": {\"gridcolor\": \"white\", \"linecolor\": \"white\", \"ticks\": \"\"}}, \"scene\": {\"xaxis\": {\"backgroundcolor\": \"#E5ECF6\", \"gridcolor\": \"white\", \"gridwidth\": 2, \"linecolor\": \"white\", \"showbackground\": true, \"ticks\": \"\", \"zerolinecolor\": \"white\"}, \"yaxis\": {\"backgroundcolor\": \"#E5ECF6\", \"gridcolor\": \"white\", \"gridwidth\": 2, \"linecolor\": \"white\", \"showbackground\": true, \"ticks\": \"\", \"zerolinecolor\": \"white\"}, \"zaxis\": {\"backgroundcolor\": \"#E5ECF6\", \"gridcolor\": \"white\", \"gridwidth\": 2, \"linecolor\": \"white\", \"showbackground\": true, \"ticks\": \"\", \"zerolinecolor\": \"white\"}}, \"shapedefaults\": {\"line\": {\"color\": \"#2a3f5f\"}}, \"ternary\": {\"aaxis\": {\"gridcolor\": \"white\", \"linecolor\": \"white\", \"ticks\": \"\"}, \"baxis\": {\"gridcolor\": \"white\", \"linecolor\": \"white\", \"ticks\": \"\"}, \"bgcolor\": \"#E5ECF6\", \"caxis\": {\"gridcolor\": \"white\", \"linecolor\": \"white\", \"ticks\": \"\"}}, \"title\": {\"x\": 0.05}, \"xaxis\": {\"automargin\": true, \"gridcolor\": \"white\", \"linecolor\": \"white\", \"ticks\": \"\", \"title\": {\"standoff\": 15}, \"zerolinecolor\": \"white\", \"zerolinewidth\": 2}, \"yaxis\": {\"automargin\": true, \"gridcolor\": \"white\", \"linecolor\": \"white\", \"ticks\": \"\", \"title\": {\"standoff\": 15}, \"zerolinecolor\": \"white\", \"zerolinewidth\": 2}}}, \"title\": {\"text\": \"Car Crash Insurance by State\", \"x\": 0.5}, \"xaxis\": {\"title\": {\"text\": \"ins_premiums\"}}, \"yaxis\": {\"title\": {\"text\": \"ins_losses\"}}},\n",
       "                        {\"responsive\": true}\n",
       "                    ).then(function(){\n",
       "                            \n",
       "var gd = document.getElementById('d3d2dcbb-085b-4382-92a0-71e987835a08');\n",
       "var x = new MutationObserver(function (mutations, observer) {{\n",
       "        var display = window.getComputedStyle(gd).display;\n",
       "        if (!display || display === 'none') {{\n",
       "            console.log([gd, 'removed!']);\n",
       "            Plotly.purge(gd);\n",
       "            observer.disconnect();\n",
       "        }}\n",
       "}});\n",
       "\n",
       "// Listen for the removal of the full notebook cells\n",
       "var notebookContainer = gd.closest('#notebook-container');\n",
       "if (notebookContainer) {{\n",
       "    x.observe(notebookContainer, {childList: true});\n",
       "}}\n",
       "\n",
       "// Listen for the clearing of the current output cell\n",
       "var outputEl = gd.closest('.output');\n",
       "if (outputEl) {{\n",
       "    x.observe(outputEl, {childList: true});\n",
       "}}\n",
       "\n",
       "                        })\n",
       "                };\n",
       "                });\n",
       "            </script>\n",
       "        </div>"
      ]
     },
     "metadata": {},
     "output_type": "display_data"
    }
   ],
   "source": [
    "fig = go.Figure()\n",
    "\n",
    "fig.add_trace(go.Scatter(x=df_car_crashes.ins_premium, y=df_car_crashes.ins_losses, text=df_car_crashes.index, mode='markers+text', marker=dict(size=df_car_crashes.total), name=\"Car Crashes\"))\n",
    "\n",
    "fig.update_layout(title=dict(text=\"Car Crash Insurance by State\", x=0.5), xaxis_title=\"ins_premiums\", yaxis_title=\"ins_losses\")\n",
    "fig.show()"
   ]
  },
  {
   "cell_type": "markdown",
   "metadata": {},
   "source": [
    "# The plots for 25 and 26 were too large, so I uploaded them seperately in this folder. lab08 #25.png, etc."
   ]
  },
  {
   "cell_type": "markdown",
   "metadata": {},
   "source": [
    "**26) [P] Next, generate two interesting plots that show some relationships between variables in the data. Try to\n",
    "use as many variables as you can without creating chaos! Don't just throw in multiple variables for the sake of\n",
    "showing them, only include them if it makes sense to do so. Your aim is to derive meaning from your data.\n",
    "Good visualizations tell a story. Strive to use at least one additional variable as size, color, or shape in your\n",
    "data, so you can show more than just 2 variables on a single plot. Add titles, legends and label your axes as\n",
    "appropriate.**\n",
    "\n",
    "**After each plot, create a markdown cell and briefly draw conclusions from your plot.**"
   ]
  },
  {
   "cell_type": "code",
   "execution_count": 98,
   "metadata": {
    "scrolled": true
   },
   "outputs": [
    {
     "data": {
      "application/vnd.plotly.v1+json": {
       "config": {
        "plotlyServerURL": "https://plot.ly"
       },
       "data": [
        {
         "marker": {
          "size": [
           18.8,
           18.1,
           18.6,
           22.4,
           12,
           13.6,
           10.8,
           16.2,
           5.9,
           17.9,
           15.6,
           17.5,
           15.3,
           12.8,
           14.5,
           15.7,
           17.8,
           21.4,
           20.5,
           15.1,
           12.5,
           8.2,
           14.1,
           9.6,
           17.6,
           16.1,
           21.4,
           14.9,
           14.7,
           11.6,
           11.2,
           18.4,
           12.3,
           16.8,
           23.9,
           14.1,
           19.9,
           12.8,
           18.2,
           11.1,
           23.9,
           19.4,
           19.5,
           19.4,
           11.3,
           13.6,
           12.7,
           10.6,
           23.8,
           13.8,
           17.4
          ]
         },
         "mode": "markers+text",
         "name": "Car Crashes",
         "text": [
          "AL",
          "AK",
          "AZ",
          "AR",
          "CA",
          "CO",
          "CT",
          "DE",
          "DC",
          "FL",
          "GA",
          "HI",
          "ID",
          "IL",
          "IN",
          "IA",
          "KS",
          "KY",
          "LA",
          "ME",
          "MD",
          "MA",
          "MI",
          "MN",
          "MS",
          "MO",
          "MT",
          "NE",
          "NV",
          "NH",
          "NJ",
          "NM",
          "NY",
          "NC",
          "ND",
          "OH",
          "OK",
          "OR",
          "PA",
          "RI",
          "SC",
          "SD",
          "TN",
          "TX",
          "UT",
          "VT",
          "VA",
          "WA",
          "WV",
          "WI",
          "WY"
         ],
         "type": "scatter",
         "x": [
          15.04,
          17.014,
          17.855999999999998,
          21.28,
          10.68,
          12.92,
          8.856,
          16.038,
          5.9,
          16.826,
          14.508,
          15.225,
          14.994000000000002,
          12.288000000000002,
          13.775,
          13.659,
          15.13,
          16.264,
          20.09,
          12.684000000000001,
          12.375,
          6.56,
          10.857,
          8.448,
          17.6,
          13.524,
          18.19,
          13.41,
          14.553,
          9.628,
          8.735999999999999,
          18.032,
          9.84,
          13.608,
          20.554,
          11.562,
          18.706,
          11.52,
          16.016,
          8.769,
          19.359,
          16.683999999999994,
          15.795,
          16.878,
          10.848000000000004,
          12.92,
          11.175999999999998,
          9.116,
          20.706,
          11.592,
          15.659999999999998
         ],
         "y": [
          784.55,
          1053.48,
          899.47,
          827.34,
          878.41,
          835.5,
          1068.73,
          1137.87,
          1273.89,
          1160.13,
          913.15,
          861.18,
          641.96,
          803.11,
          710.46,
          649.06,
          780.45,
          872.51,
          1281.55,
          661.88,
          1048.78,
          1011.14,
          1110.61,
          777.18,
          896.07,
          790.32,
          816.21,
          732.28,
          1029.87,
          746.54,
          1301.52,
          869.85,
          1234.31,
          708.24,
          688.75,
          697.73,
          881.51,
          804.71,
          905.99,
          1148.99,
          858.97,
          669.31,
          767.91,
          1004.75,
          809.38,
          716.2,
          768.95,
          890.03,
          992.61,
          670.31,
          791.14
         ]
        }
       ],
       "layout": {
        "template": {
         "data": {
          "bar": [
           {
            "error_x": {
             "color": "#2a3f5f"
            },
            "error_y": {
             "color": "#2a3f5f"
            },
            "marker": {
             "line": {
              "color": "#E5ECF6",
              "width": 0.5
             }
            },
            "type": "bar"
           }
          ],
          "barpolar": [
           {
            "marker": {
             "line": {
              "color": "#E5ECF6",
              "width": 0.5
             }
            },
            "type": "barpolar"
           }
          ],
          "carpet": [
           {
            "aaxis": {
             "endlinecolor": "#2a3f5f",
             "gridcolor": "white",
             "linecolor": "white",
             "minorgridcolor": "white",
             "startlinecolor": "#2a3f5f"
            },
            "baxis": {
             "endlinecolor": "#2a3f5f",
             "gridcolor": "white",
             "linecolor": "white",
             "minorgridcolor": "white",
             "startlinecolor": "#2a3f5f"
            },
            "type": "carpet"
           }
          ],
          "choropleth": [
           {
            "colorbar": {
             "outlinewidth": 0,
             "ticks": ""
            },
            "type": "choropleth"
           }
          ],
          "contour": [
           {
            "colorbar": {
             "outlinewidth": 0,
             "ticks": ""
            },
            "colorscale": [
             [
              0,
              "#0d0887"
             ],
             [
              0.1111111111111111,
              "#46039f"
             ],
             [
              0.2222222222222222,
              "#7201a8"
             ],
             [
              0.3333333333333333,
              "#9c179e"
             ],
             [
              0.4444444444444444,
              "#bd3786"
             ],
             [
              0.5555555555555556,
              "#d8576b"
             ],
             [
              0.6666666666666666,
              "#ed7953"
             ],
             [
              0.7777777777777778,
              "#fb9f3a"
             ],
             [
              0.8888888888888888,
              "#fdca26"
             ],
             [
              1,
              "#f0f921"
             ]
            ],
            "type": "contour"
           }
          ],
          "contourcarpet": [
           {
            "colorbar": {
             "outlinewidth": 0,
             "ticks": ""
            },
            "type": "contourcarpet"
           }
          ],
          "heatmap": [
           {
            "colorbar": {
             "outlinewidth": 0,
             "ticks": ""
            },
            "colorscale": [
             [
              0,
              "#0d0887"
             ],
             [
              0.1111111111111111,
              "#46039f"
             ],
             [
              0.2222222222222222,
              "#7201a8"
             ],
             [
              0.3333333333333333,
              "#9c179e"
             ],
             [
              0.4444444444444444,
              "#bd3786"
             ],
             [
              0.5555555555555556,
              "#d8576b"
             ],
             [
              0.6666666666666666,
              "#ed7953"
             ],
             [
              0.7777777777777778,
              "#fb9f3a"
             ],
             [
              0.8888888888888888,
              "#fdca26"
             ],
             [
              1,
              "#f0f921"
             ]
            ],
            "type": "heatmap"
           }
          ],
          "heatmapgl": [
           {
            "colorbar": {
             "outlinewidth": 0,
             "ticks": ""
            },
            "colorscale": [
             [
              0,
              "#0d0887"
             ],
             [
              0.1111111111111111,
              "#46039f"
             ],
             [
              0.2222222222222222,
              "#7201a8"
             ],
             [
              0.3333333333333333,
              "#9c179e"
             ],
             [
              0.4444444444444444,
              "#bd3786"
             ],
             [
              0.5555555555555556,
              "#d8576b"
             ],
             [
              0.6666666666666666,
              "#ed7953"
             ],
             [
              0.7777777777777778,
              "#fb9f3a"
             ],
             [
              0.8888888888888888,
              "#fdca26"
             ],
             [
              1,
              "#f0f921"
             ]
            ],
            "type": "heatmapgl"
           }
          ],
          "histogram": [
           {
            "marker": {
             "colorbar": {
              "outlinewidth": 0,
              "ticks": ""
             }
            },
            "type": "histogram"
           }
          ],
          "histogram2d": [
           {
            "colorbar": {
             "outlinewidth": 0,
             "ticks": ""
            },
            "colorscale": [
             [
              0,
              "#0d0887"
             ],
             [
              0.1111111111111111,
              "#46039f"
             ],
             [
              0.2222222222222222,
              "#7201a8"
             ],
             [
              0.3333333333333333,
              "#9c179e"
             ],
             [
              0.4444444444444444,
              "#bd3786"
             ],
             [
              0.5555555555555556,
              "#d8576b"
             ],
             [
              0.6666666666666666,
              "#ed7953"
             ],
             [
              0.7777777777777778,
              "#fb9f3a"
             ],
             [
              0.8888888888888888,
              "#fdca26"
             ],
             [
              1,
              "#f0f921"
             ]
            ],
            "type": "histogram2d"
           }
          ],
          "histogram2dcontour": [
           {
            "colorbar": {
             "outlinewidth": 0,
             "ticks": ""
            },
            "colorscale": [
             [
              0,
              "#0d0887"
             ],
             [
              0.1111111111111111,
              "#46039f"
             ],
             [
              0.2222222222222222,
              "#7201a8"
             ],
             [
              0.3333333333333333,
              "#9c179e"
             ],
             [
              0.4444444444444444,
              "#bd3786"
             ],
             [
              0.5555555555555556,
              "#d8576b"
             ],
             [
              0.6666666666666666,
              "#ed7953"
             ],
             [
              0.7777777777777778,
              "#fb9f3a"
             ],
             [
              0.8888888888888888,
              "#fdca26"
             ],
             [
              1,
              "#f0f921"
             ]
            ],
            "type": "histogram2dcontour"
           }
          ],
          "mesh3d": [
           {
            "colorbar": {
             "outlinewidth": 0,
             "ticks": ""
            },
            "type": "mesh3d"
           }
          ],
          "parcoords": [
           {
            "line": {
             "colorbar": {
              "outlinewidth": 0,
              "ticks": ""
             }
            },
            "type": "parcoords"
           }
          ],
          "pie": [
           {
            "automargin": true,
            "type": "pie"
           }
          ],
          "scatter": [
           {
            "marker": {
             "colorbar": {
              "outlinewidth": 0,
              "ticks": ""
             }
            },
            "type": "scatter"
           }
          ],
          "scatter3d": [
           {
            "line": {
             "colorbar": {
              "outlinewidth": 0,
              "ticks": ""
             }
            },
            "marker": {
             "colorbar": {
              "outlinewidth": 0,
              "ticks": ""
             }
            },
            "type": "scatter3d"
           }
          ],
          "scattercarpet": [
           {
            "marker": {
             "colorbar": {
              "outlinewidth": 0,
              "ticks": ""
             }
            },
            "type": "scattercarpet"
           }
          ],
          "scattergeo": [
           {
            "marker": {
             "colorbar": {
              "outlinewidth": 0,
              "ticks": ""
             }
            },
            "type": "scattergeo"
           }
          ],
          "scattergl": [
           {
            "marker": {
             "colorbar": {
              "outlinewidth": 0,
              "ticks": ""
             }
            },
            "type": "scattergl"
           }
          ],
          "scattermapbox": [
           {
            "marker": {
             "colorbar": {
              "outlinewidth": 0,
              "ticks": ""
             }
            },
            "type": "scattermapbox"
           }
          ],
          "scatterpolar": [
           {
            "marker": {
             "colorbar": {
              "outlinewidth": 0,
              "ticks": ""
             }
            },
            "type": "scatterpolar"
           }
          ],
          "scatterpolargl": [
           {
            "marker": {
             "colorbar": {
              "outlinewidth": 0,
              "ticks": ""
             }
            },
            "type": "scatterpolargl"
           }
          ],
          "scatterternary": [
           {
            "marker": {
             "colorbar": {
              "outlinewidth": 0,
              "ticks": ""
             }
            },
            "type": "scatterternary"
           }
          ],
          "surface": [
           {
            "colorbar": {
             "outlinewidth": 0,
             "ticks": ""
            },
            "colorscale": [
             [
              0,
              "#0d0887"
             ],
             [
              0.1111111111111111,
              "#46039f"
             ],
             [
              0.2222222222222222,
              "#7201a8"
             ],
             [
              0.3333333333333333,
              "#9c179e"
             ],
             [
              0.4444444444444444,
              "#bd3786"
             ],
             [
              0.5555555555555556,
              "#d8576b"
             ],
             [
              0.6666666666666666,
              "#ed7953"
             ],
             [
              0.7777777777777778,
              "#fb9f3a"
             ],
             [
              0.8888888888888888,
              "#fdca26"
             ],
             [
              1,
              "#f0f921"
             ]
            ],
            "type": "surface"
           }
          ],
          "table": [
           {
            "cells": {
             "fill": {
              "color": "#EBF0F8"
             },
             "line": {
              "color": "white"
             }
            },
            "header": {
             "fill": {
              "color": "#C8D4E3"
             },
             "line": {
              "color": "white"
             }
            },
            "type": "table"
           }
          ]
         },
         "layout": {
          "annotationdefaults": {
           "arrowcolor": "#2a3f5f",
           "arrowhead": 0,
           "arrowwidth": 1
          },
          "coloraxis": {
           "colorbar": {
            "outlinewidth": 0,
            "ticks": ""
           }
          },
          "colorscale": {
           "diverging": [
            [
             0,
             "#8e0152"
            ],
            [
             0.1,
             "#c51b7d"
            ],
            [
             0.2,
             "#de77ae"
            ],
            [
             0.3,
             "#f1b6da"
            ],
            [
             0.4,
             "#fde0ef"
            ],
            [
             0.5,
             "#f7f7f7"
            ],
            [
             0.6,
             "#e6f5d0"
            ],
            [
             0.7,
             "#b8e186"
            ],
            [
             0.8,
             "#7fbc41"
            ],
            [
             0.9,
             "#4d9221"
            ],
            [
             1,
             "#276419"
            ]
           ],
           "sequential": [
            [
             0,
             "#0d0887"
            ],
            [
             0.1111111111111111,
             "#46039f"
            ],
            [
             0.2222222222222222,
             "#7201a8"
            ],
            [
             0.3333333333333333,
             "#9c179e"
            ],
            [
             0.4444444444444444,
             "#bd3786"
            ],
            [
             0.5555555555555556,
             "#d8576b"
            ],
            [
             0.6666666666666666,
             "#ed7953"
            ],
            [
             0.7777777777777778,
             "#fb9f3a"
            ],
            [
             0.8888888888888888,
             "#fdca26"
            ],
            [
             1,
             "#f0f921"
            ]
           ],
           "sequentialminus": [
            [
             0,
             "#0d0887"
            ],
            [
             0.1111111111111111,
             "#46039f"
            ],
            [
             0.2222222222222222,
             "#7201a8"
            ],
            [
             0.3333333333333333,
             "#9c179e"
            ],
            [
             0.4444444444444444,
             "#bd3786"
            ],
            [
             0.5555555555555556,
             "#d8576b"
            ],
            [
             0.6666666666666666,
             "#ed7953"
            ],
            [
             0.7777777777777778,
             "#fb9f3a"
            ],
            [
             0.8888888888888888,
             "#fdca26"
            ],
            [
             1,
             "#f0f921"
            ]
           ]
          },
          "colorway": [
           "#636efa",
           "#EF553B",
           "#00cc96",
           "#ab63fa",
           "#FFA15A",
           "#19d3f3",
           "#FF6692",
           "#B6E880",
           "#FF97FF",
           "#FECB52"
          ],
          "font": {
           "color": "#2a3f5f"
          },
          "geo": {
           "bgcolor": "white",
           "lakecolor": "white",
           "landcolor": "#E5ECF6",
           "showlakes": true,
           "showland": true,
           "subunitcolor": "white"
          },
          "hoverlabel": {
           "align": "left"
          },
          "hovermode": "closest",
          "mapbox": {
           "style": "light"
          },
          "paper_bgcolor": "white",
          "plot_bgcolor": "#E5ECF6",
          "polar": {
           "angularaxis": {
            "gridcolor": "white",
            "linecolor": "white",
            "ticks": ""
           },
           "bgcolor": "#E5ECF6",
           "radialaxis": {
            "gridcolor": "white",
            "linecolor": "white",
            "ticks": ""
           }
          },
          "scene": {
           "xaxis": {
            "backgroundcolor": "#E5ECF6",
            "gridcolor": "white",
            "gridwidth": 2,
            "linecolor": "white",
            "showbackground": true,
            "ticks": "",
            "zerolinecolor": "white"
           },
           "yaxis": {
            "backgroundcolor": "#E5ECF6",
            "gridcolor": "white",
            "gridwidth": 2,
            "linecolor": "white",
            "showbackground": true,
            "ticks": "",
            "zerolinecolor": "white"
           },
           "zaxis": {
            "backgroundcolor": "#E5ECF6",
            "gridcolor": "white",
            "gridwidth": 2,
            "linecolor": "white",
            "showbackground": true,
            "ticks": "",
            "zerolinecolor": "white"
           }
          },
          "shapedefaults": {
           "line": {
            "color": "#2a3f5f"
           }
          },
          "ternary": {
           "aaxis": {
            "gridcolor": "white",
            "linecolor": "white",
            "ticks": ""
           },
           "baxis": {
            "gridcolor": "white",
            "linecolor": "white",
            "ticks": ""
           },
           "bgcolor": "#E5ECF6",
           "caxis": {
            "gridcolor": "white",
            "linecolor": "white",
            "ticks": ""
           }
          },
          "title": {
           "x": 0.05
          },
          "xaxis": {
           "automargin": true,
           "gridcolor": "white",
           "linecolor": "white",
           "ticks": "",
           "title": {
            "standoff": 15
           },
           "zerolinecolor": "white",
           "zerolinewidth": 2
          },
          "yaxis": {
           "automargin": true,
           "gridcolor": "white",
           "linecolor": "white",
           "ticks": "",
           "title": {
            "standoff": 15
           },
           "zerolinecolor": "white",
           "zerolinewidth": 2
          }
         }
        },
        "title": {
         "text": "Car Crashes by State"
        },
        "xaxis": {
         "title": {
          "text": "no_previous"
         }
        },
        "yaxis": {
         "title": {
          "text": "ins_premium"
         }
        }
       }
      },
      "text/html": [
       "<div>\n",
       "        \n",
       "        \n",
       "            <div id=\"23b2518e-3e56-4475-8617-3d613ad126ea\" class=\"plotly-graph-div\" style=\"height:525px; width:100%;\"></div>\n",
       "            <script type=\"text/javascript\">\n",
       "                require([\"plotly\"], function(Plotly) {\n",
       "                    window.PLOTLYENV=window.PLOTLYENV || {};\n",
       "                    \n",
       "                if (document.getElementById(\"23b2518e-3e56-4475-8617-3d613ad126ea\")) {\n",
       "                    Plotly.newPlot(\n",
       "                        '23b2518e-3e56-4475-8617-3d613ad126ea',\n",
       "                        [{\"marker\": {\"size\": [18.8, 18.1, 18.6, 22.4, 12.0, 13.6, 10.8, 16.2, 5.9, 17.9, 15.6, 17.5, 15.3, 12.8, 14.5, 15.7, 17.8, 21.4, 20.5, 15.1, 12.5, 8.2, 14.1, 9.6, 17.6, 16.1, 21.4, 14.9, 14.7, 11.6, 11.2, 18.4, 12.3, 16.8, 23.9, 14.1, 19.9, 12.8, 18.2, 11.1, 23.9, 19.4, 19.5, 19.4, 11.3, 13.6, 12.7, 10.6, 23.8, 13.8, 17.4]}, \"mode\": \"markers+text\", \"name\": \"Car Crashes\", \"text\": [\"AL\", \"AK\", \"AZ\", \"AR\", \"CA\", \"CO\", \"CT\", \"DE\", \"DC\", \"FL\", \"GA\", \"HI\", \"ID\", \"IL\", \"IN\", \"IA\", \"KS\", \"KY\", \"LA\", \"ME\", \"MD\", \"MA\", \"MI\", \"MN\", \"MS\", \"MO\", \"MT\", \"NE\", \"NV\", \"NH\", \"NJ\", \"NM\", \"NY\", \"NC\", \"ND\", \"OH\", \"OK\", \"OR\", \"PA\", \"RI\", \"SC\", \"SD\", \"TN\", \"TX\", \"UT\", \"VT\", \"VA\", \"WA\", \"WV\", \"WI\", \"WY\"], \"type\": \"scatter\", \"x\": [15.04, 17.014, 17.855999999999998, 21.28, 10.68, 12.92, 8.856, 16.038, 5.9, 16.826, 14.508, 15.225, 14.994000000000002, 12.288000000000002, 13.775, 13.659, 15.13, 16.264, 20.09, 12.684000000000001, 12.375, 6.56, 10.857, 8.448, 17.6, 13.524, 18.19, 13.41, 14.553, 9.628, 8.735999999999999, 18.032, 9.84, 13.608, 20.554, 11.562, 18.706, 11.52, 16.016, 8.769, 19.359, 16.683999999999994, 15.795, 16.878, 10.848000000000004, 12.92, 11.175999999999998, 9.116, 20.706, 11.592, 15.659999999999998], \"y\": [784.55, 1053.48, 899.47, 827.34, 878.41, 835.5, 1068.73, 1137.87, 1273.89, 1160.13, 913.15, 861.18, 641.96, 803.11, 710.46, 649.06, 780.45, 872.51, 1281.55, 661.88, 1048.78, 1011.14, 1110.61, 777.18, 896.07, 790.32, 816.21, 732.28, 1029.87, 746.54, 1301.52, 869.85, 1234.31, 708.24, 688.75, 697.73, 881.51, 804.71, 905.99, 1148.99, 858.97, 669.31, 767.91, 1004.75, 809.38, 716.2, 768.95, 890.03, 992.61, 670.31, 791.14]}],\n",
       "                        {\"template\": {\"data\": {\"bar\": [{\"error_x\": {\"color\": \"#2a3f5f\"}, \"error_y\": {\"color\": \"#2a3f5f\"}, \"marker\": {\"line\": {\"color\": \"#E5ECF6\", \"width\": 0.5}}, \"type\": \"bar\"}], \"barpolar\": [{\"marker\": {\"line\": {\"color\": \"#E5ECF6\", \"width\": 0.5}}, \"type\": \"barpolar\"}], \"carpet\": [{\"aaxis\": {\"endlinecolor\": \"#2a3f5f\", \"gridcolor\": \"white\", \"linecolor\": \"white\", \"minorgridcolor\": \"white\", \"startlinecolor\": \"#2a3f5f\"}, \"baxis\": {\"endlinecolor\": \"#2a3f5f\", \"gridcolor\": \"white\", \"linecolor\": \"white\", \"minorgridcolor\": \"white\", \"startlinecolor\": \"#2a3f5f\"}, \"type\": \"carpet\"}], \"choropleth\": [{\"colorbar\": {\"outlinewidth\": 0, \"ticks\": \"\"}, \"type\": \"choropleth\"}], \"contour\": [{\"colorbar\": {\"outlinewidth\": 0, \"ticks\": \"\"}, \"colorscale\": [[0.0, \"#0d0887\"], [0.1111111111111111, \"#46039f\"], [0.2222222222222222, \"#7201a8\"], [0.3333333333333333, \"#9c179e\"], [0.4444444444444444, \"#bd3786\"], [0.5555555555555556, \"#d8576b\"], [0.6666666666666666, \"#ed7953\"], [0.7777777777777778, \"#fb9f3a\"], [0.8888888888888888, \"#fdca26\"], [1.0, \"#f0f921\"]], \"type\": \"contour\"}], \"contourcarpet\": [{\"colorbar\": {\"outlinewidth\": 0, \"ticks\": \"\"}, \"type\": \"contourcarpet\"}], \"heatmap\": [{\"colorbar\": {\"outlinewidth\": 0, \"ticks\": \"\"}, \"colorscale\": [[0.0, \"#0d0887\"], [0.1111111111111111, \"#46039f\"], [0.2222222222222222, \"#7201a8\"], [0.3333333333333333, \"#9c179e\"], [0.4444444444444444, \"#bd3786\"], [0.5555555555555556, \"#d8576b\"], [0.6666666666666666, \"#ed7953\"], [0.7777777777777778, \"#fb9f3a\"], [0.8888888888888888, \"#fdca26\"], [1.0, \"#f0f921\"]], \"type\": \"heatmap\"}], \"heatmapgl\": [{\"colorbar\": {\"outlinewidth\": 0, \"ticks\": \"\"}, \"colorscale\": [[0.0, \"#0d0887\"], [0.1111111111111111, \"#46039f\"], [0.2222222222222222, \"#7201a8\"], [0.3333333333333333, \"#9c179e\"], [0.4444444444444444, \"#bd3786\"], [0.5555555555555556, \"#d8576b\"], [0.6666666666666666, \"#ed7953\"], [0.7777777777777778, \"#fb9f3a\"], [0.8888888888888888, \"#fdca26\"], [1.0, \"#f0f921\"]], \"type\": \"heatmapgl\"}], \"histogram\": [{\"marker\": {\"colorbar\": {\"outlinewidth\": 0, \"ticks\": \"\"}}, \"type\": \"histogram\"}], \"histogram2d\": [{\"colorbar\": {\"outlinewidth\": 0, \"ticks\": \"\"}, \"colorscale\": [[0.0, \"#0d0887\"], [0.1111111111111111, \"#46039f\"], [0.2222222222222222, \"#7201a8\"], [0.3333333333333333, \"#9c179e\"], [0.4444444444444444, \"#bd3786\"], [0.5555555555555556, \"#d8576b\"], [0.6666666666666666, \"#ed7953\"], [0.7777777777777778, \"#fb9f3a\"], [0.8888888888888888, \"#fdca26\"], [1.0, \"#f0f921\"]], \"type\": \"histogram2d\"}], \"histogram2dcontour\": [{\"colorbar\": {\"outlinewidth\": 0, \"ticks\": \"\"}, \"colorscale\": [[0.0, \"#0d0887\"], [0.1111111111111111, \"#46039f\"], [0.2222222222222222, \"#7201a8\"], [0.3333333333333333, \"#9c179e\"], [0.4444444444444444, \"#bd3786\"], [0.5555555555555556, \"#d8576b\"], [0.6666666666666666, \"#ed7953\"], [0.7777777777777778, \"#fb9f3a\"], [0.8888888888888888, \"#fdca26\"], [1.0, \"#f0f921\"]], \"type\": \"histogram2dcontour\"}], \"mesh3d\": [{\"colorbar\": {\"outlinewidth\": 0, \"ticks\": \"\"}, \"type\": \"mesh3d\"}], \"parcoords\": [{\"line\": {\"colorbar\": {\"outlinewidth\": 0, \"ticks\": \"\"}}, \"type\": \"parcoords\"}], \"pie\": [{\"automargin\": true, \"type\": \"pie\"}], \"scatter\": [{\"marker\": {\"colorbar\": {\"outlinewidth\": 0, \"ticks\": \"\"}}, \"type\": \"scatter\"}], \"scatter3d\": [{\"line\": {\"colorbar\": {\"outlinewidth\": 0, \"ticks\": \"\"}}, \"marker\": {\"colorbar\": {\"outlinewidth\": 0, \"ticks\": \"\"}}, \"type\": \"scatter3d\"}], \"scattercarpet\": [{\"marker\": {\"colorbar\": {\"outlinewidth\": 0, \"ticks\": \"\"}}, \"type\": \"scattercarpet\"}], \"scattergeo\": [{\"marker\": {\"colorbar\": {\"outlinewidth\": 0, \"ticks\": \"\"}}, \"type\": \"scattergeo\"}], \"scattergl\": [{\"marker\": {\"colorbar\": {\"outlinewidth\": 0, \"ticks\": \"\"}}, \"type\": \"scattergl\"}], \"scattermapbox\": [{\"marker\": {\"colorbar\": {\"outlinewidth\": 0, \"ticks\": \"\"}}, \"type\": \"scattermapbox\"}], \"scatterpolar\": [{\"marker\": {\"colorbar\": {\"outlinewidth\": 0, \"ticks\": \"\"}}, \"type\": \"scatterpolar\"}], \"scatterpolargl\": [{\"marker\": {\"colorbar\": {\"outlinewidth\": 0, \"ticks\": \"\"}}, \"type\": \"scatterpolargl\"}], \"scatterternary\": [{\"marker\": {\"colorbar\": {\"outlinewidth\": 0, \"ticks\": \"\"}}, \"type\": \"scatterternary\"}], \"surface\": [{\"colorbar\": {\"outlinewidth\": 0, \"ticks\": \"\"}, \"colorscale\": [[0.0, \"#0d0887\"], [0.1111111111111111, \"#46039f\"], [0.2222222222222222, \"#7201a8\"], [0.3333333333333333, \"#9c179e\"], [0.4444444444444444, \"#bd3786\"], [0.5555555555555556, \"#d8576b\"], [0.6666666666666666, \"#ed7953\"], [0.7777777777777778, \"#fb9f3a\"], [0.8888888888888888, \"#fdca26\"], [1.0, \"#f0f921\"]], \"type\": \"surface\"}], \"table\": [{\"cells\": {\"fill\": {\"color\": \"#EBF0F8\"}, \"line\": {\"color\": \"white\"}}, \"header\": {\"fill\": {\"color\": \"#C8D4E3\"}, \"line\": {\"color\": \"white\"}}, \"type\": \"table\"}]}, \"layout\": {\"annotationdefaults\": {\"arrowcolor\": \"#2a3f5f\", \"arrowhead\": 0, \"arrowwidth\": 1}, \"coloraxis\": {\"colorbar\": {\"outlinewidth\": 0, \"ticks\": \"\"}}, \"colorscale\": {\"diverging\": [[0, \"#8e0152\"], [0.1, \"#c51b7d\"], [0.2, \"#de77ae\"], [0.3, \"#f1b6da\"], [0.4, \"#fde0ef\"], [0.5, \"#f7f7f7\"], [0.6, \"#e6f5d0\"], [0.7, \"#b8e186\"], [0.8, \"#7fbc41\"], [0.9, \"#4d9221\"], [1, \"#276419\"]], \"sequential\": [[0.0, \"#0d0887\"], [0.1111111111111111, \"#46039f\"], [0.2222222222222222, \"#7201a8\"], [0.3333333333333333, \"#9c179e\"], [0.4444444444444444, \"#bd3786\"], [0.5555555555555556, \"#d8576b\"], [0.6666666666666666, \"#ed7953\"], [0.7777777777777778, \"#fb9f3a\"], [0.8888888888888888, \"#fdca26\"], [1.0, \"#f0f921\"]], \"sequentialminus\": [[0.0, \"#0d0887\"], [0.1111111111111111, \"#46039f\"], [0.2222222222222222, \"#7201a8\"], [0.3333333333333333, \"#9c179e\"], [0.4444444444444444, \"#bd3786\"], [0.5555555555555556, \"#d8576b\"], [0.6666666666666666, \"#ed7953\"], [0.7777777777777778, \"#fb9f3a\"], [0.8888888888888888, \"#fdca26\"], [1.0, \"#f0f921\"]]}, \"colorway\": [\"#636efa\", \"#EF553B\", \"#00cc96\", \"#ab63fa\", \"#FFA15A\", \"#19d3f3\", \"#FF6692\", \"#B6E880\", \"#FF97FF\", \"#FECB52\"], \"font\": {\"color\": \"#2a3f5f\"}, \"geo\": {\"bgcolor\": \"white\", \"lakecolor\": \"white\", \"landcolor\": \"#E5ECF6\", \"showlakes\": true, \"showland\": true, \"subunitcolor\": \"white\"}, \"hoverlabel\": {\"align\": \"left\"}, \"hovermode\": \"closest\", \"mapbox\": {\"style\": \"light\"}, \"paper_bgcolor\": \"white\", \"plot_bgcolor\": \"#E5ECF6\", \"polar\": {\"angularaxis\": {\"gridcolor\": \"white\", \"linecolor\": \"white\", \"ticks\": \"\"}, \"bgcolor\": \"#E5ECF6\", \"radialaxis\": {\"gridcolor\": \"white\", \"linecolor\": \"white\", \"ticks\": \"\"}}, \"scene\": {\"xaxis\": {\"backgroundcolor\": \"#E5ECF6\", \"gridcolor\": \"white\", \"gridwidth\": 2, \"linecolor\": \"white\", \"showbackground\": true, \"ticks\": \"\", \"zerolinecolor\": \"white\"}, \"yaxis\": {\"backgroundcolor\": \"#E5ECF6\", \"gridcolor\": \"white\", \"gridwidth\": 2, \"linecolor\": \"white\", \"showbackground\": true, \"ticks\": \"\", \"zerolinecolor\": \"white\"}, \"zaxis\": {\"backgroundcolor\": \"#E5ECF6\", \"gridcolor\": \"white\", \"gridwidth\": 2, \"linecolor\": \"white\", \"showbackground\": true, \"ticks\": \"\", \"zerolinecolor\": \"white\"}}, \"shapedefaults\": {\"line\": {\"color\": \"#2a3f5f\"}}, \"ternary\": {\"aaxis\": {\"gridcolor\": \"white\", \"linecolor\": \"white\", \"ticks\": \"\"}, \"baxis\": {\"gridcolor\": \"white\", \"linecolor\": \"white\", \"ticks\": \"\"}, \"bgcolor\": \"#E5ECF6\", \"caxis\": {\"gridcolor\": \"white\", \"linecolor\": \"white\", \"ticks\": \"\"}}, \"title\": {\"x\": 0.05}, \"xaxis\": {\"automargin\": true, \"gridcolor\": \"white\", \"linecolor\": \"white\", \"ticks\": \"\", \"title\": {\"standoff\": 15}, \"zerolinecolor\": \"white\", \"zerolinewidth\": 2}, \"yaxis\": {\"automargin\": true, \"gridcolor\": \"white\", \"linecolor\": \"white\", \"ticks\": \"\", \"title\": {\"standoff\": 15}, \"zerolinecolor\": \"white\", \"zerolinewidth\": 2}}}, \"title\": {\"text\": \"Car Crashes by State\"}, \"xaxis\": {\"title\": {\"text\": \"no_previous\"}}, \"yaxis\": {\"title\": {\"text\": \"ins_premium\"}}},\n",
       "                        {\"responsive\": true}\n",
       "                    ).then(function(){\n",
       "                            \n",
       "var gd = document.getElementById('23b2518e-3e56-4475-8617-3d613ad126ea');\n",
       "var x = new MutationObserver(function (mutations, observer) {{\n",
       "        var display = window.getComputedStyle(gd).display;\n",
       "        if (!display || display === 'none') {{\n",
       "            console.log([gd, 'removed!']);\n",
       "            Plotly.purge(gd);\n",
       "            observer.disconnect();\n",
       "        }}\n",
       "}});\n",
       "\n",
       "// Listen for the removal of the full notebook cells\n",
       "var notebookContainer = gd.closest('#notebook-container');\n",
       "if (notebookContainer) {{\n",
       "    x.observe(notebookContainer, {childList: true});\n",
       "}}\n",
       "\n",
       "// Listen for the clearing of the current output cell\n",
       "var outputEl = gd.closest('.output');\n",
       "if (outputEl) {{\n",
       "    x.observe(outputEl, {childList: true});\n",
       "}}\n",
       "\n",
       "                        })\n",
       "                };\n",
       "                });\n",
       "            </script>\n",
       "        </div>"
      ]
     },
     "metadata": {},
     "output_type": "display_data"
    }
   ],
   "source": [
    "fig = go.Figure()\n",
    "\n",
    "fig.add_trace(go.Scatter(x=df_car_crashes.no_previous, y=df_car_crashes.ins_premium, text=df_car_crashes.index, mode='markers+text', marker=dict(size=df_car_crashes.total), name=\"Car Crashes\"))\n",
    "\n",
    "fig.update_layout(title=\"Car Crashes by State\", xaxis_title=\"no_previous\", yaxis_title=\"ins_premium\")\n",
    "fig.show()"
   ]
  },
  {
   "cell_type": "markdown",
   "metadata": {},
   "source": [
    "#### This plot shows the relationship between insurance premiums and how many \"no previous crashes\" crashes occur. As we would expect there is a strong trend to suggest that people who have just crashed for the first time are paying a small insurance premium. "
   ]
  },
  {
   "cell_type": "code",
   "execution_count": 99,
   "metadata": {},
   "outputs": [
    {
     "data": {
      "application/vnd.plotly.v1+json": {
       "config": {
        "plotlyServerURL": "https://plot.ly"
       },
       "data": [
        {
         "marker": {
          "color": "green"
         },
         "mode": "markers",
         "name": "alc_crashes",
         "text": [
          "AL",
          "AK",
          "AZ",
          "AR",
          "CA",
          "CO",
          "CT",
          "DE",
          "DC",
          "FL",
          "GA",
          "HI",
          "ID",
          "IL",
          "IN",
          "IA",
          "KS",
          "KY",
          "LA",
          "ME",
          "MD",
          "MA",
          "MI",
          "MN",
          "MS",
          "MO",
          "MT",
          "NE",
          "NV",
          "NH",
          "NJ",
          "NM",
          "NY",
          "NC",
          "ND",
          "OH",
          "OK",
          "OR",
          "PA",
          "RI",
          "SC",
          "SD",
          "TN",
          "TX",
          "UT",
          "VT",
          "VA",
          "WA",
          "WV",
          "WI",
          "WY"
         ],
         "type": "scatter",
         "x": [
          18.8,
          18.1,
          18.6,
          22.4,
          12,
          13.6,
          10.8,
          16.2,
          5.9,
          17.9,
          15.6,
          17.5,
          15.3,
          12.8,
          14.5,
          15.7,
          17.8,
          21.4,
          20.5,
          15.1,
          12.5,
          8.2,
          14.1,
          9.6,
          17.6,
          16.1,
          21.4,
          14.9,
          14.7,
          11.6,
          11.2,
          18.4,
          12.3,
          16.8,
          23.9,
          14.1,
          19.9,
          12.8,
          18.2,
          11.1,
          23.9,
          19.4,
          19.5,
          19.4,
          11.3,
          13.6,
          12.7,
          10.6,
          23.8,
          13.8,
          17.4
         ],
         "y": [
          5.64,
          4.525,
          5.208000000000001,
          5.824,
          3.36,
          3.808,
          3.888,
          4.86,
          1.5930000000000002,
          5.190999999999999,
          3.9,
          7.175,
          4.437,
          4.352,
          4.205,
          3.925,
          4.272,
          4.922,
          6.765,
          4.53,
          4,
          2.87,
          3.948,
          2.784,
          5.456,
          5.474000000000001,
          9.416,
          5.215,
          4.704,
          3.48,
          3.136,
          4.968,
          3.5670000000000006,
          5.208000000000001,
          10.038,
          4.794,
          5.770999999999999,
          3.3280000000000003,
          5.642,
          4.218,
          9.799,
          6.401999999999999,
          5.655,
          7.371999999999999,
          1.808,
          4.08,
          3.429,
          3.498,
          6.664,
          4.553999999999999,
          5.568
         ]
        },
        {
         "marker": {
          "color": "red"
         },
         "mode": "markers",
         "name": "speeding_crashes",
         "text": [
          "AL",
          "AK",
          "AZ",
          "AR",
          "CA",
          "CO",
          "CT",
          "DE",
          "DC",
          "FL",
          "GA",
          "HI",
          "ID",
          "IL",
          "IN",
          "IA",
          "KS",
          "KY",
          "LA",
          "ME",
          "MD",
          "MA",
          "MI",
          "MN",
          "MS",
          "MO",
          "MT",
          "NE",
          "NV",
          "NH",
          "NJ",
          "NM",
          "NY",
          "NC",
          "ND",
          "OH",
          "OK",
          "OR",
          "PA",
          "RI",
          "SC",
          "SD",
          "TN",
          "TX",
          "UT",
          "VT",
          "VA",
          "WA",
          "WV",
          "WI",
          "WY"
         ],
         "type": "scatter",
         "x": [
          18.8,
          18.1,
          18.6,
          22.4,
          12,
          13.6,
          10.8,
          16.2,
          5.9,
          17.9,
          15.6,
          17.5,
          15.3,
          12.8,
          14.5,
          15.7,
          17.8,
          21.4,
          20.5,
          15.1,
          12.5,
          8.2,
          14.1,
          9.6,
          17.6,
          16.1,
          21.4,
          14.9,
          14.7,
          11.6,
          11.2,
          18.4,
          12.3,
          16.8,
          23.9,
          14.1,
          19.9,
          12.8,
          18.2,
          11.1,
          23.9,
          19.4,
          19.5,
          19.4,
          11.3,
          13.6,
          12.7,
          10.6,
          23.8,
          13.8,
          17.4
         ],
         "y": [
          7.332000000000002,
          7.421,
          6.51,
          4.032,
          4.2,
          5.032,
          4.968,
          6.1560000000000015,
          2.006,
          3.759,
          2.964,
          9.45,
          5.508000000000001,
          4.6080000000000005,
          3.625,
          2.669,
          4.806,
          4.066,
          7.175,
          5.738,
          4.25,
          1.886,
          3.384,
          2.208,
          2.64,
          6.923000000000001,
          8.345999999999998,
          1.9370000000000005,
          5.439,
          4.06,
          1.7919999999999998,
          3.496,
          3.936,
          6.5520000000000005,
          5.496999999999999,
          3.948,
          6.3679999999999986,
          4.224,
          9.1,
          3.774,
          9.082,
          6.0139999999999985,
          4.095,
          7.76,
          4.859,
          4.08,
          2.4130000000000003,
          4.452,
          8.092,
          4.968,
          7.308
         ]
        }
       ],
       "layout": {
        "shapes": [
         {
          "line": {
           "color": "RoyalBlue",
           "width": 1
          },
          "type": "line",
          "x0": 18.8,
          "x1": 18.8,
          "y0": 0,
          "y1": 10
         },
         {
          "line": {
           "color": "RoyalBlue",
           "width": 1
          },
          "type": "line",
          "x0": 18.1,
          "x1": 18.1,
          "y0": 0,
          "y1": 10
         },
         {
          "line": {
           "color": "RoyalBlue",
           "width": 1
          },
          "type": "line",
          "x0": 18.6,
          "x1": 18.6,
          "y0": 0,
          "y1": 10
         },
         {
          "line": {
           "color": "RoyalBlue",
           "width": 1
          },
          "type": "line",
          "x0": 22.4,
          "x1": 22.4,
          "y0": 0,
          "y1": 10
         },
         {
          "line": {
           "color": "RoyalBlue",
           "width": 1
          },
          "type": "line",
          "x0": 12,
          "x1": 12,
          "y0": 0,
          "y1": 10
         },
         {
          "line": {
           "color": "RoyalBlue",
           "width": 1
          },
          "type": "line",
          "x0": 13.6,
          "x1": 13.6,
          "y0": 0,
          "y1": 10
         },
         {
          "line": {
           "color": "RoyalBlue",
           "width": 1
          },
          "type": "line",
          "x0": 10.8,
          "x1": 10.8,
          "y0": 0,
          "y1": 10
         },
         {
          "line": {
           "color": "RoyalBlue",
           "width": 1
          },
          "type": "line",
          "x0": 16.2,
          "x1": 16.2,
          "y0": 0,
          "y1": 10
         },
         {
          "line": {
           "color": "RoyalBlue",
           "width": 1
          },
          "type": "line",
          "x0": 5.9,
          "x1": 5.9,
          "y0": 0,
          "y1": 10
         },
         {
          "line": {
           "color": "RoyalBlue",
           "width": 1
          },
          "type": "line",
          "x0": 17.9,
          "x1": 17.9,
          "y0": 0,
          "y1": 10
         },
         {
          "line": {
           "color": "RoyalBlue",
           "width": 1
          },
          "type": "line",
          "x0": 15.6,
          "x1": 15.6,
          "y0": 0,
          "y1": 10
         },
         {
          "line": {
           "color": "RoyalBlue",
           "width": 1
          },
          "type": "line",
          "x0": 17.5,
          "x1": 17.5,
          "y0": 0,
          "y1": 10
         },
         {
          "line": {
           "color": "RoyalBlue",
           "width": 1
          },
          "type": "line",
          "x0": 15.3,
          "x1": 15.3,
          "y0": 0,
          "y1": 10
         },
         {
          "line": {
           "color": "RoyalBlue",
           "width": 1
          },
          "type": "line",
          "x0": 12.8,
          "x1": 12.8,
          "y0": 0,
          "y1": 10
         },
         {
          "line": {
           "color": "RoyalBlue",
           "width": 1
          },
          "type": "line",
          "x0": 14.5,
          "x1": 14.5,
          "y0": 0,
          "y1": 10
         },
         {
          "line": {
           "color": "RoyalBlue",
           "width": 1
          },
          "type": "line",
          "x0": 15.7,
          "x1": 15.7,
          "y0": 0,
          "y1": 10
         },
         {
          "line": {
           "color": "RoyalBlue",
           "width": 1
          },
          "type": "line",
          "x0": 17.8,
          "x1": 17.8,
          "y0": 0,
          "y1": 10
         },
         {
          "line": {
           "color": "RoyalBlue",
           "width": 1
          },
          "type": "line",
          "x0": 21.4,
          "x1": 21.4,
          "y0": 0,
          "y1": 10
         },
         {
          "line": {
           "color": "RoyalBlue",
           "width": 1
          },
          "type": "line",
          "x0": 20.5,
          "x1": 20.5,
          "y0": 0,
          "y1": 10
         },
         {
          "line": {
           "color": "RoyalBlue",
           "width": 1
          },
          "type": "line",
          "x0": 15.1,
          "x1": 15.1,
          "y0": 0,
          "y1": 10
         },
         {
          "line": {
           "color": "RoyalBlue",
           "width": 1
          },
          "type": "line",
          "x0": 12.5,
          "x1": 12.5,
          "y0": 0,
          "y1": 10
         },
         {
          "line": {
           "color": "RoyalBlue",
           "width": 1
          },
          "type": "line",
          "x0": 8.2,
          "x1": 8.2,
          "y0": 0,
          "y1": 10
         },
         {
          "line": {
           "color": "RoyalBlue",
           "width": 1
          },
          "type": "line",
          "x0": 14.1,
          "x1": 14.1,
          "y0": 0,
          "y1": 10
         },
         {
          "line": {
           "color": "RoyalBlue",
           "width": 1
          },
          "type": "line",
          "x0": 9.6,
          "x1": 9.6,
          "y0": 0,
          "y1": 10
         },
         {
          "line": {
           "color": "RoyalBlue",
           "width": 1
          },
          "type": "line",
          "x0": 17.6,
          "x1": 17.6,
          "y0": 0,
          "y1": 10
         },
         {
          "line": {
           "color": "RoyalBlue",
           "width": 1
          },
          "type": "line",
          "x0": 16.1,
          "x1": 16.1,
          "y0": 0,
          "y1": 10
         },
         {
          "line": {
           "color": "RoyalBlue",
           "width": 1
          },
          "type": "line",
          "x0": 21.4,
          "x1": 21.4,
          "y0": 0,
          "y1": 10
         },
         {
          "line": {
           "color": "RoyalBlue",
           "width": 1
          },
          "type": "line",
          "x0": 14.9,
          "x1": 14.9,
          "y0": 0,
          "y1": 10
         },
         {
          "line": {
           "color": "RoyalBlue",
           "width": 1
          },
          "type": "line",
          "x0": 14.7,
          "x1": 14.7,
          "y0": 0,
          "y1": 10
         },
         {
          "line": {
           "color": "RoyalBlue",
           "width": 1
          },
          "type": "line",
          "x0": 11.6,
          "x1": 11.6,
          "y0": 0,
          "y1": 10
         },
         {
          "line": {
           "color": "RoyalBlue",
           "width": 1
          },
          "type": "line",
          "x0": 11.2,
          "x1": 11.2,
          "y0": 0,
          "y1": 10
         },
         {
          "line": {
           "color": "RoyalBlue",
           "width": 1
          },
          "type": "line",
          "x0": 18.4,
          "x1": 18.4,
          "y0": 0,
          "y1": 10
         },
         {
          "line": {
           "color": "RoyalBlue",
           "width": 1
          },
          "type": "line",
          "x0": 12.3,
          "x1": 12.3,
          "y0": 0,
          "y1": 10
         },
         {
          "line": {
           "color": "RoyalBlue",
           "width": 1
          },
          "type": "line",
          "x0": 16.8,
          "x1": 16.8,
          "y0": 0,
          "y1": 10
         },
         {
          "line": {
           "color": "RoyalBlue",
           "width": 1
          },
          "type": "line",
          "x0": 23.9,
          "x1": 23.9,
          "y0": 0,
          "y1": 10
         },
         {
          "line": {
           "color": "RoyalBlue",
           "width": 1
          },
          "type": "line",
          "x0": 14.1,
          "x1": 14.1,
          "y0": 0,
          "y1": 10
         },
         {
          "line": {
           "color": "RoyalBlue",
           "width": 1
          },
          "type": "line",
          "x0": 19.9,
          "x1": 19.9,
          "y0": 0,
          "y1": 10
         },
         {
          "line": {
           "color": "RoyalBlue",
           "width": 1
          },
          "type": "line",
          "x0": 12.8,
          "x1": 12.8,
          "y0": 0,
          "y1": 10
         },
         {
          "line": {
           "color": "RoyalBlue",
           "width": 1
          },
          "type": "line",
          "x0": 18.2,
          "x1": 18.2,
          "y0": 0,
          "y1": 10
         },
         {
          "line": {
           "color": "RoyalBlue",
           "width": 1
          },
          "type": "line",
          "x0": 11.1,
          "x1": 11.1,
          "y0": 0,
          "y1": 10
         },
         {
          "line": {
           "color": "RoyalBlue",
           "width": 1
          },
          "type": "line",
          "x0": 23.9,
          "x1": 23.9,
          "y0": 0,
          "y1": 10
         },
         {
          "line": {
           "color": "RoyalBlue",
           "width": 1
          },
          "type": "line",
          "x0": 19.4,
          "x1": 19.4,
          "y0": 0,
          "y1": 10
         },
         {
          "line": {
           "color": "RoyalBlue",
           "width": 1
          },
          "type": "line",
          "x0": 19.5,
          "x1": 19.5,
          "y0": 0,
          "y1": 10
         },
         {
          "line": {
           "color": "RoyalBlue",
           "width": 1
          },
          "type": "line",
          "x0": 19.4,
          "x1": 19.4,
          "y0": 0,
          "y1": 10
         },
         {
          "line": {
           "color": "RoyalBlue",
           "width": 1
          },
          "type": "line",
          "x0": 11.3,
          "x1": 11.3,
          "y0": 0,
          "y1": 10
         },
         {
          "line": {
           "color": "RoyalBlue",
           "width": 1
          },
          "type": "line",
          "x0": 13.6,
          "x1": 13.6,
          "y0": 0,
          "y1": 10
         },
         {
          "line": {
           "color": "RoyalBlue",
           "width": 1
          },
          "type": "line",
          "x0": 12.7,
          "x1": 12.7,
          "y0": 0,
          "y1": 10
         },
         {
          "line": {
           "color": "RoyalBlue",
           "width": 1
          },
          "type": "line",
          "x0": 10.6,
          "x1": 10.6,
          "y0": 0,
          "y1": 10
         },
         {
          "line": {
           "color": "RoyalBlue",
           "width": 1
          },
          "type": "line",
          "x0": 23.8,
          "x1": 23.8,
          "y0": 0,
          "y1": 10
         },
         {
          "line": {
           "color": "RoyalBlue",
           "width": 1
          },
          "type": "line",
          "x0": 13.8,
          "x1": 13.8,
          "y0": 0,
          "y1": 10
         },
         {
          "line": {
           "color": "RoyalBlue",
           "width": 1
          },
          "type": "line",
          "x0": 17.4,
          "x1": 17.4,
          "y0": 0,
          "y1": 10
         }
        ],
        "template": {
         "data": {
          "bar": [
           {
            "error_x": {
             "color": "#2a3f5f"
            },
            "error_y": {
             "color": "#2a3f5f"
            },
            "marker": {
             "line": {
              "color": "#E5ECF6",
              "width": 0.5
             }
            },
            "type": "bar"
           }
          ],
          "barpolar": [
           {
            "marker": {
             "line": {
              "color": "#E5ECF6",
              "width": 0.5
             }
            },
            "type": "barpolar"
           }
          ],
          "carpet": [
           {
            "aaxis": {
             "endlinecolor": "#2a3f5f",
             "gridcolor": "white",
             "linecolor": "white",
             "minorgridcolor": "white",
             "startlinecolor": "#2a3f5f"
            },
            "baxis": {
             "endlinecolor": "#2a3f5f",
             "gridcolor": "white",
             "linecolor": "white",
             "minorgridcolor": "white",
             "startlinecolor": "#2a3f5f"
            },
            "type": "carpet"
           }
          ],
          "choropleth": [
           {
            "colorbar": {
             "outlinewidth": 0,
             "ticks": ""
            },
            "type": "choropleth"
           }
          ],
          "contour": [
           {
            "colorbar": {
             "outlinewidth": 0,
             "ticks": ""
            },
            "colorscale": [
             [
              0,
              "#0d0887"
             ],
             [
              0.1111111111111111,
              "#46039f"
             ],
             [
              0.2222222222222222,
              "#7201a8"
             ],
             [
              0.3333333333333333,
              "#9c179e"
             ],
             [
              0.4444444444444444,
              "#bd3786"
             ],
             [
              0.5555555555555556,
              "#d8576b"
             ],
             [
              0.6666666666666666,
              "#ed7953"
             ],
             [
              0.7777777777777778,
              "#fb9f3a"
             ],
             [
              0.8888888888888888,
              "#fdca26"
             ],
             [
              1,
              "#f0f921"
             ]
            ],
            "type": "contour"
           }
          ],
          "contourcarpet": [
           {
            "colorbar": {
             "outlinewidth": 0,
             "ticks": ""
            },
            "type": "contourcarpet"
           }
          ],
          "heatmap": [
           {
            "colorbar": {
             "outlinewidth": 0,
             "ticks": ""
            },
            "colorscale": [
             [
              0,
              "#0d0887"
             ],
             [
              0.1111111111111111,
              "#46039f"
             ],
             [
              0.2222222222222222,
              "#7201a8"
             ],
             [
              0.3333333333333333,
              "#9c179e"
             ],
             [
              0.4444444444444444,
              "#bd3786"
             ],
             [
              0.5555555555555556,
              "#d8576b"
             ],
             [
              0.6666666666666666,
              "#ed7953"
             ],
             [
              0.7777777777777778,
              "#fb9f3a"
             ],
             [
              0.8888888888888888,
              "#fdca26"
             ],
             [
              1,
              "#f0f921"
             ]
            ],
            "type": "heatmap"
           }
          ],
          "heatmapgl": [
           {
            "colorbar": {
             "outlinewidth": 0,
             "ticks": ""
            },
            "colorscale": [
             [
              0,
              "#0d0887"
             ],
             [
              0.1111111111111111,
              "#46039f"
             ],
             [
              0.2222222222222222,
              "#7201a8"
             ],
             [
              0.3333333333333333,
              "#9c179e"
             ],
             [
              0.4444444444444444,
              "#bd3786"
             ],
             [
              0.5555555555555556,
              "#d8576b"
             ],
             [
              0.6666666666666666,
              "#ed7953"
             ],
             [
              0.7777777777777778,
              "#fb9f3a"
             ],
             [
              0.8888888888888888,
              "#fdca26"
             ],
             [
              1,
              "#f0f921"
             ]
            ],
            "type": "heatmapgl"
           }
          ],
          "histogram": [
           {
            "marker": {
             "colorbar": {
              "outlinewidth": 0,
              "ticks": ""
             }
            },
            "type": "histogram"
           }
          ],
          "histogram2d": [
           {
            "colorbar": {
             "outlinewidth": 0,
             "ticks": ""
            },
            "colorscale": [
             [
              0,
              "#0d0887"
             ],
             [
              0.1111111111111111,
              "#46039f"
             ],
             [
              0.2222222222222222,
              "#7201a8"
             ],
             [
              0.3333333333333333,
              "#9c179e"
             ],
             [
              0.4444444444444444,
              "#bd3786"
             ],
             [
              0.5555555555555556,
              "#d8576b"
             ],
             [
              0.6666666666666666,
              "#ed7953"
             ],
             [
              0.7777777777777778,
              "#fb9f3a"
             ],
             [
              0.8888888888888888,
              "#fdca26"
             ],
             [
              1,
              "#f0f921"
             ]
            ],
            "type": "histogram2d"
           }
          ],
          "histogram2dcontour": [
           {
            "colorbar": {
             "outlinewidth": 0,
             "ticks": ""
            },
            "colorscale": [
             [
              0,
              "#0d0887"
             ],
             [
              0.1111111111111111,
              "#46039f"
             ],
             [
              0.2222222222222222,
              "#7201a8"
             ],
             [
              0.3333333333333333,
              "#9c179e"
             ],
             [
              0.4444444444444444,
              "#bd3786"
             ],
             [
              0.5555555555555556,
              "#d8576b"
             ],
             [
              0.6666666666666666,
              "#ed7953"
             ],
             [
              0.7777777777777778,
              "#fb9f3a"
             ],
             [
              0.8888888888888888,
              "#fdca26"
             ],
             [
              1,
              "#f0f921"
             ]
            ],
            "type": "histogram2dcontour"
           }
          ],
          "mesh3d": [
           {
            "colorbar": {
             "outlinewidth": 0,
             "ticks": ""
            },
            "type": "mesh3d"
           }
          ],
          "parcoords": [
           {
            "line": {
             "colorbar": {
              "outlinewidth": 0,
              "ticks": ""
             }
            },
            "type": "parcoords"
           }
          ],
          "pie": [
           {
            "automargin": true,
            "type": "pie"
           }
          ],
          "scatter": [
           {
            "marker": {
             "colorbar": {
              "outlinewidth": 0,
              "ticks": ""
             }
            },
            "type": "scatter"
           }
          ],
          "scatter3d": [
           {
            "line": {
             "colorbar": {
              "outlinewidth": 0,
              "ticks": ""
             }
            },
            "marker": {
             "colorbar": {
              "outlinewidth": 0,
              "ticks": ""
             }
            },
            "type": "scatter3d"
           }
          ],
          "scattercarpet": [
           {
            "marker": {
             "colorbar": {
              "outlinewidth": 0,
              "ticks": ""
             }
            },
            "type": "scattercarpet"
           }
          ],
          "scattergeo": [
           {
            "marker": {
             "colorbar": {
              "outlinewidth": 0,
              "ticks": ""
             }
            },
            "type": "scattergeo"
           }
          ],
          "scattergl": [
           {
            "marker": {
             "colorbar": {
              "outlinewidth": 0,
              "ticks": ""
             }
            },
            "type": "scattergl"
           }
          ],
          "scattermapbox": [
           {
            "marker": {
             "colorbar": {
              "outlinewidth": 0,
              "ticks": ""
             }
            },
            "type": "scattermapbox"
           }
          ],
          "scatterpolar": [
           {
            "marker": {
             "colorbar": {
              "outlinewidth": 0,
              "ticks": ""
             }
            },
            "type": "scatterpolar"
           }
          ],
          "scatterpolargl": [
           {
            "marker": {
             "colorbar": {
              "outlinewidth": 0,
              "ticks": ""
             }
            },
            "type": "scatterpolargl"
           }
          ],
          "scatterternary": [
           {
            "marker": {
             "colorbar": {
              "outlinewidth": 0,
              "ticks": ""
             }
            },
            "type": "scatterternary"
           }
          ],
          "surface": [
           {
            "colorbar": {
             "outlinewidth": 0,
             "ticks": ""
            },
            "colorscale": [
             [
              0,
              "#0d0887"
             ],
             [
              0.1111111111111111,
              "#46039f"
             ],
             [
              0.2222222222222222,
              "#7201a8"
             ],
             [
              0.3333333333333333,
              "#9c179e"
             ],
             [
              0.4444444444444444,
              "#bd3786"
             ],
             [
              0.5555555555555556,
              "#d8576b"
             ],
             [
              0.6666666666666666,
              "#ed7953"
             ],
             [
              0.7777777777777778,
              "#fb9f3a"
             ],
             [
              0.8888888888888888,
              "#fdca26"
             ],
             [
              1,
              "#f0f921"
             ]
            ],
            "type": "surface"
           }
          ],
          "table": [
           {
            "cells": {
             "fill": {
              "color": "#EBF0F8"
             },
             "line": {
              "color": "white"
             }
            },
            "header": {
             "fill": {
              "color": "#C8D4E3"
             },
             "line": {
              "color": "white"
             }
            },
            "type": "table"
           }
          ]
         },
         "layout": {
          "annotationdefaults": {
           "arrowcolor": "#2a3f5f",
           "arrowhead": 0,
           "arrowwidth": 1
          },
          "coloraxis": {
           "colorbar": {
            "outlinewidth": 0,
            "ticks": ""
           }
          },
          "colorscale": {
           "diverging": [
            [
             0,
             "#8e0152"
            ],
            [
             0.1,
             "#c51b7d"
            ],
            [
             0.2,
             "#de77ae"
            ],
            [
             0.3,
             "#f1b6da"
            ],
            [
             0.4,
             "#fde0ef"
            ],
            [
             0.5,
             "#f7f7f7"
            ],
            [
             0.6,
             "#e6f5d0"
            ],
            [
             0.7,
             "#b8e186"
            ],
            [
             0.8,
             "#7fbc41"
            ],
            [
             0.9,
             "#4d9221"
            ],
            [
             1,
             "#276419"
            ]
           ],
           "sequential": [
            [
             0,
             "#0d0887"
            ],
            [
             0.1111111111111111,
             "#46039f"
            ],
            [
             0.2222222222222222,
             "#7201a8"
            ],
            [
             0.3333333333333333,
             "#9c179e"
            ],
            [
             0.4444444444444444,
             "#bd3786"
            ],
            [
             0.5555555555555556,
             "#d8576b"
            ],
            [
             0.6666666666666666,
             "#ed7953"
            ],
            [
             0.7777777777777778,
             "#fb9f3a"
            ],
            [
             0.8888888888888888,
             "#fdca26"
            ],
            [
             1,
             "#f0f921"
            ]
           ],
           "sequentialminus": [
            [
             0,
             "#0d0887"
            ],
            [
             0.1111111111111111,
             "#46039f"
            ],
            [
             0.2222222222222222,
             "#7201a8"
            ],
            [
             0.3333333333333333,
             "#9c179e"
            ],
            [
             0.4444444444444444,
             "#bd3786"
            ],
            [
             0.5555555555555556,
             "#d8576b"
            ],
            [
             0.6666666666666666,
             "#ed7953"
            ],
            [
             0.7777777777777778,
             "#fb9f3a"
            ],
            [
             0.8888888888888888,
             "#fdca26"
            ],
            [
             1,
             "#f0f921"
            ]
           ]
          },
          "colorway": [
           "#636efa",
           "#EF553B",
           "#00cc96",
           "#ab63fa",
           "#FFA15A",
           "#19d3f3",
           "#FF6692",
           "#B6E880",
           "#FF97FF",
           "#FECB52"
          ],
          "font": {
           "color": "#2a3f5f"
          },
          "geo": {
           "bgcolor": "white",
           "lakecolor": "white",
           "landcolor": "#E5ECF6",
           "showlakes": true,
           "showland": true,
           "subunitcolor": "white"
          },
          "hoverlabel": {
           "align": "left"
          },
          "hovermode": "closest",
          "mapbox": {
           "style": "light"
          },
          "paper_bgcolor": "white",
          "plot_bgcolor": "#E5ECF6",
          "polar": {
           "angularaxis": {
            "gridcolor": "white",
            "linecolor": "white",
            "ticks": ""
           },
           "bgcolor": "#E5ECF6",
           "radialaxis": {
            "gridcolor": "white",
            "linecolor": "white",
            "ticks": ""
           }
          },
          "scene": {
           "xaxis": {
            "backgroundcolor": "#E5ECF6",
            "gridcolor": "white",
            "gridwidth": 2,
            "linecolor": "white",
            "showbackground": true,
            "ticks": "",
            "zerolinecolor": "white"
           },
           "yaxis": {
            "backgroundcolor": "#E5ECF6",
            "gridcolor": "white",
            "gridwidth": 2,
            "linecolor": "white",
            "showbackground": true,
            "ticks": "",
            "zerolinecolor": "white"
           },
           "zaxis": {
            "backgroundcolor": "#E5ECF6",
            "gridcolor": "white",
            "gridwidth": 2,
            "linecolor": "white",
            "showbackground": true,
            "ticks": "",
            "zerolinecolor": "white"
           }
          },
          "shapedefaults": {
           "line": {
            "color": "#2a3f5f"
           }
          },
          "ternary": {
           "aaxis": {
            "gridcolor": "white",
            "linecolor": "white",
            "ticks": ""
           },
           "baxis": {
            "gridcolor": "white",
            "linecolor": "white",
            "ticks": ""
           },
           "bgcolor": "#E5ECF6",
           "caxis": {
            "gridcolor": "white",
            "linecolor": "white",
            "ticks": ""
           }
          },
          "title": {
           "x": 0.05
          },
          "xaxis": {
           "automargin": true,
           "gridcolor": "white",
           "linecolor": "white",
           "ticks": "",
           "title": {
            "standoff": 15
           },
           "zerolinecolor": "white",
           "zerolinewidth": 2
          },
          "yaxis": {
           "automargin": true,
           "gridcolor": "white",
           "linecolor": "white",
           "ticks": "",
           "title": {
            "standoff": 15
           },
           "zerolinecolor": "white",
           "zerolinewidth": 2
          }
         }
        },
        "title": {
         "text": "Car Crashes by State, Alc vs Speeding",
         "x": 0.5
        },
        "xaxis": {
         "title": {
          "text": "total occurences"
         }
        },
        "yaxis": {
         "title": {
          "text": "specific occurences"
         }
        }
       }
      },
      "text/html": [
       "<div>\n",
       "        \n",
       "        \n",
       "            <div id=\"e7ac0d96-c91d-4f54-bbad-5f3833260276\" class=\"plotly-graph-div\" style=\"height:525px; width:100%;\"></div>\n",
       "            <script type=\"text/javascript\">\n",
       "                require([\"plotly\"], function(Plotly) {\n",
       "                    window.PLOTLYENV=window.PLOTLYENV || {};\n",
       "                    \n",
       "                if (document.getElementById(\"e7ac0d96-c91d-4f54-bbad-5f3833260276\")) {\n",
       "                    Plotly.newPlot(\n",
       "                        'e7ac0d96-c91d-4f54-bbad-5f3833260276',\n",
       "                        [{\"marker\": {\"color\": \"green\"}, \"mode\": \"markers\", \"name\": \"alc_crashes\", \"text\": [\"AL\", \"AK\", \"AZ\", \"AR\", \"CA\", \"CO\", \"CT\", \"DE\", \"DC\", \"FL\", \"GA\", \"HI\", \"ID\", \"IL\", \"IN\", \"IA\", \"KS\", \"KY\", \"LA\", \"ME\", \"MD\", \"MA\", \"MI\", \"MN\", \"MS\", \"MO\", \"MT\", \"NE\", \"NV\", \"NH\", \"NJ\", \"NM\", \"NY\", \"NC\", \"ND\", \"OH\", \"OK\", \"OR\", \"PA\", \"RI\", \"SC\", \"SD\", \"TN\", \"TX\", \"UT\", \"VT\", \"VA\", \"WA\", \"WV\", \"WI\", \"WY\"], \"type\": \"scatter\", \"x\": [18.8, 18.1, 18.6, 22.4, 12.0, 13.6, 10.8, 16.2, 5.9, 17.9, 15.6, 17.5, 15.3, 12.8, 14.5, 15.7, 17.8, 21.4, 20.5, 15.1, 12.5, 8.2, 14.1, 9.6, 17.6, 16.1, 21.4, 14.9, 14.7, 11.6, 11.2, 18.4, 12.3, 16.8, 23.9, 14.1, 19.9, 12.8, 18.2, 11.1, 23.9, 19.4, 19.5, 19.4, 11.3, 13.6, 12.7, 10.6, 23.8, 13.8, 17.4], \"y\": [5.64, 4.525, 5.208000000000001, 5.824, 3.36, 3.808, 3.888, 4.86, 1.5930000000000002, 5.190999999999999, 3.9, 7.175, 4.437, 4.352, 4.205, 3.925, 4.272, 4.922, 6.765, 4.53, 4.0, 2.87, 3.948, 2.784, 5.456, 5.474000000000001, 9.416, 5.215, 4.704, 3.48, 3.136, 4.968, 3.5670000000000006, 5.208000000000001, 10.038, 4.794, 5.770999999999999, 3.3280000000000003, 5.642, 4.218, 9.799, 6.401999999999999, 5.655, 7.371999999999999, 1.808, 4.08, 3.429, 3.498, 6.664, 4.553999999999999, 5.568]}, {\"marker\": {\"color\": \"red\"}, \"mode\": \"markers\", \"name\": \"speeding_crashes\", \"text\": [\"AL\", \"AK\", \"AZ\", \"AR\", \"CA\", \"CO\", \"CT\", \"DE\", \"DC\", \"FL\", \"GA\", \"HI\", \"ID\", \"IL\", \"IN\", \"IA\", \"KS\", \"KY\", \"LA\", \"ME\", \"MD\", \"MA\", \"MI\", \"MN\", \"MS\", \"MO\", \"MT\", \"NE\", \"NV\", \"NH\", \"NJ\", \"NM\", \"NY\", \"NC\", \"ND\", \"OH\", \"OK\", \"OR\", \"PA\", \"RI\", \"SC\", \"SD\", \"TN\", \"TX\", \"UT\", \"VT\", \"VA\", \"WA\", \"WV\", \"WI\", \"WY\"], \"type\": \"scatter\", \"x\": [18.8, 18.1, 18.6, 22.4, 12.0, 13.6, 10.8, 16.2, 5.9, 17.9, 15.6, 17.5, 15.3, 12.8, 14.5, 15.7, 17.8, 21.4, 20.5, 15.1, 12.5, 8.2, 14.1, 9.6, 17.6, 16.1, 21.4, 14.9, 14.7, 11.6, 11.2, 18.4, 12.3, 16.8, 23.9, 14.1, 19.9, 12.8, 18.2, 11.1, 23.9, 19.4, 19.5, 19.4, 11.3, 13.6, 12.7, 10.6, 23.8, 13.8, 17.4], \"y\": [7.332000000000002, 7.421, 6.51, 4.032, 4.2, 5.032, 4.968, 6.1560000000000015, 2.006, 3.759, 2.964, 9.45, 5.508000000000001, 4.6080000000000005, 3.625, 2.669, 4.806, 4.066, 7.175, 5.738, 4.25, 1.886, 3.384, 2.208, 2.64, 6.923000000000001, 8.345999999999998, 1.9370000000000005, 5.439, 4.06, 1.7919999999999998, 3.496, 3.936, 6.5520000000000005, 5.496999999999999, 3.948, 6.3679999999999986, 4.224, 9.1, 3.774, 9.082, 6.0139999999999985, 4.095, 7.76, 4.859, 4.08, 2.4130000000000003, 4.452, 8.092, 4.968, 7.308]}],\n",
       "                        {\"shapes\": [{\"line\": {\"color\": \"RoyalBlue\", \"width\": 1}, \"type\": \"line\", \"x0\": 18.8, \"x1\": 18.8, \"y0\": 0, \"y1\": 10}, {\"line\": {\"color\": \"RoyalBlue\", \"width\": 1}, \"type\": \"line\", \"x0\": 18.1, \"x1\": 18.1, \"y0\": 0, \"y1\": 10}, {\"line\": {\"color\": \"RoyalBlue\", \"width\": 1}, \"type\": \"line\", \"x0\": 18.6, \"x1\": 18.6, \"y0\": 0, \"y1\": 10}, {\"line\": {\"color\": \"RoyalBlue\", \"width\": 1}, \"type\": \"line\", \"x0\": 22.4, \"x1\": 22.4, \"y0\": 0, \"y1\": 10}, {\"line\": {\"color\": \"RoyalBlue\", \"width\": 1}, \"type\": \"line\", \"x0\": 12.0, \"x1\": 12.0, \"y0\": 0, \"y1\": 10}, {\"line\": {\"color\": \"RoyalBlue\", \"width\": 1}, \"type\": \"line\", \"x0\": 13.6, \"x1\": 13.6, \"y0\": 0, \"y1\": 10}, {\"line\": {\"color\": \"RoyalBlue\", \"width\": 1}, \"type\": \"line\", \"x0\": 10.8, \"x1\": 10.8, \"y0\": 0, \"y1\": 10}, {\"line\": {\"color\": \"RoyalBlue\", \"width\": 1}, \"type\": \"line\", \"x0\": 16.2, \"x1\": 16.2, \"y0\": 0, \"y1\": 10}, {\"line\": {\"color\": \"RoyalBlue\", \"width\": 1}, \"type\": \"line\", \"x0\": 5.9, \"x1\": 5.9, \"y0\": 0, \"y1\": 10}, {\"line\": {\"color\": \"RoyalBlue\", \"width\": 1}, \"type\": \"line\", \"x0\": 17.9, \"x1\": 17.9, \"y0\": 0, \"y1\": 10}, {\"line\": {\"color\": \"RoyalBlue\", \"width\": 1}, \"type\": \"line\", \"x0\": 15.6, \"x1\": 15.6, \"y0\": 0, \"y1\": 10}, {\"line\": {\"color\": \"RoyalBlue\", \"width\": 1}, \"type\": \"line\", \"x0\": 17.5, \"x1\": 17.5, \"y0\": 0, \"y1\": 10}, {\"line\": {\"color\": \"RoyalBlue\", \"width\": 1}, \"type\": \"line\", \"x0\": 15.3, \"x1\": 15.3, \"y0\": 0, \"y1\": 10}, {\"line\": {\"color\": \"RoyalBlue\", \"width\": 1}, \"type\": \"line\", \"x0\": 12.8, \"x1\": 12.8, \"y0\": 0, \"y1\": 10}, {\"line\": {\"color\": \"RoyalBlue\", \"width\": 1}, \"type\": \"line\", \"x0\": 14.5, \"x1\": 14.5, \"y0\": 0, \"y1\": 10}, {\"line\": {\"color\": \"RoyalBlue\", \"width\": 1}, \"type\": \"line\", \"x0\": 15.7, \"x1\": 15.7, \"y0\": 0, \"y1\": 10}, {\"line\": {\"color\": \"RoyalBlue\", \"width\": 1}, \"type\": \"line\", \"x0\": 17.8, \"x1\": 17.8, \"y0\": 0, \"y1\": 10}, {\"line\": {\"color\": \"RoyalBlue\", \"width\": 1}, \"type\": \"line\", \"x0\": 21.4, \"x1\": 21.4, \"y0\": 0, \"y1\": 10}, {\"line\": {\"color\": \"RoyalBlue\", \"width\": 1}, \"type\": \"line\", \"x0\": 20.5, \"x1\": 20.5, \"y0\": 0, \"y1\": 10}, {\"line\": {\"color\": \"RoyalBlue\", \"width\": 1}, \"type\": \"line\", \"x0\": 15.1, \"x1\": 15.1, \"y0\": 0, \"y1\": 10}, {\"line\": {\"color\": \"RoyalBlue\", \"width\": 1}, \"type\": \"line\", \"x0\": 12.5, \"x1\": 12.5, \"y0\": 0, \"y1\": 10}, {\"line\": {\"color\": \"RoyalBlue\", \"width\": 1}, \"type\": \"line\", \"x0\": 8.2, \"x1\": 8.2, \"y0\": 0, \"y1\": 10}, {\"line\": {\"color\": \"RoyalBlue\", \"width\": 1}, \"type\": \"line\", \"x0\": 14.1, \"x1\": 14.1, \"y0\": 0, \"y1\": 10}, {\"line\": {\"color\": \"RoyalBlue\", \"width\": 1}, \"type\": \"line\", \"x0\": 9.6, \"x1\": 9.6, \"y0\": 0, \"y1\": 10}, {\"line\": {\"color\": \"RoyalBlue\", \"width\": 1}, \"type\": \"line\", \"x0\": 17.6, \"x1\": 17.6, \"y0\": 0, \"y1\": 10}, {\"line\": {\"color\": \"RoyalBlue\", \"width\": 1}, \"type\": \"line\", \"x0\": 16.1, \"x1\": 16.1, \"y0\": 0, \"y1\": 10}, {\"line\": {\"color\": \"RoyalBlue\", \"width\": 1}, \"type\": \"line\", \"x0\": 21.4, \"x1\": 21.4, \"y0\": 0, \"y1\": 10}, {\"line\": {\"color\": \"RoyalBlue\", \"width\": 1}, \"type\": \"line\", \"x0\": 14.9, \"x1\": 14.9, \"y0\": 0, \"y1\": 10}, {\"line\": {\"color\": \"RoyalBlue\", \"width\": 1}, \"type\": \"line\", \"x0\": 14.7, \"x1\": 14.7, \"y0\": 0, \"y1\": 10}, {\"line\": {\"color\": \"RoyalBlue\", \"width\": 1}, \"type\": \"line\", \"x0\": 11.6, \"x1\": 11.6, \"y0\": 0, \"y1\": 10}, {\"line\": {\"color\": \"RoyalBlue\", \"width\": 1}, \"type\": \"line\", \"x0\": 11.2, \"x1\": 11.2, \"y0\": 0, \"y1\": 10}, {\"line\": {\"color\": \"RoyalBlue\", \"width\": 1}, \"type\": \"line\", \"x0\": 18.4, \"x1\": 18.4, \"y0\": 0, \"y1\": 10}, {\"line\": {\"color\": \"RoyalBlue\", \"width\": 1}, \"type\": \"line\", \"x0\": 12.3, \"x1\": 12.3, \"y0\": 0, \"y1\": 10}, {\"line\": {\"color\": \"RoyalBlue\", \"width\": 1}, \"type\": \"line\", \"x0\": 16.8, \"x1\": 16.8, \"y0\": 0, \"y1\": 10}, {\"line\": {\"color\": \"RoyalBlue\", \"width\": 1}, \"type\": \"line\", \"x0\": 23.9, \"x1\": 23.9, \"y0\": 0, \"y1\": 10}, {\"line\": {\"color\": \"RoyalBlue\", \"width\": 1}, \"type\": \"line\", \"x0\": 14.1, \"x1\": 14.1, \"y0\": 0, \"y1\": 10}, {\"line\": {\"color\": \"RoyalBlue\", \"width\": 1}, \"type\": \"line\", \"x0\": 19.9, \"x1\": 19.9, \"y0\": 0, \"y1\": 10}, {\"line\": {\"color\": \"RoyalBlue\", \"width\": 1}, \"type\": \"line\", \"x0\": 12.8, \"x1\": 12.8, \"y0\": 0, \"y1\": 10}, {\"line\": {\"color\": \"RoyalBlue\", \"width\": 1}, \"type\": \"line\", \"x0\": 18.2, \"x1\": 18.2, \"y0\": 0, \"y1\": 10}, {\"line\": {\"color\": \"RoyalBlue\", \"width\": 1}, \"type\": \"line\", \"x0\": 11.1, \"x1\": 11.1, \"y0\": 0, \"y1\": 10}, {\"line\": {\"color\": \"RoyalBlue\", \"width\": 1}, \"type\": \"line\", \"x0\": 23.9, \"x1\": 23.9, \"y0\": 0, \"y1\": 10}, {\"line\": {\"color\": \"RoyalBlue\", \"width\": 1}, \"type\": \"line\", \"x0\": 19.4, \"x1\": 19.4, \"y0\": 0, \"y1\": 10}, {\"line\": {\"color\": \"RoyalBlue\", \"width\": 1}, \"type\": \"line\", \"x0\": 19.5, \"x1\": 19.5, \"y0\": 0, \"y1\": 10}, {\"line\": {\"color\": \"RoyalBlue\", \"width\": 1}, \"type\": \"line\", \"x0\": 19.4, \"x1\": 19.4, \"y0\": 0, \"y1\": 10}, {\"line\": {\"color\": \"RoyalBlue\", \"width\": 1}, \"type\": \"line\", \"x0\": 11.3, \"x1\": 11.3, \"y0\": 0, \"y1\": 10}, {\"line\": {\"color\": \"RoyalBlue\", \"width\": 1}, \"type\": \"line\", \"x0\": 13.6, \"x1\": 13.6, \"y0\": 0, \"y1\": 10}, {\"line\": {\"color\": \"RoyalBlue\", \"width\": 1}, \"type\": \"line\", \"x0\": 12.7, \"x1\": 12.7, \"y0\": 0, \"y1\": 10}, {\"line\": {\"color\": \"RoyalBlue\", \"width\": 1}, \"type\": \"line\", \"x0\": 10.6, \"x1\": 10.6, \"y0\": 0, \"y1\": 10}, {\"line\": {\"color\": \"RoyalBlue\", \"width\": 1}, \"type\": \"line\", \"x0\": 23.8, \"x1\": 23.8, \"y0\": 0, \"y1\": 10}, {\"line\": {\"color\": \"RoyalBlue\", \"width\": 1}, \"type\": \"line\", \"x0\": 13.8, \"x1\": 13.8, \"y0\": 0, \"y1\": 10}, {\"line\": {\"color\": \"RoyalBlue\", \"width\": 1}, \"type\": \"line\", \"x0\": 17.4, \"x1\": 17.4, \"y0\": 0, \"y1\": 10}], \"template\": {\"data\": {\"bar\": [{\"error_x\": {\"color\": \"#2a3f5f\"}, \"error_y\": {\"color\": \"#2a3f5f\"}, \"marker\": {\"line\": {\"color\": \"#E5ECF6\", \"width\": 0.5}}, \"type\": \"bar\"}], \"barpolar\": [{\"marker\": {\"line\": {\"color\": \"#E5ECF6\", \"width\": 0.5}}, \"type\": \"barpolar\"}], \"carpet\": [{\"aaxis\": {\"endlinecolor\": \"#2a3f5f\", \"gridcolor\": \"white\", \"linecolor\": \"white\", \"minorgridcolor\": \"white\", \"startlinecolor\": \"#2a3f5f\"}, \"baxis\": {\"endlinecolor\": \"#2a3f5f\", \"gridcolor\": \"white\", \"linecolor\": \"white\", \"minorgridcolor\": \"white\", \"startlinecolor\": \"#2a3f5f\"}, \"type\": \"carpet\"}], \"choropleth\": [{\"colorbar\": {\"outlinewidth\": 0, \"ticks\": \"\"}, \"type\": \"choropleth\"}], \"contour\": [{\"colorbar\": {\"outlinewidth\": 0, \"ticks\": \"\"}, \"colorscale\": [[0.0, \"#0d0887\"], [0.1111111111111111, \"#46039f\"], [0.2222222222222222, \"#7201a8\"], [0.3333333333333333, \"#9c179e\"], [0.4444444444444444, \"#bd3786\"], [0.5555555555555556, \"#d8576b\"], [0.6666666666666666, \"#ed7953\"], [0.7777777777777778, \"#fb9f3a\"], [0.8888888888888888, \"#fdca26\"], [1.0, \"#f0f921\"]], \"type\": \"contour\"}], \"contourcarpet\": [{\"colorbar\": {\"outlinewidth\": 0, \"ticks\": \"\"}, \"type\": \"contourcarpet\"}], \"heatmap\": [{\"colorbar\": {\"outlinewidth\": 0, \"ticks\": \"\"}, \"colorscale\": [[0.0, \"#0d0887\"], [0.1111111111111111, \"#46039f\"], [0.2222222222222222, \"#7201a8\"], [0.3333333333333333, \"#9c179e\"], [0.4444444444444444, \"#bd3786\"], [0.5555555555555556, \"#d8576b\"], [0.6666666666666666, \"#ed7953\"], [0.7777777777777778, \"#fb9f3a\"], [0.8888888888888888, \"#fdca26\"], [1.0, \"#f0f921\"]], \"type\": \"heatmap\"}], \"heatmapgl\": [{\"colorbar\": {\"outlinewidth\": 0, \"ticks\": \"\"}, \"colorscale\": [[0.0, \"#0d0887\"], [0.1111111111111111, \"#46039f\"], [0.2222222222222222, \"#7201a8\"], [0.3333333333333333, \"#9c179e\"], [0.4444444444444444, \"#bd3786\"], [0.5555555555555556, \"#d8576b\"], [0.6666666666666666, \"#ed7953\"], [0.7777777777777778, \"#fb9f3a\"], [0.8888888888888888, \"#fdca26\"], [1.0, \"#f0f921\"]], \"type\": \"heatmapgl\"}], \"histogram\": [{\"marker\": {\"colorbar\": {\"outlinewidth\": 0, \"ticks\": \"\"}}, \"type\": \"histogram\"}], \"histogram2d\": [{\"colorbar\": {\"outlinewidth\": 0, \"ticks\": \"\"}, \"colorscale\": [[0.0, \"#0d0887\"], [0.1111111111111111, \"#46039f\"], [0.2222222222222222, \"#7201a8\"], [0.3333333333333333, \"#9c179e\"], [0.4444444444444444, \"#bd3786\"], [0.5555555555555556, \"#d8576b\"], [0.6666666666666666, \"#ed7953\"], [0.7777777777777778, \"#fb9f3a\"], [0.8888888888888888, \"#fdca26\"], [1.0, \"#f0f921\"]], \"type\": \"histogram2d\"}], \"histogram2dcontour\": [{\"colorbar\": {\"outlinewidth\": 0, \"ticks\": \"\"}, \"colorscale\": [[0.0, \"#0d0887\"], [0.1111111111111111, \"#46039f\"], [0.2222222222222222, \"#7201a8\"], [0.3333333333333333, \"#9c179e\"], [0.4444444444444444, \"#bd3786\"], [0.5555555555555556, \"#d8576b\"], [0.6666666666666666, \"#ed7953\"], [0.7777777777777778, \"#fb9f3a\"], [0.8888888888888888, \"#fdca26\"], [1.0, \"#f0f921\"]], \"type\": \"histogram2dcontour\"}], \"mesh3d\": [{\"colorbar\": {\"outlinewidth\": 0, \"ticks\": \"\"}, \"type\": \"mesh3d\"}], \"parcoords\": [{\"line\": {\"colorbar\": {\"outlinewidth\": 0, \"ticks\": \"\"}}, \"type\": \"parcoords\"}], \"pie\": [{\"automargin\": true, \"type\": \"pie\"}], \"scatter\": [{\"marker\": {\"colorbar\": {\"outlinewidth\": 0, \"ticks\": \"\"}}, \"type\": \"scatter\"}], \"scatter3d\": [{\"line\": {\"colorbar\": {\"outlinewidth\": 0, \"ticks\": \"\"}}, \"marker\": {\"colorbar\": {\"outlinewidth\": 0, \"ticks\": \"\"}}, \"type\": \"scatter3d\"}], \"scattercarpet\": [{\"marker\": {\"colorbar\": {\"outlinewidth\": 0, \"ticks\": \"\"}}, \"type\": \"scattercarpet\"}], \"scattergeo\": [{\"marker\": {\"colorbar\": {\"outlinewidth\": 0, \"ticks\": \"\"}}, \"type\": \"scattergeo\"}], \"scattergl\": [{\"marker\": {\"colorbar\": {\"outlinewidth\": 0, \"ticks\": \"\"}}, \"type\": \"scattergl\"}], \"scattermapbox\": [{\"marker\": {\"colorbar\": {\"outlinewidth\": 0, \"ticks\": \"\"}}, \"type\": \"scattermapbox\"}], \"scatterpolar\": [{\"marker\": {\"colorbar\": {\"outlinewidth\": 0, \"ticks\": \"\"}}, \"type\": \"scatterpolar\"}], \"scatterpolargl\": [{\"marker\": {\"colorbar\": {\"outlinewidth\": 0, \"ticks\": \"\"}}, \"type\": \"scatterpolargl\"}], \"scatterternary\": [{\"marker\": {\"colorbar\": {\"outlinewidth\": 0, \"ticks\": \"\"}}, \"type\": \"scatterternary\"}], \"surface\": [{\"colorbar\": {\"outlinewidth\": 0, \"ticks\": \"\"}, \"colorscale\": [[0.0, \"#0d0887\"], [0.1111111111111111, \"#46039f\"], [0.2222222222222222, \"#7201a8\"], [0.3333333333333333, \"#9c179e\"], [0.4444444444444444, \"#bd3786\"], [0.5555555555555556, \"#d8576b\"], [0.6666666666666666, \"#ed7953\"], [0.7777777777777778, \"#fb9f3a\"], [0.8888888888888888, \"#fdca26\"], [1.0, \"#f0f921\"]], \"type\": \"surface\"}], \"table\": [{\"cells\": {\"fill\": {\"color\": \"#EBF0F8\"}, \"line\": {\"color\": \"white\"}}, \"header\": {\"fill\": {\"color\": \"#C8D4E3\"}, \"line\": {\"color\": \"white\"}}, \"type\": \"table\"}]}, \"layout\": {\"annotationdefaults\": {\"arrowcolor\": \"#2a3f5f\", \"arrowhead\": 0, \"arrowwidth\": 1}, \"coloraxis\": {\"colorbar\": {\"outlinewidth\": 0, \"ticks\": \"\"}}, \"colorscale\": {\"diverging\": [[0, \"#8e0152\"], [0.1, \"#c51b7d\"], [0.2, \"#de77ae\"], [0.3, \"#f1b6da\"], [0.4, \"#fde0ef\"], [0.5, \"#f7f7f7\"], [0.6, \"#e6f5d0\"], [0.7, \"#b8e186\"], [0.8, \"#7fbc41\"], [0.9, \"#4d9221\"], [1, \"#276419\"]], \"sequential\": [[0.0, \"#0d0887\"], [0.1111111111111111, \"#46039f\"], [0.2222222222222222, \"#7201a8\"], [0.3333333333333333, \"#9c179e\"], [0.4444444444444444, \"#bd3786\"], [0.5555555555555556, \"#d8576b\"], [0.6666666666666666, \"#ed7953\"], [0.7777777777777778, \"#fb9f3a\"], [0.8888888888888888, \"#fdca26\"], [1.0, \"#f0f921\"]], \"sequentialminus\": [[0.0, \"#0d0887\"], [0.1111111111111111, \"#46039f\"], [0.2222222222222222, \"#7201a8\"], [0.3333333333333333, \"#9c179e\"], [0.4444444444444444, \"#bd3786\"], [0.5555555555555556, \"#d8576b\"], [0.6666666666666666, \"#ed7953\"], [0.7777777777777778, \"#fb9f3a\"], [0.8888888888888888, \"#fdca26\"], [1.0, \"#f0f921\"]]}, \"colorway\": [\"#636efa\", \"#EF553B\", \"#00cc96\", \"#ab63fa\", \"#FFA15A\", \"#19d3f3\", \"#FF6692\", \"#B6E880\", \"#FF97FF\", \"#FECB52\"], \"font\": {\"color\": \"#2a3f5f\"}, \"geo\": {\"bgcolor\": \"white\", \"lakecolor\": \"white\", \"landcolor\": \"#E5ECF6\", \"showlakes\": true, \"showland\": true, \"subunitcolor\": \"white\"}, \"hoverlabel\": {\"align\": \"left\"}, \"hovermode\": \"closest\", \"mapbox\": {\"style\": \"light\"}, \"paper_bgcolor\": \"white\", \"plot_bgcolor\": \"#E5ECF6\", \"polar\": {\"angularaxis\": {\"gridcolor\": \"white\", \"linecolor\": \"white\", \"ticks\": \"\"}, \"bgcolor\": \"#E5ECF6\", \"radialaxis\": {\"gridcolor\": \"white\", \"linecolor\": \"white\", \"ticks\": \"\"}}, \"scene\": {\"xaxis\": {\"backgroundcolor\": \"#E5ECF6\", \"gridcolor\": \"white\", \"gridwidth\": 2, \"linecolor\": \"white\", \"showbackground\": true, \"ticks\": \"\", \"zerolinecolor\": \"white\"}, \"yaxis\": {\"backgroundcolor\": \"#E5ECF6\", \"gridcolor\": \"white\", \"gridwidth\": 2, \"linecolor\": \"white\", \"showbackground\": true, \"ticks\": \"\", \"zerolinecolor\": \"white\"}, \"zaxis\": {\"backgroundcolor\": \"#E5ECF6\", \"gridcolor\": \"white\", \"gridwidth\": 2, \"linecolor\": \"white\", \"showbackground\": true, \"ticks\": \"\", \"zerolinecolor\": \"white\"}}, \"shapedefaults\": {\"line\": {\"color\": \"#2a3f5f\"}}, \"ternary\": {\"aaxis\": {\"gridcolor\": \"white\", \"linecolor\": \"white\", \"ticks\": \"\"}, \"baxis\": {\"gridcolor\": \"white\", \"linecolor\": \"white\", \"ticks\": \"\"}, \"bgcolor\": \"#E5ECF6\", \"caxis\": {\"gridcolor\": \"white\", \"linecolor\": \"white\", \"ticks\": \"\"}}, \"title\": {\"x\": 0.05}, \"xaxis\": {\"automargin\": true, \"gridcolor\": \"white\", \"linecolor\": \"white\", \"ticks\": \"\", \"title\": {\"standoff\": 15}, \"zerolinecolor\": \"white\", \"zerolinewidth\": 2}, \"yaxis\": {\"automargin\": true, \"gridcolor\": \"white\", \"linecolor\": \"white\", \"ticks\": \"\", \"title\": {\"standoff\": 15}, \"zerolinecolor\": \"white\", \"zerolinewidth\": 2}}}, \"title\": {\"text\": \"Car Crashes by State, Alc vs Speeding\", \"x\": 0.5}, \"xaxis\": {\"title\": {\"text\": \"total occurences\"}}, \"yaxis\": {\"title\": {\"text\": \"specific occurences\"}}},\n",
       "                        {\"responsive\": true}\n",
       "                    ).then(function(){\n",
       "                            \n",
       "var gd = document.getElementById('e7ac0d96-c91d-4f54-bbad-5f3833260276');\n",
       "var x = new MutationObserver(function (mutations, observer) {{\n",
       "        var display = window.getComputedStyle(gd).display;\n",
       "        if (!display || display === 'none') {{\n",
       "            console.log([gd, 'removed!']);\n",
       "            Plotly.purge(gd);\n",
       "            observer.disconnect();\n",
       "        }}\n",
       "}});\n",
       "\n",
       "// Listen for the removal of the full notebook cells\n",
       "var notebookContainer = gd.closest('#notebook-container');\n",
       "if (notebookContainer) {{\n",
       "    x.observe(notebookContainer, {childList: true});\n",
       "}}\n",
       "\n",
       "// Listen for the clearing of the current output cell\n",
       "var outputEl = gd.closest('.output');\n",
       "if (outputEl) {{\n",
       "    x.observe(outputEl, {childList: true});\n",
       "}}\n",
       "\n",
       "                        })\n",
       "                };\n",
       "                });\n",
       "            </script>\n",
       "        </div>"
      ]
     },
     "metadata": {},
     "output_type": "display_data"
    }
   ],
   "source": [
    "#https://plot.ly/python/shapes/\n",
    "fig = go.Figure()\n",
    "fig.add_trace(go.Scatter(x=df_car_crashes.total, y=df_car_crashes.alcohol, text=df_car_crashes.index, mode='markers', marker=dict(color=\"green\"), name=\"alc_crashes\"))\n",
    "fig.add_trace(go.Scatter(x=df_car_crashes.total, y=df_car_crashes.speeding, text=df_car_crashes.index, mode='markers', marker=dict(color=\"red\"), name=\"speeding_crashes\"))\n",
    "\n",
    "for x in df_car_crashes.total: \n",
    "    fig.add_shape(\n",
    "        # Line Vertical\n",
    "        dict( type=\"line\",x0=x,x1=x,y0=0,y1=10, line=dict(color=\"RoyalBlue\",width=1) ))\n",
    "\n",
    "\n",
    "fig.update_layout(title=dict(text=\"Car Crashes by State, Alc vs Speeding\", x=0.5), xaxis_title=\"total occurences\", yaxis_title=\"specific occurences\")\n",
    "fig.show()"
   ]
  },
  {
   "cell_type": "markdown",
   "metadata": {},
   "source": [
    "#### This plot shows a comparison of alcohol crashes and speeding crashes. Each state is on the same vertical line. The vertical lines also help show the distribution of the data across the total occurences axis.\n",
    "#### To my eyes this suggests there is a small lead in speeding crashes over alchol crashes. "
   ]
  },
  {
   "cell_type": "markdown",
   "metadata": {},
   "source": [
    "**27) [P] Run a full PCA on the z_score transformed data. Set n_components to be the same number of columns\n",
    "as the data. Be sure to fit the data to your PCA model, and then output the components, explained variance, and the explained variance ratio.**"
   ]
  },
  {
   "cell_type": "code",
   "execution_count": 116,
   "metadata": {},
   "outputs": [
    {
     "data": {
      "text/plain": [
       "PCA(copy=True, iterated_power='auto', n_components=7, random_state=None,\n",
       "    svd_solver='auto', tol=0.0, whiten=False)"
      ]
     },
     "execution_count": 116,
     "metadata": {},
     "output_type": "execute_result"
    }
   ],
   "source": [
    "#https://scikit-learn.org/stable/modules/generated/sklearn.decomposition.PCA.html\n",
    "pca = PCA(n_components=len(df_car_crashes_zscore.columns))\n",
    "pca.fit(df_car_crashes_zscore)"
   ]
  },
  {
   "cell_type": "code",
   "execution_count": 174,
   "metadata": {},
   "outputs": [
    {
     "data": {
      "text/html": [
       "<div>\n",
       "<style scoped>\n",
       "    .dataframe tbody tr th:only-of-type {\n",
       "        vertical-align: middle;\n",
       "    }\n",
       "\n",
       "    .dataframe tbody tr th {\n",
       "        vertical-align: top;\n",
       "    }\n",
       "\n",
       "    .dataframe thead th {\n",
       "        text-align: right;\n",
       "    }\n",
       "</style>\n",
       "<table border=\"1\" class=\"dataframe\">\n",
       "  <thead>\n",
       "    <tr style=\"text-align: right;\">\n",
       "      <th></th>\n",
       "      <th>0</th>\n",
       "      <th>1</th>\n",
       "      <th>2</th>\n",
       "      <th>3</th>\n",
       "      <th>4</th>\n",
       "      <th>5</th>\n",
       "      <th>6</th>\n",
       "    </tr>\n",
       "  </thead>\n",
       "  <tbody>\n",
       "    <tr>\n",
       "      <th>0</th>\n",
       "      <td>0.479471</td>\n",
       "      <td>0.375347</td>\n",
       "      <td>0.454376</td>\n",
       "      <td>0.438033</td>\n",
       "      <td>0.457034</td>\n",
       "      <td>-0.130832</td>\n",
       "      <td>-0.069960</td>\n",
       "    </tr>\n",
       "    <tr>\n",
       "      <th>1</th>\n",
       "      <td>0.068938</td>\n",
       "      <td>0.076585</td>\n",
       "      <td>0.033458</td>\n",
       "      <td>0.042375</td>\n",
       "      <td>0.096129</td>\n",
       "      <td>0.685227</td>\n",
       "      <td>0.712524</td>\n",
       "    </tr>\n",
       "    <tr>\n",
       "      <th>2</th>\n",
       "      <td>-0.269088</td>\n",
       "      <td>0.818269</td>\n",
       "      <td>0.082933</td>\n",
       "      <td>-0.126168</td>\n",
       "      <td>-0.317988</td>\n",
       "      <td>0.256142</td>\n",
       "      <td>-0.261735</td>\n",
       "    </tr>\n",
       "    <tr>\n",
       "      <th>3</th>\n",
       "      <td>0.038956</td>\n",
       "      <td>-0.363749</td>\n",
       "      <td>0.148344</td>\n",
       "      <td>0.171266</td>\n",
       "      <td>0.039481</td>\n",
       "      <td>0.656396</td>\n",
       "      <td>-0.618399</td>\n",
       "    </tr>\n",
       "    <tr>\n",
       "      <th>4</th>\n",
       "      <td>0.145977</td>\n",
       "      <td>-0.022828</td>\n",
       "      <td>0.354798</td>\n",
       "      <td>-0.856469</td>\n",
       "      <td>0.336110</td>\n",
       "      <td>0.042145</td>\n",
       "      <td>-0.063272</td>\n",
       "    </tr>\n",
       "    <tr>\n",
       "      <th>5</th>\n",
       "      <td>-0.169705</td>\n",
       "      <td>-0.224792</td>\n",
       "      <td>0.783768</td>\n",
       "      <td>0.085105</td>\n",
       "      <td>-0.504012</td>\n",
       "      <td>-0.115773</td>\n",
       "      <td>0.178052</td>\n",
       "    </tr>\n",
       "    <tr>\n",
       "      <th>6</th>\n",
       "      <td>0.800825</td>\n",
       "      <td>0.017848</td>\n",
       "      <td>-0.152858</td>\n",
       "      <td>-0.142478</td>\n",
       "      <td>-0.558754</td>\n",
       "      <td>0.041266</td>\n",
       "      <td>-0.028050</td>\n",
       "    </tr>\n",
       "  </tbody>\n",
       "</table>\n",
       "</div>"
      ],
      "text/plain": [
       "          0         1         2         3         4         5         6\n",
       "0  0.479471  0.375347  0.454376  0.438033  0.457034 -0.130832 -0.069960\n",
       "1  0.068938  0.076585  0.033458  0.042375  0.096129  0.685227  0.712524\n",
       "2 -0.269088  0.818269  0.082933 -0.126168 -0.317988  0.256142 -0.261735\n",
       "3  0.038956 -0.363749  0.148344  0.171266  0.039481  0.656396 -0.618399\n",
       "4  0.145977 -0.022828  0.354798 -0.856469  0.336110  0.042145 -0.063272\n",
       "5 -0.169705 -0.224792  0.783768  0.085105 -0.504012 -0.115773  0.178052\n",
       "6  0.800825  0.017848 -0.152858 -0.142478 -0.558754  0.041266 -0.028050"
      ]
     },
     "execution_count": 174,
     "metadata": {},
     "output_type": "execute_result"
    }
   ],
   "source": [
    "df_27_a = pd.DataFrame(pca.components_)\n",
    "df_27_a #Just so it looks nicer"
   ]
  },
  {
   "cell_type": "code",
   "execution_count": 175,
   "metadata": {},
   "outputs": [
    {
     "data": {
      "text/html": [
       "<div>\n",
       "<style scoped>\n",
       "    .dataframe tbody tr th:only-of-type {\n",
       "        vertical-align: middle;\n",
       "    }\n",
       "\n",
       "    .dataframe tbody tr th {\n",
       "        vertical-align: top;\n",
       "    }\n",
       "\n",
       "    .dataframe thead th {\n",
       "        text-align: right;\n",
       "    }\n",
       "</style>\n",
       "<table border=\"1\" class=\"dataframe\">\n",
       "  <thead>\n",
       "    <tr style=\"text-align: right;\">\n",
       "      <th></th>\n",
       "      <th>0</th>\n",
       "    </tr>\n",
       "  </thead>\n",
       "  <tbody>\n",
       "    <tr>\n",
       "      <th>0</th>\n",
       "      <td>4.094231</td>\n",
       "    </tr>\n",
       "    <tr>\n",
       "      <th>1</th>\n",
       "      <td>1.609573</td>\n",
       "    </tr>\n",
       "    <tr>\n",
       "      <th>2</th>\n",
       "      <td>0.561614</td>\n",
       "    </tr>\n",
       "    <tr>\n",
       "      <th>3</th>\n",
       "      <td>0.357540</td>\n",
       "    </tr>\n",
       "    <tr>\n",
       "      <th>4</th>\n",
       "      <td>0.286385</td>\n",
       "    </tr>\n",
       "    <tr>\n",
       "      <th>5</th>\n",
       "      <td>0.202633</td>\n",
       "    </tr>\n",
       "    <tr>\n",
       "      <th>6</th>\n",
       "      <td>0.028024</td>\n",
       "    </tr>\n",
       "  </tbody>\n",
       "</table>\n",
       "</div>"
      ],
      "text/plain": [
       "          0\n",
       "0  4.094231\n",
       "1  1.609573\n",
       "2  0.561614\n",
       "3  0.357540\n",
       "4  0.286385\n",
       "5  0.202633\n",
       "6  0.028024"
      ]
     },
     "execution_count": 175,
     "metadata": {},
     "output_type": "execute_result"
    }
   ],
   "source": [
    "df_27_b = pd.DataFrame(pca.explained_variance_)\n",
    "df_27_b"
   ]
  },
  {
   "cell_type": "code",
   "execution_count": 153,
   "metadata": {},
   "outputs": [
    {
     "data": {
      "text/html": [
       "<div>\n",
       "<style scoped>\n",
       "    .dataframe tbody tr th:only-of-type {\n",
       "        vertical-align: middle;\n",
       "    }\n",
       "\n",
       "    .dataframe tbody tr th {\n",
       "        vertical-align: top;\n",
       "    }\n",
       "\n",
       "    .dataframe thead th {\n",
       "        text-align: right;\n",
       "    }\n",
       "</style>\n",
       "<table border=\"1\" class=\"dataframe\">\n",
       "  <thead>\n",
       "    <tr style=\"text-align: right;\">\n",
       "      <th></th>\n",
       "      <th>0</th>\n",
       "    </tr>\n",
       "  </thead>\n",
       "  <tbody>\n",
       "    <tr>\n",
       "      <th>0</th>\n",
       "      <td>0.573422</td>\n",
       "    </tr>\n",
       "    <tr>\n",
       "      <th>1</th>\n",
       "      <td>0.225430</td>\n",
       "    </tr>\n",
       "    <tr>\n",
       "      <th>2</th>\n",
       "      <td>0.078657</td>\n",
       "    </tr>\n",
       "    <tr>\n",
       "      <th>3</th>\n",
       "      <td>0.050076</td>\n",
       "    </tr>\n",
       "    <tr>\n",
       "      <th>4</th>\n",
       "      <td>0.040110</td>\n",
       "    </tr>\n",
       "    <tr>\n",
       "      <th>5</th>\n",
       "      <td>0.028380</td>\n",
       "    </tr>\n",
       "    <tr>\n",
       "      <th>6</th>\n",
       "      <td>0.003925</td>\n",
       "    </tr>\n",
       "  </tbody>\n",
       "</table>\n",
       "</div>"
      ],
      "text/plain": [
       "          0\n",
       "0  0.573422\n",
       "1  0.225430\n",
       "2  0.078657\n",
       "3  0.050076\n",
       "4  0.040110\n",
       "5  0.028380\n",
       "6  0.003925"
      ]
     },
     "execution_count": 153,
     "metadata": {},
     "output_type": "execute_result"
    }
   ],
   "source": [
    "df_27_c = pd.DataFrame(pca.explained_variance_ratio_)\n",
    "df_27_c"
   ]
  },
  {
   "cell_type": "markdown",
   "metadata": {},
   "source": [
    "**28) [M] Use your intuition – what do the weights of the first couple of components suggest explains most of the\n",
    "variance in the data?**"
   ]
  },
  {
   "cell_type": "markdown",
   "metadata": {},
   "source": [
    "#### Most of the variance seems to come from speeding and alcohol."
   ]
  },
  {
   "cell_type": "markdown",
   "metadata": {},
   "source": [
    "**29) [P] Create a plot of the cumulative sum of the explained variance. How many components will get you to 90%\n",
    "of the explained variance?**"
   ]
  },
  {
   "cell_type": "code",
   "execution_count": 156,
   "metadata": {
    "scrolled": true
   },
   "outputs": [
    {
     "data": {
      "image/png": "[encoded data removed]",
      "text/plain": [
       "<Figure size 432x288 with 1 Axes>"
      ]
     },
     "metadata": {
      "needs_background": "light"
     },
     "output_type": "display_data"
    }
   ],
   "source": [
    "plt.plot(df_27_b.index, df_27_b.cumsum(),label=\"Explained Variance\")\n",
    "\n",
    "variance_90_percent = df_27_b.cumsum().iat[6,0]*0.9\n",
    "plt.grid()\n",
    "plt.hlines(y=variance_90_percent, xmin=0, xmax=6, label=\"90% of total variance\")\n",
    "plt.ylabel(\"# of Components\")\n",
    "plt.xlabel(\"Variance\")\n",
    "plt.title(\"Cumulative sum of explained variance\")\n",
    "plt.legend()\n",
    "plt.show()"
   ]
  },
  {
   "cell_type": "markdown",
   "metadata": {},
   "source": [
    "#### Judging by the plot above, we need at least 4 components to get 90% of the explained variance."
   ]
  },
  {
   "cell_type": "markdown",
   "metadata": {},
   "source": [
    "**30) [P] Transform the z_score transformed data using your PCA model (i.e. using the transform function of the\n",
    "pca object.)**\n",
    "\n",
    "**(NOTE: I often just store the transformed data temporarily as some arbitrary variable, X, to make it easier to\n",
    "manipulate the data for plotting.)**"
   ]
  },
  {
   "cell_type": "code",
   "execution_count": 162,
   "metadata": {},
   "outputs": [
    {
     "data": {
      "text/html": [
       "<div>\n",
       "<style scoped>\n",
       "    .dataframe tbody tr th:only-of-type {\n",
       "        vertical-align: middle;\n",
       "    }\n",
       "\n",
       "    .dataframe tbody tr th {\n",
       "        vertical-align: top;\n",
       "    }\n",
       "\n",
       "    .dataframe thead th {\n",
       "        text-align: right;\n",
       "    }\n",
       "</style>\n",
       "<table border=\"1\" class=\"dataframe\">\n",
       "  <thead>\n",
       "    <tr style=\"text-align: right;\">\n",
       "      <th></th>\n",
       "      <th>0</th>\n",
       "      <th>1</th>\n",
       "      <th>2</th>\n",
       "      <th>3</th>\n",
       "      <th>4</th>\n",
       "      <th>5</th>\n",
       "      <th>6</th>\n",
       "    </tr>\n",
       "  </thead>\n",
       "  <tbody>\n",
       "    <tr>\n",
       "      <th>0</th>\n",
       "      <td>1.603671</td>\n",
       "      <td>0.133449</td>\n",
       "      <td>0.317881</td>\n",
       "      <td>-0.795293</td>\n",
       "      <td>-0.579719</td>\n",
       "      <td>0.046223</td>\n",
       "      <td>0.210185</td>\n",
       "    </tr>\n",
       "    <tr>\n",
       "      <th>1</th>\n",
       "      <td>1.144212</td>\n",
       "      <td>0.858234</td>\n",
       "      <td>0.736626</td>\n",
       "      <td>0.318988</td>\n",
       "      <td>-0.228701</td>\n",
       "      <td>-1.002625</td>\n",
       "      <td>0.008966</td>\n",
       "    </tr>\n",
       "    <tr>\n",
       "      <th>2</th>\n",
       "      <td>1.432172</td>\n",
       "      <td>-0.420506</td>\n",
       "      <td>0.338136</td>\n",
       "      <td>0.552513</td>\n",
       "      <td>0.168718</td>\n",
       "      <td>-0.804523</td>\n",
       "      <td>-0.076107</td>\n",
       "    </tr>\n",
       "    <tr>\n",
       "      <th>3</th>\n",
       "      <td>2.491584</td>\n",
       "      <td>0.348968</td>\n",
       "      <td>-1.788747</td>\n",
       "      <td>0.264064</td>\n",
       "      <td>-0.372382</td>\n",
       "      <td>-0.481849</td>\n",
       "      <td>-0.147636</td>\n",
       "    </tr>\n",
       "    <tr>\n",
       "      <th>4</th>\n",
       "      <td>-1.750638</td>\n",
       "      <td>0.633625</td>\n",
       "      <td>-0.136176</td>\n",
       "      <td>-0.974916</td>\n",
       "      <td>-0.315811</td>\n",
       "      <td>0.178510</td>\n",
       "      <td>-0.068958</td>\n",
       "    </tr>\n",
       "  </tbody>\n",
       "</table>\n",
       "</div>"
      ],
      "text/plain": [
       "          0         1         2         3         4         5         6\n",
       "0  1.603671  0.133449  0.317881 -0.795293 -0.579719  0.046223  0.210185\n",
       "1  1.144212  0.858234  0.736626  0.318988 -0.228701 -1.002625  0.008966\n",
       "2  1.432172 -0.420506  0.338136  0.552513  0.168718 -0.804523 -0.076107\n",
       "3  2.491584  0.348968 -1.788747  0.264064 -0.372382 -0.481849 -0.147636\n",
       "4 -1.750638  0.633625 -0.136176 -0.974916 -0.315811  0.178510 -0.068958"
      ]
     },
     "execution_count": 162,
     "metadata": {},
     "output_type": "execute_result"
    }
   ],
   "source": [
    "pca_trans = pca.transform(df_car_crashes_zscore)\n",
    "pca_trans = pd.DataFrame(pca_trans)\n",
    "pca_trans.head()"
   ]
  },
  {
   "cell_type": "markdown",
   "metadata": {},
   "source": [
    "**31) [P] Generate a 2D plot using the first two principal components as your x and y coordinates. Be sure to label\n",
    "each point, and label your axes as component 1 and component 2, respectively.**"
   ]
  },
  {
   "cell_type": "code",
   "execution_count": 164,
   "metadata": {},
   "outputs": [
    {
     "data": {
      "image/png": "[encoded data removed]",
      "text/plain": [
       "<Figure size 432x288 with 1 Axes>"
      ]
     },
     "metadata": {
      "needs_background": "light"
     },
     "output_type": "display_data"
    }
   ],
   "source": [
    "#plt.plot(pca_trans.iloc[:,0], pca_trans.iloc[:,1],label=\"Component 1 vs 2\")\n",
    "plt.plot(pca_trans.iloc[0,:], pca_trans.iloc[1,:],label=\"Component 1 vs 2\")\n",
    "\n",
    "plt.grid()\n",
    "plt.ylabel(\"Component 2\")\n",
    "plt.xlabel(\"Component 1\")\n",
    "plt.title(\"Component 1 vs 2\")\n",
    "plt.legend()\n",
    "plt.show()"
   ]
  },
  {
   "cell_type": "markdown",
   "metadata": {},
   "source": [
    "**32) [M] Compare the states you reported as potential outliers above to those that appear to be outliers from your\n",
    "plot. Do the same results seem to hold?**"
   ]
  },
  {
   "cell_type": "markdown",
   "metadata": {},
   "source": [
    "#### As far as I can tell the same results hold."
   ]
  },
  {
   "cell_type": "markdown",
   "metadata": {},
   "source": [
    "**33) [P] Read how to generate a 3D scatterplot in seaborn or plotly, and use it to generate a scatterplot of the first\n",
    "3 components.**"
   ]
  },
  {
   "cell_type": "code",
   "execution_count": 179,
   "metadata": {},
   "outputs": [
    {
     "data": {
      "image/png": "[encoded data removed]",
      "text/plain": [
       "<Figure size 432x288 with 1 Axes>"
      ]
     },
     "metadata": {
      "needs_background": "light"
     },
     "output_type": "display_data"
    }
   ],
   "source": [
    "#https://python-graph-gallery.com/370-3d-scatterplot/\n",
    "fig = plt.figure()\n",
    "ax = fig.add_subplot(111, projection='3d')\n",
    "ax.scatter(pca_trans.iloc[0,:], pca_trans.iloc[1,:], pca_trans.iloc[2,:], c='black', s=60)\n",
    "ax.view_init(30, 185)\n",
    "plt.show()\n"
   ]
  },
  {
   "cell_type": "markdown",
   "metadata": {},
   "source": [
    "**34) [M] Do the same outliers still stand out?**"
   ]
  },
  {
   "cell_type": "markdown",
   "metadata": {},
   "source": [
    "#### Yes."
   ]
  },
  {
   "cell_type": "code",
   "execution_count": null,
   "metadata": {},
   "outputs": [],
   "source": []
  }
 ],
 "metadata": {
  "kernelspec": {
   "display_name": "Python 3",
   "language": "python",
   "name": "python3"
  },
  "language_info": {
   "codemirror_mode": {
    "name": "ipython",
    "version": 3
   },
   "file_extension": ".py",
   "mimetype": "text/x-python",
   "name": "python",
   "nbconvert_exporter": "python",
   "pygments_lexer": "ipython3",
   "version": "3.7.6"
  }
 },
 "nbformat": 4,
 "nbformat_minor": 4
}
