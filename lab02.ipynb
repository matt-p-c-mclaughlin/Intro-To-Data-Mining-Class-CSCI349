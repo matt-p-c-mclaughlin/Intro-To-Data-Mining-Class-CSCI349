{
 "cells": [
  {
   "cell_type": "markdown",
   "metadata": {},
   "source": [
    "# Lab02 - numpy\n",
    "#### Name: Matt McLaughlin \n",
    "#### Class: CSCI 349 - Intro to Data Mining \n",
    "#### Semester: 2020SP \n",
    "#### Instructor: Brian King"
   ]
  },
  {
   "cell_type": "code",
   "execution_count": 1,
   "metadata": {},
   "outputs": [],
   "source": [
    "import sys\n",
    "import numpy as np"
   ]
  },
  {
   "cell_type": "markdown",
   "metadata": {},
   "source": [
    "#### 1) [P] Create an 52500 x 75 matrix of zeros, stored as X. Then print out the shape of the matrix, the base data type, the individual item size in the array, and the total size of the array in bytes (as an integer). Also, print out the total size in megabytes with 3 places of significance."
   ]
  },
  {
   "cell_type": "code",
   "execution_count": 2,
   "metadata": {},
   "outputs": [
    {
     "name": "stdout",
     "output_type": "stream",
     "text": [
      "Shape: (52500, 75)\n",
      "Base data type: float64\n",
      "Individual item size: 8\n",
      "Total size of array (bytes): 31500000\n",
      "Total size of array (megabytes): 31.500\n"
     ]
    }
   ],
   "source": [
    "x = np.zeros((52500, 75))\n",
    "print(\"Shape: \" + str(x.shape))\n",
    "print(\"Base data type: \" + str( x.dtype ) )\n",
    "print(\"Individual item size: \" + str( x.itemsize ) )\n",
    "print(\"Total size of array (bytes): \" + str( x.size * x.itemsize ) )\n",
    "sizeMB = (x.size * x.itemsize) / 1000000\n",
    "print(\"Total size of array (megabytes): \" + \"{:.3f}\".format(sizeMB))"
   ]
  },
  {
   "cell_type": "markdown",
   "metadata": {},
   "source": [
    "#### 2) [P] Resize X to have the same number of elements, but with 100 rows. Show the shape. Show the number of bytes (which should be the same as the previous answer)"
   ]
  },
  {
   "cell_type": "code",
   "execution_count": 3,
   "metadata": {},
   "outputs": [
    {
     "name": "stdout",
     "output_type": "stream",
     "text": [
      "Shape: (100, 39375)\n",
      "Total size of array (bytes): 31500000\n"
     ]
    }
   ],
   "source": [
    "newCol = int(x.size / 100) #number of columns = # elements / # of rows\n",
    "x = np.resize(x, (100, newCol))\n",
    "print(\"Shape: \" + str(x.shape))\n",
    "print(\"Total size of array (bytes): \" + str( x.size * x.itemsize ) )"
   ]
  },
  {
   "cell_type": "markdown",
   "metadata": {},
   "source": [
    "#### 3) [P] Redo #1, but use a base datatype of 16-bit integers."
   ]
  },
  {
   "cell_type": "code",
   "execution_count": 4,
   "metadata": {},
   "outputs": [
    {
     "name": "stdout",
     "output_type": "stream",
     "text": [
      "Shape: (52500, 75)\n",
      "Base data type: int16\n",
      "Individual item size: 2\n",
      "Total size of array (bytes): 7875000\n",
      "Total size of array (megabytes): 7.875\n"
     ]
    }
   ],
   "source": [
    "x = np.zeros((52500, 75), dtype='int16')\n",
    "print(\"Shape: \" + str(x.shape))\n",
    "print(\"Base data type: \" + str( x.dtype ) )\n",
    "print(\"Individual item size: \" + str( x.itemsize ) )\n",
    "print(\"Total size of array (bytes): \" + str( x.size * x.itemsize ) )\n",
    "sizeMB = (x.size * x.itemsize) / 1000000\n",
    "print(\"Total size of array (megabytes): \" + \"{:.3f}\".format(sizeMB))"
   ]
  },
  {
   "cell_type": "markdown",
   "metadata": {},
   "source": [
    "#### 4) [P] How many dimensions does X have? Answer using the appropriate property of np.ndarray objects."
   ]
  },
  {
   "cell_type": "code",
   "execution_count": 5,
   "metadata": {},
   "outputs": [
    {
     "name": "stdout",
     "output_type": "stream",
     "text": [
      "Number of dimensions: 2\n"
     ]
    }
   ],
   "source": [
    "print(\"Number of dimensions: \" + str(x.ndim) )"
   ]
  },
  {
   "cell_type": "markdown",
   "metadata": {},
   "source": [
    "#### 5) [P] Enter the following list in your cell:\n",
    "#### str_nums = ['2.14', '-9.3', '42']\n",
    "#### Convert this to a numpy array named X. What is the base type?\n",
    "#### Then, convert X to an array of single precision floating point numbers. (HINT: use astype)\n",
    "#### Let's assume you have two week's worth of quiz scores. Quizzes are out of 10 points, and are given every day.\n",
    "#### Enter the following in your cell:\n",
    "#### days = [\"Mon\",\"Tue\",\"Wed\",\"Thu\",\"Fri\"]\n",
    "#### scores_1 = [9.5, 8.75, 8, 10, 7.75]\n",
    "#### scores_2 = [9, 8, 10, 8.75, 7.25]\n",
    "#### The array scores_1 represents quiz scores from week 1, and scores_2 is week 2. The days array will be used for data selection purposes."
   ]
  },
  {
   "cell_type": "code",
   "execution_count": 6,
   "metadata": {},
   "outputs": [
    {
     "name": "stdout",
     "output_type": "stream",
     "text": [
      "Base type: <U4\n"
     ]
    }
   ],
   "source": [
    "str_nums = ['2.14', '-9.3', '42']\n",
    "\n",
    "x = np.array(str_nums)\n",
    "print(\"Base type: \" + str(x.dtype) )\n",
    "\n",
    "x = x.astype(np.single) #np.single is a \"Platform-defined single precision float\"\n",
    "\n",
    "days = [\"Mon\",\"Tue\",\"Wed\",\"Thu\",\"Fri\"]\n",
    "scores_1 = [9.5, 8.75, 8, 10, 7.75]\n",
    "scores_2 = [9, 8, 10, 8.75, 7.25]"
   ]
  },
  {
   "cell_type": "markdown",
   "metadata": {},
   "source": [
    "#### 6) [P] Create a numpy array called scores, that has scores_1 as the first row and scores_2 as the second row, using np.concatenate. Then, change days into a np.array from the list days. Verify the shape of scores and days."
   ]
  },
  {
   "cell_type": "code",
   "execution_count": 33,
   "metadata": {},
   "outputs": [
    {
     "name": "stdout",
     "output_type": "stream",
     "text": [
      "[[ 9.5   8.75  8.   10.    7.75]\n",
      " [ 9.    8.   10.    8.75  7.25]]\n",
      "Shape of scores: (2, 5)\n",
      "Shape of days: (5,)\n"
     ]
    }
   ],
   "source": [
    "scores_1 = np.array(scores_1)\n",
    "scores_2 = np.array(scores_2)\n",
    "scores = np.concatenate((scores_1, scores_2)).reshape(2,5)\n",
    "#This is returning 1x10 instead of 2x5\n",
    "#Can't figure it our for the life of me\n",
    "#Manual fix with .reshape(2,5)\n",
    "\n",
    "days = np.array(days)\n",
    "print(scores)\n",
    "print(\"Shape of scores: \" + str(scores.shape))\n",
    "print(\"Shape of days: \" + str(days.shape))"
   ]
  },
  {
   "cell_type": "markdown",
   "metadata": {},
   "source": [
    "#### 7) [P] Repeat the previous problem, but repeat it with np.vstack. The array should be identical."
   ]
  },
  {
   "cell_type": "code",
   "execution_count": 8,
   "metadata": {},
   "outputs": [
    {
     "name": "stdout",
     "output_type": "stream",
     "text": [
      "[[ 9.5   8.75  8.   10.    7.75]\n",
      " [ 9.    8.   10.    8.75  7.25]]\n",
      "Shape of scores: (2, 5)\n",
      "Shape of days: (5,)\n"
     ]
    }
   ],
   "source": [
    "scores_1 = np.array(scores_1)\n",
    "scores_2 = np.array(scores_2)\n",
    "scores = np.vstack( (scores_1, scores_2) )\n",
    "\n",
    "days = np.array(days)\n",
    "\n",
    "print(scores)\n",
    "print(\"Shape of scores: \" + str(scores.shape))\n",
    "print(\"Shape of days: \" + str(days.shape))"
   ]
  },
  {
   "cell_type": "markdown",
   "metadata": {},
   "source": [
    "#### 8) [M] Compare the result of the expression days == \"Fri\" if the variable days was a Python list, vs. days being a numpy array. What is the difference? In general, how does numpy deal with standard comparison operators?"
   ]
  },
  {
   "cell_type": "markdown",
   "metadata": {},
   "source": [
    "#### np.equal(x1, x2) (or just ==) compares for element-wise equality and returns a list of booleans. What is compared are values, not types. So an int (1) and an array of length one can evaluate as True. https://docs.scipy.org/doc/numpy-1.11.0/reference/generated/numpy.equal.html#numpy.equal \n",
    "\n",
    "#### Python checking for equality will return a single boolean. "
   ]
  },
  {
   "cell_type": "markdown",
   "metadata": {},
   "source": [
    "#### 9) [P] Select the scores that fell on Monday"
   ]
  },
  {
   "cell_type": "code",
   "execution_count": 9,
   "metadata": {},
   "outputs": [
    {
     "name": "stdout",
     "output_type": "stream",
     "text": [
      "[9.5 9. ]\n"
     ]
    }
   ],
   "source": [
    "#Done, but I feel like I didn't do it correctly\n",
    "for i in range(days.size):\n",
    "    if days[i] == \"Mon\":\n",
    "        scoresOnMonday = np.array([])\n",
    "        for j in range( scores.shape[0] ):\n",
    "            scoresOnMonday = np.concatenate((scoresOnMonday, scores[j][i]), axis=None )\n",
    "\n",
    "print(scoresOnMonday)"
   ]
  },
  {
   "cell_type": "markdown",
   "metadata": {},
   "source": [
    "#### 10) [P] Select all of the scores that are NOT on Monday (Hint – look up the ~ operator)"
   ]
  },
  {
   "cell_type": "code",
   "execution_count": 10,
   "metadata": {},
   "outputs": [
    {
     "name": "stdout",
     "output_type": "stream",
     "text": [
      "[ 8.75  8.    8.   10.   10.    8.75  7.75  7.25]\n"
     ]
    }
   ],
   "source": [
    "scoresNotOnMonday = np.array([])\n",
    "for i in range(days.size):\n",
    "    if days[i] != \"Mon\":\n",
    "        for j in range( scores.shape[0] ):\n",
    "            scoresNotOnMonday = np.append(scoresNotOnMonday, scores[j][i] )\n",
    "\n",
    "print(scoresNotOnMonday)"
   ]
  },
  {
   "cell_type": "markdown",
   "metadata": {},
   "source": [
    "#### 11) [P] Select the scores that were on Tuesday or Thursday"
   ]
  },
  {
   "cell_type": "code",
   "execution_count": 11,
   "metadata": {},
   "outputs": [
    {
     "name": "stdout",
     "output_type": "stream",
     "text": [
      "[ 8.75  8.   10.    8.75]\n"
     ]
    }
   ],
   "source": [
    "scoresTTh = np.array([])\n",
    "for i in range(days.size):\n",
    "    if days[i] == \"Tue\" or days[i] == \"Thu\":\n",
    "        for j in range( scores.shape[0] ):\n",
    "            scoresTTh = np.append(scoresTTh, scores[j][i] )\n",
    "\n",
    "print(scoresTTh)"
   ]
  },
  {
   "cell_type": "markdown",
   "metadata": {},
   "source": [
    "#### 12) [P] Show the minimum and maximum scores for the entire array of scores"
   ]
  },
  {
   "cell_type": "code",
   "execution_count": 12,
   "metadata": {},
   "outputs": [
    {
     "name": "stdout",
     "output_type": "stream",
     "text": [
      "Min: 7.25\n",
      "Max: 10.0\n"
     ]
    }
   ],
   "source": [
    "minimum = np.amin(scores)\n",
    "maximum = np.amax(scores)\n",
    "print(\"Min: \" + str(minimum))\n",
    "print(\"Max: \" + str(maximum))"
   ]
  },
  {
   "cell_type": "markdown",
   "metadata": {},
   "source": [
    "#### 13) [P] Show the minimum scores for each week as a new array with the same dimensions (hint – use the keepdims parameter)."
   ]
  },
  {
   "cell_type": "code",
   "execution_count": 13,
   "metadata": {},
   "outputs": [
    {
     "name": "stdout",
     "output_type": "stream",
     "text": [
      "Min: [[7.75]\n",
      " [7.25]]\n"
     ]
    }
   ],
   "source": [
    "#This is weird to me- by my understanding axis=0 should have it go by rows, not axis=1\n",
    "minArr = np.amin(scores, axis=1, keepdims=True)\n",
    "\n",
    "print(\"Min: \" + str(minArr))"
   ]
  },
  {
   "cell_type": "markdown",
   "metadata": {},
   "source": [
    "#### 14) [P] Report the day that the maximum score occurred each week. (HINT: use argmax and use that result to index days.)"
   ]
  },
  {
   "cell_type": "code",
   "execution_count": 14,
   "metadata": {},
   "outputs": [
    {
     "name": "stdout",
     "output_type": "stream",
     "text": [
      "Max score week 1 occured on: Thu\n",
      "Max score week 2 occured on: Wed\n"
     ]
    }
   ],
   "source": [
    "maxDayArr = np.argmax(scores, axis=1)\n",
    "maxWk1 = days[maxDayArr[0]]\n",
    "maxWk2 = days[maxDayArr[1]]\n",
    "print(\"Max score week 1 occured on: \" + maxWk1)\n",
    "print(\"Max score week 2 occured on: \" + maxWk2)"
   ]
  },
  {
   "cell_type": "markdown",
   "metadata": {},
   "source": [
    "#### 15) [P] Report the mean of the scores of each week"
   ]
  },
  {
   "cell_type": "code",
   "execution_count": 15,
   "metadata": {},
   "outputs": [
    {
     "name": "stdout",
     "output_type": "stream",
     "text": [
      "Mean week 1: 8.8\n",
      "Mean week 2: 8.6\n"
     ]
    }
   ],
   "source": [
    "mean = np.mean(scores, axis=1)\n",
    "print(\"Mean week 1: \" + str(mean[0]))\n",
    "print(\"Mean week 2: \" + str(mean[1]))"
   ]
  },
  {
   "cell_type": "markdown",
   "metadata": {},
   "source": [
    "#### 16) [P] Suppose the lowest score was dropped from each week. Report the mean of each week, but without the minimum score for that week."
   ]
  },
  {
   "cell_type": "code",
   "execution_count": 16,
   "metadata": {},
   "outputs": [
    {
     "name": "stdout",
     "output_type": "stream",
     "text": [
      "Mean week 1: 9.0625\n",
      "Mean week 2: 8.9375\n"
     ]
    }
   ],
   "source": [
    "minDayArr = np.argmin(scores, axis=1)\n",
    "newScores = np.delete(scores, minDayArr, axis=1) #Don't forget np.delete takes INDICES\n",
    "newMean = np.mean(newScores, axis=1)\n",
    "print(\"Mean week 1: \" + str(newMean[0]))\n",
    "print(\"Mean week 2: \" + str(newMean[1]))"
   ]
  },
  {
   "cell_type": "markdown",
   "metadata": {},
   "source": [
    "#### 17) [P] Convert the scores to fall on a scale from 0-100 instead of 0-10. Show the result."
   ]
  },
  {
   "cell_type": "code",
   "execution_count": 17,
   "metadata": {},
   "outputs": [
    {
     "name": "stdout",
     "output_type": "stream",
     "text": [
      "[[ 95.   87.5  80.  100.   77.5]\n",
      " [ 90.   80.  100.   87.5  72.5]]\n"
     ]
    }
   ],
   "source": [
    "scores = scores * 10 #Multiplying element-wise is intuitive\n",
    "print(scores)"
   ]
  },
  {
   "cell_type": "markdown",
   "metadata": {},
   "source": [
    "#### Copy and paste this code into a cell:\n",
    "#### np.random.seed(1234)\n",
    "#### X = np.random.randint(1,100,50).reshape((10,5))\n",
    "#### X\n",
    "#### You may use standard selection techniques with integers and slicing for the following exercises\n"
   ]
  },
  {
   "cell_type": "code",
   "execution_count": 18,
   "metadata": {},
   "outputs": [
    {
     "data": {
      "text/plain": [
       "array([[48, 84, 39, 54, 77],\n",
       "       [25, 16, 50, 24, 27],\n",
       "       [31, 44, 31, 27, 59],\n",
       "       [93, 70, 81, 74, 48],\n",
       "       [51, 77, 38, 35, 39],\n",
       "       [68, 12,  1, 76, 81],\n",
       "       [ 4,  3, 20, 13, 66],\n",
       "       [76, 82, 15, 72, 61],\n",
       "       [47, 29, 82, 88, 14],\n",
       "       [97, 13, 70, 96, 32]])"
      ]
     },
     "execution_count": 18,
     "metadata": {},
     "output_type": "execute_result"
    }
   ],
   "source": [
    "np.random.seed(1234)\n",
    "X = np.random.randint(1,100,50).reshape((10,5))\n",
    "X"
   ]
  },
  {
   "cell_type": "markdown",
   "metadata": {},
   "source": [
    "#### 18) [P] Select the first row of X"
   ]
  },
  {
   "cell_type": "code",
   "execution_count": 19,
   "metadata": {},
   "outputs": [
    {
     "name": "stdout",
     "output_type": "stream",
     "text": [
      "[48 84 39 54 77]\n"
     ]
    }
   ],
   "source": [
    "firstRow = X[0]\n",
    "print(firstRow)"
   ]
  },
  {
   "cell_type": "markdown",
   "metadata": {},
   "source": [
    "#### 19) [P] Select the last column of X"
   ]
  },
  {
   "cell_type": "code",
   "execution_count": 20,
   "metadata": {},
   "outputs": [
    {
     "name": "stdout",
     "output_type": "stream",
     "text": [
      "[77 27 59 48 39 81 66 61 14 32]\n"
     ]
    }
   ],
   "source": [
    "lastCol = X[:,-1]\n",
    "print(lastCol)"
   ]
  },
  {
   "cell_type": "markdown",
   "metadata": {},
   "source": [
    "#### 20) [P] Select the first AND last column of X"
   ]
  },
  {
   "cell_type": "code",
   "execution_count": 21,
   "metadata": {},
   "outputs": [
    {
     "name": "stdout",
     "output_type": "stream",
     "text": [
      "[[48 77]\n",
      " [25 27]\n",
      " [31 59]\n",
      " [93 48]\n",
      " [51 39]\n",
      " [68 81]\n",
      " [ 4 66]\n",
      " [76 61]\n",
      " [47 14]\n",
      " [97 32]]\n"
     ]
    }
   ],
   "source": [
    "firstLastCol = X[:,[0,-1]]\n",
    "print(firstLastCol)"
   ]
  },
  {
   "cell_type": "markdown",
   "metadata": {},
   "source": [
    "#### 21) [P] Select every other row of X"
   ]
  },
  {
   "cell_type": "code",
   "execution_count": 22,
   "metadata": {},
   "outputs": [
    {
     "name": "stdout",
     "output_type": "stream",
     "text": [
      "[[48 84 39 54 77]\n",
      " [31 44 31 27 59]\n",
      " [51 77 38 35 39]\n",
      " [ 4  3 20 13 66]\n",
      " [47 29 82 88 14]]\n"
     ]
    }
   ],
   "source": [
    "#i:j:k  - i is start, j is end, k is step. So this is start at beginning, don't end, step by 2\n",
    "evOthRow = X[0::2]\n",
    "print(evOthRow)"
   ]
  },
  {
   "cell_type": "markdown",
   "metadata": {},
   "source": [
    "#### 22) [P] Show the transpose of X, but don't change X itself"
   ]
  },
  {
   "cell_type": "code",
   "execution_count": 23,
   "metadata": {},
   "outputs": [
    {
     "name": "stdout",
     "output_type": "stream",
     "text": [
      "[[48 25 31 93 51 68  4 76 47 97]\n",
      " [84 16 44 70 77 12  3 82 29 13]\n",
      " [39 50 31 81 38  1 20 15 82 70]\n",
      " [54 24 27 74 35 76 13 72 88 96]\n",
      " [77 27 59 48 39 81 66 61 14 32]]\n"
     ]
    }
   ],
   "source": [
    "transposedX = np.transpose(X)\n",
    "print(transposedX)"
   ]
  },
  {
   "cell_type": "markdown",
   "metadata": {},
   "source": [
    "#### 23) [P] Select the first column of X and set the result to Y."
   ]
  },
  {
   "cell_type": "code",
   "execution_count": 24,
   "metadata": {},
   "outputs": [
    {
     "name": "stdout",
     "output_type": "stream",
     "text": [
      "[48 25 31 93 51 68  4 76 47 97]\n"
     ]
    }
   ],
   "source": [
    "Y = X[:,0]\n",
    "print(Y)"
   ]
  },
  {
   "cell_type": "markdown",
   "metadata": {},
   "source": [
    "#### 24) [P] Increment the first value of Y, then show the corresponding value of X. Did both values in X and Y change?"
   ]
  },
  {
   "cell_type": "code",
   "execution_count": 25,
   "metadata": {},
   "outputs": [
    {
     "name": "stdout",
     "output_type": "stream",
     "text": [
      "Y[0] = 49\n",
      "X[0][0] = 49\n"
     ]
    }
   ],
   "source": [
    "Y[0] = Y[0] + 1\n",
    "print(\"Y[0] = \" + str(Y[0]))\n",
    "print(\"X[0][0] = \" + str(X[0][0]))\n",
    "#Both values changed"
   ]
  },
  {
   "cell_type": "markdown",
   "metadata": {},
   "source": [
    "#### 25) [P] Repeat exercise 23, but ensure that Y is assigned a copy of the selected data. Increment the first value of Y and ensure that the corresponding value of X did not change."
   ]
  },
  {
   "cell_type": "code",
   "execution_count": 26,
   "metadata": {},
   "outputs": [
    {
     "name": "stdout",
     "output_type": "stream",
     "text": [
      "Y[0] = 50\n",
      "X[0][0] = 49\n"
     ]
    }
   ],
   "source": [
    "Y = np.copy(X[:,0])\n",
    "Y[0] = Y[0] + 1\n",
    "print(\"Y[0] = \" + str(Y[0]))\n",
    "print(\"X[0][0] = \" + str(X[0][0]))"
   ]
  },
  {
   "cell_type": "markdown",
   "metadata": {},
   "source": [
    "#### 26) [P] Create an array that contains the sequence of numbers 0, 0.1, 0.2, ... 9.8, 9.9 using arange, as a 10x10 matrix, stored as X."
   ]
  },
  {
   "cell_type": "code",
   "execution_count": 27,
   "metadata": {},
   "outputs": [
    {
     "name": "stdout",
     "output_type": "stream",
     "text": [
      "[[0.  0.1 0.2 0.3 0.4 0.5 0.6 0.7 0.8 0.9]\n",
      " [1.  1.1 1.2 1.3 1.4 1.5 1.6 1.7 1.8 1.9]\n",
      " [2.  2.1 2.2 2.3 2.4 2.5 2.6 2.7 2.8 2.9]\n",
      " [3.  3.1 3.2 3.3 3.4 3.5 3.6 3.7 3.8 3.9]\n",
      " [4.  4.1 4.2 4.3 4.4 4.5 4.6 4.7 4.8 4.9]\n",
      " [5.  5.1 5.2 5.3 5.4 5.5 5.6 5.7 5.8 5.9]\n",
      " [6.  6.1 6.2 6.3 6.4 6.5 6.6 6.7 6.8 6.9]\n",
      " [7.  7.1 7.2 7.3 7.4 7.5 7.6 7.7 7.8 7.9]\n",
      " [8.  8.1 8.2 8.3 8.4 8.5 8.6 8.7 8.8 8.9]\n",
      " [9.  9.1 9.2 9.3 9.4 9.5 9.6 9.7 9.8 9.9]]\n"
     ]
    }
   ],
   "source": [
    "#When using a non-integer step, such as 0.1, the results will often not be consistent. It is better to use numpy.linspace for these cases.\n",
    "# https://docs.scipy.org/doc/numpy/reference/generated/numpy.arange.html\n",
    "X = np.arange(0,10,.1).reshape(10,10)\n",
    "print(X)"
   ]
  },
  {
   "cell_type": "markdown",
   "metadata": {},
   "source": [
    "#### 27) [P] Set the RNG seed to 1234. Then create an array X of 100 uniformly distributed numbers, with all values between 1.0 and 10.0. Then, show the mean, the median, the minimum and maximum values of X."
   ]
  },
  {
   "cell_type": "code",
   "execution_count": 28,
   "metadata": {},
   "outputs": [
    {
     "name": "stdout",
     "output_type": "stream",
     "text": [
      "Mean: 5.5\n",
      "Median: 5.5\n",
      "Min: 1.0\n",
      "Max: 10.0\n"
     ]
    }
   ],
   "source": [
    "np.random.seed(seed=1234)\n",
    "X = np.linspace(1,10,100)\n",
    "mean = np.mean(X)\n",
    "median = np.median(X)\n",
    "minVal = np.amin(X)\n",
    "maxVal = np.amax(X)\n",
    "\n",
    "print(\"Mean: \" + str(mean))\n",
    "print(\"Median: \" + str(median))\n",
    "print(\"Min: \" + str(minVal))\n",
    "print(\"Max: \" + str(maxVal))"
   ]
  },
  {
   "cell_type": "markdown",
   "metadata": {},
   "source": [
    "#### 28) [M] Define what is meant by a normal distribution. What are the parameters of a normal distribution?"
   ]
  },
  {
   "cell_type": "markdown",
   "metadata": {},
   "source": [
    "##### A normal distribution is an arrangement of a data set in which most values cluster in the middle of the range and the rest taper off symmetrically toward either extreme.\n",
    "##### https://whatis.techtarget.com/definition/normal-distribution\n",
    "\n",
    "##### The parameters of a normal distribution is the mean and the standard deviation. \n",
    "##### http://onlinestatbook.com/2/normal_distribution/intro.html"
   ]
  },
  {
   "cell_type": "markdown",
   "metadata": {},
   "source": [
    "#### 29) [M] In simple terms, using a normal distribution, what does the Law of Large Numbers tell us?"
   ]
  },
  {
   "cell_type": "markdown",
   "metadata": {},
   "source": [
    "##### As the number of samples increase our data will approach the theoretical model, meaning it will smooth out and resemble the normal distribution."
   ]
  },
  {
   "cell_type": "markdown",
   "metadata": {},
   "source": [
    "#### 30) [P] Write a function called test_normal_dist. The purpose of this function is to evaluate the law of largenumbers. It should have four parameters:\n",
    "#### mu = mean of distribution\n",
    "#### sd = standard deviation\n",
    "#### vec_length = length of the vector to generate randomly from a normal distribution, with mu and sd as parameters\n",
    "#### num_trials = number of times to repeat the experiment\n",
    "#### The function should behave as follows. First, initialize the seed value to 1234, before your loop. Then, loop for num_trials, generating vec_length numbers from a normal distribution. Compute the mean of that vector, then compute its deviation (absolute value of the observed mean - expected mean). This should be repeated for all trials, and then return the average deviation over all trials."
   ]
  },
  {
   "cell_type": "code",
   "execution_count": 29,
   "metadata": {},
   "outputs": [],
   "source": [
    "def test_normal_dist(mu, sd, vec_length, num_trials):\n",
    "    np.random.seed(seed=1234)\n",
    "    totalDev = 0\n",
    "    for i in range(num_trials):\n",
    "        normDistr = np.random.normal(mu, sd, vec_length)\n",
    "        meanOfDist = np.mean(normDistr)\n",
    "        deviation = np.absolute(meanOfDist - mu)\n",
    "        totalDev += deviation\n",
    "    avgDev = totalDev / num_trials\n",
    "    return avgDev"
   ]
  },
  {
   "cell_type": "markdown",
   "metadata": {},
   "source": [
    "#### 31) [P] Use test_normal_dist to obtain the deviation for vector lengths of 10, 100, 1000, 10000, and 100000. Use a fixed number of trials of 100 for each experiment. Report the results as a numpy array with two dimensions. the first being the vector length, and the second being the average deviation resulting from your test_normal_dist function."
   ]
  },
  {
   "cell_type": "code",
   "execution_count": 30,
   "metadata": {},
   "outputs": [
    {
     "name": "stdout",
     "output_type": "stream",
     "text": [
      "[[1.00000000e+01 2.38620418e-01]\n",
      " [1.00000000e+02 8.09625326e-02]\n",
      " [1.00000000e+03 2.22900007e-02]\n",
      " [1.00000000e+04 7.94419424e-03]\n",
      " [1.00000000e+05 2.44350610e-03]]\n"
     ]
    }
   ],
   "source": [
    "vLenArr = np.array([10, 100, 1000, 10000, 100000])\n",
    "resultArr = np.array([1, 2])\n",
    "for i in vLenArr:\n",
    "    newEntry = np.array( [i, test_normal_dist(0,1,i,100)] )\n",
    "    resultArr = np.vstack((resultArr, newEntry))\n",
    "\n",
    "resultArr = np.delete(resultArr, 0, 0)\n",
    "print(resultArr)"
   ]
  }
 ],
 "metadata": {
  "kernelspec": {
   "display_name": "Python 3",
   "language": "python",
   "name": "python3"
  },
  "language_info": {
   "codemirror_mode": {
    "name": "ipython",
    "version": 3
   },
   "file_extension": ".py",
   "mimetype": "text/x-python",
   "name": "python",
   "nbconvert_exporter": "python",
   "pygments_lexer": "ipython3",
   "version": "3.7.6"
  }
 },
 "nbformat": 4,
 "nbformat_minor": 2
}
